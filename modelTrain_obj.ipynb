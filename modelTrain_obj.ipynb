{
 "cells": [
  {
   "cell_type": "code",
   "execution_count": 1,
   "metadata": {},
   "outputs": [
    {
     "name": "stderr",
     "output_type": "stream",
     "text": [
      "/Users/dhruvchopra/opt/anaconda3/envs/ddp/lib/python3.8/site-packages/tqdm/auto.py:21: TqdmWarning: IProgress not found. Please update jupyter and ipywidgets. See https://ipywidgets.readthedocs.io/en/stable/user_install.html\n",
      "  from .autonotebook import tqdm as notebook_tqdm\n"
     ]
    }
   ],
   "source": [
    "### Data Loaders\n",
    "import pandas as pd\n",
    "from datasets import load_dataset\n",
    "\n",
    "### Reproducability\n",
    "import numpy as np\n",
    "random_seed = 42\n",
    "np.random.seed(random_seed)\n",
    "\n",
    "### Plotting\n",
    "import matplotlib.pyplot as plt\n",
    "\n",
    "### Feature Extractors\n",
    "from sklearn.feature_extraction.text import TfidfVectorizer\n",
    "\n",
    "### Models\n",
    "from sklearn.svm import LinearSVC\n",
    "\n",
    "### Pipelining\n",
    "from sklearn.pipeline import Pipeline\n",
    "\n",
    "### Hyperparameter tuning & Model selection\n",
    "from sklearn.model_selection import KFold\n",
    "from sklearn.model_selection import GridSearchCV\n",
    "from sklearn.metrics import f1_score, accuracy_score, confusion_matrix, ConfusionMatrixDisplay\n",
    "\n",
    "### Persistence\n",
    "from joblib import dump, load"
   ]
  },
  {
   "cell_type": "code",
   "execution_count": 2,
   "metadata": {},
   "outputs": [
    {
     "name": "stderr",
     "output_type": "stream",
     "text": [
      "/Users/dhruvchopra/opt/anaconda3/envs/ddp/lib/python3.8/site-packages/huggingface_hub/repocard.py:105: UserWarning: Repo card metadata block was not found. Setting CardData to empty.\n",
      "  warnings.warn(\"Repo card metadata block was not found. Setting CardData to empty.\")\n"
     ]
    }
   ],
   "source": [
    "dat = load_dataset(\"SetFit/subj\")\n",
    "data = pd.DataFrame()\n",
    "data['X'] = dat[\"train\"]['text']+dat['test']['text']\n",
    "data['y'] = dat[\"train\"]['label_text']+dat['test']['label_text']\n",
    "data = data.sample(frac=1) #Shuffle"
   ]
  },
  {
   "cell_type": "code",
   "execution_count": 3,
   "metadata": {},
   "outputs": [
    {
     "data": {
      "text/html": [
       "<div>\n",
       "<style scoped>\n",
       "    .dataframe tbody tr th:only-of-type {\n",
       "        vertical-align: middle;\n",
       "    }\n",
       "\n",
       "    .dataframe tbody tr th {\n",
       "        vertical-align: top;\n",
       "    }\n",
       "\n",
       "    .dataframe thead th {\n",
       "        text-align: right;\n",
       "    }\n",
       "</style>\n",
       "<table border=\"1\" class=\"dataframe\">\n",
       "  <thead>\n",
       "    <tr style=\"text-align: right;\">\n",
       "      <th></th>\n",
       "      <th>X</th>\n",
       "      <th>y</th>\n",
       "    </tr>\n",
       "  </thead>\n",
       "  <tbody>\n",
       "    <tr>\n",
       "      <th>4744</th>\n",
       "      <td>filippo , the official translator , believes i...</td>\n",
       "      <td>objective</td>\n",
       "    </tr>\n",
       "    <tr>\n",
       "      <th>4</th>\n",
       "      <td>naturally , he returns to his analyst dr . ben...</td>\n",
       "      <td>objective</td>\n",
       "    </tr>\n",
       "    <tr>\n",
       "      <th>2536</th>\n",
       "      <td>it 's difficult to conceive of anyone who has ...</td>\n",
       "      <td>subjective</td>\n",
       "    </tr>\n",
       "    <tr>\n",
       "      <th>8</th>\n",
       "      <td>presents a most persuasive vision of hell on e...</td>\n",
       "      <td>subjective</td>\n",
       "    </tr>\n",
       "    <tr>\n",
       "      <th>8289</th>\n",
       "      <td>this is cool , slick stuff , ready to quench t...</td>\n",
       "      <td>subjective</td>\n",
       "    </tr>\n",
       "    <tr>\n",
       "      <th>4054</th>\n",
       "      <td>vincent gallo is right at home in this french ...</td>\n",
       "      <td>subjective</td>\n",
       "    </tr>\n",
       "    <tr>\n",
       "      <th>4589</th>\n",
       "      <td>this dreadfully earnest inversion of the concu...</td>\n",
       "      <td>subjective</td>\n",
       "    </tr>\n",
       "    <tr>\n",
       "      <th>4741</th>\n",
       "      <td>captures that perverse element of the kafkaesq...</td>\n",
       "      <td>subjective</td>\n",
       "    </tr>\n",
       "    <tr>\n",
       "      <th>2252</th>\n",
       "      <td>when young , virginal caroline ( misty mundae ...</td>\n",
       "      <td>objective</td>\n",
       "    </tr>\n",
       "    <tr>\n",
       "      <th>5503</th>\n",
       "      <td>what emerges is not only a portrait of some of...</td>\n",
       "      <td>subjective</td>\n",
       "    </tr>\n",
       "    <tr>\n",
       "      <th>3553</th>\n",
       "      <td>somewhere inside the mess that is world travel...</td>\n",
       "      <td>subjective</td>\n",
       "    </tr>\n",
       "    <tr>\n",
       "      <th>6257</th>\n",
       "      <td>enough trivializes an important crisis , reduc...</td>\n",
       "      <td>subjective</td>\n",
       "    </tr>\n",
       "    <tr>\n",
       "      <th>6988</th>\n",
       "      <td>parker updates the setting in an attempt to ma...</td>\n",
       "      <td>subjective</td>\n",
       "    </tr>\n",
       "    <tr>\n",
       "      <th>3003</th>\n",
       "      <td>the pace and the visuals are so hyped up that ...</td>\n",
       "      <td>subjective</td>\n",
       "    </tr>\n",
       "    <tr>\n",
       "      <th>7788</th>\n",
       "      <td>hardly an objective documentary , but it 's gr...</td>\n",
       "      <td>subjective</td>\n",
       "    </tr>\n",
       "    <tr>\n",
       "      <th>8374</th>\n",
       "      <td>if you have n't seen the film lately , you may...</td>\n",
       "      <td>subjective</td>\n",
       "    </tr>\n",
       "    <tr>\n",
       "      <th>4715</th>\n",
       "      <td>soon , annie 's condition helps leoncio 's chi...</td>\n",
       "      <td>objective</td>\n",
       "    </tr>\n",
       "    <tr>\n",
       "      <th>6454</th>\n",
       "      <td>astrid magnussen is a 12 year old girl , livin...</td>\n",
       "      <td>objective</td>\n",
       "    </tr>\n",
       "    <tr>\n",
       "      <th>9354</th>\n",
       "      <td>absorbing and disturbing -- perhaps more distu...</td>\n",
       "      <td>subjective</td>\n",
       "    </tr>\n",
       "    <tr>\n",
       "      <th>3282</th>\n",
       "      <td>in the affable maid in manhattan , jennifer lo...</td>\n",
       "      <td>subjective</td>\n",
       "    </tr>\n",
       "  </tbody>\n",
       "</table>\n",
       "</div>"
      ],
      "text/plain": [
       "                                                      X           y\n",
       "4744  filippo , the official translator , believes i...   objective\n",
       "4     naturally , he returns to his analyst dr . ben...   objective\n",
       "2536  it 's difficult to conceive of anyone who has ...  subjective\n",
       "8     presents a most persuasive vision of hell on e...  subjective\n",
       "8289  this is cool , slick stuff , ready to quench t...  subjective\n",
       "4054  vincent gallo is right at home in this french ...  subjective\n",
       "4589  this dreadfully earnest inversion of the concu...  subjective\n",
       "4741  captures that perverse element of the kafkaesq...  subjective\n",
       "2252  when young , virginal caroline ( misty mundae ...   objective\n",
       "5503  what emerges is not only a portrait of some of...  subjective\n",
       "3553  somewhere inside the mess that is world travel...  subjective\n",
       "6257  enough trivializes an important crisis , reduc...  subjective\n",
       "6988  parker updates the setting in an attempt to ma...  subjective\n",
       "3003  the pace and the visuals are so hyped up that ...  subjective\n",
       "7788  hardly an objective documentary , but it 's gr...  subjective\n",
       "8374  if you have n't seen the film lately , you may...  subjective\n",
       "4715  soon , annie 's condition helps leoncio 's chi...   objective\n",
       "6454  astrid magnussen is a 12 year old girl , livin...   objective\n",
       "9354  absorbing and disturbing -- perhaps more distu...  subjective\n",
       "3282  in the affable maid in manhattan , jennifer lo...  subjective"
      ]
     },
     "execution_count": 3,
     "metadata": {},
     "output_type": "execute_result"
    }
   ],
   "source": [
    "data.sample(n=20)"
   ]
  },
  {
   "cell_type": "code",
   "execution_count": 4,
   "metadata": {},
   "outputs": [],
   "source": [
    "X = data[\"X\"]"
   ]
  },
  {
   "cell_type": "code",
   "execution_count": 5,
   "metadata": {},
   "outputs": [],
   "source": [
    "### Convert y from Positive & Negative labels to 1 & 0 labels\n",
    "y = data['y'].map(lambda x: 1 if x==\"subjective\" else 0)"
   ]
  },
  {
   "cell_type": "code",
   "execution_count": 6,
   "metadata": {},
   "outputs": [
    {
     "data": {
      "text/plain": [
       "y\n",
       "1    5000\n",
       "0    5000\n",
       "Name: count, dtype: int64"
      ]
     },
     "execution_count": 6,
     "metadata": {},
     "output_type": "execute_result"
    }
   ],
   "source": [
    "y.value_counts()"
   ]
  },
  {
   "cell_type": "code",
   "execution_count": 7,
   "metadata": {},
   "outputs": [],
   "source": [
    "pipe = Pipeline(steps=[\n",
    "    ('vec',TfidfVectorizer()),\n",
    "    ('svc',LinearSVC())])\n",
    "params ={\n",
    "    \"vec__stop_words\":[None],\n",
    "    \"vec__ngram_range\":[(1,1),(1,2)],\n",
    "    \"vec__min_df\":[0.01, 0.001, 0.0001,0],\n",
    "    \"vec__max_df\":[0.8,0.85,0.9,0.99],\n",
    "    \"svc__penalty\":['l2'],\n",
    "    \"svc__C\":[1,5,10,20],\n",
    "    \"svc__max_iter\":[6000],\n",
    "    \"svc__random_state\":[42],\n",
    "}"
   ]
  },
  {
   "cell_type": "code",
   "execution_count": 8,
   "metadata": {},
   "outputs": [
    {
     "name": "stdout",
     "output_type": "stream",
     "text": [
      "Fitting 5 folds for each of 128 candidates, totalling 640 fits\n"
     ]
    },
    {
     "name": "stderr",
     "output_type": "stream",
     "text": [
      "/Users/dhruvchopra/opt/anaconda3/envs/ddp/lib/python3.8/site-packages/sklearn/svm/_classes.py:32: FutureWarning: The default value of `dual` will change from `True` to `'auto'` in 1.5. Set the value of `dual` explicitly to suppress the warning.\n",
      "  warnings.warn(\n"
     ]
    },
    {
     "name": "stdout",
     "output_type": "stream",
     "text": [
      "[CV] END svc__C=1, svc__max_iter=6000, svc__penalty=l2, svc__random_state=42, vec__max_df=0.8, vec__min_df=0.01, vec__ngram_range=(1, 1), vec__stop_words=None; total time=   0.6s\n"
     ]
    },
    {
     "name": "stderr",
     "output_type": "stream",
     "text": [
      "/Users/dhruvchopra/opt/anaconda3/envs/ddp/lib/python3.8/site-packages/sklearn/svm/_classes.py:32: FutureWarning: The default value of `dual` will change from `True` to `'auto'` in 1.5. Set the value of `dual` explicitly to suppress the warning.\n",
      "  warnings.warn(\n"
     ]
    },
    {
     "name": "stdout",
     "output_type": "stream",
     "text": [
      "[CV] END svc__C=1, svc__max_iter=6000, svc__penalty=l2, svc__random_state=42, vec__max_df=0.8, vec__min_df=0.01, vec__ngram_range=(1, 1), vec__stop_words=None; total time=   0.3s\n"
     ]
    },
    {
     "name": "stderr",
     "output_type": "stream",
     "text": [
      "/Users/dhruvchopra/opt/anaconda3/envs/ddp/lib/python3.8/site-packages/sklearn/svm/_classes.py:32: FutureWarning: The default value of `dual` will change from `True` to `'auto'` in 1.5. Set the value of `dual` explicitly to suppress the warning.\n",
      "  warnings.warn(\n"
     ]
    },
    {
     "name": "stdout",
     "output_type": "stream",
     "text": [
      "[CV] END svc__C=1, svc__max_iter=6000, svc__penalty=l2, svc__random_state=42, vec__max_df=0.8, vec__min_df=0.01, vec__ngram_range=(1, 1), vec__stop_words=None; total time=   0.2s\n"
     ]
    },
    {
     "name": "stderr",
     "output_type": "stream",
     "text": [
      "/Users/dhruvchopra/opt/anaconda3/envs/ddp/lib/python3.8/site-packages/sklearn/svm/_classes.py:32: FutureWarning: The default value of `dual` will change from `True` to `'auto'` in 1.5. Set the value of `dual` explicitly to suppress the warning.\n",
      "  warnings.warn(\n"
     ]
    },
    {
     "name": "stdout",
     "output_type": "stream",
     "text": [
      "[CV] END svc__C=1, svc__max_iter=6000, svc__penalty=l2, svc__random_state=42, vec__max_df=0.8, vec__min_df=0.01, vec__ngram_range=(1, 1), vec__stop_words=None; total time=   0.3s\n"
     ]
    },
    {
     "name": "stderr",
     "output_type": "stream",
     "text": [
      "/Users/dhruvchopra/opt/anaconda3/envs/ddp/lib/python3.8/site-packages/sklearn/svm/_classes.py:32: FutureWarning: The default value of `dual` will change from `True` to `'auto'` in 1.5. Set the value of `dual` explicitly to suppress the warning.\n",
      "  warnings.warn(\n"
     ]
    },
    {
     "name": "stdout",
     "output_type": "stream",
     "text": [
      "[CV] END svc__C=1, svc__max_iter=6000, svc__penalty=l2, svc__random_state=42, vec__max_df=0.8, vec__min_df=0.01, vec__ngram_range=(1, 1), vec__stop_words=None; total time=   0.3s\n"
     ]
    },
    {
     "name": "stderr",
     "output_type": "stream",
     "text": [
      "/Users/dhruvchopra/opt/anaconda3/envs/ddp/lib/python3.8/site-packages/sklearn/svm/_classes.py:32: FutureWarning: The default value of `dual` will change from `True` to `'auto'` in 1.5. Set the value of `dual` explicitly to suppress the warning.\n",
      "  warnings.warn(\n"
     ]
    },
    {
     "name": "stdout",
     "output_type": "stream",
     "text": [
      "[CV] END svc__C=1, svc__max_iter=6000, svc__penalty=l2, svc__random_state=42, vec__max_df=0.8, vec__min_df=0.01, vec__ngram_range=(1, 2), vec__stop_words=None; total time=   0.6s\n"
     ]
    },
    {
     "name": "stderr",
     "output_type": "stream",
     "text": [
      "/Users/dhruvchopra/opt/anaconda3/envs/ddp/lib/python3.8/site-packages/sklearn/svm/_classes.py:32: FutureWarning: The default value of `dual` will change from `True` to `'auto'` in 1.5. Set the value of `dual` explicitly to suppress the warning.\n",
      "  warnings.warn(\n"
     ]
    },
    {
     "name": "stdout",
     "output_type": "stream",
     "text": [
      "[CV] END svc__C=1, svc__max_iter=6000, svc__penalty=l2, svc__random_state=42, vec__max_df=0.8, vec__min_df=0.01, vec__ngram_range=(1, 2), vec__stop_words=None; total time=   0.6s\n"
     ]
    },
    {
     "name": "stderr",
     "output_type": "stream",
     "text": [
      "/Users/dhruvchopra/opt/anaconda3/envs/ddp/lib/python3.8/site-packages/sklearn/svm/_classes.py:32: FutureWarning: The default value of `dual` will change from `True` to `'auto'` in 1.5. Set the value of `dual` explicitly to suppress the warning.\n",
      "  warnings.warn(\n"
     ]
    },
    {
     "name": "stdout",
     "output_type": "stream",
     "text": [
      "[CV] END svc__C=1, svc__max_iter=6000, svc__penalty=l2, svc__random_state=42, vec__max_df=0.8, vec__min_df=0.01, vec__ngram_range=(1, 2), vec__stop_words=None; total time=   0.6s\n"
     ]
    },
    {
     "name": "stderr",
     "output_type": "stream",
     "text": [
      "/Users/dhruvchopra/opt/anaconda3/envs/ddp/lib/python3.8/site-packages/sklearn/svm/_classes.py:32: FutureWarning: The default value of `dual` will change from `True` to `'auto'` in 1.5. Set the value of `dual` explicitly to suppress the warning.\n",
      "  warnings.warn(\n"
     ]
    },
    {
     "name": "stdout",
     "output_type": "stream",
     "text": [
      "[CV] END svc__C=1, svc__max_iter=6000, svc__penalty=l2, svc__random_state=42, vec__max_df=0.8, vec__min_df=0.01, vec__ngram_range=(1, 2), vec__stop_words=None; total time=   0.6s\n"
     ]
    },
    {
     "name": "stderr",
     "output_type": "stream",
     "text": [
      "/Users/dhruvchopra/opt/anaconda3/envs/ddp/lib/python3.8/site-packages/sklearn/svm/_classes.py:32: FutureWarning: The default value of `dual` will change from `True` to `'auto'` in 1.5. Set the value of `dual` explicitly to suppress the warning.\n",
      "  warnings.warn(\n"
     ]
    },
    {
     "name": "stdout",
     "output_type": "stream",
     "text": [
      "[CV] END svc__C=1, svc__max_iter=6000, svc__penalty=l2, svc__random_state=42, vec__max_df=0.8, vec__min_df=0.01, vec__ngram_range=(1, 2), vec__stop_words=None; total time=   0.6s\n"
     ]
    },
    {
     "name": "stderr",
     "output_type": "stream",
     "text": [
      "/Users/dhruvchopra/opt/anaconda3/envs/ddp/lib/python3.8/site-packages/sklearn/svm/_classes.py:32: FutureWarning: The default value of `dual` will change from `True` to `'auto'` in 1.5. Set the value of `dual` explicitly to suppress the warning.\n",
      "  warnings.warn(\n"
     ]
    },
    {
     "name": "stdout",
     "output_type": "stream",
     "text": [
      "[CV] END svc__C=1, svc__max_iter=6000, svc__penalty=l2, svc__random_state=42, vec__max_df=0.8, vec__min_df=0.001, vec__ngram_range=(1, 1), vec__stop_words=None; total time=   0.4s\n"
     ]
    },
    {
     "name": "stderr",
     "output_type": "stream",
     "text": [
      "/Users/dhruvchopra/opt/anaconda3/envs/ddp/lib/python3.8/site-packages/sklearn/svm/_classes.py:32: FutureWarning: The default value of `dual` will change from `True` to `'auto'` in 1.5. Set the value of `dual` explicitly to suppress the warning.\n",
      "  warnings.warn(\n"
     ]
    },
    {
     "name": "stdout",
     "output_type": "stream",
     "text": [
      "[CV] END svc__C=1, svc__max_iter=6000, svc__penalty=l2, svc__random_state=42, vec__max_df=0.8, vec__min_df=0.001, vec__ngram_range=(1, 1), vec__stop_words=None; total time=   0.3s\n"
     ]
    },
    {
     "name": "stderr",
     "output_type": "stream",
     "text": [
      "/Users/dhruvchopra/opt/anaconda3/envs/ddp/lib/python3.8/site-packages/sklearn/svm/_classes.py:32: FutureWarning: The default value of `dual` will change from `True` to `'auto'` in 1.5. Set the value of `dual` explicitly to suppress the warning.\n",
      "  warnings.warn(\n"
     ]
    },
    {
     "name": "stdout",
     "output_type": "stream",
     "text": [
      "[CV] END svc__C=1, svc__max_iter=6000, svc__penalty=l2, svc__random_state=42, vec__max_df=0.8, vec__min_df=0.001, vec__ngram_range=(1, 1), vec__stop_words=None; total time=   0.4s\n"
     ]
    },
    {
     "name": "stderr",
     "output_type": "stream",
     "text": [
      "/Users/dhruvchopra/opt/anaconda3/envs/ddp/lib/python3.8/site-packages/sklearn/svm/_classes.py:32: FutureWarning: The default value of `dual` will change from `True` to `'auto'` in 1.5. Set the value of `dual` explicitly to suppress the warning.\n",
      "  warnings.warn(\n"
     ]
    },
    {
     "name": "stdout",
     "output_type": "stream",
     "text": [
      "[CV] END svc__C=1, svc__max_iter=6000, svc__penalty=l2, svc__random_state=42, vec__max_df=0.8, vec__min_df=0.001, vec__ngram_range=(1, 1), vec__stop_words=None; total time=   0.4s\n"
     ]
    },
    {
     "name": "stderr",
     "output_type": "stream",
     "text": [
      "/Users/dhruvchopra/opt/anaconda3/envs/ddp/lib/python3.8/site-packages/sklearn/svm/_classes.py:32: FutureWarning: The default value of `dual` will change from `True` to `'auto'` in 1.5. Set the value of `dual` explicitly to suppress the warning.\n",
      "  warnings.warn(\n"
     ]
    },
    {
     "name": "stdout",
     "output_type": "stream",
     "text": [
      "[CV] END svc__C=1, svc__max_iter=6000, svc__penalty=l2, svc__random_state=42, vec__max_df=0.8, vec__min_df=0.001, vec__ngram_range=(1, 1), vec__stop_words=None; total time=   0.3s\n"
     ]
    },
    {
     "name": "stderr",
     "output_type": "stream",
     "text": [
      "/Users/dhruvchopra/opt/anaconda3/envs/ddp/lib/python3.8/site-packages/sklearn/svm/_classes.py:32: FutureWarning: The default value of `dual` will change from `True` to `'auto'` in 1.5. Set the value of `dual` explicitly to suppress the warning.\n",
      "  warnings.warn(\n"
     ]
    },
    {
     "name": "stdout",
     "output_type": "stream",
     "text": [
      "[CV] END svc__C=1, svc__max_iter=6000, svc__penalty=l2, svc__random_state=42, vec__max_df=0.8, vec__min_df=0.001, vec__ngram_range=(1, 2), vec__stop_words=None; total time=   0.7s\n"
     ]
    },
    {
     "name": "stderr",
     "output_type": "stream",
     "text": [
      "/Users/dhruvchopra/opt/anaconda3/envs/ddp/lib/python3.8/site-packages/sklearn/svm/_classes.py:32: FutureWarning: The default value of `dual` will change from `True` to `'auto'` in 1.5. Set the value of `dual` explicitly to suppress the warning.\n",
      "  warnings.warn(\n"
     ]
    },
    {
     "name": "stdout",
     "output_type": "stream",
     "text": [
      "[CV] END svc__C=1, svc__max_iter=6000, svc__penalty=l2, svc__random_state=42, vec__max_df=0.8, vec__min_df=0.001, vec__ngram_range=(1, 2), vec__stop_words=None; total time=   0.7s\n"
     ]
    },
    {
     "name": "stderr",
     "output_type": "stream",
     "text": [
      "/Users/dhruvchopra/opt/anaconda3/envs/ddp/lib/python3.8/site-packages/sklearn/svm/_classes.py:32: FutureWarning: The default value of `dual` will change from `True` to `'auto'` in 1.5. Set the value of `dual` explicitly to suppress the warning.\n",
      "  warnings.warn(\n"
     ]
    },
    {
     "name": "stdout",
     "output_type": "stream",
     "text": [
      "[CV] END svc__C=1, svc__max_iter=6000, svc__penalty=l2, svc__random_state=42, vec__max_df=0.8, vec__min_df=0.001, vec__ngram_range=(1, 2), vec__stop_words=None; total time=   0.6s\n"
     ]
    },
    {
     "name": "stderr",
     "output_type": "stream",
     "text": [
      "/Users/dhruvchopra/opt/anaconda3/envs/ddp/lib/python3.8/site-packages/sklearn/svm/_classes.py:32: FutureWarning: The default value of `dual` will change from `True` to `'auto'` in 1.5. Set the value of `dual` explicitly to suppress the warning.\n",
      "  warnings.warn(\n"
     ]
    },
    {
     "name": "stdout",
     "output_type": "stream",
     "text": [
      "[CV] END svc__C=1, svc__max_iter=6000, svc__penalty=l2, svc__random_state=42, vec__max_df=0.8, vec__min_df=0.001, vec__ngram_range=(1, 2), vec__stop_words=None; total time=   0.7s\n"
     ]
    },
    {
     "name": "stderr",
     "output_type": "stream",
     "text": [
      "/Users/dhruvchopra/opt/anaconda3/envs/ddp/lib/python3.8/site-packages/sklearn/svm/_classes.py:32: FutureWarning: The default value of `dual` will change from `True` to `'auto'` in 1.5. Set the value of `dual` explicitly to suppress the warning.\n",
      "  warnings.warn(\n"
     ]
    },
    {
     "name": "stdout",
     "output_type": "stream",
     "text": [
      "[CV] END svc__C=1, svc__max_iter=6000, svc__penalty=l2, svc__random_state=42, vec__max_df=0.8, vec__min_df=0.001, vec__ngram_range=(1, 2), vec__stop_words=None; total time=   0.5s\n"
     ]
    },
    {
     "name": "stderr",
     "output_type": "stream",
     "text": [
      "/Users/dhruvchopra/opt/anaconda3/envs/ddp/lib/python3.8/site-packages/sklearn/svm/_classes.py:32: FutureWarning: The default value of `dual` will change from `True` to `'auto'` in 1.5. Set the value of `dual` explicitly to suppress the warning.\n",
      "  warnings.warn(\n"
     ]
    },
    {
     "name": "stdout",
     "output_type": "stream",
     "text": [
      "[CV] END svc__C=1, svc__max_iter=6000, svc__penalty=l2, svc__random_state=42, vec__max_df=0.8, vec__min_df=0.0001, vec__ngram_range=(1, 1), vec__stop_words=None; total time=   0.3s\n"
     ]
    },
    {
     "name": "stderr",
     "output_type": "stream",
     "text": [
      "/Users/dhruvchopra/opt/anaconda3/envs/ddp/lib/python3.8/site-packages/sklearn/svm/_classes.py:32: FutureWarning: The default value of `dual` will change from `True` to `'auto'` in 1.5. Set the value of `dual` explicitly to suppress the warning.\n",
      "  warnings.warn(\n"
     ]
    },
    {
     "name": "stdout",
     "output_type": "stream",
     "text": [
      "[CV] END svc__C=1, svc__max_iter=6000, svc__penalty=l2, svc__random_state=42, vec__max_df=0.8, vec__min_df=0.0001, vec__ngram_range=(1, 1), vec__stop_words=None; total time=   0.3s\n"
     ]
    },
    {
     "name": "stderr",
     "output_type": "stream",
     "text": [
      "/Users/dhruvchopra/opt/anaconda3/envs/ddp/lib/python3.8/site-packages/sklearn/svm/_classes.py:32: FutureWarning: The default value of `dual` will change from `True` to `'auto'` in 1.5. Set the value of `dual` explicitly to suppress the warning.\n",
      "  warnings.warn(\n"
     ]
    },
    {
     "name": "stdout",
     "output_type": "stream",
     "text": [
      "[CV] END svc__C=1, svc__max_iter=6000, svc__penalty=l2, svc__random_state=42, vec__max_df=0.8, vec__min_df=0.0001, vec__ngram_range=(1, 1), vec__stop_words=None; total time=   0.4s\n"
     ]
    },
    {
     "name": "stderr",
     "output_type": "stream",
     "text": [
      "/Users/dhruvchopra/opt/anaconda3/envs/ddp/lib/python3.8/site-packages/sklearn/svm/_classes.py:32: FutureWarning: The default value of `dual` will change from `True` to `'auto'` in 1.5. Set the value of `dual` explicitly to suppress the warning.\n",
      "  warnings.warn(\n"
     ]
    },
    {
     "name": "stdout",
     "output_type": "stream",
     "text": [
      "[CV] END svc__C=1, svc__max_iter=6000, svc__penalty=l2, svc__random_state=42, vec__max_df=0.8, vec__min_df=0.0001, vec__ngram_range=(1, 1), vec__stop_words=None; total time=   0.3s\n"
     ]
    },
    {
     "name": "stderr",
     "output_type": "stream",
     "text": [
      "/Users/dhruvchopra/opt/anaconda3/envs/ddp/lib/python3.8/site-packages/sklearn/svm/_classes.py:32: FutureWarning: The default value of `dual` will change from `True` to `'auto'` in 1.5. Set the value of `dual` explicitly to suppress the warning.\n",
      "  warnings.warn(\n"
     ]
    },
    {
     "name": "stdout",
     "output_type": "stream",
     "text": [
      "[CV] END svc__C=1, svc__max_iter=6000, svc__penalty=l2, svc__random_state=42, vec__max_df=0.8, vec__min_df=0.0001, vec__ngram_range=(1, 1), vec__stop_words=None; total time=   0.3s\n"
     ]
    },
    {
     "name": "stderr",
     "output_type": "stream",
     "text": [
      "/Users/dhruvchopra/opt/anaconda3/envs/ddp/lib/python3.8/site-packages/sklearn/svm/_classes.py:32: FutureWarning: The default value of `dual` will change from `True` to `'auto'` in 1.5. Set the value of `dual` explicitly to suppress the warning.\n",
      "  warnings.warn(\n"
     ]
    },
    {
     "name": "stdout",
     "output_type": "stream",
     "text": [
      "[CV] END svc__C=1, svc__max_iter=6000, svc__penalty=l2, svc__random_state=42, vec__max_df=0.8, vec__min_df=0.0001, vec__ngram_range=(1, 2), vec__stop_words=None; total time=   0.8s\n"
     ]
    },
    {
     "name": "stderr",
     "output_type": "stream",
     "text": [
      "/Users/dhruvchopra/opt/anaconda3/envs/ddp/lib/python3.8/site-packages/sklearn/svm/_classes.py:32: FutureWarning: The default value of `dual` will change from `True` to `'auto'` in 1.5. Set the value of `dual` explicitly to suppress the warning.\n",
      "  warnings.warn(\n"
     ]
    },
    {
     "name": "stdout",
     "output_type": "stream",
     "text": [
      "[CV] END svc__C=1, svc__max_iter=6000, svc__penalty=l2, svc__random_state=42, vec__max_df=0.8, vec__min_df=0.0001, vec__ngram_range=(1, 2), vec__stop_words=None; total time=   0.8s\n"
     ]
    },
    {
     "name": "stderr",
     "output_type": "stream",
     "text": [
      "/Users/dhruvchopra/opt/anaconda3/envs/ddp/lib/python3.8/site-packages/sklearn/svm/_classes.py:32: FutureWarning: The default value of `dual` will change from `True` to `'auto'` in 1.5. Set the value of `dual` explicitly to suppress the warning.\n",
      "  warnings.warn(\n"
     ]
    },
    {
     "name": "stdout",
     "output_type": "stream",
     "text": [
      "[CV] END svc__C=1, svc__max_iter=6000, svc__penalty=l2, svc__random_state=42, vec__max_df=0.8, vec__min_df=0.0001, vec__ngram_range=(1, 2), vec__stop_words=None; total time=   0.8s\n"
     ]
    },
    {
     "name": "stderr",
     "output_type": "stream",
     "text": [
      "/Users/dhruvchopra/opt/anaconda3/envs/ddp/lib/python3.8/site-packages/sklearn/svm/_classes.py:32: FutureWarning: The default value of `dual` will change from `True` to `'auto'` in 1.5. Set the value of `dual` explicitly to suppress the warning.\n",
      "  warnings.warn(\n"
     ]
    },
    {
     "name": "stdout",
     "output_type": "stream",
     "text": [
      "[CV] END svc__C=1, svc__max_iter=6000, svc__penalty=l2, svc__random_state=42, vec__max_df=0.8, vec__min_df=0.0001, vec__ngram_range=(1, 2), vec__stop_words=None; total time=   0.8s\n"
     ]
    },
    {
     "name": "stderr",
     "output_type": "stream",
     "text": [
      "/Users/dhruvchopra/opt/anaconda3/envs/ddp/lib/python3.8/site-packages/sklearn/svm/_classes.py:32: FutureWarning: The default value of `dual` will change from `True` to `'auto'` in 1.5. Set the value of `dual` explicitly to suppress the warning.\n",
      "  warnings.warn(\n"
     ]
    },
    {
     "name": "stdout",
     "output_type": "stream",
     "text": [
      "[CV] END svc__C=1, svc__max_iter=6000, svc__penalty=l2, svc__random_state=42, vec__max_df=0.8, vec__min_df=0.0001, vec__ngram_range=(1, 2), vec__stop_words=None; total time=   0.8s\n",
      "[CV] END svc__C=1, svc__max_iter=6000, svc__penalty=l2, svc__random_state=42, vec__max_df=0.8, vec__min_df=0, vec__ngram_range=(1, 1), vec__stop_words=None; total time=   0.0s\n",
      "[CV] END svc__C=1, svc__max_iter=6000, svc__penalty=l2, svc__random_state=42, vec__max_df=0.8, vec__min_df=0, vec__ngram_range=(1, 1), vec__stop_words=None; total time=   0.0s\n",
      "[CV] END svc__C=1, svc__max_iter=6000, svc__penalty=l2, svc__random_state=42, vec__max_df=0.8, vec__min_df=0, vec__ngram_range=(1, 1), vec__stop_words=None; total time=   0.0s\n",
      "[CV] END svc__C=1, svc__max_iter=6000, svc__penalty=l2, svc__random_state=42, vec__max_df=0.8, vec__min_df=0, vec__ngram_range=(1, 1), vec__stop_words=None; total time=   0.0s\n",
      "[CV] END svc__C=1, svc__max_iter=6000, svc__penalty=l2, svc__random_state=42, vec__max_df=0.8, vec__min_df=0, vec__ngram_range=(1, 1), vec__stop_words=None; total time=   0.0s\n",
      "[CV] END svc__C=1, svc__max_iter=6000, svc__penalty=l2, svc__random_state=42, vec__max_df=0.8, vec__min_df=0, vec__ngram_range=(1, 2), vec__stop_words=None; total time=   0.0s\n",
      "[CV] END svc__C=1, svc__max_iter=6000, svc__penalty=l2, svc__random_state=42, vec__max_df=0.8, vec__min_df=0, vec__ngram_range=(1, 2), vec__stop_words=None; total time=   0.0s\n",
      "[CV] END svc__C=1, svc__max_iter=6000, svc__penalty=l2, svc__random_state=42, vec__max_df=0.8, vec__min_df=0, vec__ngram_range=(1, 2), vec__stop_words=None; total time=   0.0s\n",
      "[CV] END svc__C=1, svc__max_iter=6000, svc__penalty=l2, svc__random_state=42, vec__max_df=0.8, vec__min_df=0, vec__ngram_range=(1, 2), vec__stop_words=None; total time=   0.0s\n",
      "[CV] END svc__C=1, svc__max_iter=6000, svc__penalty=l2, svc__random_state=42, vec__max_df=0.8, vec__min_df=0, vec__ngram_range=(1, 2), vec__stop_words=None; total time=   0.0s\n"
     ]
    },
    {
     "name": "stderr",
     "output_type": "stream",
     "text": [
      "/Users/dhruvchopra/opt/anaconda3/envs/ddp/lib/python3.8/site-packages/sklearn/svm/_classes.py:32: FutureWarning: The default value of `dual` will change from `True` to `'auto'` in 1.5. Set the value of `dual` explicitly to suppress the warning.\n",
      "  warnings.warn(\n"
     ]
    },
    {
     "name": "stdout",
     "output_type": "stream",
     "text": [
      "[CV] END svc__C=1, svc__max_iter=6000, svc__penalty=l2, svc__random_state=42, vec__max_df=0.85, vec__min_df=0.01, vec__ngram_range=(1, 1), vec__stop_words=None; total time=   0.3s\n"
     ]
    },
    {
     "name": "stderr",
     "output_type": "stream",
     "text": [
      "/Users/dhruvchopra/opt/anaconda3/envs/ddp/lib/python3.8/site-packages/sklearn/svm/_classes.py:32: FutureWarning: The default value of `dual` will change from `True` to `'auto'` in 1.5. Set the value of `dual` explicitly to suppress the warning.\n",
      "  warnings.warn(\n"
     ]
    },
    {
     "name": "stdout",
     "output_type": "stream",
     "text": [
      "[CV] END svc__C=1, svc__max_iter=6000, svc__penalty=l2, svc__random_state=42, vec__max_df=0.85, vec__min_df=0.01, vec__ngram_range=(1, 1), vec__stop_words=None; total time=   0.3s\n"
     ]
    },
    {
     "name": "stderr",
     "output_type": "stream",
     "text": [
      "/Users/dhruvchopra/opt/anaconda3/envs/ddp/lib/python3.8/site-packages/sklearn/svm/_classes.py:32: FutureWarning: The default value of `dual` will change from `True` to `'auto'` in 1.5. Set the value of `dual` explicitly to suppress the warning.\n",
      "  warnings.warn(\n"
     ]
    },
    {
     "name": "stdout",
     "output_type": "stream",
     "text": [
      "[CV] END svc__C=1, svc__max_iter=6000, svc__penalty=l2, svc__random_state=42, vec__max_df=0.85, vec__min_df=0.01, vec__ngram_range=(1, 1), vec__stop_words=None; total time=   0.3s\n"
     ]
    },
    {
     "name": "stderr",
     "output_type": "stream",
     "text": [
      "/Users/dhruvchopra/opt/anaconda3/envs/ddp/lib/python3.8/site-packages/sklearn/svm/_classes.py:32: FutureWarning: The default value of `dual` will change from `True` to `'auto'` in 1.5. Set the value of `dual` explicitly to suppress the warning.\n",
      "  warnings.warn(\n"
     ]
    },
    {
     "name": "stdout",
     "output_type": "stream",
     "text": [
      "[CV] END svc__C=1, svc__max_iter=6000, svc__penalty=l2, svc__random_state=42, vec__max_df=0.85, vec__min_df=0.01, vec__ngram_range=(1, 1), vec__stop_words=None; total time=   0.3s\n"
     ]
    },
    {
     "name": "stderr",
     "output_type": "stream",
     "text": [
      "/Users/dhruvchopra/opt/anaconda3/envs/ddp/lib/python3.8/site-packages/sklearn/svm/_classes.py:32: FutureWarning: The default value of `dual` will change from `True` to `'auto'` in 1.5. Set the value of `dual` explicitly to suppress the warning.\n",
      "  warnings.warn(\n"
     ]
    },
    {
     "name": "stdout",
     "output_type": "stream",
     "text": [
      "[CV] END svc__C=1, svc__max_iter=6000, svc__penalty=l2, svc__random_state=42, vec__max_df=0.85, vec__min_df=0.01, vec__ngram_range=(1, 1), vec__stop_words=None; total time=   0.3s\n"
     ]
    },
    {
     "name": "stderr",
     "output_type": "stream",
     "text": [
      "/Users/dhruvchopra/opt/anaconda3/envs/ddp/lib/python3.8/site-packages/sklearn/svm/_classes.py:32: FutureWarning: The default value of `dual` will change from `True` to `'auto'` in 1.5. Set the value of `dual` explicitly to suppress the warning.\n",
      "  warnings.warn(\n"
     ]
    },
    {
     "name": "stdout",
     "output_type": "stream",
     "text": [
      "[CV] END svc__C=1, svc__max_iter=6000, svc__penalty=l2, svc__random_state=42, vec__max_df=0.85, vec__min_df=0.01, vec__ngram_range=(1, 2), vec__stop_words=None; total time=   0.6s\n"
     ]
    },
    {
     "name": "stderr",
     "output_type": "stream",
     "text": [
      "/Users/dhruvchopra/opt/anaconda3/envs/ddp/lib/python3.8/site-packages/sklearn/svm/_classes.py:32: FutureWarning: The default value of `dual` will change from `True` to `'auto'` in 1.5. Set the value of `dual` explicitly to suppress the warning.\n",
      "  warnings.warn(\n"
     ]
    },
    {
     "name": "stdout",
     "output_type": "stream",
     "text": [
      "[CV] END svc__C=1, svc__max_iter=6000, svc__penalty=l2, svc__random_state=42, vec__max_df=0.85, vec__min_df=0.01, vec__ngram_range=(1, 2), vec__stop_words=None; total time=   0.6s\n"
     ]
    },
    {
     "name": "stderr",
     "output_type": "stream",
     "text": [
      "/Users/dhruvchopra/opt/anaconda3/envs/ddp/lib/python3.8/site-packages/sklearn/svm/_classes.py:32: FutureWarning: The default value of `dual` will change from `True` to `'auto'` in 1.5. Set the value of `dual` explicitly to suppress the warning.\n",
      "  warnings.warn(\n"
     ]
    },
    {
     "name": "stdout",
     "output_type": "stream",
     "text": [
      "[CV] END svc__C=1, svc__max_iter=6000, svc__penalty=l2, svc__random_state=42, vec__max_df=0.85, vec__min_df=0.01, vec__ngram_range=(1, 2), vec__stop_words=None; total time=   0.6s\n"
     ]
    },
    {
     "name": "stderr",
     "output_type": "stream",
     "text": [
      "/Users/dhruvchopra/opt/anaconda3/envs/ddp/lib/python3.8/site-packages/sklearn/svm/_classes.py:32: FutureWarning: The default value of `dual` will change from `True` to `'auto'` in 1.5. Set the value of `dual` explicitly to suppress the warning.\n",
      "  warnings.warn(\n"
     ]
    },
    {
     "name": "stdout",
     "output_type": "stream",
     "text": [
      "[CV] END svc__C=1, svc__max_iter=6000, svc__penalty=l2, svc__random_state=42, vec__max_df=0.85, vec__min_df=0.01, vec__ngram_range=(1, 2), vec__stop_words=None; total time=   0.7s\n"
     ]
    },
    {
     "name": "stderr",
     "output_type": "stream",
     "text": [
      "/Users/dhruvchopra/opt/anaconda3/envs/ddp/lib/python3.8/site-packages/sklearn/svm/_classes.py:32: FutureWarning: The default value of `dual` will change from `True` to `'auto'` in 1.5. Set the value of `dual` explicitly to suppress the warning.\n",
      "  warnings.warn(\n"
     ]
    },
    {
     "name": "stdout",
     "output_type": "stream",
     "text": [
      "[CV] END svc__C=1, svc__max_iter=6000, svc__penalty=l2, svc__random_state=42, vec__max_df=0.85, vec__min_df=0.01, vec__ngram_range=(1, 2), vec__stop_words=None; total time=   0.7s\n"
     ]
    },
    {
     "name": "stderr",
     "output_type": "stream",
     "text": [
      "/Users/dhruvchopra/opt/anaconda3/envs/ddp/lib/python3.8/site-packages/sklearn/svm/_classes.py:32: FutureWarning: The default value of `dual` will change from `True` to `'auto'` in 1.5. Set the value of `dual` explicitly to suppress the warning.\n",
      "  warnings.warn(\n"
     ]
    },
    {
     "name": "stdout",
     "output_type": "stream",
     "text": [
      "[CV] END svc__C=1, svc__max_iter=6000, svc__penalty=l2, svc__random_state=42, vec__max_df=0.85, vec__min_df=0.001, vec__ngram_range=(1, 1), vec__stop_words=None; total time=   0.3s\n"
     ]
    },
    {
     "name": "stderr",
     "output_type": "stream",
     "text": [
      "/Users/dhruvchopra/opt/anaconda3/envs/ddp/lib/python3.8/site-packages/sklearn/svm/_classes.py:32: FutureWarning: The default value of `dual` will change from `True` to `'auto'` in 1.5. Set the value of `dual` explicitly to suppress the warning.\n",
      "  warnings.warn(\n"
     ]
    },
    {
     "name": "stdout",
     "output_type": "stream",
     "text": [
      "[CV] END svc__C=1, svc__max_iter=6000, svc__penalty=l2, svc__random_state=42, vec__max_df=0.85, vec__min_df=0.001, vec__ngram_range=(1, 1), vec__stop_words=None; total time=   0.3s\n"
     ]
    },
    {
     "name": "stderr",
     "output_type": "stream",
     "text": [
      "/Users/dhruvchopra/opt/anaconda3/envs/ddp/lib/python3.8/site-packages/sklearn/svm/_classes.py:32: FutureWarning: The default value of `dual` will change from `True` to `'auto'` in 1.5. Set the value of `dual` explicitly to suppress the warning.\n",
      "  warnings.warn(\n"
     ]
    },
    {
     "name": "stdout",
     "output_type": "stream",
     "text": [
      "[CV] END svc__C=1, svc__max_iter=6000, svc__penalty=l2, svc__random_state=42, vec__max_df=0.85, vec__min_df=0.001, vec__ngram_range=(1, 1), vec__stop_words=None; total time=   0.3s\n"
     ]
    },
    {
     "name": "stderr",
     "output_type": "stream",
     "text": [
      "/Users/dhruvchopra/opt/anaconda3/envs/ddp/lib/python3.8/site-packages/sklearn/svm/_classes.py:32: FutureWarning: The default value of `dual` will change from `True` to `'auto'` in 1.5. Set the value of `dual` explicitly to suppress the warning.\n",
      "  warnings.warn(\n"
     ]
    },
    {
     "name": "stdout",
     "output_type": "stream",
     "text": [
      "[CV] END svc__C=1, svc__max_iter=6000, svc__penalty=l2, svc__random_state=42, vec__max_df=0.85, vec__min_df=0.001, vec__ngram_range=(1, 1), vec__stop_words=None; total time=   0.3s\n"
     ]
    },
    {
     "name": "stderr",
     "output_type": "stream",
     "text": [
      "/Users/dhruvchopra/opt/anaconda3/envs/ddp/lib/python3.8/site-packages/sklearn/svm/_classes.py:32: FutureWarning: The default value of `dual` will change from `True` to `'auto'` in 1.5. Set the value of `dual` explicitly to suppress the warning.\n",
      "  warnings.warn(\n"
     ]
    },
    {
     "name": "stdout",
     "output_type": "stream",
     "text": [
      "[CV] END svc__C=1, svc__max_iter=6000, svc__penalty=l2, svc__random_state=42, vec__max_df=0.85, vec__min_df=0.001, vec__ngram_range=(1, 1), vec__stop_words=None; total time=   0.3s\n"
     ]
    },
    {
     "name": "stderr",
     "output_type": "stream",
     "text": [
      "/Users/dhruvchopra/opt/anaconda3/envs/ddp/lib/python3.8/site-packages/sklearn/svm/_classes.py:32: FutureWarning: The default value of `dual` will change from `True` to `'auto'` in 1.5. Set the value of `dual` explicitly to suppress the warning.\n",
      "  warnings.warn(\n"
     ]
    },
    {
     "name": "stdout",
     "output_type": "stream",
     "text": [
      "[CV] END svc__C=1, svc__max_iter=6000, svc__penalty=l2, svc__random_state=42, vec__max_df=0.85, vec__min_df=0.001, vec__ngram_range=(1, 2), vec__stop_words=None; total time=   0.7s\n"
     ]
    },
    {
     "name": "stderr",
     "output_type": "stream",
     "text": [
      "/Users/dhruvchopra/opt/anaconda3/envs/ddp/lib/python3.8/site-packages/sklearn/svm/_classes.py:32: FutureWarning: The default value of `dual` will change from `True` to `'auto'` in 1.5. Set the value of `dual` explicitly to suppress the warning.\n",
      "  warnings.warn(\n"
     ]
    },
    {
     "name": "stdout",
     "output_type": "stream",
     "text": [
      "[CV] END svc__C=1, svc__max_iter=6000, svc__penalty=l2, svc__random_state=42, vec__max_df=0.85, vec__min_df=0.001, vec__ngram_range=(1, 2), vec__stop_words=None; total time=   0.7s\n"
     ]
    },
    {
     "name": "stderr",
     "output_type": "stream",
     "text": [
      "/Users/dhruvchopra/opt/anaconda3/envs/ddp/lib/python3.8/site-packages/sklearn/svm/_classes.py:32: FutureWarning: The default value of `dual` will change from `True` to `'auto'` in 1.5. Set the value of `dual` explicitly to suppress the warning.\n",
      "  warnings.warn(\n"
     ]
    },
    {
     "name": "stdout",
     "output_type": "stream",
     "text": [
      "[CV] END svc__C=1, svc__max_iter=6000, svc__penalty=l2, svc__random_state=42, vec__max_df=0.85, vec__min_df=0.001, vec__ngram_range=(1, 2), vec__stop_words=None; total time=   0.7s\n"
     ]
    },
    {
     "name": "stderr",
     "output_type": "stream",
     "text": [
      "/Users/dhruvchopra/opt/anaconda3/envs/ddp/lib/python3.8/site-packages/sklearn/svm/_classes.py:32: FutureWarning: The default value of `dual` will change from `True` to `'auto'` in 1.5. Set the value of `dual` explicitly to suppress the warning.\n",
      "  warnings.warn(\n"
     ]
    },
    {
     "name": "stdout",
     "output_type": "stream",
     "text": [
      "[CV] END svc__C=1, svc__max_iter=6000, svc__penalty=l2, svc__random_state=42, vec__max_df=0.85, vec__min_df=0.001, vec__ngram_range=(1, 2), vec__stop_words=None; total time=   0.6s\n"
     ]
    },
    {
     "name": "stderr",
     "output_type": "stream",
     "text": [
      "/Users/dhruvchopra/opt/anaconda3/envs/ddp/lib/python3.8/site-packages/sklearn/svm/_classes.py:32: FutureWarning: The default value of `dual` will change from `True` to `'auto'` in 1.5. Set the value of `dual` explicitly to suppress the warning.\n",
      "  warnings.warn(\n"
     ]
    },
    {
     "name": "stdout",
     "output_type": "stream",
     "text": [
      "[CV] END svc__C=1, svc__max_iter=6000, svc__penalty=l2, svc__random_state=42, vec__max_df=0.85, vec__min_df=0.001, vec__ngram_range=(1, 2), vec__stop_words=None; total time=   0.6s\n"
     ]
    },
    {
     "name": "stderr",
     "output_type": "stream",
     "text": [
      "/Users/dhruvchopra/opt/anaconda3/envs/ddp/lib/python3.8/site-packages/sklearn/svm/_classes.py:32: FutureWarning: The default value of `dual` will change from `True` to `'auto'` in 1.5. Set the value of `dual` explicitly to suppress the warning.\n",
      "  warnings.warn(\n"
     ]
    },
    {
     "name": "stdout",
     "output_type": "stream",
     "text": [
      "[CV] END svc__C=1, svc__max_iter=6000, svc__penalty=l2, svc__random_state=42, vec__max_df=0.85, vec__min_df=0.0001, vec__ngram_range=(1, 1), vec__stop_words=None; total time=   0.3s\n"
     ]
    },
    {
     "name": "stderr",
     "output_type": "stream",
     "text": [
      "/Users/dhruvchopra/opt/anaconda3/envs/ddp/lib/python3.8/site-packages/sklearn/svm/_classes.py:32: FutureWarning: The default value of `dual` will change from `True` to `'auto'` in 1.5. Set the value of `dual` explicitly to suppress the warning.\n",
      "  warnings.warn(\n"
     ]
    },
    {
     "name": "stdout",
     "output_type": "stream",
     "text": [
      "[CV] END svc__C=1, svc__max_iter=6000, svc__penalty=l2, svc__random_state=42, vec__max_df=0.85, vec__min_df=0.0001, vec__ngram_range=(1, 1), vec__stop_words=None; total time=   0.3s\n"
     ]
    },
    {
     "name": "stderr",
     "output_type": "stream",
     "text": [
      "/Users/dhruvchopra/opt/anaconda3/envs/ddp/lib/python3.8/site-packages/sklearn/svm/_classes.py:32: FutureWarning: The default value of `dual` will change from `True` to `'auto'` in 1.5. Set the value of `dual` explicitly to suppress the warning.\n",
      "  warnings.warn(\n"
     ]
    },
    {
     "name": "stdout",
     "output_type": "stream",
     "text": [
      "[CV] END svc__C=1, svc__max_iter=6000, svc__penalty=l2, svc__random_state=42, vec__max_df=0.85, vec__min_df=0.0001, vec__ngram_range=(1, 1), vec__stop_words=None; total time=   0.3s\n"
     ]
    },
    {
     "name": "stderr",
     "output_type": "stream",
     "text": [
      "/Users/dhruvchopra/opt/anaconda3/envs/ddp/lib/python3.8/site-packages/sklearn/svm/_classes.py:32: FutureWarning: The default value of `dual` will change from `True` to `'auto'` in 1.5. Set the value of `dual` explicitly to suppress the warning.\n",
      "  warnings.warn(\n"
     ]
    },
    {
     "name": "stdout",
     "output_type": "stream",
     "text": [
      "[CV] END svc__C=1, svc__max_iter=6000, svc__penalty=l2, svc__random_state=42, vec__max_df=0.85, vec__min_df=0.0001, vec__ngram_range=(1, 1), vec__stop_words=None; total time=   0.3s\n"
     ]
    },
    {
     "name": "stderr",
     "output_type": "stream",
     "text": [
      "/Users/dhruvchopra/opt/anaconda3/envs/ddp/lib/python3.8/site-packages/sklearn/svm/_classes.py:32: FutureWarning: The default value of `dual` will change from `True` to `'auto'` in 1.5. Set the value of `dual` explicitly to suppress the warning.\n",
      "  warnings.warn(\n"
     ]
    },
    {
     "name": "stdout",
     "output_type": "stream",
     "text": [
      "[CV] END svc__C=1, svc__max_iter=6000, svc__penalty=l2, svc__random_state=42, vec__max_df=0.85, vec__min_df=0.0001, vec__ngram_range=(1, 1), vec__stop_words=None; total time=   0.3s\n"
     ]
    },
    {
     "name": "stderr",
     "output_type": "stream",
     "text": [
      "/Users/dhruvchopra/opt/anaconda3/envs/ddp/lib/python3.8/site-packages/sklearn/svm/_classes.py:32: FutureWarning: The default value of `dual` will change from `True` to `'auto'` in 1.5. Set the value of `dual` explicitly to suppress the warning.\n",
      "  warnings.warn(\n"
     ]
    },
    {
     "name": "stdout",
     "output_type": "stream",
     "text": [
      "[CV] END svc__C=1, svc__max_iter=6000, svc__penalty=l2, svc__random_state=42, vec__max_df=0.85, vec__min_df=0.0001, vec__ngram_range=(1, 2), vec__stop_words=None; total time=   0.8s\n"
     ]
    },
    {
     "name": "stderr",
     "output_type": "stream",
     "text": [
      "/Users/dhruvchopra/opt/anaconda3/envs/ddp/lib/python3.8/site-packages/sklearn/svm/_classes.py:32: FutureWarning: The default value of `dual` will change from `True` to `'auto'` in 1.5. Set the value of `dual` explicitly to suppress the warning.\n",
      "  warnings.warn(\n"
     ]
    },
    {
     "name": "stdout",
     "output_type": "stream",
     "text": [
      "[CV] END svc__C=1, svc__max_iter=6000, svc__penalty=l2, svc__random_state=42, vec__max_df=0.85, vec__min_df=0.0001, vec__ngram_range=(1, 2), vec__stop_words=None; total time=   1.1s\n"
     ]
    },
    {
     "name": "stderr",
     "output_type": "stream",
     "text": [
      "/Users/dhruvchopra/opt/anaconda3/envs/ddp/lib/python3.8/site-packages/sklearn/svm/_classes.py:32: FutureWarning: The default value of `dual` will change from `True` to `'auto'` in 1.5. Set the value of `dual` explicitly to suppress the warning.\n",
      "  warnings.warn(\n"
     ]
    },
    {
     "name": "stdout",
     "output_type": "stream",
     "text": [
      "[CV] END svc__C=1, svc__max_iter=6000, svc__penalty=l2, svc__random_state=42, vec__max_df=0.85, vec__min_df=0.0001, vec__ngram_range=(1, 2), vec__stop_words=None; total time=   1.0s\n"
     ]
    },
    {
     "name": "stderr",
     "output_type": "stream",
     "text": [
      "/Users/dhruvchopra/opt/anaconda3/envs/ddp/lib/python3.8/site-packages/sklearn/svm/_classes.py:32: FutureWarning: The default value of `dual` will change from `True` to `'auto'` in 1.5. Set the value of `dual` explicitly to suppress the warning.\n",
      "  warnings.warn(\n"
     ]
    },
    {
     "name": "stdout",
     "output_type": "stream",
     "text": [
      "[CV] END svc__C=1, svc__max_iter=6000, svc__penalty=l2, svc__random_state=42, vec__max_df=0.85, vec__min_df=0.0001, vec__ngram_range=(1, 2), vec__stop_words=None; total time=   0.9s\n"
     ]
    },
    {
     "name": "stderr",
     "output_type": "stream",
     "text": [
      "/Users/dhruvchopra/opt/anaconda3/envs/ddp/lib/python3.8/site-packages/sklearn/svm/_classes.py:32: FutureWarning: The default value of `dual` will change from `True` to `'auto'` in 1.5. Set the value of `dual` explicitly to suppress the warning.\n",
      "  warnings.warn(\n"
     ]
    },
    {
     "name": "stdout",
     "output_type": "stream",
     "text": [
      "[CV] END svc__C=1, svc__max_iter=6000, svc__penalty=l2, svc__random_state=42, vec__max_df=0.85, vec__min_df=0.0001, vec__ngram_range=(1, 2), vec__stop_words=None; total time=   0.8s\n",
      "[CV] END svc__C=1, svc__max_iter=6000, svc__penalty=l2, svc__random_state=42, vec__max_df=0.85, vec__min_df=0, vec__ngram_range=(1, 1), vec__stop_words=None; total time=   0.0s\n",
      "[CV] END svc__C=1, svc__max_iter=6000, svc__penalty=l2, svc__random_state=42, vec__max_df=0.85, vec__min_df=0, vec__ngram_range=(1, 1), vec__stop_words=None; total time=   0.0s\n",
      "[CV] END svc__C=1, svc__max_iter=6000, svc__penalty=l2, svc__random_state=42, vec__max_df=0.85, vec__min_df=0, vec__ngram_range=(1, 1), vec__stop_words=None; total time=   0.0s\n",
      "[CV] END svc__C=1, svc__max_iter=6000, svc__penalty=l2, svc__random_state=42, vec__max_df=0.85, vec__min_df=0, vec__ngram_range=(1, 1), vec__stop_words=None; total time=   0.0s\n",
      "[CV] END svc__C=1, svc__max_iter=6000, svc__penalty=l2, svc__random_state=42, vec__max_df=0.85, vec__min_df=0, vec__ngram_range=(1, 1), vec__stop_words=None; total time=   0.0s\n",
      "[CV] END svc__C=1, svc__max_iter=6000, svc__penalty=l2, svc__random_state=42, vec__max_df=0.85, vec__min_df=0, vec__ngram_range=(1, 2), vec__stop_words=None; total time=   0.0s\n",
      "[CV] END svc__C=1, svc__max_iter=6000, svc__penalty=l2, svc__random_state=42, vec__max_df=0.85, vec__min_df=0, vec__ngram_range=(1, 2), vec__stop_words=None; total time=   0.0s\n",
      "[CV] END svc__C=1, svc__max_iter=6000, svc__penalty=l2, svc__random_state=42, vec__max_df=0.85, vec__min_df=0, vec__ngram_range=(1, 2), vec__stop_words=None; total time=   0.0s\n",
      "[CV] END svc__C=1, svc__max_iter=6000, svc__penalty=l2, svc__random_state=42, vec__max_df=0.85, vec__min_df=0, vec__ngram_range=(1, 2), vec__stop_words=None; total time=   0.0s\n",
      "[CV] END svc__C=1, svc__max_iter=6000, svc__penalty=l2, svc__random_state=42, vec__max_df=0.85, vec__min_df=0, vec__ngram_range=(1, 2), vec__stop_words=None; total time=   0.0s\n"
     ]
    },
    {
     "name": "stderr",
     "output_type": "stream",
     "text": [
      "/Users/dhruvchopra/opt/anaconda3/envs/ddp/lib/python3.8/site-packages/sklearn/svm/_classes.py:32: FutureWarning: The default value of `dual` will change from `True` to `'auto'` in 1.5. Set the value of `dual` explicitly to suppress the warning.\n",
      "  warnings.warn(\n"
     ]
    },
    {
     "name": "stdout",
     "output_type": "stream",
     "text": [
      "[CV] END svc__C=1, svc__max_iter=6000, svc__penalty=l2, svc__random_state=42, vec__max_df=0.9, vec__min_df=0.01, vec__ngram_range=(1, 1), vec__stop_words=None; total time=   0.3s\n"
     ]
    },
    {
     "name": "stderr",
     "output_type": "stream",
     "text": [
      "/Users/dhruvchopra/opt/anaconda3/envs/ddp/lib/python3.8/site-packages/sklearn/svm/_classes.py:32: FutureWarning: The default value of `dual` will change from `True` to `'auto'` in 1.5. Set the value of `dual` explicitly to suppress the warning.\n",
      "  warnings.warn(\n"
     ]
    },
    {
     "name": "stdout",
     "output_type": "stream",
     "text": [
      "[CV] END svc__C=1, svc__max_iter=6000, svc__penalty=l2, svc__random_state=42, vec__max_df=0.9, vec__min_df=0.01, vec__ngram_range=(1, 1), vec__stop_words=None; total time=   0.3s\n"
     ]
    },
    {
     "name": "stderr",
     "output_type": "stream",
     "text": [
      "/Users/dhruvchopra/opt/anaconda3/envs/ddp/lib/python3.8/site-packages/sklearn/svm/_classes.py:32: FutureWarning: The default value of `dual` will change from `True` to `'auto'` in 1.5. Set the value of `dual` explicitly to suppress the warning.\n",
      "  warnings.warn(\n"
     ]
    },
    {
     "name": "stdout",
     "output_type": "stream",
     "text": [
      "[CV] END svc__C=1, svc__max_iter=6000, svc__penalty=l2, svc__random_state=42, vec__max_df=0.9, vec__min_df=0.01, vec__ngram_range=(1, 1), vec__stop_words=None; total time=   0.3s\n"
     ]
    },
    {
     "name": "stderr",
     "output_type": "stream",
     "text": [
      "/Users/dhruvchopra/opt/anaconda3/envs/ddp/lib/python3.8/site-packages/sklearn/svm/_classes.py:32: FutureWarning: The default value of `dual` will change from `True` to `'auto'` in 1.5. Set the value of `dual` explicitly to suppress the warning.\n",
      "  warnings.warn(\n"
     ]
    },
    {
     "name": "stdout",
     "output_type": "stream",
     "text": [
      "[CV] END svc__C=1, svc__max_iter=6000, svc__penalty=l2, svc__random_state=42, vec__max_df=0.9, vec__min_df=0.01, vec__ngram_range=(1, 1), vec__stop_words=None; total time=   0.3s\n"
     ]
    },
    {
     "name": "stderr",
     "output_type": "stream",
     "text": [
      "/Users/dhruvchopra/opt/anaconda3/envs/ddp/lib/python3.8/site-packages/sklearn/svm/_classes.py:32: FutureWarning: The default value of `dual` will change from `True` to `'auto'` in 1.5. Set the value of `dual` explicitly to suppress the warning.\n",
      "  warnings.warn(\n"
     ]
    },
    {
     "name": "stdout",
     "output_type": "stream",
     "text": [
      "[CV] END svc__C=1, svc__max_iter=6000, svc__penalty=l2, svc__random_state=42, vec__max_df=0.9, vec__min_df=0.01, vec__ngram_range=(1, 1), vec__stop_words=None; total time=   0.3s\n"
     ]
    },
    {
     "name": "stderr",
     "output_type": "stream",
     "text": [
      "/Users/dhruvchopra/opt/anaconda3/envs/ddp/lib/python3.8/site-packages/sklearn/svm/_classes.py:32: FutureWarning: The default value of `dual` will change from `True` to `'auto'` in 1.5. Set the value of `dual` explicitly to suppress the warning.\n",
      "  warnings.warn(\n"
     ]
    },
    {
     "name": "stdout",
     "output_type": "stream",
     "text": [
      "[CV] END svc__C=1, svc__max_iter=6000, svc__penalty=l2, svc__random_state=42, vec__max_df=0.9, vec__min_df=0.01, vec__ngram_range=(1, 2), vec__stop_words=None; total time=   0.7s\n"
     ]
    },
    {
     "name": "stderr",
     "output_type": "stream",
     "text": [
      "/Users/dhruvchopra/opt/anaconda3/envs/ddp/lib/python3.8/site-packages/sklearn/svm/_classes.py:32: FutureWarning: The default value of `dual` will change from `True` to `'auto'` in 1.5. Set the value of `dual` explicitly to suppress the warning.\n",
      "  warnings.warn(\n"
     ]
    },
    {
     "name": "stdout",
     "output_type": "stream",
     "text": [
      "[CV] END svc__C=1, svc__max_iter=6000, svc__penalty=l2, svc__random_state=42, vec__max_df=0.9, vec__min_df=0.01, vec__ngram_range=(1, 2), vec__stop_words=None; total time=   0.6s\n"
     ]
    },
    {
     "name": "stderr",
     "output_type": "stream",
     "text": [
      "/Users/dhruvchopra/opt/anaconda3/envs/ddp/lib/python3.8/site-packages/sklearn/svm/_classes.py:32: FutureWarning: The default value of `dual` will change from `True` to `'auto'` in 1.5. Set the value of `dual` explicitly to suppress the warning.\n",
      "  warnings.warn(\n"
     ]
    },
    {
     "name": "stdout",
     "output_type": "stream",
     "text": [
      "[CV] END svc__C=1, svc__max_iter=6000, svc__penalty=l2, svc__random_state=42, vec__max_df=0.9, vec__min_df=0.01, vec__ngram_range=(1, 2), vec__stop_words=None; total time=   0.7s\n"
     ]
    },
    {
     "name": "stderr",
     "output_type": "stream",
     "text": [
      "/Users/dhruvchopra/opt/anaconda3/envs/ddp/lib/python3.8/site-packages/sklearn/svm/_classes.py:32: FutureWarning: The default value of `dual` will change from `True` to `'auto'` in 1.5. Set the value of `dual` explicitly to suppress the warning.\n",
      "  warnings.warn(\n"
     ]
    },
    {
     "name": "stdout",
     "output_type": "stream",
     "text": [
      "[CV] END svc__C=1, svc__max_iter=6000, svc__penalty=l2, svc__random_state=42, vec__max_df=0.9, vec__min_df=0.01, vec__ngram_range=(1, 2), vec__stop_words=None; total time=   0.6s\n"
     ]
    },
    {
     "name": "stderr",
     "output_type": "stream",
     "text": [
      "/Users/dhruvchopra/opt/anaconda3/envs/ddp/lib/python3.8/site-packages/sklearn/svm/_classes.py:32: FutureWarning: The default value of `dual` will change from `True` to `'auto'` in 1.5. Set the value of `dual` explicitly to suppress the warning.\n",
      "  warnings.warn(\n"
     ]
    },
    {
     "name": "stdout",
     "output_type": "stream",
     "text": [
      "[CV] END svc__C=1, svc__max_iter=6000, svc__penalty=l2, svc__random_state=42, vec__max_df=0.9, vec__min_df=0.01, vec__ngram_range=(1, 2), vec__stop_words=None; total time=   0.8s\n"
     ]
    },
    {
     "name": "stderr",
     "output_type": "stream",
     "text": [
      "/Users/dhruvchopra/opt/anaconda3/envs/ddp/lib/python3.8/site-packages/sklearn/svm/_classes.py:32: FutureWarning: The default value of `dual` will change from `True` to `'auto'` in 1.5. Set the value of `dual` explicitly to suppress the warning.\n",
      "  warnings.warn(\n"
     ]
    },
    {
     "name": "stdout",
     "output_type": "stream",
     "text": [
      "[CV] END svc__C=1, svc__max_iter=6000, svc__penalty=l2, svc__random_state=42, vec__max_df=0.9, vec__min_df=0.001, vec__ngram_range=(1, 1), vec__stop_words=None; total time=   0.3s\n"
     ]
    },
    {
     "name": "stderr",
     "output_type": "stream",
     "text": [
      "/Users/dhruvchopra/opt/anaconda3/envs/ddp/lib/python3.8/site-packages/sklearn/svm/_classes.py:32: FutureWarning: The default value of `dual` will change from `True` to `'auto'` in 1.5. Set the value of `dual` explicitly to suppress the warning.\n",
      "  warnings.warn(\n"
     ]
    },
    {
     "name": "stdout",
     "output_type": "stream",
     "text": [
      "[CV] END svc__C=1, svc__max_iter=6000, svc__penalty=l2, svc__random_state=42, vec__max_df=0.9, vec__min_df=0.001, vec__ngram_range=(1, 1), vec__stop_words=None; total time=   0.3s\n"
     ]
    },
    {
     "name": "stderr",
     "output_type": "stream",
     "text": [
      "/Users/dhruvchopra/opt/anaconda3/envs/ddp/lib/python3.8/site-packages/sklearn/svm/_classes.py:32: FutureWarning: The default value of `dual` will change from `True` to `'auto'` in 1.5. Set the value of `dual` explicitly to suppress the warning.\n",
      "  warnings.warn(\n"
     ]
    },
    {
     "name": "stdout",
     "output_type": "stream",
     "text": [
      "[CV] END svc__C=1, svc__max_iter=6000, svc__penalty=l2, svc__random_state=42, vec__max_df=0.9, vec__min_df=0.001, vec__ngram_range=(1, 1), vec__stop_words=None; total time=   0.3s\n"
     ]
    },
    {
     "name": "stderr",
     "output_type": "stream",
     "text": [
      "/Users/dhruvchopra/opt/anaconda3/envs/ddp/lib/python3.8/site-packages/sklearn/svm/_classes.py:32: FutureWarning: The default value of `dual` will change from `True` to `'auto'` in 1.5. Set the value of `dual` explicitly to suppress the warning.\n",
      "  warnings.warn(\n"
     ]
    },
    {
     "name": "stdout",
     "output_type": "stream",
     "text": [
      "[CV] END svc__C=1, svc__max_iter=6000, svc__penalty=l2, svc__random_state=42, vec__max_df=0.9, vec__min_df=0.001, vec__ngram_range=(1, 1), vec__stop_words=None; total time=   0.3s\n"
     ]
    },
    {
     "name": "stderr",
     "output_type": "stream",
     "text": [
      "/Users/dhruvchopra/opt/anaconda3/envs/ddp/lib/python3.8/site-packages/sklearn/svm/_classes.py:32: FutureWarning: The default value of `dual` will change from `True` to `'auto'` in 1.5. Set the value of `dual` explicitly to suppress the warning.\n",
      "  warnings.warn(\n"
     ]
    },
    {
     "name": "stdout",
     "output_type": "stream",
     "text": [
      "[CV] END svc__C=1, svc__max_iter=6000, svc__penalty=l2, svc__random_state=42, vec__max_df=0.9, vec__min_df=0.001, vec__ngram_range=(1, 1), vec__stop_words=None; total time=   0.3s\n"
     ]
    },
    {
     "name": "stderr",
     "output_type": "stream",
     "text": [
      "/Users/dhruvchopra/opt/anaconda3/envs/ddp/lib/python3.8/site-packages/sklearn/svm/_classes.py:32: FutureWarning: The default value of `dual` will change from `True` to `'auto'` in 1.5. Set the value of `dual` explicitly to suppress the warning.\n",
      "  warnings.warn(\n"
     ]
    },
    {
     "name": "stdout",
     "output_type": "stream",
     "text": [
      "[CV] END svc__C=1, svc__max_iter=6000, svc__penalty=l2, svc__random_state=42, vec__max_df=0.9, vec__min_df=0.001, vec__ngram_range=(1, 2), vec__stop_words=None; total time=   0.6s\n"
     ]
    },
    {
     "name": "stderr",
     "output_type": "stream",
     "text": [
      "/Users/dhruvchopra/opt/anaconda3/envs/ddp/lib/python3.8/site-packages/sklearn/svm/_classes.py:32: FutureWarning: The default value of `dual` will change from `True` to `'auto'` in 1.5. Set the value of `dual` explicitly to suppress the warning.\n",
      "  warnings.warn(\n"
     ]
    },
    {
     "name": "stdout",
     "output_type": "stream",
     "text": [
      "[CV] END svc__C=1, svc__max_iter=6000, svc__penalty=l2, svc__random_state=42, vec__max_df=0.9, vec__min_df=0.001, vec__ngram_range=(1, 2), vec__stop_words=None; total time=   1.0s\n"
     ]
    },
    {
     "name": "stderr",
     "output_type": "stream",
     "text": [
      "/Users/dhruvchopra/opt/anaconda3/envs/ddp/lib/python3.8/site-packages/sklearn/svm/_classes.py:32: FutureWarning: The default value of `dual` will change from `True` to `'auto'` in 1.5. Set the value of `dual` explicitly to suppress the warning.\n",
      "  warnings.warn(\n"
     ]
    },
    {
     "name": "stdout",
     "output_type": "stream",
     "text": [
      "[CV] END svc__C=1, svc__max_iter=6000, svc__penalty=l2, svc__random_state=42, vec__max_df=0.9, vec__min_df=0.001, vec__ngram_range=(1, 2), vec__stop_words=None; total time=   0.7s\n"
     ]
    },
    {
     "name": "stderr",
     "output_type": "stream",
     "text": [
      "/Users/dhruvchopra/opt/anaconda3/envs/ddp/lib/python3.8/site-packages/sklearn/svm/_classes.py:32: FutureWarning: The default value of `dual` will change from `True` to `'auto'` in 1.5. Set the value of `dual` explicitly to suppress the warning.\n",
      "  warnings.warn(\n"
     ]
    },
    {
     "name": "stdout",
     "output_type": "stream",
     "text": [
      "[CV] END svc__C=1, svc__max_iter=6000, svc__penalty=l2, svc__random_state=42, vec__max_df=0.9, vec__min_df=0.001, vec__ngram_range=(1, 2), vec__stop_words=None; total time=   0.7s\n"
     ]
    },
    {
     "name": "stderr",
     "output_type": "stream",
     "text": [
      "/Users/dhruvchopra/opt/anaconda3/envs/ddp/lib/python3.8/site-packages/sklearn/svm/_classes.py:32: FutureWarning: The default value of `dual` will change from `True` to `'auto'` in 1.5. Set the value of `dual` explicitly to suppress the warning.\n",
      "  warnings.warn(\n"
     ]
    },
    {
     "name": "stdout",
     "output_type": "stream",
     "text": [
      "[CV] END svc__C=1, svc__max_iter=6000, svc__penalty=l2, svc__random_state=42, vec__max_df=0.9, vec__min_df=0.001, vec__ngram_range=(1, 2), vec__stop_words=None; total time=   1.1s\n"
     ]
    },
    {
     "name": "stderr",
     "output_type": "stream",
     "text": [
      "/Users/dhruvchopra/opt/anaconda3/envs/ddp/lib/python3.8/site-packages/sklearn/svm/_classes.py:32: FutureWarning: The default value of `dual` will change from `True` to `'auto'` in 1.5. Set the value of `dual` explicitly to suppress the warning.\n",
      "  warnings.warn(\n"
     ]
    },
    {
     "name": "stdout",
     "output_type": "stream",
     "text": [
      "[CV] END svc__C=1, svc__max_iter=6000, svc__penalty=l2, svc__random_state=42, vec__max_df=0.9, vec__min_df=0.0001, vec__ngram_range=(1, 1), vec__stop_words=None; total time=   0.5s\n"
     ]
    },
    {
     "name": "stderr",
     "output_type": "stream",
     "text": [
      "/Users/dhruvchopra/opt/anaconda3/envs/ddp/lib/python3.8/site-packages/sklearn/svm/_classes.py:32: FutureWarning: The default value of `dual` will change from `True` to `'auto'` in 1.5. Set the value of `dual` explicitly to suppress the warning.\n",
      "  warnings.warn(\n"
     ]
    },
    {
     "name": "stdout",
     "output_type": "stream",
     "text": [
      "[CV] END svc__C=1, svc__max_iter=6000, svc__penalty=l2, svc__random_state=42, vec__max_df=0.9, vec__min_df=0.0001, vec__ngram_range=(1, 1), vec__stop_words=None; total time=   0.4s\n"
     ]
    },
    {
     "name": "stderr",
     "output_type": "stream",
     "text": [
      "/Users/dhruvchopra/opt/anaconda3/envs/ddp/lib/python3.8/site-packages/sklearn/svm/_classes.py:32: FutureWarning: The default value of `dual` will change from `True` to `'auto'` in 1.5. Set the value of `dual` explicitly to suppress the warning.\n",
      "  warnings.warn(\n"
     ]
    },
    {
     "name": "stdout",
     "output_type": "stream",
     "text": [
      "[CV] END svc__C=1, svc__max_iter=6000, svc__penalty=l2, svc__random_state=42, vec__max_df=0.9, vec__min_df=0.0001, vec__ngram_range=(1, 1), vec__stop_words=None; total time=   0.4s\n"
     ]
    },
    {
     "name": "stderr",
     "output_type": "stream",
     "text": [
      "/Users/dhruvchopra/opt/anaconda3/envs/ddp/lib/python3.8/site-packages/sklearn/svm/_classes.py:32: FutureWarning: The default value of `dual` will change from `True` to `'auto'` in 1.5. Set the value of `dual` explicitly to suppress the warning.\n",
      "  warnings.warn(\n"
     ]
    },
    {
     "name": "stdout",
     "output_type": "stream",
     "text": [
      "[CV] END svc__C=1, svc__max_iter=6000, svc__penalty=l2, svc__random_state=42, vec__max_df=0.9, vec__min_df=0.0001, vec__ngram_range=(1, 1), vec__stop_words=None; total time=   0.4s\n"
     ]
    },
    {
     "name": "stderr",
     "output_type": "stream",
     "text": [
      "/Users/dhruvchopra/opt/anaconda3/envs/ddp/lib/python3.8/site-packages/sklearn/svm/_classes.py:32: FutureWarning: The default value of `dual` will change from `True` to `'auto'` in 1.5. Set the value of `dual` explicitly to suppress the warning.\n",
      "  warnings.warn(\n"
     ]
    },
    {
     "name": "stdout",
     "output_type": "stream",
     "text": [
      "[CV] END svc__C=1, svc__max_iter=6000, svc__penalty=l2, svc__random_state=42, vec__max_df=0.9, vec__min_df=0.0001, vec__ngram_range=(1, 1), vec__stop_words=None; total time=   0.3s\n"
     ]
    },
    {
     "name": "stderr",
     "output_type": "stream",
     "text": [
      "/Users/dhruvchopra/opt/anaconda3/envs/ddp/lib/python3.8/site-packages/sklearn/svm/_classes.py:32: FutureWarning: The default value of `dual` will change from `True` to `'auto'` in 1.5. Set the value of `dual` explicitly to suppress the warning.\n",
      "  warnings.warn(\n"
     ]
    },
    {
     "name": "stdout",
     "output_type": "stream",
     "text": [
      "[CV] END svc__C=1, svc__max_iter=6000, svc__penalty=l2, svc__random_state=42, vec__max_df=0.9, vec__min_df=0.0001, vec__ngram_range=(1, 2), vec__stop_words=None; total time=   0.9s\n"
     ]
    },
    {
     "name": "stderr",
     "output_type": "stream",
     "text": [
      "/Users/dhruvchopra/opt/anaconda3/envs/ddp/lib/python3.8/site-packages/sklearn/svm/_classes.py:32: FutureWarning: The default value of `dual` will change from `True` to `'auto'` in 1.5. Set the value of `dual` explicitly to suppress the warning.\n",
      "  warnings.warn(\n"
     ]
    },
    {
     "name": "stdout",
     "output_type": "stream",
     "text": [
      "[CV] END svc__C=1, svc__max_iter=6000, svc__penalty=l2, svc__random_state=42, vec__max_df=0.9, vec__min_df=0.0001, vec__ngram_range=(1, 2), vec__stop_words=None; total time=   0.9s\n"
     ]
    },
    {
     "name": "stderr",
     "output_type": "stream",
     "text": [
      "/Users/dhruvchopra/opt/anaconda3/envs/ddp/lib/python3.8/site-packages/sklearn/svm/_classes.py:32: FutureWarning: The default value of `dual` will change from `True` to `'auto'` in 1.5. Set the value of `dual` explicitly to suppress the warning.\n",
      "  warnings.warn(\n"
     ]
    },
    {
     "name": "stdout",
     "output_type": "stream",
     "text": [
      "[CV] END svc__C=1, svc__max_iter=6000, svc__penalty=l2, svc__random_state=42, vec__max_df=0.9, vec__min_df=0.0001, vec__ngram_range=(1, 2), vec__stop_words=None; total time=   0.9s\n"
     ]
    },
    {
     "name": "stderr",
     "output_type": "stream",
     "text": [
      "/Users/dhruvchopra/opt/anaconda3/envs/ddp/lib/python3.8/site-packages/sklearn/svm/_classes.py:32: FutureWarning: The default value of `dual` will change from `True` to `'auto'` in 1.5. Set the value of `dual` explicitly to suppress the warning.\n",
      "  warnings.warn(\n"
     ]
    },
    {
     "name": "stdout",
     "output_type": "stream",
     "text": [
      "[CV] END svc__C=1, svc__max_iter=6000, svc__penalty=l2, svc__random_state=42, vec__max_df=0.9, vec__min_df=0.0001, vec__ngram_range=(1, 2), vec__stop_words=None; total time=   0.8s\n"
     ]
    },
    {
     "name": "stderr",
     "output_type": "stream",
     "text": [
      "/Users/dhruvchopra/opt/anaconda3/envs/ddp/lib/python3.8/site-packages/sklearn/svm/_classes.py:32: FutureWarning: The default value of `dual` will change from `True` to `'auto'` in 1.5. Set the value of `dual` explicitly to suppress the warning.\n",
      "  warnings.warn(\n"
     ]
    },
    {
     "name": "stdout",
     "output_type": "stream",
     "text": [
      "[CV] END svc__C=1, svc__max_iter=6000, svc__penalty=l2, svc__random_state=42, vec__max_df=0.9, vec__min_df=0.0001, vec__ngram_range=(1, 2), vec__stop_words=None; total time=   1.0s\n",
      "[CV] END svc__C=1, svc__max_iter=6000, svc__penalty=l2, svc__random_state=42, vec__max_df=0.9, vec__min_df=0, vec__ngram_range=(1, 1), vec__stop_words=None; total time=   0.0s\n",
      "[CV] END svc__C=1, svc__max_iter=6000, svc__penalty=l2, svc__random_state=42, vec__max_df=0.9, vec__min_df=0, vec__ngram_range=(1, 1), vec__stop_words=None; total time=   0.0s\n",
      "[CV] END svc__C=1, svc__max_iter=6000, svc__penalty=l2, svc__random_state=42, vec__max_df=0.9, vec__min_df=0, vec__ngram_range=(1, 1), vec__stop_words=None; total time=   0.0s\n",
      "[CV] END svc__C=1, svc__max_iter=6000, svc__penalty=l2, svc__random_state=42, vec__max_df=0.9, vec__min_df=0, vec__ngram_range=(1, 1), vec__stop_words=None; total time=   0.0s\n",
      "[CV] END svc__C=1, svc__max_iter=6000, svc__penalty=l2, svc__random_state=42, vec__max_df=0.9, vec__min_df=0, vec__ngram_range=(1, 1), vec__stop_words=None; total time=   0.0s\n",
      "[CV] END svc__C=1, svc__max_iter=6000, svc__penalty=l2, svc__random_state=42, vec__max_df=0.9, vec__min_df=0, vec__ngram_range=(1, 2), vec__stop_words=None; total time=   0.0s\n",
      "[CV] END svc__C=1, svc__max_iter=6000, svc__penalty=l2, svc__random_state=42, vec__max_df=0.9, vec__min_df=0, vec__ngram_range=(1, 2), vec__stop_words=None; total time=   0.0s\n",
      "[CV] END svc__C=1, svc__max_iter=6000, svc__penalty=l2, svc__random_state=42, vec__max_df=0.9, vec__min_df=0, vec__ngram_range=(1, 2), vec__stop_words=None; total time=   0.0s\n",
      "[CV] END svc__C=1, svc__max_iter=6000, svc__penalty=l2, svc__random_state=42, vec__max_df=0.9, vec__min_df=0, vec__ngram_range=(1, 2), vec__stop_words=None; total time=   0.0s\n",
      "[CV] END svc__C=1, svc__max_iter=6000, svc__penalty=l2, svc__random_state=42, vec__max_df=0.9, vec__min_df=0, vec__ngram_range=(1, 2), vec__stop_words=None; total time=   0.0s\n"
     ]
    },
    {
     "name": "stderr",
     "output_type": "stream",
     "text": [
      "/Users/dhruvchopra/opt/anaconda3/envs/ddp/lib/python3.8/site-packages/sklearn/svm/_classes.py:32: FutureWarning: The default value of `dual` will change from `True` to `'auto'` in 1.5. Set the value of `dual` explicitly to suppress the warning.\n",
      "  warnings.warn(\n"
     ]
    },
    {
     "name": "stdout",
     "output_type": "stream",
     "text": [
      "[CV] END svc__C=1, svc__max_iter=6000, svc__penalty=l2, svc__random_state=42, vec__max_df=0.99, vec__min_df=0.01, vec__ngram_range=(1, 1), vec__stop_words=None; total time=   0.3s\n"
     ]
    },
    {
     "name": "stderr",
     "output_type": "stream",
     "text": [
      "/Users/dhruvchopra/opt/anaconda3/envs/ddp/lib/python3.8/site-packages/sklearn/svm/_classes.py:32: FutureWarning: The default value of `dual` will change from `True` to `'auto'` in 1.5. Set the value of `dual` explicitly to suppress the warning.\n",
      "  warnings.warn(\n"
     ]
    },
    {
     "name": "stdout",
     "output_type": "stream",
     "text": [
      "[CV] END svc__C=1, svc__max_iter=6000, svc__penalty=l2, svc__random_state=42, vec__max_df=0.99, vec__min_df=0.01, vec__ngram_range=(1, 1), vec__stop_words=None; total time=   0.3s\n"
     ]
    },
    {
     "name": "stderr",
     "output_type": "stream",
     "text": [
      "/Users/dhruvchopra/opt/anaconda3/envs/ddp/lib/python3.8/site-packages/sklearn/svm/_classes.py:32: FutureWarning: The default value of `dual` will change from `True` to `'auto'` in 1.5. Set the value of `dual` explicitly to suppress the warning.\n",
      "  warnings.warn(\n"
     ]
    },
    {
     "name": "stdout",
     "output_type": "stream",
     "text": [
      "[CV] END svc__C=1, svc__max_iter=6000, svc__penalty=l2, svc__random_state=42, vec__max_df=0.99, vec__min_df=0.01, vec__ngram_range=(1, 1), vec__stop_words=None; total time=   0.3s\n"
     ]
    },
    {
     "name": "stderr",
     "output_type": "stream",
     "text": [
      "/Users/dhruvchopra/opt/anaconda3/envs/ddp/lib/python3.8/site-packages/sklearn/svm/_classes.py:32: FutureWarning: The default value of `dual` will change from `True` to `'auto'` in 1.5. Set the value of `dual` explicitly to suppress the warning.\n",
      "  warnings.warn(\n"
     ]
    },
    {
     "name": "stdout",
     "output_type": "stream",
     "text": [
      "[CV] END svc__C=1, svc__max_iter=6000, svc__penalty=l2, svc__random_state=42, vec__max_df=0.99, vec__min_df=0.01, vec__ngram_range=(1, 1), vec__stop_words=None; total time=   0.3s\n"
     ]
    },
    {
     "name": "stderr",
     "output_type": "stream",
     "text": [
      "/Users/dhruvchopra/opt/anaconda3/envs/ddp/lib/python3.8/site-packages/sklearn/svm/_classes.py:32: FutureWarning: The default value of `dual` will change from `True` to `'auto'` in 1.5. Set the value of `dual` explicitly to suppress the warning.\n",
      "  warnings.warn(\n"
     ]
    },
    {
     "name": "stdout",
     "output_type": "stream",
     "text": [
      "[CV] END svc__C=1, svc__max_iter=6000, svc__penalty=l2, svc__random_state=42, vec__max_df=0.99, vec__min_df=0.01, vec__ngram_range=(1, 1), vec__stop_words=None; total time=   0.5s\n"
     ]
    },
    {
     "name": "stderr",
     "output_type": "stream",
     "text": [
      "/Users/dhruvchopra/opt/anaconda3/envs/ddp/lib/python3.8/site-packages/sklearn/svm/_classes.py:32: FutureWarning: The default value of `dual` will change from `True` to `'auto'` in 1.5. Set the value of `dual` explicitly to suppress the warning.\n",
      "  warnings.warn(\n"
     ]
    },
    {
     "name": "stdout",
     "output_type": "stream",
     "text": [
      "[CV] END svc__C=1, svc__max_iter=6000, svc__penalty=l2, svc__random_state=42, vec__max_df=0.99, vec__min_df=0.01, vec__ngram_range=(1, 2), vec__stop_words=None; total time=   0.7s\n"
     ]
    },
    {
     "name": "stderr",
     "output_type": "stream",
     "text": [
      "/Users/dhruvchopra/opt/anaconda3/envs/ddp/lib/python3.8/site-packages/sklearn/svm/_classes.py:32: FutureWarning: The default value of `dual` will change from `True` to `'auto'` in 1.5. Set the value of `dual` explicitly to suppress the warning.\n",
      "  warnings.warn(\n"
     ]
    },
    {
     "name": "stdout",
     "output_type": "stream",
     "text": [
      "[CV] END svc__C=1, svc__max_iter=6000, svc__penalty=l2, svc__random_state=42, vec__max_df=0.99, vec__min_df=0.01, vec__ngram_range=(1, 2), vec__stop_words=None; total time=   0.7s\n"
     ]
    },
    {
     "name": "stderr",
     "output_type": "stream",
     "text": [
      "/Users/dhruvchopra/opt/anaconda3/envs/ddp/lib/python3.8/site-packages/sklearn/svm/_classes.py:32: FutureWarning: The default value of `dual` will change from `True` to `'auto'` in 1.5. Set the value of `dual` explicitly to suppress the warning.\n",
      "  warnings.warn(\n"
     ]
    },
    {
     "name": "stdout",
     "output_type": "stream",
     "text": [
      "[CV] END svc__C=1, svc__max_iter=6000, svc__penalty=l2, svc__random_state=42, vec__max_df=0.99, vec__min_df=0.01, vec__ngram_range=(1, 2), vec__stop_words=None; total time=   0.8s\n"
     ]
    },
    {
     "name": "stderr",
     "output_type": "stream",
     "text": [
      "/Users/dhruvchopra/opt/anaconda3/envs/ddp/lib/python3.8/site-packages/sklearn/svm/_classes.py:32: FutureWarning: The default value of `dual` will change from `True` to `'auto'` in 1.5. Set the value of `dual` explicitly to suppress the warning.\n",
      "  warnings.warn(\n"
     ]
    },
    {
     "name": "stdout",
     "output_type": "stream",
     "text": [
      "[CV] END svc__C=1, svc__max_iter=6000, svc__penalty=l2, svc__random_state=42, vec__max_df=0.99, vec__min_df=0.01, vec__ngram_range=(1, 2), vec__stop_words=None; total time=   0.6s\n"
     ]
    },
    {
     "name": "stderr",
     "output_type": "stream",
     "text": [
      "/Users/dhruvchopra/opt/anaconda3/envs/ddp/lib/python3.8/site-packages/sklearn/svm/_classes.py:32: FutureWarning: The default value of `dual` will change from `True` to `'auto'` in 1.5. Set the value of `dual` explicitly to suppress the warning.\n",
      "  warnings.warn(\n"
     ]
    },
    {
     "name": "stdout",
     "output_type": "stream",
     "text": [
      "[CV] END svc__C=1, svc__max_iter=6000, svc__penalty=l2, svc__random_state=42, vec__max_df=0.99, vec__min_df=0.01, vec__ngram_range=(1, 2), vec__stop_words=None; total time=   0.8s\n"
     ]
    },
    {
     "name": "stderr",
     "output_type": "stream",
     "text": [
      "/Users/dhruvchopra/opt/anaconda3/envs/ddp/lib/python3.8/site-packages/sklearn/svm/_classes.py:32: FutureWarning: The default value of `dual` will change from `True` to `'auto'` in 1.5. Set the value of `dual` explicitly to suppress the warning.\n",
      "  warnings.warn(\n"
     ]
    },
    {
     "name": "stdout",
     "output_type": "stream",
     "text": [
      "[CV] END svc__C=1, svc__max_iter=6000, svc__penalty=l2, svc__random_state=42, vec__max_df=0.99, vec__min_df=0.001, vec__ngram_range=(1, 1), vec__stop_words=None; total time=   0.3s\n"
     ]
    },
    {
     "name": "stderr",
     "output_type": "stream",
     "text": [
      "/Users/dhruvchopra/opt/anaconda3/envs/ddp/lib/python3.8/site-packages/sklearn/svm/_classes.py:32: FutureWarning: The default value of `dual` will change from `True` to `'auto'` in 1.5. Set the value of `dual` explicitly to suppress the warning.\n",
      "  warnings.warn(\n"
     ]
    },
    {
     "name": "stdout",
     "output_type": "stream",
     "text": [
      "[CV] END svc__C=1, svc__max_iter=6000, svc__penalty=l2, svc__random_state=42, vec__max_df=0.99, vec__min_df=0.001, vec__ngram_range=(1, 1), vec__stop_words=None; total time=   0.3s\n"
     ]
    },
    {
     "name": "stderr",
     "output_type": "stream",
     "text": [
      "/Users/dhruvchopra/opt/anaconda3/envs/ddp/lib/python3.8/site-packages/sklearn/svm/_classes.py:32: FutureWarning: The default value of `dual` will change from `True` to `'auto'` in 1.5. Set the value of `dual` explicitly to suppress the warning.\n",
      "  warnings.warn(\n"
     ]
    },
    {
     "name": "stdout",
     "output_type": "stream",
     "text": [
      "[CV] END svc__C=1, svc__max_iter=6000, svc__penalty=l2, svc__random_state=42, vec__max_df=0.99, vec__min_df=0.001, vec__ngram_range=(1, 1), vec__stop_words=None; total time=   0.4s\n"
     ]
    },
    {
     "name": "stderr",
     "output_type": "stream",
     "text": [
      "/Users/dhruvchopra/opt/anaconda3/envs/ddp/lib/python3.8/site-packages/sklearn/svm/_classes.py:32: FutureWarning: The default value of `dual` will change from `True` to `'auto'` in 1.5. Set the value of `dual` explicitly to suppress the warning.\n",
      "  warnings.warn(\n"
     ]
    },
    {
     "name": "stdout",
     "output_type": "stream",
     "text": [
      "[CV] END svc__C=1, svc__max_iter=6000, svc__penalty=l2, svc__random_state=42, vec__max_df=0.99, vec__min_df=0.001, vec__ngram_range=(1, 1), vec__stop_words=None; total time=   0.4s\n"
     ]
    },
    {
     "name": "stderr",
     "output_type": "stream",
     "text": [
      "/Users/dhruvchopra/opt/anaconda3/envs/ddp/lib/python3.8/site-packages/sklearn/svm/_classes.py:32: FutureWarning: The default value of `dual` will change from `True` to `'auto'` in 1.5. Set the value of `dual` explicitly to suppress the warning.\n",
      "  warnings.warn(\n"
     ]
    },
    {
     "name": "stdout",
     "output_type": "stream",
     "text": [
      "[CV] END svc__C=1, svc__max_iter=6000, svc__penalty=l2, svc__random_state=42, vec__max_df=0.99, vec__min_df=0.001, vec__ngram_range=(1, 1), vec__stop_words=None; total time=   0.4s\n"
     ]
    },
    {
     "name": "stderr",
     "output_type": "stream",
     "text": [
      "/Users/dhruvchopra/opt/anaconda3/envs/ddp/lib/python3.8/site-packages/sklearn/svm/_classes.py:32: FutureWarning: The default value of `dual` will change from `True` to `'auto'` in 1.5. Set the value of `dual` explicitly to suppress the warning.\n",
      "  warnings.warn(\n"
     ]
    },
    {
     "name": "stdout",
     "output_type": "stream",
     "text": [
      "[CV] END svc__C=1, svc__max_iter=6000, svc__penalty=l2, svc__random_state=42, vec__max_df=0.99, vec__min_df=0.001, vec__ngram_range=(1, 2), vec__stop_words=None; total time=   0.9s\n"
     ]
    },
    {
     "name": "stderr",
     "output_type": "stream",
     "text": [
      "/Users/dhruvchopra/opt/anaconda3/envs/ddp/lib/python3.8/site-packages/sklearn/svm/_classes.py:32: FutureWarning: The default value of `dual` will change from `True` to `'auto'` in 1.5. Set the value of `dual` explicitly to suppress the warning.\n",
      "  warnings.warn(\n"
     ]
    },
    {
     "name": "stdout",
     "output_type": "stream",
     "text": [
      "[CV] END svc__C=1, svc__max_iter=6000, svc__penalty=l2, svc__random_state=42, vec__max_df=0.99, vec__min_df=0.001, vec__ngram_range=(1, 2), vec__stop_words=None; total time=   0.7s\n"
     ]
    },
    {
     "name": "stderr",
     "output_type": "stream",
     "text": [
      "/Users/dhruvchopra/opt/anaconda3/envs/ddp/lib/python3.8/site-packages/sklearn/svm/_classes.py:32: FutureWarning: The default value of `dual` will change from `True` to `'auto'` in 1.5. Set the value of `dual` explicitly to suppress the warning.\n",
      "  warnings.warn(\n"
     ]
    },
    {
     "name": "stdout",
     "output_type": "stream",
     "text": [
      "[CV] END svc__C=1, svc__max_iter=6000, svc__penalty=l2, svc__random_state=42, vec__max_df=0.99, vec__min_df=0.001, vec__ngram_range=(1, 2), vec__stop_words=None; total time=   0.8s\n"
     ]
    },
    {
     "name": "stderr",
     "output_type": "stream",
     "text": [
      "/Users/dhruvchopra/opt/anaconda3/envs/ddp/lib/python3.8/site-packages/sklearn/svm/_classes.py:32: FutureWarning: The default value of `dual` will change from `True` to `'auto'` in 1.5. Set the value of `dual` explicitly to suppress the warning.\n",
      "  warnings.warn(\n"
     ]
    },
    {
     "name": "stdout",
     "output_type": "stream",
     "text": [
      "[CV] END svc__C=1, svc__max_iter=6000, svc__penalty=l2, svc__random_state=42, vec__max_df=0.99, vec__min_df=0.001, vec__ngram_range=(1, 2), vec__stop_words=None; total time=   0.8s\n"
     ]
    },
    {
     "name": "stderr",
     "output_type": "stream",
     "text": [
      "/Users/dhruvchopra/opt/anaconda3/envs/ddp/lib/python3.8/site-packages/sklearn/svm/_classes.py:32: FutureWarning: The default value of `dual` will change from `True` to `'auto'` in 1.5. Set the value of `dual` explicitly to suppress the warning.\n",
      "  warnings.warn(\n"
     ]
    },
    {
     "name": "stdout",
     "output_type": "stream",
     "text": [
      "[CV] END svc__C=1, svc__max_iter=6000, svc__penalty=l2, svc__random_state=42, vec__max_df=0.99, vec__min_df=0.001, vec__ngram_range=(1, 2), vec__stop_words=None; total time=   0.8s\n"
     ]
    },
    {
     "name": "stderr",
     "output_type": "stream",
     "text": [
      "/Users/dhruvchopra/opt/anaconda3/envs/ddp/lib/python3.8/site-packages/sklearn/svm/_classes.py:32: FutureWarning: The default value of `dual` will change from `True` to `'auto'` in 1.5. Set the value of `dual` explicitly to suppress the warning.\n",
      "  warnings.warn(\n"
     ]
    },
    {
     "name": "stdout",
     "output_type": "stream",
     "text": [
      "[CV] END svc__C=1, svc__max_iter=6000, svc__penalty=l2, svc__random_state=42, vec__max_df=0.99, vec__min_df=0.0001, vec__ngram_range=(1, 1), vec__stop_words=None; total time=   0.5s\n"
     ]
    },
    {
     "name": "stderr",
     "output_type": "stream",
     "text": [
      "/Users/dhruvchopra/opt/anaconda3/envs/ddp/lib/python3.8/site-packages/sklearn/svm/_classes.py:32: FutureWarning: The default value of `dual` will change from `True` to `'auto'` in 1.5. Set the value of `dual` explicitly to suppress the warning.\n",
      "  warnings.warn(\n"
     ]
    },
    {
     "name": "stdout",
     "output_type": "stream",
     "text": [
      "[CV] END svc__C=1, svc__max_iter=6000, svc__penalty=l2, svc__random_state=42, vec__max_df=0.99, vec__min_df=0.0001, vec__ngram_range=(1, 1), vec__stop_words=None; total time=   0.5s\n"
     ]
    },
    {
     "name": "stderr",
     "output_type": "stream",
     "text": [
      "/Users/dhruvchopra/opt/anaconda3/envs/ddp/lib/python3.8/site-packages/sklearn/svm/_classes.py:32: FutureWarning: The default value of `dual` will change from `True` to `'auto'` in 1.5. Set the value of `dual` explicitly to suppress the warning.\n",
      "  warnings.warn(\n"
     ]
    },
    {
     "name": "stdout",
     "output_type": "stream",
     "text": [
      "[CV] END svc__C=1, svc__max_iter=6000, svc__penalty=l2, svc__random_state=42, vec__max_df=0.99, vec__min_df=0.0001, vec__ngram_range=(1, 1), vec__stop_words=None; total time=   0.4s\n"
     ]
    },
    {
     "name": "stderr",
     "output_type": "stream",
     "text": [
      "/Users/dhruvchopra/opt/anaconda3/envs/ddp/lib/python3.8/site-packages/sklearn/svm/_classes.py:32: FutureWarning: The default value of `dual` will change from `True` to `'auto'` in 1.5. Set the value of `dual` explicitly to suppress the warning.\n",
      "  warnings.warn(\n"
     ]
    },
    {
     "name": "stdout",
     "output_type": "stream",
     "text": [
      "[CV] END svc__C=1, svc__max_iter=6000, svc__penalty=l2, svc__random_state=42, vec__max_df=0.99, vec__min_df=0.0001, vec__ngram_range=(1, 1), vec__stop_words=None; total time=   0.6s\n"
     ]
    },
    {
     "name": "stderr",
     "output_type": "stream",
     "text": [
      "/Users/dhruvchopra/opt/anaconda3/envs/ddp/lib/python3.8/site-packages/sklearn/svm/_classes.py:32: FutureWarning: The default value of `dual` will change from `True` to `'auto'` in 1.5. Set the value of `dual` explicitly to suppress the warning.\n",
      "  warnings.warn(\n"
     ]
    },
    {
     "name": "stdout",
     "output_type": "stream",
     "text": [
      "[CV] END svc__C=1, svc__max_iter=6000, svc__penalty=l2, svc__random_state=42, vec__max_df=0.99, vec__min_df=0.0001, vec__ngram_range=(1, 1), vec__stop_words=None; total time=   0.4s\n"
     ]
    },
    {
     "name": "stderr",
     "output_type": "stream",
     "text": [
      "/Users/dhruvchopra/opt/anaconda3/envs/ddp/lib/python3.8/site-packages/sklearn/svm/_classes.py:32: FutureWarning: The default value of `dual` will change from `True` to `'auto'` in 1.5. Set the value of `dual` explicitly to suppress the warning.\n",
      "  warnings.warn(\n"
     ]
    },
    {
     "name": "stdout",
     "output_type": "stream",
     "text": [
      "[CV] END svc__C=1, svc__max_iter=6000, svc__penalty=l2, svc__random_state=42, vec__max_df=0.99, vec__min_df=0.0001, vec__ngram_range=(1, 2), vec__stop_words=None; total time=   1.1s\n"
     ]
    },
    {
     "name": "stderr",
     "output_type": "stream",
     "text": [
      "/Users/dhruvchopra/opt/anaconda3/envs/ddp/lib/python3.8/site-packages/sklearn/svm/_classes.py:32: FutureWarning: The default value of `dual` will change from `True` to `'auto'` in 1.5. Set the value of `dual` explicitly to suppress the warning.\n",
      "  warnings.warn(\n"
     ]
    },
    {
     "name": "stdout",
     "output_type": "stream",
     "text": [
      "[CV] END svc__C=1, svc__max_iter=6000, svc__penalty=l2, svc__random_state=42, vec__max_df=0.99, vec__min_df=0.0001, vec__ngram_range=(1, 2), vec__stop_words=None; total time=   1.5s\n"
     ]
    },
    {
     "name": "stderr",
     "output_type": "stream",
     "text": [
      "/Users/dhruvchopra/opt/anaconda3/envs/ddp/lib/python3.8/site-packages/sklearn/svm/_classes.py:32: FutureWarning: The default value of `dual` will change from `True` to `'auto'` in 1.5. Set the value of `dual` explicitly to suppress the warning.\n",
      "  warnings.warn(\n"
     ]
    },
    {
     "name": "stdout",
     "output_type": "stream",
     "text": [
      "[CV] END svc__C=1, svc__max_iter=6000, svc__penalty=l2, svc__random_state=42, vec__max_df=0.99, vec__min_df=0.0001, vec__ngram_range=(1, 2), vec__stop_words=None; total time=   1.6s\n"
     ]
    },
    {
     "name": "stderr",
     "output_type": "stream",
     "text": [
      "/Users/dhruvchopra/opt/anaconda3/envs/ddp/lib/python3.8/site-packages/sklearn/svm/_classes.py:32: FutureWarning: The default value of `dual` will change from `True` to `'auto'` in 1.5. Set the value of `dual` explicitly to suppress the warning.\n",
      "  warnings.warn(\n"
     ]
    },
    {
     "name": "stdout",
     "output_type": "stream",
     "text": [
      "[CV] END svc__C=1, svc__max_iter=6000, svc__penalty=l2, svc__random_state=42, vec__max_df=0.99, vec__min_df=0.0001, vec__ngram_range=(1, 2), vec__stop_words=None; total time=   0.9s\n"
     ]
    },
    {
     "name": "stderr",
     "output_type": "stream",
     "text": [
      "/Users/dhruvchopra/opt/anaconda3/envs/ddp/lib/python3.8/site-packages/sklearn/svm/_classes.py:32: FutureWarning: The default value of `dual` will change from `True` to `'auto'` in 1.5. Set the value of `dual` explicitly to suppress the warning.\n",
      "  warnings.warn(\n"
     ]
    },
    {
     "name": "stdout",
     "output_type": "stream",
     "text": [
      "[CV] END svc__C=1, svc__max_iter=6000, svc__penalty=l2, svc__random_state=42, vec__max_df=0.99, vec__min_df=0.0001, vec__ngram_range=(1, 2), vec__stop_words=None; total time=   0.9s\n",
      "[CV] END svc__C=1, svc__max_iter=6000, svc__penalty=l2, svc__random_state=42, vec__max_df=0.99, vec__min_df=0, vec__ngram_range=(1, 1), vec__stop_words=None; total time=   0.0s\n",
      "[CV] END svc__C=1, svc__max_iter=6000, svc__penalty=l2, svc__random_state=42, vec__max_df=0.99, vec__min_df=0, vec__ngram_range=(1, 1), vec__stop_words=None; total time=   0.0s\n",
      "[CV] END svc__C=1, svc__max_iter=6000, svc__penalty=l2, svc__random_state=42, vec__max_df=0.99, vec__min_df=0, vec__ngram_range=(1, 1), vec__stop_words=None; total time=   0.0s\n",
      "[CV] END svc__C=1, svc__max_iter=6000, svc__penalty=l2, svc__random_state=42, vec__max_df=0.99, vec__min_df=0, vec__ngram_range=(1, 1), vec__stop_words=None; total time=   0.0s\n",
      "[CV] END svc__C=1, svc__max_iter=6000, svc__penalty=l2, svc__random_state=42, vec__max_df=0.99, vec__min_df=0, vec__ngram_range=(1, 1), vec__stop_words=None; total time=   0.0s\n",
      "[CV] END svc__C=1, svc__max_iter=6000, svc__penalty=l2, svc__random_state=42, vec__max_df=0.99, vec__min_df=0, vec__ngram_range=(1, 2), vec__stop_words=None; total time=   0.0s\n",
      "[CV] END svc__C=1, svc__max_iter=6000, svc__penalty=l2, svc__random_state=42, vec__max_df=0.99, vec__min_df=0, vec__ngram_range=(1, 2), vec__stop_words=None; total time=   0.0s\n",
      "[CV] END svc__C=1, svc__max_iter=6000, svc__penalty=l2, svc__random_state=42, vec__max_df=0.99, vec__min_df=0, vec__ngram_range=(1, 2), vec__stop_words=None; total time=   0.0s\n",
      "[CV] END svc__C=1, svc__max_iter=6000, svc__penalty=l2, svc__random_state=42, vec__max_df=0.99, vec__min_df=0, vec__ngram_range=(1, 2), vec__stop_words=None; total time=   0.0s\n",
      "[CV] END svc__C=1, svc__max_iter=6000, svc__penalty=l2, svc__random_state=42, vec__max_df=0.99, vec__min_df=0, vec__ngram_range=(1, 2), vec__stop_words=None; total time=   0.0s\n"
     ]
    },
    {
     "name": "stderr",
     "output_type": "stream",
     "text": [
      "/Users/dhruvchopra/opt/anaconda3/envs/ddp/lib/python3.8/site-packages/sklearn/svm/_classes.py:32: FutureWarning: The default value of `dual` will change from `True` to `'auto'` in 1.5. Set the value of `dual` explicitly to suppress the warning.\n",
      "  warnings.warn(\n"
     ]
    },
    {
     "name": "stdout",
     "output_type": "stream",
     "text": [
      "[CV] END svc__C=5, svc__max_iter=6000, svc__penalty=l2, svc__random_state=42, vec__max_df=0.8, vec__min_df=0.01, vec__ngram_range=(1, 1), vec__stop_words=None; total time=   0.4s\n"
     ]
    },
    {
     "name": "stderr",
     "output_type": "stream",
     "text": [
      "/Users/dhruvchopra/opt/anaconda3/envs/ddp/lib/python3.8/site-packages/sklearn/svm/_classes.py:32: FutureWarning: The default value of `dual` will change from `True` to `'auto'` in 1.5. Set the value of `dual` explicitly to suppress the warning.\n",
      "  warnings.warn(\n"
     ]
    },
    {
     "name": "stdout",
     "output_type": "stream",
     "text": [
      "[CV] END svc__C=5, svc__max_iter=6000, svc__penalty=l2, svc__random_state=42, vec__max_df=0.8, vec__min_df=0.01, vec__ngram_range=(1, 1), vec__stop_words=None; total time=   0.7s\n"
     ]
    },
    {
     "name": "stderr",
     "output_type": "stream",
     "text": [
      "/Users/dhruvchopra/opt/anaconda3/envs/ddp/lib/python3.8/site-packages/sklearn/svm/_classes.py:32: FutureWarning: The default value of `dual` will change from `True` to `'auto'` in 1.5. Set the value of `dual` explicitly to suppress the warning.\n",
      "  warnings.warn(\n"
     ]
    },
    {
     "name": "stdout",
     "output_type": "stream",
     "text": [
      "[CV] END svc__C=5, svc__max_iter=6000, svc__penalty=l2, svc__random_state=42, vec__max_df=0.8, vec__min_df=0.01, vec__ngram_range=(1, 1), vec__stop_words=None; total time=   0.6s\n"
     ]
    },
    {
     "name": "stderr",
     "output_type": "stream",
     "text": [
      "/Users/dhruvchopra/opt/anaconda3/envs/ddp/lib/python3.8/site-packages/sklearn/svm/_classes.py:32: FutureWarning: The default value of `dual` will change from `True` to `'auto'` in 1.5. Set the value of `dual` explicitly to suppress the warning.\n",
      "  warnings.warn(\n"
     ]
    },
    {
     "name": "stdout",
     "output_type": "stream",
     "text": [
      "[CV] END svc__C=5, svc__max_iter=6000, svc__penalty=l2, svc__random_state=42, vec__max_df=0.8, vec__min_df=0.01, vec__ngram_range=(1, 1), vec__stop_words=None; total time=   0.7s\n"
     ]
    },
    {
     "name": "stderr",
     "output_type": "stream",
     "text": [
      "/Users/dhruvchopra/opt/anaconda3/envs/ddp/lib/python3.8/site-packages/sklearn/svm/_classes.py:32: FutureWarning: The default value of `dual` will change from `True` to `'auto'` in 1.5. Set the value of `dual` explicitly to suppress the warning.\n",
      "  warnings.warn(\n"
     ]
    },
    {
     "name": "stdout",
     "output_type": "stream",
     "text": [
      "[CV] END svc__C=5, svc__max_iter=6000, svc__penalty=l2, svc__random_state=42, vec__max_df=0.8, vec__min_df=0.01, vec__ngram_range=(1, 1), vec__stop_words=None; total time=   0.4s\n"
     ]
    },
    {
     "name": "stderr",
     "output_type": "stream",
     "text": [
      "/Users/dhruvchopra/opt/anaconda3/envs/ddp/lib/python3.8/site-packages/sklearn/svm/_classes.py:32: FutureWarning: The default value of `dual` will change from `True` to `'auto'` in 1.5. Set the value of `dual` explicitly to suppress the warning.\n",
      "  warnings.warn(\n"
     ]
    },
    {
     "name": "stdout",
     "output_type": "stream",
     "text": [
      "[CV] END svc__C=5, svc__max_iter=6000, svc__penalty=l2, svc__random_state=42, vec__max_df=0.8, vec__min_df=0.01, vec__ngram_range=(1, 2), vec__stop_words=None; total time=   1.0s\n"
     ]
    },
    {
     "name": "stderr",
     "output_type": "stream",
     "text": [
      "/Users/dhruvchopra/opt/anaconda3/envs/ddp/lib/python3.8/site-packages/sklearn/svm/_classes.py:32: FutureWarning: The default value of `dual` will change from `True` to `'auto'` in 1.5. Set the value of `dual` explicitly to suppress the warning.\n",
      "  warnings.warn(\n"
     ]
    },
    {
     "name": "stdout",
     "output_type": "stream",
     "text": [
      "[CV] END svc__C=5, svc__max_iter=6000, svc__penalty=l2, svc__random_state=42, vec__max_df=0.8, vec__min_df=0.01, vec__ngram_range=(1, 2), vec__stop_words=None; total time=   0.7s\n"
     ]
    },
    {
     "name": "stderr",
     "output_type": "stream",
     "text": [
      "/Users/dhruvchopra/opt/anaconda3/envs/ddp/lib/python3.8/site-packages/sklearn/svm/_classes.py:32: FutureWarning: The default value of `dual` will change from `True` to `'auto'` in 1.5. Set the value of `dual` explicitly to suppress the warning.\n",
      "  warnings.warn(\n"
     ]
    },
    {
     "name": "stdout",
     "output_type": "stream",
     "text": [
      "[CV] END svc__C=5, svc__max_iter=6000, svc__penalty=l2, svc__random_state=42, vec__max_df=0.8, vec__min_df=0.01, vec__ngram_range=(1, 2), vec__stop_words=None; total time=   0.9s\n"
     ]
    },
    {
     "name": "stderr",
     "output_type": "stream",
     "text": [
      "/Users/dhruvchopra/opt/anaconda3/envs/ddp/lib/python3.8/site-packages/sklearn/svm/_classes.py:32: FutureWarning: The default value of `dual` will change from `True` to `'auto'` in 1.5. Set the value of `dual` explicitly to suppress the warning.\n",
      "  warnings.warn(\n"
     ]
    },
    {
     "name": "stdout",
     "output_type": "stream",
     "text": [
      "[CV] END svc__C=5, svc__max_iter=6000, svc__penalty=l2, svc__random_state=42, vec__max_df=0.8, vec__min_df=0.01, vec__ngram_range=(1, 2), vec__stop_words=None; total time=   1.1s\n"
     ]
    },
    {
     "name": "stderr",
     "output_type": "stream",
     "text": [
      "/Users/dhruvchopra/opt/anaconda3/envs/ddp/lib/python3.8/site-packages/sklearn/svm/_classes.py:32: FutureWarning: The default value of `dual` will change from `True` to `'auto'` in 1.5. Set the value of `dual` explicitly to suppress the warning.\n",
      "  warnings.warn(\n"
     ]
    },
    {
     "name": "stdout",
     "output_type": "stream",
     "text": [
      "[CV] END svc__C=5, svc__max_iter=6000, svc__penalty=l2, svc__random_state=42, vec__max_df=0.8, vec__min_df=0.01, vec__ngram_range=(1, 2), vec__stop_words=None; total time=   1.0s\n"
     ]
    },
    {
     "name": "stderr",
     "output_type": "stream",
     "text": [
      "/Users/dhruvchopra/opt/anaconda3/envs/ddp/lib/python3.8/site-packages/sklearn/svm/_classes.py:32: FutureWarning: The default value of `dual` will change from `True` to `'auto'` in 1.5. Set the value of `dual` explicitly to suppress the warning.\n",
      "  warnings.warn(\n"
     ]
    },
    {
     "name": "stdout",
     "output_type": "stream",
     "text": [
      "[CV] END svc__C=5, svc__max_iter=6000, svc__penalty=l2, svc__random_state=42, vec__max_df=0.8, vec__min_df=0.001, vec__ngram_range=(1, 1), vec__stop_words=None; total time=   0.3s\n"
     ]
    },
    {
     "name": "stderr",
     "output_type": "stream",
     "text": [
      "/Users/dhruvchopra/opt/anaconda3/envs/ddp/lib/python3.8/site-packages/sklearn/svm/_classes.py:32: FutureWarning: The default value of `dual` will change from `True` to `'auto'` in 1.5. Set the value of `dual` explicitly to suppress the warning.\n",
      "  warnings.warn(\n"
     ]
    },
    {
     "name": "stdout",
     "output_type": "stream",
     "text": [
      "[CV] END svc__C=5, svc__max_iter=6000, svc__penalty=l2, svc__random_state=42, vec__max_df=0.8, vec__min_df=0.001, vec__ngram_range=(1, 1), vec__stop_words=None; total time=   0.4s\n"
     ]
    },
    {
     "name": "stderr",
     "output_type": "stream",
     "text": [
      "/Users/dhruvchopra/opt/anaconda3/envs/ddp/lib/python3.8/site-packages/sklearn/svm/_classes.py:32: FutureWarning: The default value of `dual` will change from `True` to `'auto'` in 1.5. Set the value of `dual` explicitly to suppress the warning.\n",
      "  warnings.warn(\n"
     ]
    },
    {
     "name": "stdout",
     "output_type": "stream",
     "text": [
      "[CV] END svc__C=5, svc__max_iter=6000, svc__penalty=l2, svc__random_state=42, vec__max_df=0.8, vec__min_df=0.001, vec__ngram_range=(1, 1), vec__stop_words=None; total time=   0.4s\n"
     ]
    },
    {
     "name": "stderr",
     "output_type": "stream",
     "text": [
      "/Users/dhruvchopra/opt/anaconda3/envs/ddp/lib/python3.8/site-packages/sklearn/svm/_classes.py:32: FutureWarning: The default value of `dual` will change from `True` to `'auto'` in 1.5. Set the value of `dual` explicitly to suppress the warning.\n",
      "  warnings.warn(\n"
     ]
    },
    {
     "name": "stdout",
     "output_type": "stream",
     "text": [
      "[CV] END svc__C=5, svc__max_iter=6000, svc__penalty=l2, svc__random_state=42, vec__max_df=0.8, vec__min_df=0.001, vec__ngram_range=(1, 1), vec__stop_words=None; total time=   0.6s\n"
     ]
    },
    {
     "name": "stderr",
     "output_type": "stream",
     "text": [
      "/Users/dhruvchopra/opt/anaconda3/envs/ddp/lib/python3.8/site-packages/sklearn/svm/_classes.py:32: FutureWarning: The default value of `dual` will change from `True` to `'auto'` in 1.5. Set the value of `dual` explicitly to suppress the warning.\n",
      "  warnings.warn(\n"
     ]
    },
    {
     "name": "stdout",
     "output_type": "stream",
     "text": [
      "[CV] END svc__C=5, svc__max_iter=6000, svc__penalty=l2, svc__random_state=42, vec__max_df=0.8, vec__min_df=0.001, vec__ngram_range=(1, 1), vec__stop_words=None; total time=   0.4s\n"
     ]
    },
    {
     "name": "stderr",
     "output_type": "stream",
     "text": [
      "/Users/dhruvchopra/opt/anaconda3/envs/ddp/lib/python3.8/site-packages/sklearn/svm/_classes.py:32: FutureWarning: The default value of `dual` will change from `True` to `'auto'` in 1.5. Set the value of `dual` explicitly to suppress the warning.\n",
      "  warnings.warn(\n"
     ]
    },
    {
     "name": "stdout",
     "output_type": "stream",
     "text": [
      "[CV] END svc__C=5, svc__max_iter=6000, svc__penalty=l2, svc__random_state=42, vec__max_df=0.8, vec__min_df=0.001, vec__ngram_range=(1, 2), vec__stop_words=None; total time=   0.6s\n"
     ]
    },
    {
     "name": "stderr",
     "output_type": "stream",
     "text": [
      "/Users/dhruvchopra/opt/anaconda3/envs/ddp/lib/python3.8/site-packages/sklearn/svm/_classes.py:32: FutureWarning: The default value of `dual` will change from `True` to `'auto'` in 1.5. Set the value of `dual` explicitly to suppress the warning.\n",
      "  warnings.warn(\n"
     ]
    },
    {
     "name": "stdout",
     "output_type": "stream",
     "text": [
      "[CV] END svc__C=5, svc__max_iter=6000, svc__penalty=l2, svc__random_state=42, vec__max_df=0.8, vec__min_df=0.001, vec__ngram_range=(1, 2), vec__stop_words=None; total time=   0.6s\n"
     ]
    },
    {
     "name": "stderr",
     "output_type": "stream",
     "text": [
      "/Users/dhruvchopra/opt/anaconda3/envs/ddp/lib/python3.8/site-packages/sklearn/svm/_classes.py:32: FutureWarning: The default value of `dual` will change from `True` to `'auto'` in 1.5. Set the value of `dual` explicitly to suppress the warning.\n",
      "  warnings.warn(\n"
     ]
    },
    {
     "name": "stdout",
     "output_type": "stream",
     "text": [
      "[CV] END svc__C=5, svc__max_iter=6000, svc__penalty=l2, svc__random_state=42, vec__max_df=0.8, vec__min_df=0.001, vec__ngram_range=(1, 2), vec__stop_words=None; total time=   0.6s\n"
     ]
    },
    {
     "name": "stderr",
     "output_type": "stream",
     "text": [
      "/Users/dhruvchopra/opt/anaconda3/envs/ddp/lib/python3.8/site-packages/sklearn/svm/_classes.py:32: FutureWarning: The default value of `dual` will change from `True` to `'auto'` in 1.5. Set the value of `dual` explicitly to suppress the warning.\n",
      "  warnings.warn(\n"
     ]
    },
    {
     "name": "stdout",
     "output_type": "stream",
     "text": [
      "[CV] END svc__C=5, svc__max_iter=6000, svc__penalty=l2, svc__random_state=42, vec__max_df=0.8, vec__min_df=0.001, vec__ngram_range=(1, 2), vec__stop_words=None; total time=   0.6s\n"
     ]
    },
    {
     "name": "stderr",
     "output_type": "stream",
     "text": [
      "/Users/dhruvchopra/opt/anaconda3/envs/ddp/lib/python3.8/site-packages/sklearn/svm/_classes.py:32: FutureWarning: The default value of `dual` will change from `True` to `'auto'` in 1.5. Set the value of `dual` explicitly to suppress the warning.\n",
      "  warnings.warn(\n"
     ]
    },
    {
     "name": "stdout",
     "output_type": "stream",
     "text": [
      "[CV] END svc__C=5, svc__max_iter=6000, svc__penalty=l2, svc__random_state=42, vec__max_df=0.8, vec__min_df=0.001, vec__ngram_range=(1, 2), vec__stop_words=None; total time=   0.6s\n"
     ]
    },
    {
     "name": "stderr",
     "output_type": "stream",
     "text": [
      "/Users/dhruvchopra/opt/anaconda3/envs/ddp/lib/python3.8/site-packages/sklearn/svm/_classes.py:32: FutureWarning: The default value of `dual` will change from `True` to `'auto'` in 1.5. Set the value of `dual` explicitly to suppress the warning.\n",
      "  warnings.warn(\n"
     ]
    },
    {
     "name": "stdout",
     "output_type": "stream",
     "text": [
      "[CV] END svc__C=5, svc__max_iter=6000, svc__penalty=l2, svc__random_state=42, vec__max_df=0.8, vec__min_df=0.0001, vec__ngram_range=(1, 1), vec__stop_words=None; total time=   0.4s\n"
     ]
    },
    {
     "name": "stderr",
     "output_type": "stream",
     "text": [
      "/Users/dhruvchopra/opt/anaconda3/envs/ddp/lib/python3.8/site-packages/sklearn/svm/_classes.py:32: FutureWarning: The default value of `dual` will change from `True` to `'auto'` in 1.5. Set the value of `dual` explicitly to suppress the warning.\n",
      "  warnings.warn(\n"
     ]
    },
    {
     "name": "stdout",
     "output_type": "stream",
     "text": [
      "[CV] END svc__C=5, svc__max_iter=6000, svc__penalty=l2, svc__random_state=42, vec__max_df=0.8, vec__min_df=0.0001, vec__ngram_range=(1, 1), vec__stop_words=None; total time=   0.3s\n"
     ]
    },
    {
     "name": "stderr",
     "output_type": "stream",
     "text": [
      "/Users/dhruvchopra/opt/anaconda3/envs/ddp/lib/python3.8/site-packages/sklearn/svm/_classes.py:32: FutureWarning: The default value of `dual` will change from `True` to `'auto'` in 1.5. Set the value of `dual` explicitly to suppress the warning.\n",
      "  warnings.warn(\n"
     ]
    },
    {
     "name": "stdout",
     "output_type": "stream",
     "text": [
      "[CV] END svc__C=5, svc__max_iter=6000, svc__penalty=l2, svc__random_state=42, vec__max_df=0.8, vec__min_df=0.0001, vec__ngram_range=(1, 1), vec__stop_words=None; total time=   0.3s\n"
     ]
    },
    {
     "name": "stderr",
     "output_type": "stream",
     "text": [
      "/Users/dhruvchopra/opt/anaconda3/envs/ddp/lib/python3.8/site-packages/sklearn/svm/_classes.py:32: FutureWarning: The default value of `dual` will change from `True` to `'auto'` in 1.5. Set the value of `dual` explicitly to suppress the warning.\n",
      "  warnings.warn(\n"
     ]
    },
    {
     "name": "stdout",
     "output_type": "stream",
     "text": [
      "[CV] END svc__C=5, svc__max_iter=6000, svc__penalty=l2, svc__random_state=42, vec__max_df=0.8, vec__min_df=0.0001, vec__ngram_range=(1, 1), vec__stop_words=None; total time=   0.6s\n"
     ]
    },
    {
     "name": "stderr",
     "output_type": "stream",
     "text": [
      "/Users/dhruvchopra/opt/anaconda3/envs/ddp/lib/python3.8/site-packages/sklearn/svm/_classes.py:32: FutureWarning: The default value of `dual` will change from `True` to `'auto'` in 1.5. Set the value of `dual` explicitly to suppress the warning.\n",
      "  warnings.warn(\n"
     ]
    },
    {
     "name": "stdout",
     "output_type": "stream",
     "text": [
      "[CV] END svc__C=5, svc__max_iter=6000, svc__penalty=l2, svc__random_state=42, vec__max_df=0.8, vec__min_df=0.0001, vec__ngram_range=(1, 1), vec__stop_words=None; total time=   0.7s\n"
     ]
    },
    {
     "name": "stderr",
     "output_type": "stream",
     "text": [
      "/Users/dhruvchopra/opt/anaconda3/envs/ddp/lib/python3.8/site-packages/sklearn/svm/_classes.py:32: FutureWarning: The default value of `dual` will change from `True` to `'auto'` in 1.5. Set the value of `dual` explicitly to suppress the warning.\n",
      "  warnings.warn(\n"
     ]
    },
    {
     "name": "stdout",
     "output_type": "stream",
     "text": [
      "[CV] END svc__C=5, svc__max_iter=6000, svc__penalty=l2, svc__random_state=42, vec__max_df=0.8, vec__min_df=0.0001, vec__ngram_range=(1, 2), vec__stop_words=None; total time=   1.1s\n"
     ]
    },
    {
     "name": "stderr",
     "output_type": "stream",
     "text": [
      "/Users/dhruvchopra/opt/anaconda3/envs/ddp/lib/python3.8/site-packages/sklearn/svm/_classes.py:32: FutureWarning: The default value of `dual` will change from `True` to `'auto'` in 1.5. Set the value of `dual` explicitly to suppress the warning.\n",
      "  warnings.warn(\n"
     ]
    },
    {
     "name": "stdout",
     "output_type": "stream",
     "text": [
      "[CV] END svc__C=5, svc__max_iter=6000, svc__penalty=l2, svc__random_state=42, vec__max_df=0.8, vec__min_df=0.0001, vec__ngram_range=(1, 2), vec__stop_words=None; total time=   1.0s\n"
     ]
    },
    {
     "name": "stderr",
     "output_type": "stream",
     "text": [
      "/Users/dhruvchopra/opt/anaconda3/envs/ddp/lib/python3.8/site-packages/sklearn/svm/_classes.py:32: FutureWarning: The default value of `dual` will change from `True` to `'auto'` in 1.5. Set the value of `dual` explicitly to suppress the warning.\n",
      "  warnings.warn(\n"
     ]
    },
    {
     "name": "stdout",
     "output_type": "stream",
     "text": [
      "[CV] END svc__C=5, svc__max_iter=6000, svc__penalty=l2, svc__random_state=42, vec__max_df=0.8, vec__min_df=0.0001, vec__ngram_range=(1, 2), vec__stop_words=None; total time=   1.1s\n"
     ]
    },
    {
     "name": "stderr",
     "output_type": "stream",
     "text": [
      "/Users/dhruvchopra/opt/anaconda3/envs/ddp/lib/python3.8/site-packages/sklearn/svm/_classes.py:32: FutureWarning: The default value of `dual` will change from `True` to `'auto'` in 1.5. Set the value of `dual` explicitly to suppress the warning.\n",
      "  warnings.warn(\n"
     ]
    },
    {
     "name": "stdout",
     "output_type": "stream",
     "text": [
      "[CV] END svc__C=5, svc__max_iter=6000, svc__penalty=l2, svc__random_state=42, vec__max_df=0.8, vec__min_df=0.0001, vec__ngram_range=(1, 2), vec__stop_words=None; total time=   1.2s\n"
     ]
    },
    {
     "name": "stderr",
     "output_type": "stream",
     "text": [
      "/Users/dhruvchopra/opt/anaconda3/envs/ddp/lib/python3.8/site-packages/sklearn/svm/_classes.py:32: FutureWarning: The default value of `dual` will change from `True` to `'auto'` in 1.5. Set the value of `dual` explicitly to suppress the warning.\n",
      "  warnings.warn(\n"
     ]
    },
    {
     "name": "stdout",
     "output_type": "stream",
     "text": [
      "[CV] END svc__C=5, svc__max_iter=6000, svc__penalty=l2, svc__random_state=42, vec__max_df=0.8, vec__min_df=0.0001, vec__ngram_range=(1, 2), vec__stop_words=None; total time=   1.2s\n",
      "[CV] END svc__C=5, svc__max_iter=6000, svc__penalty=l2, svc__random_state=42, vec__max_df=0.8, vec__min_df=0, vec__ngram_range=(1, 1), vec__stop_words=None; total time=   0.0s\n",
      "[CV] END svc__C=5, svc__max_iter=6000, svc__penalty=l2, svc__random_state=42, vec__max_df=0.8, vec__min_df=0, vec__ngram_range=(1, 1), vec__stop_words=None; total time=   0.0s\n",
      "[CV] END svc__C=5, svc__max_iter=6000, svc__penalty=l2, svc__random_state=42, vec__max_df=0.8, vec__min_df=0, vec__ngram_range=(1, 1), vec__stop_words=None; total time=   0.0s\n",
      "[CV] END svc__C=5, svc__max_iter=6000, svc__penalty=l2, svc__random_state=42, vec__max_df=0.8, vec__min_df=0, vec__ngram_range=(1, 1), vec__stop_words=None; total time=   0.0s\n",
      "[CV] END svc__C=5, svc__max_iter=6000, svc__penalty=l2, svc__random_state=42, vec__max_df=0.8, vec__min_df=0, vec__ngram_range=(1, 1), vec__stop_words=None; total time=   0.0s\n",
      "[CV] END svc__C=5, svc__max_iter=6000, svc__penalty=l2, svc__random_state=42, vec__max_df=0.8, vec__min_df=0, vec__ngram_range=(1, 2), vec__stop_words=None; total time=   0.0s\n",
      "[CV] END svc__C=5, svc__max_iter=6000, svc__penalty=l2, svc__random_state=42, vec__max_df=0.8, vec__min_df=0, vec__ngram_range=(1, 2), vec__stop_words=None; total time=   0.0s\n",
      "[CV] END svc__C=5, svc__max_iter=6000, svc__penalty=l2, svc__random_state=42, vec__max_df=0.8, vec__min_df=0, vec__ngram_range=(1, 2), vec__stop_words=None; total time=   0.0s\n",
      "[CV] END svc__C=5, svc__max_iter=6000, svc__penalty=l2, svc__random_state=42, vec__max_df=0.8, vec__min_df=0, vec__ngram_range=(1, 2), vec__stop_words=None; total time=   0.0s\n",
      "[CV] END svc__C=5, svc__max_iter=6000, svc__penalty=l2, svc__random_state=42, vec__max_df=0.8, vec__min_df=0, vec__ngram_range=(1, 2), vec__stop_words=None; total time=   0.0s\n"
     ]
    },
    {
     "name": "stderr",
     "output_type": "stream",
     "text": [
      "/Users/dhruvchopra/opt/anaconda3/envs/ddp/lib/python3.8/site-packages/sklearn/svm/_classes.py:32: FutureWarning: The default value of `dual` will change from `True` to `'auto'` in 1.5. Set the value of `dual` explicitly to suppress the warning.\n",
      "  warnings.warn(\n"
     ]
    },
    {
     "name": "stdout",
     "output_type": "stream",
     "text": [
      "[CV] END svc__C=5, svc__max_iter=6000, svc__penalty=l2, svc__random_state=42, vec__max_df=0.85, vec__min_df=0.01, vec__ngram_range=(1, 1), vec__stop_words=None; total time=   0.5s\n"
     ]
    },
    {
     "name": "stderr",
     "output_type": "stream",
     "text": [
      "/Users/dhruvchopra/opt/anaconda3/envs/ddp/lib/python3.8/site-packages/sklearn/svm/_classes.py:32: FutureWarning: The default value of `dual` will change from `True` to `'auto'` in 1.5. Set the value of `dual` explicitly to suppress the warning.\n",
      "  warnings.warn(\n"
     ]
    },
    {
     "name": "stdout",
     "output_type": "stream",
     "text": [
      "[CV] END svc__C=5, svc__max_iter=6000, svc__penalty=l2, svc__random_state=42, vec__max_df=0.85, vec__min_df=0.01, vec__ngram_range=(1, 1), vec__stop_words=None; total time=   0.6s\n"
     ]
    },
    {
     "name": "stderr",
     "output_type": "stream",
     "text": [
      "/Users/dhruvchopra/opt/anaconda3/envs/ddp/lib/python3.8/site-packages/sklearn/svm/_classes.py:32: FutureWarning: The default value of `dual` will change from `True` to `'auto'` in 1.5. Set the value of `dual` explicitly to suppress the warning.\n",
      "  warnings.warn(\n"
     ]
    },
    {
     "name": "stdout",
     "output_type": "stream",
     "text": [
      "[CV] END svc__C=5, svc__max_iter=6000, svc__penalty=l2, svc__random_state=42, vec__max_df=0.85, vec__min_df=0.01, vec__ngram_range=(1, 1), vec__stop_words=None; total time=   0.5s\n"
     ]
    },
    {
     "name": "stderr",
     "output_type": "stream",
     "text": [
      "/Users/dhruvchopra/opt/anaconda3/envs/ddp/lib/python3.8/site-packages/sklearn/svm/_classes.py:32: FutureWarning: The default value of `dual` will change from `True` to `'auto'` in 1.5. Set the value of `dual` explicitly to suppress the warning.\n",
      "  warnings.warn(\n"
     ]
    },
    {
     "name": "stdout",
     "output_type": "stream",
     "text": [
      "[CV] END svc__C=5, svc__max_iter=6000, svc__penalty=l2, svc__random_state=42, vec__max_df=0.85, vec__min_df=0.01, vec__ngram_range=(1, 1), vec__stop_words=None; total time=   0.5s\n"
     ]
    },
    {
     "name": "stderr",
     "output_type": "stream",
     "text": [
      "/Users/dhruvchopra/opt/anaconda3/envs/ddp/lib/python3.8/site-packages/sklearn/svm/_classes.py:32: FutureWarning: The default value of `dual` will change from `True` to `'auto'` in 1.5. Set the value of `dual` explicitly to suppress the warning.\n",
      "  warnings.warn(\n"
     ]
    },
    {
     "name": "stdout",
     "output_type": "stream",
     "text": [
      "[CV] END svc__C=5, svc__max_iter=6000, svc__penalty=l2, svc__random_state=42, vec__max_df=0.85, vec__min_df=0.01, vec__ngram_range=(1, 1), vec__stop_words=None; total time=   0.7s\n"
     ]
    },
    {
     "name": "stderr",
     "output_type": "stream",
     "text": [
      "/Users/dhruvchopra/opt/anaconda3/envs/ddp/lib/python3.8/site-packages/sklearn/svm/_classes.py:32: FutureWarning: The default value of `dual` will change from `True` to `'auto'` in 1.5. Set the value of `dual` explicitly to suppress the warning.\n",
      "  warnings.warn(\n"
     ]
    },
    {
     "name": "stdout",
     "output_type": "stream",
     "text": [
      "[CV] END svc__C=5, svc__max_iter=6000, svc__penalty=l2, svc__random_state=42, vec__max_df=0.85, vec__min_df=0.01, vec__ngram_range=(1, 2), vec__stop_words=None; total time=   0.7s\n"
     ]
    },
    {
     "name": "stderr",
     "output_type": "stream",
     "text": [
      "/Users/dhruvchopra/opt/anaconda3/envs/ddp/lib/python3.8/site-packages/sklearn/svm/_classes.py:32: FutureWarning: The default value of `dual` will change from `True` to `'auto'` in 1.5. Set the value of `dual` explicitly to suppress the warning.\n",
      "  warnings.warn(\n"
     ]
    },
    {
     "name": "stdout",
     "output_type": "stream",
     "text": [
      "[CV] END svc__C=5, svc__max_iter=6000, svc__penalty=l2, svc__random_state=42, vec__max_df=0.85, vec__min_df=0.01, vec__ngram_range=(1, 2), vec__stop_words=None; total time=   0.8s\n"
     ]
    },
    {
     "name": "stderr",
     "output_type": "stream",
     "text": [
      "/Users/dhruvchopra/opt/anaconda3/envs/ddp/lib/python3.8/site-packages/sklearn/svm/_classes.py:32: FutureWarning: The default value of `dual` will change from `True` to `'auto'` in 1.5. Set the value of `dual` explicitly to suppress the warning.\n",
      "  warnings.warn(\n"
     ]
    },
    {
     "name": "stdout",
     "output_type": "stream",
     "text": [
      "[CV] END svc__C=5, svc__max_iter=6000, svc__penalty=l2, svc__random_state=42, vec__max_df=0.85, vec__min_df=0.01, vec__ngram_range=(1, 2), vec__stop_words=None; total time=   0.7s\n"
     ]
    },
    {
     "name": "stderr",
     "output_type": "stream",
     "text": [
      "/Users/dhruvchopra/opt/anaconda3/envs/ddp/lib/python3.8/site-packages/sklearn/svm/_classes.py:32: FutureWarning: The default value of `dual` will change from `True` to `'auto'` in 1.5. Set the value of `dual` explicitly to suppress the warning.\n",
      "  warnings.warn(\n"
     ]
    },
    {
     "name": "stdout",
     "output_type": "stream",
     "text": [
      "[CV] END svc__C=5, svc__max_iter=6000, svc__penalty=l2, svc__random_state=42, vec__max_df=0.85, vec__min_df=0.01, vec__ngram_range=(1, 2), vec__stop_words=None; total time=   1.0s\n"
     ]
    },
    {
     "name": "stderr",
     "output_type": "stream",
     "text": [
      "/Users/dhruvchopra/opt/anaconda3/envs/ddp/lib/python3.8/site-packages/sklearn/svm/_classes.py:32: FutureWarning: The default value of `dual` will change from `True` to `'auto'` in 1.5. Set the value of `dual` explicitly to suppress the warning.\n",
      "  warnings.warn(\n"
     ]
    },
    {
     "name": "stdout",
     "output_type": "stream",
     "text": [
      "[CV] END svc__C=5, svc__max_iter=6000, svc__penalty=l2, svc__random_state=42, vec__max_df=0.85, vec__min_df=0.01, vec__ngram_range=(1, 2), vec__stop_words=None; total time=   1.0s\n"
     ]
    },
    {
     "name": "stderr",
     "output_type": "stream",
     "text": [
      "/Users/dhruvchopra/opt/anaconda3/envs/ddp/lib/python3.8/site-packages/sklearn/svm/_classes.py:32: FutureWarning: The default value of `dual` will change from `True` to `'auto'` in 1.5. Set the value of `dual` explicitly to suppress the warning.\n",
      "  warnings.warn(\n"
     ]
    },
    {
     "name": "stdout",
     "output_type": "stream",
     "text": [
      "[CV] END svc__C=5, svc__max_iter=6000, svc__penalty=l2, svc__random_state=42, vec__max_df=0.85, vec__min_df=0.001, vec__ngram_range=(1, 1), vec__stop_words=None; total time=   0.5s\n"
     ]
    },
    {
     "name": "stderr",
     "output_type": "stream",
     "text": [
      "/Users/dhruvchopra/opt/anaconda3/envs/ddp/lib/python3.8/site-packages/sklearn/svm/_classes.py:32: FutureWarning: The default value of `dual` will change from `True` to `'auto'` in 1.5. Set the value of `dual` explicitly to suppress the warning.\n",
      "  warnings.warn(\n"
     ]
    },
    {
     "name": "stdout",
     "output_type": "stream",
     "text": [
      "[CV] END svc__C=5, svc__max_iter=6000, svc__penalty=l2, svc__random_state=42, vec__max_df=0.85, vec__min_df=0.001, vec__ngram_range=(1, 1), vec__stop_words=None; total time=   0.5s\n"
     ]
    },
    {
     "name": "stderr",
     "output_type": "stream",
     "text": [
      "/Users/dhruvchopra/opt/anaconda3/envs/ddp/lib/python3.8/site-packages/sklearn/svm/_classes.py:32: FutureWarning: The default value of `dual` will change from `True` to `'auto'` in 1.5. Set the value of `dual` explicitly to suppress the warning.\n",
      "  warnings.warn(\n"
     ]
    },
    {
     "name": "stdout",
     "output_type": "stream",
     "text": [
      "[CV] END svc__C=5, svc__max_iter=6000, svc__penalty=l2, svc__random_state=42, vec__max_df=0.85, vec__min_df=0.001, vec__ngram_range=(1, 1), vec__stop_words=None; total time=   0.6s\n"
     ]
    },
    {
     "name": "stderr",
     "output_type": "stream",
     "text": [
      "/Users/dhruvchopra/opt/anaconda3/envs/ddp/lib/python3.8/site-packages/sklearn/svm/_classes.py:32: FutureWarning: The default value of `dual` will change from `True` to `'auto'` in 1.5. Set the value of `dual` explicitly to suppress the warning.\n",
      "  warnings.warn(\n"
     ]
    },
    {
     "name": "stdout",
     "output_type": "stream",
     "text": [
      "[CV] END svc__C=5, svc__max_iter=6000, svc__penalty=l2, svc__random_state=42, vec__max_df=0.85, vec__min_df=0.001, vec__ngram_range=(1, 1), vec__stop_words=None; total time=   0.3s\n"
     ]
    },
    {
     "name": "stderr",
     "output_type": "stream",
     "text": [
      "/Users/dhruvchopra/opt/anaconda3/envs/ddp/lib/python3.8/site-packages/sklearn/svm/_classes.py:32: FutureWarning: The default value of `dual` will change from `True` to `'auto'` in 1.5. Set the value of `dual` explicitly to suppress the warning.\n",
      "  warnings.warn(\n"
     ]
    },
    {
     "name": "stdout",
     "output_type": "stream",
     "text": [
      "[CV] END svc__C=5, svc__max_iter=6000, svc__penalty=l2, svc__random_state=42, vec__max_df=0.85, vec__min_df=0.001, vec__ngram_range=(1, 1), vec__stop_words=None; total time=   0.4s\n"
     ]
    },
    {
     "name": "stderr",
     "output_type": "stream",
     "text": [
      "/Users/dhruvchopra/opt/anaconda3/envs/ddp/lib/python3.8/site-packages/sklearn/svm/_classes.py:32: FutureWarning: The default value of `dual` will change from `True` to `'auto'` in 1.5. Set the value of `dual` explicitly to suppress the warning.\n",
      "  warnings.warn(\n"
     ]
    },
    {
     "name": "stdout",
     "output_type": "stream",
     "text": [
      "[CV] END svc__C=5, svc__max_iter=6000, svc__penalty=l2, svc__random_state=42, vec__max_df=0.85, vec__min_df=0.001, vec__ngram_range=(1, 2), vec__stop_words=None; total time=   0.9s\n"
     ]
    },
    {
     "name": "stderr",
     "output_type": "stream",
     "text": [
      "/Users/dhruvchopra/opt/anaconda3/envs/ddp/lib/python3.8/site-packages/sklearn/svm/_classes.py:32: FutureWarning: The default value of `dual` will change from `True` to `'auto'` in 1.5. Set the value of `dual` explicitly to suppress the warning.\n",
      "  warnings.warn(\n"
     ]
    },
    {
     "name": "stdout",
     "output_type": "stream",
     "text": [
      "[CV] END svc__C=5, svc__max_iter=6000, svc__penalty=l2, svc__random_state=42, vec__max_df=0.85, vec__min_df=0.001, vec__ngram_range=(1, 2), vec__stop_words=None; total time=   0.8s\n"
     ]
    },
    {
     "name": "stderr",
     "output_type": "stream",
     "text": [
      "/Users/dhruvchopra/opt/anaconda3/envs/ddp/lib/python3.8/site-packages/sklearn/svm/_classes.py:32: FutureWarning: The default value of `dual` will change from `True` to `'auto'` in 1.5. Set the value of `dual` explicitly to suppress the warning.\n",
      "  warnings.warn(\n"
     ]
    },
    {
     "name": "stdout",
     "output_type": "stream",
     "text": [
      "[CV] END svc__C=5, svc__max_iter=6000, svc__penalty=l2, svc__random_state=42, vec__max_df=0.85, vec__min_df=0.001, vec__ngram_range=(1, 2), vec__stop_words=None; total time=   0.8s\n"
     ]
    },
    {
     "name": "stderr",
     "output_type": "stream",
     "text": [
      "/Users/dhruvchopra/opt/anaconda3/envs/ddp/lib/python3.8/site-packages/sklearn/svm/_classes.py:32: FutureWarning: The default value of `dual` will change from `True` to `'auto'` in 1.5. Set the value of `dual` explicitly to suppress the warning.\n",
      "  warnings.warn(\n"
     ]
    },
    {
     "name": "stdout",
     "output_type": "stream",
     "text": [
      "[CV] END svc__C=5, svc__max_iter=6000, svc__penalty=l2, svc__random_state=42, vec__max_df=0.85, vec__min_df=0.001, vec__ngram_range=(1, 2), vec__stop_words=None; total time=   0.7s\n"
     ]
    },
    {
     "name": "stderr",
     "output_type": "stream",
     "text": [
      "/Users/dhruvchopra/opt/anaconda3/envs/ddp/lib/python3.8/site-packages/sklearn/svm/_classes.py:32: FutureWarning: The default value of `dual` will change from `True` to `'auto'` in 1.5. Set the value of `dual` explicitly to suppress the warning.\n",
      "  warnings.warn(\n"
     ]
    },
    {
     "name": "stdout",
     "output_type": "stream",
     "text": [
      "[CV] END svc__C=5, svc__max_iter=6000, svc__penalty=l2, svc__random_state=42, vec__max_df=0.85, vec__min_df=0.001, vec__ngram_range=(1, 2), vec__stop_words=None; total time=   0.6s\n"
     ]
    },
    {
     "name": "stderr",
     "output_type": "stream",
     "text": [
      "/Users/dhruvchopra/opt/anaconda3/envs/ddp/lib/python3.8/site-packages/sklearn/svm/_classes.py:32: FutureWarning: The default value of `dual` will change from `True` to `'auto'` in 1.5. Set the value of `dual` explicitly to suppress the warning.\n",
      "  warnings.warn(\n"
     ]
    },
    {
     "name": "stdout",
     "output_type": "stream",
     "text": [
      "[CV] END svc__C=5, svc__max_iter=6000, svc__penalty=l2, svc__random_state=42, vec__max_df=0.85, vec__min_df=0.0001, vec__ngram_range=(1, 1), vec__stop_words=None; total time=   0.4s\n"
     ]
    },
    {
     "name": "stderr",
     "output_type": "stream",
     "text": [
      "/Users/dhruvchopra/opt/anaconda3/envs/ddp/lib/python3.8/site-packages/sklearn/svm/_classes.py:32: FutureWarning: The default value of `dual` will change from `True` to `'auto'` in 1.5. Set the value of `dual` explicitly to suppress the warning.\n",
      "  warnings.warn(\n"
     ]
    },
    {
     "name": "stdout",
     "output_type": "stream",
     "text": [
      "[CV] END svc__C=5, svc__max_iter=6000, svc__penalty=l2, svc__random_state=42, vec__max_df=0.85, vec__min_df=0.0001, vec__ngram_range=(1, 1), vec__stop_words=None; total time=   0.5s\n"
     ]
    },
    {
     "name": "stderr",
     "output_type": "stream",
     "text": [
      "/Users/dhruvchopra/opt/anaconda3/envs/ddp/lib/python3.8/site-packages/sklearn/svm/_classes.py:32: FutureWarning: The default value of `dual` will change from `True` to `'auto'` in 1.5. Set the value of `dual` explicitly to suppress the warning.\n",
      "  warnings.warn(\n"
     ]
    },
    {
     "name": "stdout",
     "output_type": "stream",
     "text": [
      "[CV] END svc__C=5, svc__max_iter=6000, svc__penalty=l2, svc__random_state=42, vec__max_df=0.85, vec__min_df=0.0001, vec__ngram_range=(1, 1), vec__stop_words=None; total time=   0.4s\n"
     ]
    },
    {
     "name": "stderr",
     "output_type": "stream",
     "text": [
      "/Users/dhruvchopra/opt/anaconda3/envs/ddp/lib/python3.8/site-packages/sklearn/svm/_classes.py:32: FutureWarning: The default value of `dual` will change from `True` to `'auto'` in 1.5. Set the value of `dual` explicitly to suppress the warning.\n",
      "  warnings.warn(\n"
     ]
    },
    {
     "name": "stdout",
     "output_type": "stream",
     "text": [
      "[CV] END svc__C=5, svc__max_iter=6000, svc__penalty=l2, svc__random_state=42, vec__max_df=0.85, vec__min_df=0.0001, vec__ngram_range=(1, 1), vec__stop_words=None; total time=   0.6s\n"
     ]
    },
    {
     "name": "stderr",
     "output_type": "stream",
     "text": [
      "/Users/dhruvchopra/opt/anaconda3/envs/ddp/lib/python3.8/site-packages/sklearn/svm/_classes.py:32: FutureWarning: The default value of `dual` will change from `True` to `'auto'` in 1.5. Set the value of `dual` explicitly to suppress the warning.\n",
      "  warnings.warn(\n"
     ]
    },
    {
     "name": "stdout",
     "output_type": "stream",
     "text": [
      "[CV] END svc__C=5, svc__max_iter=6000, svc__penalty=l2, svc__random_state=42, vec__max_df=0.85, vec__min_df=0.0001, vec__ngram_range=(1, 1), vec__stop_words=None; total time=   0.5s\n"
     ]
    },
    {
     "name": "stderr",
     "output_type": "stream",
     "text": [
      "/Users/dhruvchopra/opt/anaconda3/envs/ddp/lib/python3.8/site-packages/sklearn/svm/_classes.py:32: FutureWarning: The default value of `dual` will change from `True` to `'auto'` in 1.5. Set the value of `dual` explicitly to suppress the warning.\n",
      "  warnings.warn(\n"
     ]
    },
    {
     "name": "stdout",
     "output_type": "stream",
     "text": [
      "[CV] END svc__C=5, svc__max_iter=6000, svc__penalty=l2, svc__random_state=42, vec__max_df=0.85, vec__min_df=0.0001, vec__ngram_range=(1, 2), vec__stop_words=None; total time=   1.4s\n"
     ]
    },
    {
     "name": "stderr",
     "output_type": "stream",
     "text": [
      "/Users/dhruvchopra/opt/anaconda3/envs/ddp/lib/python3.8/site-packages/sklearn/svm/_classes.py:32: FutureWarning: The default value of `dual` will change from `True` to `'auto'` in 1.5. Set the value of `dual` explicitly to suppress the warning.\n",
      "  warnings.warn(\n"
     ]
    },
    {
     "name": "stdout",
     "output_type": "stream",
     "text": [
      "[CV] END svc__C=5, svc__max_iter=6000, svc__penalty=l2, svc__random_state=42, vec__max_df=0.85, vec__min_df=0.0001, vec__ngram_range=(1, 2), vec__stop_words=None; total time=   1.4s\n"
     ]
    },
    {
     "name": "stderr",
     "output_type": "stream",
     "text": [
      "/Users/dhruvchopra/opt/anaconda3/envs/ddp/lib/python3.8/site-packages/sklearn/svm/_classes.py:32: FutureWarning: The default value of `dual` will change from `True` to `'auto'` in 1.5. Set the value of `dual` explicitly to suppress the warning.\n",
      "  warnings.warn(\n"
     ]
    },
    {
     "name": "stdout",
     "output_type": "stream",
     "text": [
      "[CV] END svc__C=5, svc__max_iter=6000, svc__penalty=l2, svc__random_state=42, vec__max_df=0.85, vec__min_df=0.0001, vec__ngram_range=(1, 2), vec__stop_words=None; total time=   1.3s\n"
     ]
    },
    {
     "name": "stderr",
     "output_type": "stream",
     "text": [
      "/Users/dhruvchopra/opt/anaconda3/envs/ddp/lib/python3.8/site-packages/sklearn/svm/_classes.py:32: FutureWarning: The default value of `dual` will change from `True` to `'auto'` in 1.5. Set the value of `dual` explicitly to suppress the warning.\n",
      "  warnings.warn(\n"
     ]
    },
    {
     "name": "stdout",
     "output_type": "stream",
     "text": [
      "[CV] END svc__C=5, svc__max_iter=6000, svc__penalty=l2, svc__random_state=42, vec__max_df=0.85, vec__min_df=0.0001, vec__ngram_range=(1, 2), vec__stop_words=None; total time=   1.1s\n"
     ]
    },
    {
     "name": "stderr",
     "output_type": "stream",
     "text": [
      "/Users/dhruvchopra/opt/anaconda3/envs/ddp/lib/python3.8/site-packages/sklearn/svm/_classes.py:32: FutureWarning: The default value of `dual` will change from `True` to `'auto'` in 1.5. Set the value of `dual` explicitly to suppress the warning.\n",
      "  warnings.warn(\n"
     ]
    },
    {
     "name": "stdout",
     "output_type": "stream",
     "text": [
      "[CV] END svc__C=5, svc__max_iter=6000, svc__penalty=l2, svc__random_state=42, vec__max_df=0.85, vec__min_df=0.0001, vec__ngram_range=(1, 2), vec__stop_words=None; total time=   1.0s\n",
      "[CV] END svc__C=5, svc__max_iter=6000, svc__penalty=l2, svc__random_state=42, vec__max_df=0.85, vec__min_df=0, vec__ngram_range=(1, 1), vec__stop_words=None; total time=   0.0s\n",
      "[CV] END svc__C=5, svc__max_iter=6000, svc__penalty=l2, svc__random_state=42, vec__max_df=0.85, vec__min_df=0, vec__ngram_range=(1, 1), vec__stop_words=None; total time=   0.0s\n",
      "[CV] END svc__C=5, svc__max_iter=6000, svc__penalty=l2, svc__random_state=42, vec__max_df=0.85, vec__min_df=0, vec__ngram_range=(1, 1), vec__stop_words=None; total time=   0.0s\n",
      "[CV] END svc__C=5, svc__max_iter=6000, svc__penalty=l2, svc__random_state=42, vec__max_df=0.85, vec__min_df=0, vec__ngram_range=(1, 1), vec__stop_words=None; total time=   0.0s\n",
      "[CV] END svc__C=5, svc__max_iter=6000, svc__penalty=l2, svc__random_state=42, vec__max_df=0.85, vec__min_df=0, vec__ngram_range=(1, 1), vec__stop_words=None; total time=   0.0s\n",
      "[CV] END svc__C=5, svc__max_iter=6000, svc__penalty=l2, svc__random_state=42, vec__max_df=0.85, vec__min_df=0, vec__ngram_range=(1, 2), vec__stop_words=None; total time=   0.0s\n",
      "[CV] END svc__C=5, svc__max_iter=6000, svc__penalty=l2, svc__random_state=42, vec__max_df=0.85, vec__min_df=0, vec__ngram_range=(1, 2), vec__stop_words=None; total time=   0.0s\n",
      "[CV] END svc__C=5, svc__max_iter=6000, svc__penalty=l2, svc__random_state=42, vec__max_df=0.85, vec__min_df=0, vec__ngram_range=(1, 2), vec__stop_words=None; total time=   0.0s\n",
      "[CV] END svc__C=5, svc__max_iter=6000, svc__penalty=l2, svc__random_state=42, vec__max_df=0.85, vec__min_df=0, vec__ngram_range=(1, 2), vec__stop_words=None; total time=   0.0s\n",
      "[CV] END svc__C=5, svc__max_iter=6000, svc__penalty=l2, svc__random_state=42, vec__max_df=0.85, vec__min_df=0, vec__ngram_range=(1, 2), vec__stop_words=None; total time=   0.0s\n"
     ]
    },
    {
     "name": "stderr",
     "output_type": "stream",
     "text": [
      "/Users/dhruvchopra/opt/anaconda3/envs/ddp/lib/python3.8/site-packages/sklearn/svm/_classes.py:32: FutureWarning: The default value of `dual` will change from `True` to `'auto'` in 1.5. Set the value of `dual` explicitly to suppress the warning.\n",
      "  warnings.warn(\n"
     ]
    },
    {
     "name": "stdout",
     "output_type": "stream",
     "text": [
      "[CV] END svc__C=5, svc__max_iter=6000, svc__penalty=l2, svc__random_state=42, vec__max_df=0.9, vec__min_df=0.01, vec__ngram_range=(1, 1), vec__stop_words=None; total time=   0.4s\n"
     ]
    },
    {
     "name": "stderr",
     "output_type": "stream",
     "text": [
      "/Users/dhruvchopra/opt/anaconda3/envs/ddp/lib/python3.8/site-packages/sklearn/svm/_classes.py:32: FutureWarning: The default value of `dual` will change from `True` to `'auto'` in 1.5. Set the value of `dual` explicitly to suppress the warning.\n",
      "  warnings.warn(\n"
     ]
    },
    {
     "name": "stdout",
     "output_type": "stream",
     "text": [
      "[CV] END svc__C=5, svc__max_iter=6000, svc__penalty=l2, svc__random_state=42, vec__max_df=0.9, vec__min_df=0.01, vec__ngram_range=(1, 1), vec__stop_words=None; total time=   0.5s\n"
     ]
    },
    {
     "name": "stderr",
     "output_type": "stream",
     "text": [
      "/Users/dhruvchopra/opt/anaconda3/envs/ddp/lib/python3.8/site-packages/sklearn/svm/_classes.py:32: FutureWarning: The default value of `dual` will change from `True` to `'auto'` in 1.5. Set the value of `dual` explicitly to suppress the warning.\n",
      "  warnings.warn(\n"
     ]
    },
    {
     "name": "stdout",
     "output_type": "stream",
     "text": [
      "[CV] END svc__C=5, svc__max_iter=6000, svc__penalty=l2, svc__random_state=42, vec__max_df=0.9, vec__min_df=0.01, vec__ngram_range=(1, 1), vec__stop_words=None; total time=   0.4s\n"
     ]
    },
    {
     "name": "stderr",
     "output_type": "stream",
     "text": [
      "/Users/dhruvchopra/opt/anaconda3/envs/ddp/lib/python3.8/site-packages/sklearn/svm/_classes.py:32: FutureWarning: The default value of `dual` will change from `True` to `'auto'` in 1.5. Set the value of `dual` explicitly to suppress the warning.\n",
      "  warnings.warn(\n"
     ]
    },
    {
     "name": "stdout",
     "output_type": "stream",
     "text": [
      "[CV] END svc__C=5, svc__max_iter=6000, svc__penalty=l2, svc__random_state=42, vec__max_df=0.9, vec__min_df=0.01, vec__ngram_range=(1, 1), vec__stop_words=None; total time=   0.4s\n"
     ]
    },
    {
     "name": "stderr",
     "output_type": "stream",
     "text": [
      "/Users/dhruvchopra/opt/anaconda3/envs/ddp/lib/python3.8/site-packages/sklearn/svm/_classes.py:32: FutureWarning: The default value of `dual` will change from `True` to `'auto'` in 1.5. Set the value of `dual` explicitly to suppress the warning.\n",
      "  warnings.warn(\n"
     ]
    },
    {
     "name": "stdout",
     "output_type": "stream",
     "text": [
      "[CV] END svc__C=5, svc__max_iter=6000, svc__penalty=l2, svc__random_state=42, vec__max_df=0.9, vec__min_df=0.01, vec__ngram_range=(1, 1), vec__stop_words=None; total time=   0.4s\n"
     ]
    },
    {
     "name": "stderr",
     "output_type": "stream",
     "text": [
      "/Users/dhruvchopra/opt/anaconda3/envs/ddp/lib/python3.8/site-packages/sklearn/svm/_classes.py:32: FutureWarning: The default value of `dual` will change from `True` to `'auto'` in 1.5. Set the value of `dual` explicitly to suppress the warning.\n",
      "  warnings.warn(\n"
     ]
    },
    {
     "name": "stdout",
     "output_type": "stream",
     "text": [
      "[CV] END svc__C=5, svc__max_iter=6000, svc__penalty=l2, svc__random_state=42, vec__max_df=0.9, vec__min_df=0.01, vec__ngram_range=(1, 2), vec__stop_words=None; total time=   1.1s\n"
     ]
    },
    {
     "name": "stderr",
     "output_type": "stream",
     "text": [
      "/Users/dhruvchopra/opt/anaconda3/envs/ddp/lib/python3.8/site-packages/sklearn/svm/_classes.py:32: FutureWarning: The default value of `dual` will change from `True` to `'auto'` in 1.5. Set the value of `dual` explicitly to suppress the warning.\n",
      "  warnings.warn(\n"
     ]
    },
    {
     "name": "stdout",
     "output_type": "stream",
     "text": [
      "[CV] END svc__C=5, svc__max_iter=6000, svc__penalty=l2, svc__random_state=42, vec__max_df=0.9, vec__min_df=0.01, vec__ngram_range=(1, 2), vec__stop_words=None; total time=   0.9s\n"
     ]
    },
    {
     "name": "stderr",
     "output_type": "stream",
     "text": [
      "/Users/dhruvchopra/opt/anaconda3/envs/ddp/lib/python3.8/site-packages/sklearn/svm/_classes.py:32: FutureWarning: The default value of `dual` will change from `True` to `'auto'` in 1.5. Set the value of `dual` explicitly to suppress the warning.\n",
      "  warnings.warn(\n"
     ]
    },
    {
     "name": "stdout",
     "output_type": "stream",
     "text": [
      "[CV] END svc__C=5, svc__max_iter=6000, svc__penalty=l2, svc__random_state=42, vec__max_df=0.9, vec__min_df=0.01, vec__ngram_range=(1, 2), vec__stop_words=None; total time=   1.2s\n"
     ]
    },
    {
     "name": "stderr",
     "output_type": "stream",
     "text": [
      "/Users/dhruvchopra/opt/anaconda3/envs/ddp/lib/python3.8/site-packages/sklearn/svm/_classes.py:32: FutureWarning: The default value of `dual` will change from `True` to `'auto'` in 1.5. Set the value of `dual` explicitly to suppress the warning.\n",
      "  warnings.warn(\n"
     ]
    },
    {
     "name": "stdout",
     "output_type": "stream",
     "text": [
      "[CV] END svc__C=5, svc__max_iter=6000, svc__penalty=l2, svc__random_state=42, vec__max_df=0.9, vec__min_df=0.01, vec__ngram_range=(1, 2), vec__stop_words=None; total time=   0.8s\n"
     ]
    },
    {
     "name": "stderr",
     "output_type": "stream",
     "text": [
      "/Users/dhruvchopra/opt/anaconda3/envs/ddp/lib/python3.8/site-packages/sklearn/svm/_classes.py:32: FutureWarning: The default value of `dual` will change from `True` to `'auto'` in 1.5. Set the value of `dual` explicitly to suppress the warning.\n",
      "  warnings.warn(\n"
     ]
    },
    {
     "name": "stdout",
     "output_type": "stream",
     "text": [
      "[CV] END svc__C=5, svc__max_iter=6000, svc__penalty=l2, svc__random_state=42, vec__max_df=0.9, vec__min_df=0.01, vec__ngram_range=(1, 2), vec__stop_words=None; total time=   0.8s\n"
     ]
    },
    {
     "name": "stderr",
     "output_type": "stream",
     "text": [
      "/Users/dhruvchopra/opt/anaconda3/envs/ddp/lib/python3.8/site-packages/sklearn/svm/_classes.py:32: FutureWarning: The default value of `dual` will change from `True` to `'auto'` in 1.5. Set the value of `dual` explicitly to suppress the warning.\n",
      "  warnings.warn(\n"
     ]
    },
    {
     "name": "stdout",
     "output_type": "stream",
     "text": [
      "[CV] END svc__C=5, svc__max_iter=6000, svc__penalty=l2, svc__random_state=42, vec__max_df=0.9, vec__min_df=0.001, vec__ngram_range=(1, 1), vec__stop_words=None; total time=   0.5s\n"
     ]
    },
    {
     "name": "stderr",
     "output_type": "stream",
     "text": [
      "/Users/dhruvchopra/opt/anaconda3/envs/ddp/lib/python3.8/site-packages/sklearn/svm/_classes.py:32: FutureWarning: The default value of `dual` will change from `True` to `'auto'` in 1.5. Set the value of `dual` explicitly to suppress the warning.\n",
      "  warnings.warn(\n"
     ]
    },
    {
     "name": "stdout",
     "output_type": "stream",
     "text": [
      "[CV] END svc__C=5, svc__max_iter=6000, svc__penalty=l2, svc__random_state=42, vec__max_df=0.9, vec__min_df=0.001, vec__ngram_range=(1, 1), vec__stop_words=None; total time=   0.7s\n"
     ]
    },
    {
     "name": "stderr",
     "output_type": "stream",
     "text": [
      "/Users/dhruvchopra/opt/anaconda3/envs/ddp/lib/python3.8/site-packages/sklearn/svm/_classes.py:32: FutureWarning: The default value of `dual` will change from `True` to `'auto'` in 1.5. Set the value of `dual` explicitly to suppress the warning.\n",
      "  warnings.warn(\n"
     ]
    },
    {
     "name": "stdout",
     "output_type": "stream",
     "text": [
      "[CV] END svc__C=5, svc__max_iter=6000, svc__penalty=l2, svc__random_state=42, vec__max_df=0.9, vec__min_df=0.001, vec__ngram_range=(1, 1), vec__stop_words=None; total time=   0.5s\n"
     ]
    },
    {
     "name": "stderr",
     "output_type": "stream",
     "text": [
      "/Users/dhruvchopra/opt/anaconda3/envs/ddp/lib/python3.8/site-packages/sklearn/svm/_classes.py:32: FutureWarning: The default value of `dual` will change from `True` to `'auto'` in 1.5. Set the value of `dual` explicitly to suppress the warning.\n",
      "  warnings.warn(\n"
     ]
    },
    {
     "name": "stdout",
     "output_type": "stream",
     "text": [
      "[CV] END svc__C=5, svc__max_iter=6000, svc__penalty=l2, svc__random_state=42, vec__max_df=0.9, vec__min_df=0.001, vec__ngram_range=(1, 1), vec__stop_words=None; total time=   0.5s\n"
     ]
    },
    {
     "name": "stderr",
     "output_type": "stream",
     "text": [
      "/Users/dhruvchopra/opt/anaconda3/envs/ddp/lib/python3.8/site-packages/sklearn/svm/_classes.py:32: FutureWarning: The default value of `dual` will change from `True` to `'auto'` in 1.5. Set the value of `dual` explicitly to suppress the warning.\n",
      "  warnings.warn(\n"
     ]
    },
    {
     "name": "stdout",
     "output_type": "stream",
     "text": [
      "[CV] END svc__C=5, svc__max_iter=6000, svc__penalty=l2, svc__random_state=42, vec__max_df=0.9, vec__min_df=0.001, vec__ngram_range=(1, 1), vec__stop_words=None; total time=   0.5s\n"
     ]
    },
    {
     "name": "stderr",
     "output_type": "stream",
     "text": [
      "/Users/dhruvchopra/opt/anaconda3/envs/ddp/lib/python3.8/site-packages/sklearn/svm/_classes.py:32: FutureWarning: The default value of `dual` will change from `True` to `'auto'` in 1.5. Set the value of `dual` explicitly to suppress the warning.\n",
      "  warnings.warn(\n"
     ]
    },
    {
     "name": "stdout",
     "output_type": "stream",
     "text": [
      "[CV] END svc__C=5, svc__max_iter=6000, svc__penalty=l2, svc__random_state=42, vec__max_df=0.9, vec__min_df=0.001, vec__ngram_range=(1, 2), vec__stop_words=None; total time=   1.0s\n"
     ]
    },
    {
     "name": "stderr",
     "output_type": "stream",
     "text": [
      "/Users/dhruvchopra/opt/anaconda3/envs/ddp/lib/python3.8/site-packages/sklearn/svm/_classes.py:32: FutureWarning: The default value of `dual` will change from `True` to `'auto'` in 1.5. Set the value of `dual` explicitly to suppress the warning.\n",
      "  warnings.warn(\n"
     ]
    },
    {
     "name": "stdout",
     "output_type": "stream",
     "text": [
      "[CV] END svc__C=5, svc__max_iter=6000, svc__penalty=l2, svc__random_state=42, vec__max_df=0.9, vec__min_df=0.001, vec__ngram_range=(1, 2), vec__stop_words=None; total time=   1.0s\n"
     ]
    },
    {
     "name": "stderr",
     "output_type": "stream",
     "text": [
      "/Users/dhruvchopra/opt/anaconda3/envs/ddp/lib/python3.8/site-packages/sklearn/svm/_classes.py:32: FutureWarning: The default value of `dual` will change from `True` to `'auto'` in 1.5. Set the value of `dual` explicitly to suppress the warning.\n",
      "  warnings.warn(\n"
     ]
    },
    {
     "name": "stdout",
     "output_type": "stream",
     "text": [
      "[CV] END svc__C=5, svc__max_iter=6000, svc__penalty=l2, svc__random_state=42, vec__max_df=0.9, vec__min_df=0.001, vec__ngram_range=(1, 2), vec__stop_words=None; total time=   1.1s\n"
     ]
    },
    {
     "name": "stderr",
     "output_type": "stream",
     "text": [
      "/Users/dhruvchopra/opt/anaconda3/envs/ddp/lib/python3.8/site-packages/sklearn/svm/_classes.py:32: FutureWarning: The default value of `dual` will change from `True` to `'auto'` in 1.5. Set the value of `dual` explicitly to suppress the warning.\n",
      "  warnings.warn(\n"
     ]
    },
    {
     "name": "stdout",
     "output_type": "stream",
     "text": [
      "[CV] END svc__C=5, svc__max_iter=6000, svc__penalty=l2, svc__random_state=42, vec__max_df=0.9, vec__min_df=0.001, vec__ngram_range=(1, 2), vec__stop_words=None; total time=   1.2s\n"
     ]
    },
    {
     "name": "stderr",
     "output_type": "stream",
     "text": [
      "/Users/dhruvchopra/opt/anaconda3/envs/ddp/lib/python3.8/site-packages/sklearn/svm/_classes.py:32: FutureWarning: The default value of `dual` will change from `True` to `'auto'` in 1.5. Set the value of `dual` explicitly to suppress the warning.\n",
      "  warnings.warn(\n"
     ]
    },
    {
     "name": "stdout",
     "output_type": "stream",
     "text": [
      "[CV] END svc__C=5, svc__max_iter=6000, svc__penalty=l2, svc__random_state=42, vec__max_df=0.9, vec__min_df=0.001, vec__ngram_range=(1, 2), vec__stop_words=None; total time=   0.8s\n"
     ]
    },
    {
     "name": "stderr",
     "output_type": "stream",
     "text": [
      "/Users/dhruvchopra/opt/anaconda3/envs/ddp/lib/python3.8/site-packages/sklearn/svm/_classes.py:32: FutureWarning: The default value of `dual` will change from `True` to `'auto'` in 1.5. Set the value of `dual` explicitly to suppress the warning.\n",
      "  warnings.warn(\n"
     ]
    },
    {
     "name": "stdout",
     "output_type": "stream",
     "text": [
      "[CV] END svc__C=5, svc__max_iter=6000, svc__penalty=l2, svc__random_state=42, vec__max_df=0.9, vec__min_df=0.0001, vec__ngram_range=(1, 1), vec__stop_words=None; total time=   0.5s\n"
     ]
    },
    {
     "name": "stderr",
     "output_type": "stream",
     "text": [
      "/Users/dhruvchopra/opt/anaconda3/envs/ddp/lib/python3.8/site-packages/sklearn/svm/_classes.py:32: FutureWarning: The default value of `dual` will change from `True` to `'auto'` in 1.5. Set the value of `dual` explicitly to suppress the warning.\n",
      "  warnings.warn(\n"
     ]
    },
    {
     "name": "stdout",
     "output_type": "stream",
     "text": [
      "[CV] END svc__C=5, svc__max_iter=6000, svc__penalty=l2, svc__random_state=42, vec__max_df=0.9, vec__min_df=0.0001, vec__ngram_range=(1, 1), vec__stop_words=None; total time=   0.5s\n"
     ]
    },
    {
     "name": "stderr",
     "output_type": "stream",
     "text": [
      "/Users/dhruvchopra/opt/anaconda3/envs/ddp/lib/python3.8/site-packages/sklearn/svm/_classes.py:32: FutureWarning: The default value of `dual` will change from `True` to `'auto'` in 1.5. Set the value of `dual` explicitly to suppress the warning.\n",
      "  warnings.warn(\n"
     ]
    },
    {
     "name": "stdout",
     "output_type": "stream",
     "text": [
      "[CV] END svc__C=5, svc__max_iter=6000, svc__penalty=l2, svc__random_state=42, vec__max_df=0.9, vec__min_df=0.0001, vec__ngram_range=(1, 1), vec__stop_words=None; total time=   0.4s\n"
     ]
    },
    {
     "name": "stderr",
     "output_type": "stream",
     "text": [
      "/Users/dhruvchopra/opt/anaconda3/envs/ddp/lib/python3.8/site-packages/sklearn/svm/_classes.py:32: FutureWarning: The default value of `dual` will change from `True` to `'auto'` in 1.5. Set the value of `dual` explicitly to suppress the warning.\n",
      "  warnings.warn(\n"
     ]
    },
    {
     "name": "stdout",
     "output_type": "stream",
     "text": [
      "[CV] END svc__C=5, svc__max_iter=6000, svc__penalty=l2, svc__random_state=42, vec__max_df=0.9, vec__min_df=0.0001, vec__ngram_range=(1, 1), vec__stop_words=None; total time=   0.4s\n"
     ]
    },
    {
     "name": "stderr",
     "output_type": "stream",
     "text": [
      "/Users/dhruvchopra/opt/anaconda3/envs/ddp/lib/python3.8/site-packages/sklearn/svm/_classes.py:32: FutureWarning: The default value of `dual` will change from `True` to `'auto'` in 1.5. Set the value of `dual` explicitly to suppress the warning.\n",
      "  warnings.warn(\n"
     ]
    },
    {
     "name": "stdout",
     "output_type": "stream",
     "text": [
      "[CV] END svc__C=5, svc__max_iter=6000, svc__penalty=l2, svc__random_state=42, vec__max_df=0.9, vec__min_df=0.0001, vec__ngram_range=(1, 1), vec__stop_words=None; total time=   0.5s\n"
     ]
    },
    {
     "name": "stderr",
     "output_type": "stream",
     "text": [
      "/Users/dhruvchopra/opt/anaconda3/envs/ddp/lib/python3.8/site-packages/sklearn/svm/_classes.py:32: FutureWarning: The default value of `dual` will change from `True` to `'auto'` in 1.5. Set the value of `dual` explicitly to suppress the warning.\n",
      "  warnings.warn(\n"
     ]
    },
    {
     "name": "stdout",
     "output_type": "stream",
     "text": [
      "[CV] END svc__C=5, svc__max_iter=6000, svc__penalty=l2, svc__random_state=42, vec__max_df=0.9, vec__min_df=0.0001, vec__ngram_range=(1, 2), vec__stop_words=None; total time=   1.2s\n"
     ]
    },
    {
     "name": "stderr",
     "output_type": "stream",
     "text": [
      "/Users/dhruvchopra/opt/anaconda3/envs/ddp/lib/python3.8/site-packages/sklearn/svm/_classes.py:32: FutureWarning: The default value of `dual` will change from `True` to `'auto'` in 1.5. Set the value of `dual` explicitly to suppress the warning.\n",
      "  warnings.warn(\n"
     ]
    },
    {
     "name": "stdout",
     "output_type": "stream",
     "text": [
      "[CV] END svc__C=5, svc__max_iter=6000, svc__penalty=l2, svc__random_state=42, vec__max_df=0.9, vec__min_df=0.0001, vec__ngram_range=(1, 2), vec__stop_words=None; total time=   1.4s\n"
     ]
    },
    {
     "name": "stderr",
     "output_type": "stream",
     "text": [
      "/Users/dhruvchopra/opt/anaconda3/envs/ddp/lib/python3.8/site-packages/sklearn/svm/_classes.py:32: FutureWarning: The default value of `dual` will change from `True` to `'auto'` in 1.5. Set the value of `dual` explicitly to suppress the warning.\n",
      "  warnings.warn(\n"
     ]
    },
    {
     "name": "stdout",
     "output_type": "stream",
     "text": [
      "[CV] END svc__C=5, svc__max_iter=6000, svc__penalty=l2, svc__random_state=42, vec__max_df=0.9, vec__min_df=0.0001, vec__ngram_range=(1, 2), vec__stop_words=None; total time=   1.6s\n"
     ]
    },
    {
     "name": "stderr",
     "output_type": "stream",
     "text": [
      "/Users/dhruvchopra/opt/anaconda3/envs/ddp/lib/python3.8/site-packages/sklearn/svm/_classes.py:32: FutureWarning: The default value of `dual` will change from `True` to `'auto'` in 1.5. Set the value of `dual` explicitly to suppress the warning.\n",
      "  warnings.warn(\n"
     ]
    },
    {
     "name": "stdout",
     "output_type": "stream",
     "text": [
      "[CV] END svc__C=5, svc__max_iter=6000, svc__penalty=l2, svc__random_state=42, vec__max_df=0.9, vec__min_df=0.0001, vec__ngram_range=(1, 2), vec__stop_words=None; total time=   1.5s\n"
     ]
    },
    {
     "name": "stderr",
     "output_type": "stream",
     "text": [
      "/Users/dhruvchopra/opt/anaconda3/envs/ddp/lib/python3.8/site-packages/sklearn/svm/_classes.py:32: FutureWarning: The default value of `dual` will change from `True` to `'auto'` in 1.5. Set the value of `dual` explicitly to suppress the warning.\n",
      "  warnings.warn(\n"
     ]
    },
    {
     "name": "stdout",
     "output_type": "stream",
     "text": [
      "[CV] END svc__C=5, svc__max_iter=6000, svc__penalty=l2, svc__random_state=42, vec__max_df=0.9, vec__min_df=0.0001, vec__ngram_range=(1, 2), vec__stop_words=None; total time=   1.0s\n",
      "[CV] END svc__C=5, svc__max_iter=6000, svc__penalty=l2, svc__random_state=42, vec__max_df=0.9, vec__min_df=0, vec__ngram_range=(1, 1), vec__stop_words=None; total time=   0.0s\n",
      "[CV] END svc__C=5, svc__max_iter=6000, svc__penalty=l2, svc__random_state=42, vec__max_df=0.9, vec__min_df=0, vec__ngram_range=(1, 1), vec__stop_words=None; total time=   0.0s\n",
      "[CV] END svc__C=5, svc__max_iter=6000, svc__penalty=l2, svc__random_state=42, vec__max_df=0.9, vec__min_df=0, vec__ngram_range=(1, 1), vec__stop_words=None; total time=   0.0s\n",
      "[CV] END svc__C=5, svc__max_iter=6000, svc__penalty=l2, svc__random_state=42, vec__max_df=0.9, vec__min_df=0, vec__ngram_range=(1, 1), vec__stop_words=None; total time=   0.0s\n",
      "[CV] END svc__C=5, svc__max_iter=6000, svc__penalty=l2, svc__random_state=42, vec__max_df=0.9, vec__min_df=0, vec__ngram_range=(1, 1), vec__stop_words=None; total time=   0.0s\n",
      "[CV] END svc__C=5, svc__max_iter=6000, svc__penalty=l2, svc__random_state=42, vec__max_df=0.9, vec__min_df=0, vec__ngram_range=(1, 2), vec__stop_words=None; total time=   0.0s\n",
      "[CV] END svc__C=5, svc__max_iter=6000, svc__penalty=l2, svc__random_state=42, vec__max_df=0.9, vec__min_df=0, vec__ngram_range=(1, 2), vec__stop_words=None; total time=   0.0s\n",
      "[CV] END svc__C=5, svc__max_iter=6000, svc__penalty=l2, svc__random_state=42, vec__max_df=0.9, vec__min_df=0, vec__ngram_range=(1, 2), vec__stop_words=None; total time=   0.0s\n",
      "[CV] END svc__C=5, svc__max_iter=6000, svc__penalty=l2, svc__random_state=42, vec__max_df=0.9, vec__min_df=0, vec__ngram_range=(1, 2), vec__stop_words=None; total time=   0.0s\n",
      "[CV] END svc__C=5, svc__max_iter=6000, svc__penalty=l2, svc__random_state=42, vec__max_df=0.9, vec__min_df=0, vec__ngram_range=(1, 2), vec__stop_words=None; total time=   0.0s\n"
     ]
    },
    {
     "name": "stderr",
     "output_type": "stream",
     "text": [
      "/Users/dhruvchopra/opt/anaconda3/envs/ddp/lib/python3.8/site-packages/sklearn/svm/_classes.py:32: FutureWarning: The default value of `dual` will change from `True` to `'auto'` in 1.5. Set the value of `dual` explicitly to suppress the warning.\n",
      "  warnings.warn(\n"
     ]
    },
    {
     "name": "stdout",
     "output_type": "stream",
     "text": [
      "[CV] END svc__C=5, svc__max_iter=6000, svc__penalty=l2, svc__random_state=42, vec__max_df=0.99, vec__min_df=0.01, vec__ngram_range=(1, 1), vec__stop_words=None; total time=   0.7s\n"
     ]
    },
    {
     "name": "stderr",
     "output_type": "stream",
     "text": [
      "/Users/dhruvchopra/opt/anaconda3/envs/ddp/lib/python3.8/site-packages/sklearn/svm/_classes.py:32: FutureWarning: The default value of `dual` will change from `True` to `'auto'` in 1.5. Set the value of `dual` explicitly to suppress the warning.\n",
      "  warnings.warn(\n"
     ]
    },
    {
     "name": "stdout",
     "output_type": "stream",
     "text": [
      "[CV] END svc__C=5, svc__max_iter=6000, svc__penalty=l2, svc__random_state=42, vec__max_df=0.99, vec__min_df=0.01, vec__ngram_range=(1, 1), vec__stop_words=None; total time=   0.5s\n"
     ]
    },
    {
     "name": "stderr",
     "output_type": "stream",
     "text": [
      "/Users/dhruvchopra/opt/anaconda3/envs/ddp/lib/python3.8/site-packages/sklearn/svm/_classes.py:32: FutureWarning: The default value of `dual` will change from `True` to `'auto'` in 1.5. Set the value of `dual` explicitly to suppress the warning.\n",
      "  warnings.warn(\n"
     ]
    },
    {
     "name": "stdout",
     "output_type": "stream",
     "text": [
      "[CV] END svc__C=5, svc__max_iter=6000, svc__penalty=l2, svc__random_state=42, vec__max_df=0.99, vec__min_df=0.01, vec__ngram_range=(1, 1), vec__stop_words=None; total time=   0.4s\n"
     ]
    },
    {
     "name": "stderr",
     "output_type": "stream",
     "text": [
      "/Users/dhruvchopra/opt/anaconda3/envs/ddp/lib/python3.8/site-packages/sklearn/svm/_classes.py:32: FutureWarning: The default value of `dual` will change from `True` to `'auto'` in 1.5. Set the value of `dual` explicitly to suppress the warning.\n",
      "  warnings.warn(\n"
     ]
    },
    {
     "name": "stdout",
     "output_type": "stream",
     "text": [
      "[CV] END svc__C=5, svc__max_iter=6000, svc__penalty=l2, svc__random_state=42, vec__max_df=0.99, vec__min_df=0.01, vec__ngram_range=(1, 1), vec__stop_words=None; total time=   0.4s\n"
     ]
    },
    {
     "name": "stderr",
     "output_type": "stream",
     "text": [
      "/Users/dhruvchopra/opt/anaconda3/envs/ddp/lib/python3.8/site-packages/sklearn/svm/_classes.py:32: FutureWarning: The default value of `dual` will change from `True` to `'auto'` in 1.5. Set the value of `dual` explicitly to suppress the warning.\n",
      "  warnings.warn(\n"
     ]
    },
    {
     "name": "stdout",
     "output_type": "stream",
     "text": [
      "[CV] END svc__C=5, svc__max_iter=6000, svc__penalty=l2, svc__random_state=42, vec__max_df=0.99, vec__min_df=0.01, vec__ngram_range=(1, 1), vec__stop_words=None; total time=   0.4s\n"
     ]
    },
    {
     "name": "stderr",
     "output_type": "stream",
     "text": [
      "/Users/dhruvchopra/opt/anaconda3/envs/ddp/lib/python3.8/site-packages/sklearn/svm/_classes.py:32: FutureWarning: The default value of `dual` will change from `True` to `'auto'` in 1.5. Set the value of `dual` explicitly to suppress the warning.\n",
      "  warnings.warn(\n"
     ]
    },
    {
     "name": "stdout",
     "output_type": "stream",
     "text": [
      "[CV] END svc__C=5, svc__max_iter=6000, svc__penalty=l2, svc__random_state=42, vec__max_df=0.99, vec__min_df=0.01, vec__ngram_range=(1, 2), vec__stop_words=None; total time=   0.7s\n"
     ]
    },
    {
     "name": "stderr",
     "output_type": "stream",
     "text": [
      "/Users/dhruvchopra/opt/anaconda3/envs/ddp/lib/python3.8/site-packages/sklearn/svm/_classes.py:32: FutureWarning: The default value of `dual` will change from `True` to `'auto'` in 1.5. Set the value of `dual` explicitly to suppress the warning.\n",
      "  warnings.warn(\n"
     ]
    },
    {
     "name": "stdout",
     "output_type": "stream",
     "text": [
      "[CV] END svc__C=5, svc__max_iter=6000, svc__penalty=l2, svc__random_state=42, vec__max_df=0.99, vec__min_df=0.01, vec__ngram_range=(1, 2), vec__stop_words=None; total time=   0.8s\n"
     ]
    },
    {
     "name": "stderr",
     "output_type": "stream",
     "text": [
      "/Users/dhruvchopra/opt/anaconda3/envs/ddp/lib/python3.8/site-packages/sklearn/svm/_classes.py:32: FutureWarning: The default value of `dual` will change from `True` to `'auto'` in 1.5. Set the value of `dual` explicitly to suppress the warning.\n",
      "  warnings.warn(\n"
     ]
    },
    {
     "name": "stdout",
     "output_type": "stream",
     "text": [
      "[CV] END svc__C=5, svc__max_iter=6000, svc__penalty=l2, svc__random_state=42, vec__max_df=0.99, vec__min_df=0.01, vec__ngram_range=(1, 2), vec__stop_words=None; total time=   0.7s\n"
     ]
    },
    {
     "name": "stderr",
     "output_type": "stream",
     "text": [
      "/Users/dhruvchopra/opt/anaconda3/envs/ddp/lib/python3.8/site-packages/sklearn/svm/_classes.py:32: FutureWarning: The default value of `dual` will change from `True` to `'auto'` in 1.5. Set the value of `dual` explicitly to suppress the warning.\n",
      "  warnings.warn(\n"
     ]
    },
    {
     "name": "stdout",
     "output_type": "stream",
     "text": [
      "[CV] END svc__C=5, svc__max_iter=6000, svc__penalty=l2, svc__random_state=42, vec__max_df=0.99, vec__min_df=0.01, vec__ngram_range=(1, 2), vec__stop_words=None; total time=   0.8s\n"
     ]
    },
    {
     "name": "stderr",
     "output_type": "stream",
     "text": [
      "/Users/dhruvchopra/opt/anaconda3/envs/ddp/lib/python3.8/site-packages/sklearn/svm/_classes.py:32: FutureWarning: The default value of `dual` will change from `True` to `'auto'` in 1.5. Set the value of `dual` explicitly to suppress the warning.\n",
      "  warnings.warn(\n"
     ]
    },
    {
     "name": "stdout",
     "output_type": "stream",
     "text": [
      "[CV] END svc__C=5, svc__max_iter=6000, svc__penalty=l2, svc__random_state=42, vec__max_df=0.99, vec__min_df=0.01, vec__ngram_range=(1, 2), vec__stop_words=None; total time=   1.1s\n"
     ]
    },
    {
     "name": "stderr",
     "output_type": "stream",
     "text": [
      "/Users/dhruvchopra/opt/anaconda3/envs/ddp/lib/python3.8/site-packages/sklearn/svm/_classes.py:32: FutureWarning: The default value of `dual` will change from `True` to `'auto'` in 1.5. Set the value of `dual` explicitly to suppress the warning.\n",
      "  warnings.warn(\n"
     ]
    },
    {
     "name": "stdout",
     "output_type": "stream",
     "text": [
      "[CV] END svc__C=5, svc__max_iter=6000, svc__penalty=l2, svc__random_state=42, vec__max_df=0.99, vec__min_df=0.001, vec__ngram_range=(1, 1), vec__stop_words=None; total time=   0.6s\n"
     ]
    },
    {
     "name": "stderr",
     "output_type": "stream",
     "text": [
      "/Users/dhruvchopra/opt/anaconda3/envs/ddp/lib/python3.8/site-packages/sklearn/svm/_classes.py:32: FutureWarning: The default value of `dual` will change from `True` to `'auto'` in 1.5. Set the value of `dual` explicitly to suppress the warning.\n",
      "  warnings.warn(\n"
     ]
    },
    {
     "name": "stdout",
     "output_type": "stream",
     "text": [
      "[CV] END svc__C=5, svc__max_iter=6000, svc__penalty=l2, svc__random_state=42, vec__max_df=0.99, vec__min_df=0.001, vec__ngram_range=(1, 1), vec__stop_words=None; total time=   0.5s\n"
     ]
    },
    {
     "name": "stderr",
     "output_type": "stream",
     "text": [
      "/Users/dhruvchopra/opt/anaconda3/envs/ddp/lib/python3.8/site-packages/sklearn/svm/_classes.py:32: FutureWarning: The default value of `dual` will change from `True` to `'auto'` in 1.5. Set the value of `dual` explicitly to suppress the warning.\n",
      "  warnings.warn(\n"
     ]
    },
    {
     "name": "stdout",
     "output_type": "stream",
     "text": [
      "[CV] END svc__C=5, svc__max_iter=6000, svc__penalty=l2, svc__random_state=42, vec__max_df=0.99, vec__min_df=0.001, vec__ngram_range=(1, 1), vec__stop_words=None; total time=   0.5s\n"
     ]
    },
    {
     "name": "stderr",
     "output_type": "stream",
     "text": [
      "/Users/dhruvchopra/opt/anaconda3/envs/ddp/lib/python3.8/site-packages/sklearn/svm/_classes.py:32: FutureWarning: The default value of `dual` will change from `True` to `'auto'` in 1.5. Set the value of `dual` explicitly to suppress the warning.\n",
      "  warnings.warn(\n"
     ]
    },
    {
     "name": "stdout",
     "output_type": "stream",
     "text": [
      "[CV] END svc__C=5, svc__max_iter=6000, svc__penalty=l2, svc__random_state=42, vec__max_df=0.99, vec__min_df=0.001, vec__ngram_range=(1, 1), vec__stop_words=None; total time=   0.4s\n"
     ]
    },
    {
     "name": "stderr",
     "output_type": "stream",
     "text": [
      "/Users/dhruvchopra/opt/anaconda3/envs/ddp/lib/python3.8/site-packages/sklearn/svm/_classes.py:32: FutureWarning: The default value of `dual` will change from `True` to `'auto'` in 1.5. Set the value of `dual` explicitly to suppress the warning.\n",
      "  warnings.warn(\n"
     ]
    },
    {
     "name": "stdout",
     "output_type": "stream",
     "text": [
      "[CV] END svc__C=5, svc__max_iter=6000, svc__penalty=l2, svc__random_state=42, vec__max_df=0.99, vec__min_df=0.001, vec__ngram_range=(1, 1), vec__stop_words=None; total time=   0.4s\n"
     ]
    },
    {
     "name": "stderr",
     "output_type": "stream",
     "text": [
      "/Users/dhruvchopra/opt/anaconda3/envs/ddp/lib/python3.8/site-packages/sklearn/svm/_classes.py:32: FutureWarning: The default value of `dual` will change from `True` to `'auto'` in 1.5. Set the value of `dual` explicitly to suppress the warning.\n",
      "  warnings.warn(\n"
     ]
    },
    {
     "name": "stdout",
     "output_type": "stream",
     "text": [
      "[CV] END svc__C=5, svc__max_iter=6000, svc__penalty=l2, svc__random_state=42, vec__max_df=0.99, vec__min_df=0.001, vec__ngram_range=(1, 2), vec__stop_words=None; total time=   1.0s\n"
     ]
    },
    {
     "name": "stderr",
     "output_type": "stream",
     "text": [
      "/Users/dhruvchopra/opt/anaconda3/envs/ddp/lib/python3.8/site-packages/sklearn/svm/_classes.py:32: FutureWarning: The default value of `dual` will change from `True` to `'auto'` in 1.5. Set the value of `dual` explicitly to suppress the warning.\n",
      "  warnings.warn(\n"
     ]
    },
    {
     "name": "stdout",
     "output_type": "stream",
     "text": [
      "[CV] END svc__C=5, svc__max_iter=6000, svc__penalty=l2, svc__random_state=42, vec__max_df=0.99, vec__min_df=0.001, vec__ngram_range=(1, 2), vec__stop_words=None; total time=   0.8s\n"
     ]
    },
    {
     "name": "stderr",
     "output_type": "stream",
     "text": [
      "/Users/dhruvchopra/opt/anaconda3/envs/ddp/lib/python3.8/site-packages/sklearn/svm/_classes.py:32: FutureWarning: The default value of `dual` will change from `True` to `'auto'` in 1.5. Set the value of `dual` explicitly to suppress the warning.\n",
      "  warnings.warn(\n"
     ]
    },
    {
     "name": "stdout",
     "output_type": "stream",
     "text": [
      "[CV] END svc__C=5, svc__max_iter=6000, svc__penalty=l2, svc__random_state=42, vec__max_df=0.99, vec__min_df=0.001, vec__ngram_range=(1, 2), vec__stop_words=None; total time=   0.8s\n"
     ]
    },
    {
     "name": "stderr",
     "output_type": "stream",
     "text": [
      "/Users/dhruvchopra/opt/anaconda3/envs/ddp/lib/python3.8/site-packages/sklearn/svm/_classes.py:32: FutureWarning: The default value of `dual` will change from `True` to `'auto'` in 1.5. Set the value of `dual` explicitly to suppress the warning.\n",
      "  warnings.warn(\n"
     ]
    },
    {
     "name": "stdout",
     "output_type": "stream",
     "text": [
      "[CV] END svc__C=5, svc__max_iter=6000, svc__penalty=l2, svc__random_state=42, vec__max_df=0.99, vec__min_df=0.001, vec__ngram_range=(1, 2), vec__stop_words=None; total time=   0.8s\n"
     ]
    },
    {
     "name": "stderr",
     "output_type": "stream",
     "text": [
      "/Users/dhruvchopra/opt/anaconda3/envs/ddp/lib/python3.8/site-packages/sklearn/svm/_classes.py:32: FutureWarning: The default value of `dual` will change from `True` to `'auto'` in 1.5. Set the value of `dual` explicitly to suppress the warning.\n",
      "  warnings.warn(\n"
     ]
    },
    {
     "name": "stdout",
     "output_type": "stream",
     "text": [
      "[CV] END svc__C=5, svc__max_iter=6000, svc__penalty=l2, svc__random_state=42, vec__max_df=0.99, vec__min_df=0.001, vec__ngram_range=(1, 2), vec__stop_words=None; total time=   0.8s\n"
     ]
    },
    {
     "name": "stderr",
     "output_type": "stream",
     "text": [
      "/Users/dhruvchopra/opt/anaconda3/envs/ddp/lib/python3.8/site-packages/sklearn/svm/_classes.py:32: FutureWarning: The default value of `dual` will change from `True` to `'auto'` in 1.5. Set the value of `dual` explicitly to suppress the warning.\n",
      "  warnings.warn(\n"
     ]
    },
    {
     "name": "stdout",
     "output_type": "stream",
     "text": [
      "[CV] END svc__C=5, svc__max_iter=6000, svc__penalty=l2, svc__random_state=42, vec__max_df=0.99, vec__min_df=0.0001, vec__ngram_range=(1, 1), vec__stop_words=None; total time=   0.5s\n"
     ]
    },
    {
     "name": "stderr",
     "output_type": "stream",
     "text": [
      "/Users/dhruvchopra/opt/anaconda3/envs/ddp/lib/python3.8/site-packages/sklearn/svm/_classes.py:32: FutureWarning: The default value of `dual` will change from `True` to `'auto'` in 1.5. Set the value of `dual` explicitly to suppress the warning.\n",
      "  warnings.warn(\n"
     ]
    },
    {
     "name": "stdout",
     "output_type": "stream",
     "text": [
      "[CV] END svc__C=5, svc__max_iter=6000, svc__penalty=l2, svc__random_state=42, vec__max_df=0.99, vec__min_df=0.0001, vec__ngram_range=(1, 1), vec__stop_words=None; total time=   0.5s\n"
     ]
    },
    {
     "name": "stderr",
     "output_type": "stream",
     "text": [
      "/Users/dhruvchopra/opt/anaconda3/envs/ddp/lib/python3.8/site-packages/sklearn/svm/_classes.py:32: FutureWarning: The default value of `dual` will change from `True` to `'auto'` in 1.5. Set the value of `dual` explicitly to suppress the warning.\n",
      "  warnings.warn(\n"
     ]
    },
    {
     "name": "stdout",
     "output_type": "stream",
     "text": [
      "[CV] END svc__C=5, svc__max_iter=6000, svc__penalty=l2, svc__random_state=42, vec__max_df=0.99, vec__min_df=0.0001, vec__ngram_range=(1, 1), vec__stop_words=None; total time=   0.7s\n"
     ]
    },
    {
     "name": "stderr",
     "output_type": "stream",
     "text": [
      "/Users/dhruvchopra/opt/anaconda3/envs/ddp/lib/python3.8/site-packages/sklearn/svm/_classes.py:32: FutureWarning: The default value of `dual` will change from `True` to `'auto'` in 1.5. Set the value of `dual` explicitly to suppress the warning.\n",
      "  warnings.warn(\n"
     ]
    },
    {
     "name": "stdout",
     "output_type": "stream",
     "text": [
      "[CV] END svc__C=5, svc__max_iter=6000, svc__penalty=l2, svc__random_state=42, vec__max_df=0.99, vec__min_df=0.0001, vec__ngram_range=(1, 1), vec__stop_words=None; total time=   0.6s\n"
     ]
    },
    {
     "name": "stderr",
     "output_type": "stream",
     "text": [
      "/Users/dhruvchopra/opt/anaconda3/envs/ddp/lib/python3.8/site-packages/sklearn/svm/_classes.py:32: FutureWarning: The default value of `dual` will change from `True` to `'auto'` in 1.5. Set the value of `dual` explicitly to suppress the warning.\n",
      "  warnings.warn(\n"
     ]
    },
    {
     "name": "stdout",
     "output_type": "stream",
     "text": [
      "[CV] END svc__C=5, svc__max_iter=6000, svc__penalty=l2, svc__random_state=42, vec__max_df=0.99, vec__min_df=0.0001, vec__ngram_range=(1, 1), vec__stop_words=None; total time=   0.6s\n"
     ]
    },
    {
     "name": "stderr",
     "output_type": "stream",
     "text": [
      "/Users/dhruvchopra/opt/anaconda3/envs/ddp/lib/python3.8/site-packages/sklearn/svm/_classes.py:32: FutureWarning: The default value of `dual` will change from `True` to `'auto'` in 1.5. Set the value of `dual` explicitly to suppress the warning.\n",
      "  warnings.warn(\n"
     ]
    },
    {
     "name": "stdout",
     "output_type": "stream",
     "text": [
      "[CV] END svc__C=5, svc__max_iter=6000, svc__penalty=l2, svc__random_state=42, vec__max_df=0.99, vec__min_df=0.0001, vec__ngram_range=(1, 2), vec__stop_words=None; total time=   1.4s\n"
     ]
    },
    {
     "name": "stderr",
     "output_type": "stream",
     "text": [
      "/Users/dhruvchopra/opt/anaconda3/envs/ddp/lib/python3.8/site-packages/sklearn/svm/_classes.py:32: FutureWarning: The default value of `dual` will change from `True` to `'auto'` in 1.5. Set the value of `dual` explicitly to suppress the warning.\n",
      "  warnings.warn(\n"
     ]
    },
    {
     "name": "stdout",
     "output_type": "stream",
     "text": [
      "[CV] END svc__C=5, svc__max_iter=6000, svc__penalty=l2, svc__random_state=42, vec__max_df=0.99, vec__min_df=0.0001, vec__ngram_range=(1, 2), vec__stop_words=None; total time=   1.3s\n"
     ]
    },
    {
     "name": "stderr",
     "output_type": "stream",
     "text": [
      "/Users/dhruvchopra/opt/anaconda3/envs/ddp/lib/python3.8/site-packages/sklearn/svm/_classes.py:32: FutureWarning: The default value of `dual` will change from `True` to `'auto'` in 1.5. Set the value of `dual` explicitly to suppress the warning.\n",
      "  warnings.warn(\n"
     ]
    },
    {
     "name": "stdout",
     "output_type": "stream",
     "text": [
      "[CV] END svc__C=5, svc__max_iter=6000, svc__penalty=l2, svc__random_state=42, vec__max_df=0.99, vec__min_df=0.0001, vec__ngram_range=(1, 2), vec__stop_words=None; total time=   1.7s\n"
     ]
    },
    {
     "name": "stderr",
     "output_type": "stream",
     "text": [
      "/Users/dhruvchopra/opt/anaconda3/envs/ddp/lib/python3.8/site-packages/sklearn/svm/_classes.py:32: FutureWarning: The default value of `dual` will change from `True` to `'auto'` in 1.5. Set the value of `dual` explicitly to suppress the warning.\n",
      "  warnings.warn(\n"
     ]
    },
    {
     "name": "stdout",
     "output_type": "stream",
     "text": [
      "[CV] END svc__C=5, svc__max_iter=6000, svc__penalty=l2, svc__random_state=42, vec__max_df=0.99, vec__min_df=0.0001, vec__ngram_range=(1, 2), vec__stop_words=None; total time=   1.3s\n"
     ]
    },
    {
     "name": "stderr",
     "output_type": "stream",
     "text": [
      "/Users/dhruvchopra/opt/anaconda3/envs/ddp/lib/python3.8/site-packages/sklearn/svm/_classes.py:32: FutureWarning: The default value of `dual` will change from `True` to `'auto'` in 1.5. Set the value of `dual` explicitly to suppress the warning.\n",
      "  warnings.warn(\n"
     ]
    },
    {
     "name": "stdout",
     "output_type": "stream",
     "text": [
      "[CV] END svc__C=5, svc__max_iter=6000, svc__penalty=l2, svc__random_state=42, vec__max_df=0.99, vec__min_df=0.0001, vec__ngram_range=(1, 2), vec__stop_words=None; total time=   1.3s\n",
      "[CV] END svc__C=5, svc__max_iter=6000, svc__penalty=l2, svc__random_state=42, vec__max_df=0.99, vec__min_df=0, vec__ngram_range=(1, 1), vec__stop_words=None; total time=   0.0s\n",
      "[CV] END svc__C=5, svc__max_iter=6000, svc__penalty=l2, svc__random_state=42, vec__max_df=0.99, vec__min_df=0, vec__ngram_range=(1, 1), vec__stop_words=None; total time=   0.0s\n",
      "[CV] END svc__C=5, svc__max_iter=6000, svc__penalty=l2, svc__random_state=42, vec__max_df=0.99, vec__min_df=0, vec__ngram_range=(1, 1), vec__stop_words=None; total time=   0.0s\n",
      "[CV] END svc__C=5, svc__max_iter=6000, svc__penalty=l2, svc__random_state=42, vec__max_df=0.99, vec__min_df=0, vec__ngram_range=(1, 1), vec__stop_words=None; total time=   0.0s\n",
      "[CV] END svc__C=5, svc__max_iter=6000, svc__penalty=l2, svc__random_state=42, vec__max_df=0.99, vec__min_df=0, vec__ngram_range=(1, 1), vec__stop_words=None; total time=   0.0s\n",
      "[CV] END svc__C=5, svc__max_iter=6000, svc__penalty=l2, svc__random_state=42, vec__max_df=0.99, vec__min_df=0, vec__ngram_range=(1, 2), vec__stop_words=None; total time=   0.0s\n",
      "[CV] END svc__C=5, svc__max_iter=6000, svc__penalty=l2, svc__random_state=42, vec__max_df=0.99, vec__min_df=0, vec__ngram_range=(1, 2), vec__stop_words=None; total time=   0.0s\n",
      "[CV] END svc__C=5, svc__max_iter=6000, svc__penalty=l2, svc__random_state=42, vec__max_df=0.99, vec__min_df=0, vec__ngram_range=(1, 2), vec__stop_words=None; total time=   0.0s\n",
      "[CV] END svc__C=5, svc__max_iter=6000, svc__penalty=l2, svc__random_state=42, vec__max_df=0.99, vec__min_df=0, vec__ngram_range=(1, 2), vec__stop_words=None; total time=   0.0s\n",
      "[CV] END svc__C=5, svc__max_iter=6000, svc__penalty=l2, svc__random_state=42, vec__max_df=0.99, vec__min_df=0, vec__ngram_range=(1, 2), vec__stop_words=None; total time=   0.0s\n"
     ]
    },
    {
     "name": "stderr",
     "output_type": "stream",
     "text": [
      "/Users/dhruvchopra/opt/anaconda3/envs/ddp/lib/python3.8/site-packages/sklearn/svm/_classes.py:32: FutureWarning: The default value of `dual` will change from `True` to `'auto'` in 1.5. Set the value of `dual` explicitly to suppress the warning.\n",
      "  warnings.warn(\n"
     ]
    },
    {
     "name": "stdout",
     "output_type": "stream",
     "text": [
      "[CV] END svc__C=10, svc__max_iter=6000, svc__penalty=l2, svc__random_state=42, vec__max_df=0.8, vec__min_df=0.01, vec__ngram_range=(1, 1), vec__stop_words=None; total time=   0.9s\n"
     ]
    },
    {
     "name": "stderr",
     "output_type": "stream",
     "text": [
      "/Users/dhruvchopra/opt/anaconda3/envs/ddp/lib/python3.8/site-packages/sklearn/svm/_classes.py:32: FutureWarning: The default value of `dual` will change from `True` to `'auto'` in 1.5. Set the value of `dual` explicitly to suppress the warning.\n",
      "  warnings.warn(\n"
     ]
    },
    {
     "name": "stdout",
     "output_type": "stream",
     "text": [
      "[CV] END svc__C=10, svc__max_iter=6000, svc__penalty=l2, svc__random_state=42, vec__max_df=0.8, vec__min_df=0.01, vec__ngram_range=(1, 1), vec__stop_words=None; total time=   0.5s\n"
     ]
    },
    {
     "name": "stderr",
     "output_type": "stream",
     "text": [
      "/Users/dhruvchopra/opt/anaconda3/envs/ddp/lib/python3.8/site-packages/sklearn/svm/_classes.py:32: FutureWarning: The default value of `dual` will change from `True` to `'auto'` in 1.5. Set the value of `dual` explicitly to suppress the warning.\n",
      "  warnings.warn(\n"
     ]
    },
    {
     "name": "stdout",
     "output_type": "stream",
     "text": [
      "[CV] END svc__C=10, svc__max_iter=6000, svc__penalty=l2, svc__random_state=42, vec__max_df=0.8, vec__min_df=0.01, vec__ngram_range=(1, 1), vec__stop_words=None; total time=   0.7s\n"
     ]
    },
    {
     "name": "stderr",
     "output_type": "stream",
     "text": [
      "/Users/dhruvchopra/opt/anaconda3/envs/ddp/lib/python3.8/site-packages/sklearn/svm/_classes.py:32: FutureWarning: The default value of `dual` will change from `True` to `'auto'` in 1.5. Set the value of `dual` explicitly to suppress the warning.\n",
      "  warnings.warn(\n"
     ]
    },
    {
     "name": "stdout",
     "output_type": "stream",
     "text": [
      "[CV] END svc__C=10, svc__max_iter=6000, svc__penalty=l2, svc__random_state=42, vec__max_df=0.8, vec__min_df=0.01, vec__ngram_range=(1, 1), vec__stop_words=None; total time=   0.7s\n"
     ]
    },
    {
     "name": "stderr",
     "output_type": "stream",
     "text": [
      "/Users/dhruvchopra/opt/anaconda3/envs/ddp/lib/python3.8/site-packages/sklearn/svm/_classes.py:32: FutureWarning: The default value of `dual` will change from `True` to `'auto'` in 1.5. Set the value of `dual` explicitly to suppress the warning.\n",
      "  warnings.warn(\n"
     ]
    },
    {
     "name": "stdout",
     "output_type": "stream",
     "text": [
      "[CV] END svc__C=10, svc__max_iter=6000, svc__penalty=l2, svc__random_state=42, vec__max_df=0.8, vec__min_df=0.01, vec__ngram_range=(1, 1), vec__stop_words=None; total time=   0.9s\n"
     ]
    },
    {
     "name": "stderr",
     "output_type": "stream",
     "text": [
      "/Users/dhruvchopra/opt/anaconda3/envs/ddp/lib/python3.8/site-packages/sklearn/svm/_classes.py:32: FutureWarning: The default value of `dual` will change from `True` to `'auto'` in 1.5. Set the value of `dual` explicitly to suppress the warning.\n",
      "  warnings.warn(\n"
     ]
    },
    {
     "name": "stdout",
     "output_type": "stream",
     "text": [
      "[CV] END svc__C=10, svc__max_iter=6000, svc__penalty=l2, svc__random_state=42, vec__max_df=0.8, vec__min_df=0.01, vec__ngram_range=(1, 2), vec__stop_words=None; total time=   1.2s\n"
     ]
    },
    {
     "name": "stderr",
     "output_type": "stream",
     "text": [
      "/Users/dhruvchopra/opt/anaconda3/envs/ddp/lib/python3.8/site-packages/sklearn/svm/_classes.py:32: FutureWarning: The default value of `dual` will change from `True` to `'auto'` in 1.5. Set the value of `dual` explicitly to suppress the warning.\n",
      "  warnings.warn(\n"
     ]
    },
    {
     "name": "stdout",
     "output_type": "stream",
     "text": [
      "[CV] END svc__C=10, svc__max_iter=6000, svc__penalty=l2, svc__random_state=42, vec__max_df=0.8, vec__min_df=0.01, vec__ngram_range=(1, 2), vec__stop_words=None; total time=   1.0s\n"
     ]
    },
    {
     "name": "stderr",
     "output_type": "stream",
     "text": [
      "/Users/dhruvchopra/opt/anaconda3/envs/ddp/lib/python3.8/site-packages/sklearn/svm/_classes.py:32: FutureWarning: The default value of `dual` will change from `True` to `'auto'` in 1.5. Set the value of `dual` explicitly to suppress the warning.\n",
      "  warnings.warn(\n"
     ]
    },
    {
     "name": "stdout",
     "output_type": "stream",
     "text": [
      "[CV] END svc__C=10, svc__max_iter=6000, svc__penalty=l2, svc__random_state=42, vec__max_df=0.8, vec__min_df=0.01, vec__ngram_range=(1, 2), vec__stop_words=None; total time=   1.1s\n"
     ]
    },
    {
     "name": "stderr",
     "output_type": "stream",
     "text": [
      "/Users/dhruvchopra/opt/anaconda3/envs/ddp/lib/python3.8/site-packages/sklearn/svm/_classes.py:32: FutureWarning: The default value of `dual` will change from `True` to `'auto'` in 1.5. Set the value of `dual` explicitly to suppress the warning.\n",
      "  warnings.warn(\n"
     ]
    },
    {
     "name": "stdout",
     "output_type": "stream",
     "text": [
      "[CV] END svc__C=10, svc__max_iter=6000, svc__penalty=l2, svc__random_state=42, vec__max_df=0.8, vec__min_df=0.01, vec__ngram_range=(1, 2), vec__stop_words=None; total time=   1.3s\n"
     ]
    },
    {
     "name": "stderr",
     "output_type": "stream",
     "text": [
      "/Users/dhruvchopra/opt/anaconda3/envs/ddp/lib/python3.8/site-packages/sklearn/svm/_classes.py:32: FutureWarning: The default value of `dual` will change from `True` to `'auto'` in 1.5. Set the value of `dual` explicitly to suppress the warning.\n",
      "  warnings.warn(\n"
     ]
    },
    {
     "name": "stdout",
     "output_type": "stream",
     "text": [
      "[CV] END svc__C=10, svc__max_iter=6000, svc__penalty=l2, svc__random_state=42, vec__max_df=0.8, vec__min_df=0.01, vec__ngram_range=(1, 2), vec__stop_words=None; total time=   0.8s\n"
     ]
    },
    {
     "name": "stderr",
     "output_type": "stream",
     "text": [
      "/Users/dhruvchopra/opt/anaconda3/envs/ddp/lib/python3.8/site-packages/sklearn/svm/_classes.py:32: FutureWarning: The default value of `dual` will change from `True` to `'auto'` in 1.5. Set the value of `dual` explicitly to suppress the warning.\n",
      "  warnings.warn(\n"
     ]
    },
    {
     "name": "stdout",
     "output_type": "stream",
     "text": [
      "[CV] END svc__C=10, svc__max_iter=6000, svc__penalty=l2, svc__random_state=42, vec__max_df=0.8, vec__min_df=0.001, vec__ngram_range=(1, 1), vec__stop_words=None; total time=   0.4s\n"
     ]
    },
    {
     "name": "stderr",
     "output_type": "stream",
     "text": [
      "/Users/dhruvchopra/opt/anaconda3/envs/ddp/lib/python3.8/site-packages/sklearn/svm/_classes.py:32: FutureWarning: The default value of `dual` will change from `True` to `'auto'` in 1.5. Set the value of `dual` explicitly to suppress the warning.\n",
      "  warnings.warn(\n"
     ]
    },
    {
     "name": "stdout",
     "output_type": "stream",
     "text": [
      "[CV] END svc__C=10, svc__max_iter=6000, svc__penalty=l2, svc__random_state=42, vec__max_df=0.8, vec__min_df=0.001, vec__ngram_range=(1, 1), vec__stop_words=None; total time=   0.4s\n"
     ]
    },
    {
     "name": "stderr",
     "output_type": "stream",
     "text": [
      "/Users/dhruvchopra/opt/anaconda3/envs/ddp/lib/python3.8/site-packages/sklearn/svm/_classes.py:32: FutureWarning: The default value of `dual` will change from `True` to `'auto'` in 1.5. Set the value of `dual` explicitly to suppress the warning.\n",
      "  warnings.warn(\n"
     ]
    },
    {
     "name": "stdout",
     "output_type": "stream",
     "text": [
      "[CV] END svc__C=10, svc__max_iter=6000, svc__penalty=l2, svc__random_state=42, vec__max_df=0.8, vec__min_df=0.001, vec__ngram_range=(1, 1), vec__stop_words=None; total time=   0.4s\n"
     ]
    },
    {
     "name": "stderr",
     "output_type": "stream",
     "text": [
      "/Users/dhruvchopra/opt/anaconda3/envs/ddp/lib/python3.8/site-packages/sklearn/svm/_classes.py:32: FutureWarning: The default value of `dual` will change from `True` to `'auto'` in 1.5. Set the value of `dual` explicitly to suppress the warning.\n",
      "  warnings.warn(\n"
     ]
    },
    {
     "name": "stdout",
     "output_type": "stream",
     "text": [
      "[CV] END svc__C=10, svc__max_iter=6000, svc__penalty=l2, svc__random_state=42, vec__max_df=0.8, vec__min_df=0.001, vec__ngram_range=(1, 1), vec__stop_words=None; total time=   0.4s\n"
     ]
    },
    {
     "name": "stderr",
     "output_type": "stream",
     "text": [
      "/Users/dhruvchopra/opt/anaconda3/envs/ddp/lib/python3.8/site-packages/sklearn/svm/_classes.py:32: FutureWarning: The default value of `dual` will change from `True` to `'auto'` in 1.5. Set the value of `dual` explicitly to suppress the warning.\n",
      "  warnings.warn(\n"
     ]
    },
    {
     "name": "stdout",
     "output_type": "stream",
     "text": [
      "[CV] END svc__C=10, svc__max_iter=6000, svc__penalty=l2, svc__random_state=42, vec__max_df=0.8, vec__min_df=0.001, vec__ngram_range=(1, 1), vec__stop_words=None; total time=   0.4s\n"
     ]
    },
    {
     "name": "stderr",
     "output_type": "stream",
     "text": [
      "/Users/dhruvchopra/opt/anaconda3/envs/ddp/lib/python3.8/site-packages/sklearn/svm/_classes.py:32: FutureWarning: The default value of `dual` will change from `True` to `'auto'` in 1.5. Set the value of `dual` explicitly to suppress the warning.\n",
      "  warnings.warn(\n"
     ]
    },
    {
     "name": "stdout",
     "output_type": "stream",
     "text": [
      "[CV] END svc__C=10, svc__max_iter=6000, svc__penalty=l2, svc__random_state=42, vec__max_df=0.8, vec__min_df=0.001, vec__ngram_range=(1, 2), vec__stop_words=None; total time=   0.8s\n"
     ]
    },
    {
     "name": "stderr",
     "output_type": "stream",
     "text": [
      "/Users/dhruvchopra/opt/anaconda3/envs/ddp/lib/python3.8/site-packages/sklearn/svm/_classes.py:32: FutureWarning: The default value of `dual` will change from `True` to `'auto'` in 1.5. Set the value of `dual` explicitly to suppress the warning.\n",
      "  warnings.warn(\n"
     ]
    },
    {
     "name": "stdout",
     "output_type": "stream",
     "text": [
      "[CV] END svc__C=10, svc__max_iter=6000, svc__penalty=l2, svc__random_state=42, vec__max_df=0.8, vec__min_df=0.001, vec__ngram_range=(1, 2), vec__stop_words=None; total time=   0.7s\n"
     ]
    },
    {
     "name": "stderr",
     "output_type": "stream",
     "text": [
      "/Users/dhruvchopra/opt/anaconda3/envs/ddp/lib/python3.8/site-packages/sklearn/svm/_classes.py:32: FutureWarning: The default value of `dual` will change from `True` to `'auto'` in 1.5. Set the value of `dual` explicitly to suppress the warning.\n",
      "  warnings.warn(\n"
     ]
    },
    {
     "name": "stdout",
     "output_type": "stream",
     "text": [
      "[CV] END svc__C=10, svc__max_iter=6000, svc__penalty=l2, svc__random_state=42, vec__max_df=0.8, vec__min_df=0.001, vec__ngram_range=(1, 2), vec__stop_words=None; total time=   0.7s\n"
     ]
    },
    {
     "name": "stderr",
     "output_type": "stream",
     "text": [
      "/Users/dhruvchopra/opt/anaconda3/envs/ddp/lib/python3.8/site-packages/sklearn/svm/_classes.py:32: FutureWarning: The default value of `dual` will change from `True` to `'auto'` in 1.5. Set the value of `dual` explicitly to suppress the warning.\n",
      "  warnings.warn(\n"
     ]
    },
    {
     "name": "stdout",
     "output_type": "stream",
     "text": [
      "[CV] END svc__C=10, svc__max_iter=6000, svc__penalty=l2, svc__random_state=42, vec__max_df=0.8, vec__min_df=0.001, vec__ngram_range=(1, 2), vec__stop_words=None; total time=   0.7s\n"
     ]
    },
    {
     "name": "stderr",
     "output_type": "stream",
     "text": [
      "/Users/dhruvchopra/opt/anaconda3/envs/ddp/lib/python3.8/site-packages/sklearn/svm/_classes.py:32: FutureWarning: The default value of `dual` will change from `True` to `'auto'` in 1.5. Set the value of `dual` explicitly to suppress the warning.\n",
      "  warnings.warn(\n"
     ]
    },
    {
     "name": "stdout",
     "output_type": "stream",
     "text": [
      "[CV] END svc__C=10, svc__max_iter=6000, svc__penalty=l2, svc__random_state=42, vec__max_df=0.8, vec__min_df=0.001, vec__ngram_range=(1, 2), vec__stop_words=None; total time=   0.8s\n"
     ]
    },
    {
     "name": "stderr",
     "output_type": "stream",
     "text": [
      "/Users/dhruvchopra/opt/anaconda3/envs/ddp/lib/python3.8/site-packages/sklearn/svm/_classes.py:32: FutureWarning: The default value of `dual` will change from `True` to `'auto'` in 1.5. Set the value of `dual` explicitly to suppress the warning.\n",
      "  warnings.warn(\n"
     ]
    },
    {
     "name": "stdout",
     "output_type": "stream",
     "text": [
      "[CV] END svc__C=10, svc__max_iter=6000, svc__penalty=l2, svc__random_state=42, vec__max_df=0.8, vec__min_df=0.0001, vec__ngram_range=(1, 1), vec__stop_words=None; total time=   0.4s\n"
     ]
    },
    {
     "name": "stderr",
     "output_type": "stream",
     "text": [
      "/Users/dhruvchopra/opt/anaconda3/envs/ddp/lib/python3.8/site-packages/sklearn/svm/_classes.py:32: FutureWarning: The default value of `dual` will change from `True` to `'auto'` in 1.5. Set the value of `dual` explicitly to suppress the warning.\n",
      "  warnings.warn(\n"
     ]
    },
    {
     "name": "stdout",
     "output_type": "stream",
     "text": [
      "[CV] END svc__C=10, svc__max_iter=6000, svc__penalty=l2, svc__random_state=42, vec__max_df=0.8, vec__min_df=0.0001, vec__ngram_range=(1, 1), vec__stop_words=None; total time=   0.4s\n"
     ]
    },
    {
     "name": "stderr",
     "output_type": "stream",
     "text": [
      "/Users/dhruvchopra/opt/anaconda3/envs/ddp/lib/python3.8/site-packages/sklearn/svm/_classes.py:32: FutureWarning: The default value of `dual` will change from `True` to `'auto'` in 1.5. Set the value of `dual` explicitly to suppress the warning.\n",
      "  warnings.warn(\n"
     ]
    },
    {
     "name": "stdout",
     "output_type": "stream",
     "text": [
      "[CV] END svc__C=10, svc__max_iter=6000, svc__penalty=l2, svc__random_state=42, vec__max_df=0.8, vec__min_df=0.0001, vec__ngram_range=(1, 1), vec__stop_words=None; total time=   0.4s\n"
     ]
    },
    {
     "name": "stderr",
     "output_type": "stream",
     "text": [
      "/Users/dhruvchopra/opt/anaconda3/envs/ddp/lib/python3.8/site-packages/sklearn/svm/_classes.py:32: FutureWarning: The default value of `dual` will change from `True` to `'auto'` in 1.5. Set the value of `dual` explicitly to suppress the warning.\n",
      "  warnings.warn(\n"
     ]
    },
    {
     "name": "stdout",
     "output_type": "stream",
     "text": [
      "[CV] END svc__C=10, svc__max_iter=6000, svc__penalty=l2, svc__random_state=42, vec__max_df=0.8, vec__min_df=0.0001, vec__ngram_range=(1, 1), vec__stop_words=None; total time=   0.4s\n"
     ]
    },
    {
     "name": "stderr",
     "output_type": "stream",
     "text": [
      "/Users/dhruvchopra/opt/anaconda3/envs/ddp/lib/python3.8/site-packages/sklearn/svm/_classes.py:32: FutureWarning: The default value of `dual` will change from `True` to `'auto'` in 1.5. Set the value of `dual` explicitly to suppress the warning.\n",
      "  warnings.warn(\n"
     ]
    },
    {
     "name": "stdout",
     "output_type": "stream",
     "text": [
      "[CV] END svc__C=10, svc__max_iter=6000, svc__penalty=l2, svc__random_state=42, vec__max_df=0.8, vec__min_df=0.0001, vec__ngram_range=(1, 1), vec__stop_words=None; total time=   0.4s\n"
     ]
    },
    {
     "name": "stderr",
     "output_type": "stream",
     "text": [
      "/Users/dhruvchopra/opt/anaconda3/envs/ddp/lib/python3.8/site-packages/sklearn/svm/_classes.py:32: FutureWarning: The default value of `dual` will change from `True` to `'auto'` in 1.5. Set the value of `dual` explicitly to suppress the warning.\n",
      "  warnings.warn(\n"
     ]
    },
    {
     "name": "stdout",
     "output_type": "stream",
     "text": [
      "[CV] END svc__C=10, svc__max_iter=6000, svc__penalty=l2, svc__random_state=42, vec__max_df=0.8, vec__min_df=0.0001, vec__ngram_range=(1, 2), vec__stop_words=None; total time=   1.1s\n"
     ]
    },
    {
     "name": "stderr",
     "output_type": "stream",
     "text": [
      "/Users/dhruvchopra/opt/anaconda3/envs/ddp/lib/python3.8/site-packages/sklearn/svm/_classes.py:32: FutureWarning: The default value of `dual` will change from `True` to `'auto'` in 1.5. Set the value of `dual` explicitly to suppress the warning.\n",
      "  warnings.warn(\n"
     ]
    },
    {
     "name": "stdout",
     "output_type": "stream",
     "text": [
      "[CV] END svc__C=10, svc__max_iter=6000, svc__penalty=l2, svc__random_state=42, vec__max_df=0.8, vec__min_df=0.0001, vec__ngram_range=(1, 2), vec__stop_words=None; total time=   1.1s\n"
     ]
    },
    {
     "name": "stderr",
     "output_type": "stream",
     "text": [
      "/Users/dhruvchopra/opt/anaconda3/envs/ddp/lib/python3.8/site-packages/sklearn/svm/_classes.py:32: FutureWarning: The default value of `dual` will change from `True` to `'auto'` in 1.5. Set the value of `dual` explicitly to suppress the warning.\n",
      "  warnings.warn(\n"
     ]
    },
    {
     "name": "stdout",
     "output_type": "stream",
     "text": [
      "[CV] END svc__C=10, svc__max_iter=6000, svc__penalty=l2, svc__random_state=42, vec__max_df=0.8, vec__min_df=0.0001, vec__ngram_range=(1, 2), vec__stop_words=None; total time=   1.2s\n"
     ]
    },
    {
     "name": "stderr",
     "output_type": "stream",
     "text": [
      "/Users/dhruvchopra/opt/anaconda3/envs/ddp/lib/python3.8/site-packages/sklearn/svm/_classes.py:32: FutureWarning: The default value of `dual` will change from `True` to `'auto'` in 1.5. Set the value of `dual` explicitly to suppress the warning.\n",
      "  warnings.warn(\n"
     ]
    },
    {
     "name": "stdout",
     "output_type": "stream",
     "text": [
      "[CV] END svc__C=10, svc__max_iter=6000, svc__penalty=l2, svc__random_state=42, vec__max_df=0.8, vec__min_df=0.0001, vec__ngram_range=(1, 2), vec__stop_words=None; total time=   1.1s\n"
     ]
    },
    {
     "name": "stderr",
     "output_type": "stream",
     "text": [
      "/Users/dhruvchopra/opt/anaconda3/envs/ddp/lib/python3.8/site-packages/sklearn/svm/_classes.py:32: FutureWarning: The default value of `dual` will change from `True` to `'auto'` in 1.5. Set the value of `dual` explicitly to suppress the warning.\n",
      "  warnings.warn(\n"
     ]
    },
    {
     "name": "stdout",
     "output_type": "stream",
     "text": [
      "[CV] END svc__C=10, svc__max_iter=6000, svc__penalty=l2, svc__random_state=42, vec__max_df=0.8, vec__min_df=0.0001, vec__ngram_range=(1, 2), vec__stop_words=None; total time=   0.9s\n",
      "[CV] END svc__C=10, svc__max_iter=6000, svc__penalty=l2, svc__random_state=42, vec__max_df=0.8, vec__min_df=0, vec__ngram_range=(1, 1), vec__stop_words=None; total time=   0.0s\n",
      "[CV] END svc__C=10, svc__max_iter=6000, svc__penalty=l2, svc__random_state=42, vec__max_df=0.8, vec__min_df=0, vec__ngram_range=(1, 1), vec__stop_words=None; total time=   0.0s\n",
      "[CV] END svc__C=10, svc__max_iter=6000, svc__penalty=l2, svc__random_state=42, vec__max_df=0.8, vec__min_df=0, vec__ngram_range=(1, 1), vec__stop_words=None; total time=   0.0s\n",
      "[CV] END svc__C=10, svc__max_iter=6000, svc__penalty=l2, svc__random_state=42, vec__max_df=0.8, vec__min_df=0, vec__ngram_range=(1, 1), vec__stop_words=None; total time=   0.0s\n",
      "[CV] END svc__C=10, svc__max_iter=6000, svc__penalty=l2, svc__random_state=42, vec__max_df=0.8, vec__min_df=0, vec__ngram_range=(1, 1), vec__stop_words=None; total time=   0.0s\n",
      "[CV] END svc__C=10, svc__max_iter=6000, svc__penalty=l2, svc__random_state=42, vec__max_df=0.8, vec__min_df=0, vec__ngram_range=(1, 2), vec__stop_words=None; total time=   0.0s\n",
      "[CV] END svc__C=10, svc__max_iter=6000, svc__penalty=l2, svc__random_state=42, vec__max_df=0.8, vec__min_df=0, vec__ngram_range=(1, 2), vec__stop_words=None; total time=   0.0s\n",
      "[CV] END svc__C=10, svc__max_iter=6000, svc__penalty=l2, svc__random_state=42, vec__max_df=0.8, vec__min_df=0, vec__ngram_range=(1, 2), vec__stop_words=None; total time=   0.0s\n",
      "[CV] END svc__C=10, svc__max_iter=6000, svc__penalty=l2, svc__random_state=42, vec__max_df=0.8, vec__min_df=0, vec__ngram_range=(1, 2), vec__stop_words=None; total time=   0.0s\n",
      "[CV] END svc__C=10, svc__max_iter=6000, svc__penalty=l2, svc__random_state=42, vec__max_df=0.8, vec__min_df=0, vec__ngram_range=(1, 2), vec__stop_words=None; total time=   0.0s\n"
     ]
    },
    {
     "name": "stderr",
     "output_type": "stream",
     "text": [
      "/Users/dhruvchopra/opt/anaconda3/envs/ddp/lib/python3.8/site-packages/sklearn/svm/_classes.py:32: FutureWarning: The default value of `dual` will change from `True` to `'auto'` in 1.5. Set the value of `dual` explicitly to suppress the warning.\n",
      "  warnings.warn(\n"
     ]
    },
    {
     "name": "stdout",
     "output_type": "stream",
     "text": [
      "[CV] END svc__C=10, svc__max_iter=6000, svc__penalty=l2, svc__random_state=42, vec__max_df=0.85, vec__min_df=0.01, vec__ngram_range=(1, 1), vec__stop_words=None; total time=   0.5s\n"
     ]
    },
    {
     "name": "stderr",
     "output_type": "stream",
     "text": [
      "/Users/dhruvchopra/opt/anaconda3/envs/ddp/lib/python3.8/site-packages/sklearn/svm/_classes.py:32: FutureWarning: The default value of `dual` will change from `True` to `'auto'` in 1.5. Set the value of `dual` explicitly to suppress the warning.\n",
      "  warnings.warn(\n"
     ]
    },
    {
     "name": "stdout",
     "output_type": "stream",
     "text": [
      "[CV] END svc__C=10, svc__max_iter=6000, svc__penalty=l2, svc__random_state=42, vec__max_df=0.85, vec__min_df=0.01, vec__ngram_range=(1, 1), vec__stop_words=None; total time=   0.5s\n"
     ]
    },
    {
     "name": "stderr",
     "output_type": "stream",
     "text": [
      "/Users/dhruvchopra/opt/anaconda3/envs/ddp/lib/python3.8/site-packages/sklearn/svm/_classes.py:32: FutureWarning: The default value of `dual` will change from `True` to `'auto'` in 1.5. Set the value of `dual` explicitly to suppress the warning.\n",
      "  warnings.warn(\n"
     ]
    },
    {
     "name": "stdout",
     "output_type": "stream",
     "text": [
      "[CV] END svc__C=10, svc__max_iter=6000, svc__penalty=l2, svc__random_state=42, vec__max_df=0.85, vec__min_df=0.01, vec__ngram_range=(1, 1), vec__stop_words=None; total time=   0.5s\n"
     ]
    },
    {
     "name": "stderr",
     "output_type": "stream",
     "text": [
      "/Users/dhruvchopra/opt/anaconda3/envs/ddp/lib/python3.8/site-packages/sklearn/svm/_classes.py:32: FutureWarning: The default value of `dual` will change from `True` to `'auto'` in 1.5. Set the value of `dual` explicitly to suppress the warning.\n",
      "  warnings.warn(\n"
     ]
    },
    {
     "name": "stdout",
     "output_type": "stream",
     "text": [
      "[CV] END svc__C=10, svc__max_iter=6000, svc__penalty=l2, svc__random_state=42, vec__max_df=0.85, vec__min_df=0.01, vec__ngram_range=(1, 1), vec__stop_words=None; total time=   0.6s\n"
     ]
    },
    {
     "name": "stderr",
     "output_type": "stream",
     "text": [
      "/Users/dhruvchopra/opt/anaconda3/envs/ddp/lib/python3.8/site-packages/sklearn/svm/_classes.py:32: FutureWarning: The default value of `dual` will change from `True` to `'auto'` in 1.5. Set the value of `dual` explicitly to suppress the warning.\n",
      "  warnings.warn(\n"
     ]
    },
    {
     "name": "stdout",
     "output_type": "stream",
     "text": [
      "[CV] END svc__C=10, svc__max_iter=6000, svc__penalty=l2, svc__random_state=42, vec__max_df=0.85, vec__min_df=0.01, vec__ngram_range=(1, 1), vec__stop_words=None; total time=   0.5s\n"
     ]
    },
    {
     "name": "stderr",
     "output_type": "stream",
     "text": [
      "/Users/dhruvchopra/opt/anaconda3/envs/ddp/lib/python3.8/site-packages/sklearn/svm/_classes.py:32: FutureWarning: The default value of `dual` will change from `True` to `'auto'` in 1.5. Set the value of `dual` explicitly to suppress the warning.\n",
      "  warnings.warn(\n"
     ]
    },
    {
     "name": "stdout",
     "output_type": "stream",
     "text": [
      "[CV] END svc__C=10, svc__max_iter=6000, svc__penalty=l2, svc__random_state=42, vec__max_df=0.85, vec__min_df=0.01, vec__ngram_range=(1, 2), vec__stop_words=None; total time=   0.8s\n"
     ]
    },
    {
     "name": "stderr",
     "output_type": "stream",
     "text": [
      "/Users/dhruvchopra/opt/anaconda3/envs/ddp/lib/python3.8/site-packages/sklearn/svm/_classes.py:32: FutureWarning: The default value of `dual` will change from `True` to `'auto'` in 1.5. Set the value of `dual` explicitly to suppress the warning.\n",
      "  warnings.warn(\n"
     ]
    },
    {
     "name": "stdout",
     "output_type": "stream",
     "text": [
      "[CV] END svc__C=10, svc__max_iter=6000, svc__penalty=l2, svc__random_state=42, vec__max_df=0.85, vec__min_df=0.01, vec__ngram_range=(1, 2), vec__stop_words=None; total time=   0.8s\n"
     ]
    },
    {
     "name": "stderr",
     "output_type": "stream",
     "text": [
      "/Users/dhruvchopra/opt/anaconda3/envs/ddp/lib/python3.8/site-packages/sklearn/svm/_classes.py:32: FutureWarning: The default value of `dual` will change from `True` to `'auto'` in 1.5. Set the value of `dual` explicitly to suppress the warning.\n",
      "  warnings.warn(\n"
     ]
    },
    {
     "name": "stdout",
     "output_type": "stream",
     "text": [
      "[CV] END svc__C=10, svc__max_iter=6000, svc__penalty=l2, svc__random_state=42, vec__max_df=0.85, vec__min_df=0.01, vec__ngram_range=(1, 2), vec__stop_words=None; total time=   0.8s\n"
     ]
    },
    {
     "name": "stderr",
     "output_type": "stream",
     "text": [
      "/Users/dhruvchopra/opt/anaconda3/envs/ddp/lib/python3.8/site-packages/sklearn/svm/_classes.py:32: FutureWarning: The default value of `dual` will change from `True` to `'auto'` in 1.5. Set the value of `dual` explicitly to suppress the warning.\n",
      "  warnings.warn(\n"
     ]
    },
    {
     "name": "stdout",
     "output_type": "stream",
     "text": [
      "[CV] END svc__C=10, svc__max_iter=6000, svc__penalty=l2, svc__random_state=42, vec__max_df=0.85, vec__min_df=0.01, vec__ngram_range=(1, 2), vec__stop_words=None; total time=   0.8s\n"
     ]
    },
    {
     "name": "stderr",
     "output_type": "stream",
     "text": [
      "/Users/dhruvchopra/opt/anaconda3/envs/ddp/lib/python3.8/site-packages/sklearn/svm/_classes.py:32: FutureWarning: The default value of `dual` will change from `True` to `'auto'` in 1.5. Set the value of `dual` explicitly to suppress the warning.\n",
      "  warnings.warn(\n"
     ]
    },
    {
     "name": "stdout",
     "output_type": "stream",
     "text": [
      "[CV] END svc__C=10, svc__max_iter=6000, svc__penalty=l2, svc__random_state=42, vec__max_df=0.85, vec__min_df=0.01, vec__ngram_range=(1, 2), vec__stop_words=None; total time=   0.8s\n"
     ]
    },
    {
     "name": "stderr",
     "output_type": "stream",
     "text": [
      "/Users/dhruvchopra/opt/anaconda3/envs/ddp/lib/python3.8/site-packages/sklearn/svm/_classes.py:32: FutureWarning: The default value of `dual` will change from `True` to `'auto'` in 1.5. Set the value of `dual` explicitly to suppress the warning.\n",
      "  warnings.warn(\n"
     ]
    },
    {
     "name": "stdout",
     "output_type": "stream",
     "text": [
      "[CV] END svc__C=10, svc__max_iter=6000, svc__penalty=l2, svc__random_state=42, vec__max_df=0.85, vec__min_df=0.001, vec__ngram_range=(1, 1), vec__stop_words=None; total time=   0.4s\n"
     ]
    },
    {
     "name": "stderr",
     "output_type": "stream",
     "text": [
      "/Users/dhruvchopra/opt/anaconda3/envs/ddp/lib/python3.8/site-packages/sklearn/svm/_classes.py:32: FutureWarning: The default value of `dual` will change from `True` to `'auto'` in 1.5. Set the value of `dual` explicitly to suppress the warning.\n",
      "  warnings.warn(\n"
     ]
    },
    {
     "name": "stdout",
     "output_type": "stream",
     "text": [
      "[CV] END svc__C=10, svc__max_iter=6000, svc__penalty=l2, svc__random_state=42, vec__max_df=0.85, vec__min_df=0.001, vec__ngram_range=(1, 1), vec__stop_words=None; total time=   0.4s\n"
     ]
    },
    {
     "name": "stderr",
     "output_type": "stream",
     "text": [
      "/Users/dhruvchopra/opt/anaconda3/envs/ddp/lib/python3.8/site-packages/sklearn/svm/_classes.py:32: FutureWarning: The default value of `dual` will change from `True` to `'auto'` in 1.5. Set the value of `dual` explicitly to suppress the warning.\n",
      "  warnings.warn(\n"
     ]
    },
    {
     "name": "stdout",
     "output_type": "stream",
     "text": [
      "[CV] END svc__C=10, svc__max_iter=6000, svc__penalty=l2, svc__random_state=42, vec__max_df=0.85, vec__min_df=0.001, vec__ngram_range=(1, 1), vec__stop_words=None; total time=   0.5s\n"
     ]
    },
    {
     "name": "stderr",
     "output_type": "stream",
     "text": [
      "/Users/dhruvchopra/opt/anaconda3/envs/ddp/lib/python3.8/site-packages/sklearn/svm/_classes.py:32: FutureWarning: The default value of `dual` will change from `True` to `'auto'` in 1.5. Set the value of `dual` explicitly to suppress the warning.\n",
      "  warnings.warn(\n"
     ]
    },
    {
     "name": "stdout",
     "output_type": "stream",
     "text": [
      "[CV] END svc__C=10, svc__max_iter=6000, svc__penalty=l2, svc__random_state=42, vec__max_df=0.85, vec__min_df=0.001, vec__ngram_range=(1, 1), vec__stop_words=None; total time=   0.5s\n"
     ]
    },
    {
     "name": "stderr",
     "output_type": "stream",
     "text": [
      "/Users/dhruvchopra/opt/anaconda3/envs/ddp/lib/python3.8/site-packages/sklearn/svm/_classes.py:32: FutureWarning: The default value of `dual` will change from `True` to `'auto'` in 1.5. Set the value of `dual` explicitly to suppress the warning.\n",
      "  warnings.warn(\n"
     ]
    },
    {
     "name": "stdout",
     "output_type": "stream",
     "text": [
      "[CV] END svc__C=10, svc__max_iter=6000, svc__penalty=l2, svc__random_state=42, vec__max_df=0.85, vec__min_df=0.001, vec__ngram_range=(1, 1), vec__stop_words=None; total time=   0.4s\n"
     ]
    },
    {
     "name": "stderr",
     "output_type": "stream",
     "text": [
      "/Users/dhruvchopra/opt/anaconda3/envs/ddp/lib/python3.8/site-packages/sklearn/svm/_classes.py:32: FutureWarning: The default value of `dual` will change from `True` to `'auto'` in 1.5. Set the value of `dual` explicitly to suppress the warning.\n",
      "  warnings.warn(\n"
     ]
    },
    {
     "name": "stdout",
     "output_type": "stream",
     "text": [
      "[CV] END svc__C=10, svc__max_iter=6000, svc__penalty=l2, svc__random_state=42, vec__max_df=0.85, vec__min_df=0.001, vec__ngram_range=(1, 2), vec__stop_words=None; total time=   0.9s\n"
     ]
    },
    {
     "name": "stderr",
     "output_type": "stream",
     "text": [
      "/Users/dhruvchopra/opt/anaconda3/envs/ddp/lib/python3.8/site-packages/sklearn/svm/_classes.py:32: FutureWarning: The default value of `dual` will change from `True` to `'auto'` in 1.5. Set the value of `dual` explicitly to suppress the warning.\n",
      "  warnings.warn(\n"
     ]
    },
    {
     "name": "stdout",
     "output_type": "stream",
     "text": [
      "[CV] END svc__C=10, svc__max_iter=6000, svc__penalty=l2, svc__random_state=42, vec__max_df=0.85, vec__min_df=0.001, vec__ngram_range=(1, 2), vec__stop_words=None; total time=   0.7s\n"
     ]
    },
    {
     "name": "stderr",
     "output_type": "stream",
     "text": [
      "/Users/dhruvchopra/opt/anaconda3/envs/ddp/lib/python3.8/site-packages/sklearn/svm/_classes.py:32: FutureWarning: The default value of `dual` will change from `True` to `'auto'` in 1.5. Set the value of `dual` explicitly to suppress the warning.\n",
      "  warnings.warn(\n"
     ]
    },
    {
     "name": "stdout",
     "output_type": "stream",
     "text": [
      "[CV] END svc__C=10, svc__max_iter=6000, svc__penalty=l2, svc__random_state=42, vec__max_df=0.85, vec__min_df=0.001, vec__ngram_range=(1, 2), vec__stop_words=None; total time=   0.9s\n"
     ]
    },
    {
     "name": "stderr",
     "output_type": "stream",
     "text": [
      "/Users/dhruvchopra/opt/anaconda3/envs/ddp/lib/python3.8/site-packages/sklearn/svm/_classes.py:32: FutureWarning: The default value of `dual` will change from `True` to `'auto'` in 1.5. Set the value of `dual` explicitly to suppress the warning.\n",
      "  warnings.warn(\n"
     ]
    },
    {
     "name": "stdout",
     "output_type": "stream",
     "text": [
      "[CV] END svc__C=10, svc__max_iter=6000, svc__penalty=l2, svc__random_state=42, vec__max_df=0.85, vec__min_df=0.001, vec__ngram_range=(1, 2), vec__stop_words=None; total time=   1.2s\n"
     ]
    },
    {
     "name": "stderr",
     "output_type": "stream",
     "text": [
      "/Users/dhruvchopra/opt/anaconda3/envs/ddp/lib/python3.8/site-packages/sklearn/svm/_classes.py:32: FutureWarning: The default value of `dual` will change from `True` to `'auto'` in 1.5. Set the value of `dual` explicitly to suppress the warning.\n",
      "  warnings.warn(\n"
     ]
    },
    {
     "name": "stdout",
     "output_type": "stream",
     "text": [
      "[CV] END svc__C=10, svc__max_iter=6000, svc__penalty=l2, svc__random_state=42, vec__max_df=0.85, vec__min_df=0.001, vec__ngram_range=(1, 2), vec__stop_words=None; total time=   1.1s\n"
     ]
    },
    {
     "name": "stderr",
     "output_type": "stream",
     "text": [
      "/Users/dhruvchopra/opt/anaconda3/envs/ddp/lib/python3.8/site-packages/sklearn/svm/_classes.py:32: FutureWarning: The default value of `dual` will change from `True` to `'auto'` in 1.5. Set the value of `dual` explicitly to suppress the warning.\n",
      "  warnings.warn(\n"
     ]
    },
    {
     "name": "stdout",
     "output_type": "stream",
     "text": [
      "[CV] END svc__C=10, svc__max_iter=6000, svc__penalty=l2, svc__random_state=42, vec__max_df=0.85, vec__min_df=0.0001, vec__ngram_range=(1, 1), vec__stop_words=None; total time=   0.8s\n"
     ]
    },
    {
     "name": "stderr",
     "output_type": "stream",
     "text": [
      "/Users/dhruvchopra/opt/anaconda3/envs/ddp/lib/python3.8/site-packages/sklearn/svm/_classes.py:32: FutureWarning: The default value of `dual` will change from `True` to `'auto'` in 1.5. Set the value of `dual` explicitly to suppress the warning.\n",
      "  warnings.warn(\n"
     ]
    },
    {
     "name": "stdout",
     "output_type": "stream",
     "text": [
      "[CV] END svc__C=10, svc__max_iter=6000, svc__penalty=l2, svc__random_state=42, vec__max_df=0.85, vec__min_df=0.0001, vec__ngram_range=(1, 1), vec__stop_words=None; total time=   0.5s\n"
     ]
    },
    {
     "name": "stderr",
     "output_type": "stream",
     "text": [
      "/Users/dhruvchopra/opt/anaconda3/envs/ddp/lib/python3.8/site-packages/sklearn/svm/_classes.py:32: FutureWarning: The default value of `dual` will change from `True` to `'auto'` in 1.5. Set the value of `dual` explicitly to suppress the warning.\n",
      "  warnings.warn(\n"
     ]
    },
    {
     "name": "stdout",
     "output_type": "stream",
     "text": [
      "[CV] END svc__C=10, svc__max_iter=6000, svc__penalty=l2, svc__random_state=42, vec__max_df=0.85, vec__min_df=0.0001, vec__ngram_range=(1, 1), vec__stop_words=None; total time=   0.5s\n"
     ]
    },
    {
     "name": "stderr",
     "output_type": "stream",
     "text": [
      "/Users/dhruvchopra/opt/anaconda3/envs/ddp/lib/python3.8/site-packages/sklearn/svm/_classes.py:32: FutureWarning: The default value of `dual` will change from `True` to `'auto'` in 1.5. Set the value of `dual` explicitly to suppress the warning.\n",
      "  warnings.warn(\n"
     ]
    },
    {
     "name": "stdout",
     "output_type": "stream",
     "text": [
      "[CV] END svc__C=10, svc__max_iter=6000, svc__penalty=l2, svc__random_state=42, vec__max_df=0.85, vec__min_df=0.0001, vec__ngram_range=(1, 1), vec__stop_words=None; total time=   0.5s\n"
     ]
    },
    {
     "name": "stderr",
     "output_type": "stream",
     "text": [
      "/Users/dhruvchopra/opt/anaconda3/envs/ddp/lib/python3.8/site-packages/sklearn/svm/_classes.py:32: FutureWarning: The default value of `dual` will change from `True` to `'auto'` in 1.5. Set the value of `dual` explicitly to suppress the warning.\n",
      "  warnings.warn(\n"
     ]
    },
    {
     "name": "stdout",
     "output_type": "stream",
     "text": [
      "[CV] END svc__C=10, svc__max_iter=6000, svc__penalty=l2, svc__random_state=42, vec__max_df=0.85, vec__min_df=0.0001, vec__ngram_range=(1, 1), vec__stop_words=None; total time=   0.4s\n"
     ]
    },
    {
     "name": "stderr",
     "output_type": "stream",
     "text": [
      "/Users/dhruvchopra/opt/anaconda3/envs/ddp/lib/python3.8/site-packages/sklearn/svm/_classes.py:32: FutureWarning: The default value of `dual` will change from `True` to `'auto'` in 1.5. Set the value of `dual` explicitly to suppress the warning.\n",
      "  warnings.warn(\n"
     ]
    },
    {
     "name": "stdout",
     "output_type": "stream",
     "text": [
      "[CV] END svc__C=10, svc__max_iter=6000, svc__penalty=l2, svc__random_state=42, vec__max_df=0.85, vec__min_df=0.0001, vec__ngram_range=(1, 2), vec__stop_words=None; total time=   1.1s\n"
     ]
    },
    {
     "name": "stderr",
     "output_type": "stream",
     "text": [
      "/Users/dhruvchopra/opt/anaconda3/envs/ddp/lib/python3.8/site-packages/sklearn/svm/_classes.py:32: FutureWarning: The default value of `dual` will change from `True` to `'auto'` in 1.5. Set the value of `dual` explicitly to suppress the warning.\n",
      "  warnings.warn(\n"
     ]
    },
    {
     "name": "stdout",
     "output_type": "stream",
     "text": [
      "[CV] END svc__C=10, svc__max_iter=6000, svc__penalty=l2, svc__random_state=42, vec__max_df=0.85, vec__min_df=0.0001, vec__ngram_range=(1, 2), vec__stop_words=None; total time=   1.2s\n"
     ]
    },
    {
     "name": "stderr",
     "output_type": "stream",
     "text": [
      "/Users/dhruvchopra/opt/anaconda3/envs/ddp/lib/python3.8/site-packages/sklearn/svm/_classes.py:32: FutureWarning: The default value of `dual` will change from `True` to `'auto'` in 1.5. Set the value of `dual` explicitly to suppress the warning.\n",
      "  warnings.warn(\n"
     ]
    },
    {
     "name": "stdout",
     "output_type": "stream",
     "text": [
      "[CV] END svc__C=10, svc__max_iter=6000, svc__penalty=l2, svc__random_state=42, vec__max_df=0.85, vec__min_df=0.0001, vec__ngram_range=(1, 2), vec__stop_words=None; total time=   1.2s\n"
     ]
    },
    {
     "name": "stderr",
     "output_type": "stream",
     "text": [
      "/Users/dhruvchopra/opt/anaconda3/envs/ddp/lib/python3.8/site-packages/sklearn/svm/_classes.py:32: FutureWarning: The default value of `dual` will change from `True` to `'auto'` in 1.5. Set the value of `dual` explicitly to suppress the warning.\n",
      "  warnings.warn(\n"
     ]
    },
    {
     "name": "stdout",
     "output_type": "stream",
     "text": [
      "[CV] END svc__C=10, svc__max_iter=6000, svc__penalty=l2, svc__random_state=42, vec__max_df=0.85, vec__min_df=0.0001, vec__ngram_range=(1, 2), vec__stop_words=None; total time=   1.2s\n"
     ]
    },
    {
     "name": "stderr",
     "output_type": "stream",
     "text": [
      "/Users/dhruvchopra/opt/anaconda3/envs/ddp/lib/python3.8/site-packages/sklearn/svm/_classes.py:32: FutureWarning: The default value of `dual` will change from `True` to `'auto'` in 1.5. Set the value of `dual` explicitly to suppress the warning.\n",
      "  warnings.warn(\n"
     ]
    },
    {
     "name": "stdout",
     "output_type": "stream",
     "text": [
      "[CV] END svc__C=10, svc__max_iter=6000, svc__penalty=l2, svc__random_state=42, vec__max_df=0.85, vec__min_df=0.0001, vec__ngram_range=(1, 2), vec__stop_words=None; total time=   0.9s\n",
      "[CV] END svc__C=10, svc__max_iter=6000, svc__penalty=l2, svc__random_state=42, vec__max_df=0.85, vec__min_df=0, vec__ngram_range=(1, 1), vec__stop_words=None; total time=   0.0s\n",
      "[CV] END svc__C=10, svc__max_iter=6000, svc__penalty=l2, svc__random_state=42, vec__max_df=0.85, vec__min_df=0, vec__ngram_range=(1, 1), vec__stop_words=None; total time=   0.0s\n",
      "[CV] END svc__C=10, svc__max_iter=6000, svc__penalty=l2, svc__random_state=42, vec__max_df=0.85, vec__min_df=0, vec__ngram_range=(1, 1), vec__stop_words=None; total time=   0.0s\n",
      "[CV] END svc__C=10, svc__max_iter=6000, svc__penalty=l2, svc__random_state=42, vec__max_df=0.85, vec__min_df=0, vec__ngram_range=(1, 1), vec__stop_words=None; total time=   0.0s\n",
      "[CV] END svc__C=10, svc__max_iter=6000, svc__penalty=l2, svc__random_state=42, vec__max_df=0.85, vec__min_df=0, vec__ngram_range=(1, 1), vec__stop_words=None; total time=   0.0s\n",
      "[CV] END svc__C=10, svc__max_iter=6000, svc__penalty=l2, svc__random_state=42, vec__max_df=0.85, vec__min_df=0, vec__ngram_range=(1, 2), vec__stop_words=None; total time=   0.0s\n",
      "[CV] END svc__C=10, svc__max_iter=6000, svc__penalty=l2, svc__random_state=42, vec__max_df=0.85, vec__min_df=0, vec__ngram_range=(1, 2), vec__stop_words=None; total time=   0.0s\n",
      "[CV] END svc__C=10, svc__max_iter=6000, svc__penalty=l2, svc__random_state=42, vec__max_df=0.85, vec__min_df=0, vec__ngram_range=(1, 2), vec__stop_words=None; total time=   0.0s\n",
      "[CV] END svc__C=10, svc__max_iter=6000, svc__penalty=l2, svc__random_state=42, vec__max_df=0.85, vec__min_df=0, vec__ngram_range=(1, 2), vec__stop_words=None; total time=   0.0s\n",
      "[CV] END svc__C=10, svc__max_iter=6000, svc__penalty=l2, svc__random_state=42, vec__max_df=0.85, vec__min_df=0, vec__ngram_range=(1, 2), vec__stop_words=None; total time=   0.0s\n"
     ]
    },
    {
     "name": "stderr",
     "output_type": "stream",
     "text": [
      "/Users/dhruvchopra/opt/anaconda3/envs/ddp/lib/python3.8/site-packages/sklearn/svm/_classes.py:32: FutureWarning: The default value of `dual` will change from `True` to `'auto'` in 1.5. Set the value of `dual` explicitly to suppress the warning.\n",
      "  warnings.warn(\n"
     ]
    },
    {
     "name": "stdout",
     "output_type": "stream",
     "text": [
      "[CV] END svc__C=10, svc__max_iter=6000, svc__penalty=l2, svc__random_state=42, vec__max_df=0.9, vec__min_df=0.01, vec__ngram_range=(1, 1), vec__stop_words=None; total time=   0.5s\n"
     ]
    },
    {
     "name": "stderr",
     "output_type": "stream",
     "text": [
      "/Users/dhruvchopra/opt/anaconda3/envs/ddp/lib/python3.8/site-packages/sklearn/svm/_classes.py:32: FutureWarning: The default value of `dual` will change from `True` to `'auto'` in 1.5. Set the value of `dual` explicitly to suppress the warning.\n",
      "  warnings.warn(\n"
     ]
    },
    {
     "name": "stdout",
     "output_type": "stream",
     "text": [
      "[CV] END svc__C=10, svc__max_iter=6000, svc__penalty=l2, svc__random_state=42, vec__max_df=0.9, vec__min_df=0.01, vec__ngram_range=(1, 1), vec__stop_words=None; total time=   0.6s\n"
     ]
    },
    {
     "name": "stderr",
     "output_type": "stream",
     "text": [
      "/Users/dhruvchopra/opt/anaconda3/envs/ddp/lib/python3.8/site-packages/sklearn/svm/_classes.py:32: FutureWarning: The default value of `dual` will change from `True` to `'auto'` in 1.5. Set the value of `dual` explicitly to suppress the warning.\n",
      "  warnings.warn(\n"
     ]
    },
    {
     "name": "stdout",
     "output_type": "stream",
     "text": [
      "[CV] END svc__C=10, svc__max_iter=6000, svc__penalty=l2, svc__random_state=42, vec__max_df=0.9, vec__min_df=0.01, vec__ngram_range=(1, 1), vec__stop_words=None; total time=   0.9s\n"
     ]
    },
    {
     "name": "stderr",
     "output_type": "stream",
     "text": [
      "/Users/dhruvchopra/opt/anaconda3/envs/ddp/lib/python3.8/site-packages/sklearn/svm/_classes.py:32: FutureWarning: The default value of `dual` will change from `True` to `'auto'` in 1.5. Set the value of `dual` explicitly to suppress the warning.\n",
      "  warnings.warn(\n"
     ]
    },
    {
     "name": "stdout",
     "output_type": "stream",
     "text": [
      "[CV] END svc__C=10, svc__max_iter=6000, svc__penalty=l2, svc__random_state=42, vec__max_df=0.9, vec__min_df=0.01, vec__ngram_range=(1, 1), vec__stop_words=None; total time=   0.6s\n"
     ]
    },
    {
     "name": "stderr",
     "output_type": "stream",
     "text": [
      "/Users/dhruvchopra/opt/anaconda3/envs/ddp/lib/python3.8/site-packages/sklearn/svm/_classes.py:32: FutureWarning: The default value of `dual` will change from `True` to `'auto'` in 1.5. Set the value of `dual` explicitly to suppress the warning.\n",
      "  warnings.warn(\n"
     ]
    },
    {
     "name": "stdout",
     "output_type": "stream",
     "text": [
      "[CV] END svc__C=10, svc__max_iter=6000, svc__penalty=l2, svc__random_state=42, vec__max_df=0.9, vec__min_df=0.01, vec__ngram_range=(1, 1), vec__stop_words=None; total time=   0.8s\n"
     ]
    },
    {
     "name": "stderr",
     "output_type": "stream",
     "text": [
      "/Users/dhruvchopra/opt/anaconda3/envs/ddp/lib/python3.8/site-packages/sklearn/svm/_classes.py:32: FutureWarning: The default value of `dual` will change from `True` to `'auto'` in 1.5. Set the value of `dual` explicitly to suppress the warning.\n",
      "  warnings.warn(\n"
     ]
    },
    {
     "name": "stdout",
     "output_type": "stream",
     "text": [
      "[CV] END svc__C=10, svc__max_iter=6000, svc__penalty=l2, svc__random_state=42, vec__max_df=0.9, vec__min_df=0.01, vec__ngram_range=(1, 2), vec__stop_words=None; total time=   1.6s\n"
     ]
    },
    {
     "name": "stderr",
     "output_type": "stream",
     "text": [
      "/Users/dhruvchopra/opt/anaconda3/envs/ddp/lib/python3.8/site-packages/sklearn/svm/_classes.py:32: FutureWarning: The default value of `dual` will change from `True` to `'auto'` in 1.5. Set the value of `dual` explicitly to suppress the warning.\n",
      "  warnings.warn(\n"
     ]
    },
    {
     "name": "stdout",
     "output_type": "stream",
     "text": [
      "[CV] END svc__C=10, svc__max_iter=6000, svc__penalty=l2, svc__random_state=42, vec__max_df=0.9, vec__min_df=0.01, vec__ngram_range=(1, 2), vec__stop_words=None; total time=   1.4s\n"
     ]
    },
    {
     "name": "stderr",
     "output_type": "stream",
     "text": [
      "/Users/dhruvchopra/opt/anaconda3/envs/ddp/lib/python3.8/site-packages/sklearn/svm/_classes.py:32: FutureWarning: The default value of `dual` will change from `True` to `'auto'` in 1.5. Set the value of `dual` explicitly to suppress the warning.\n",
      "  warnings.warn(\n"
     ]
    },
    {
     "name": "stdout",
     "output_type": "stream",
     "text": [
      "[CV] END svc__C=10, svc__max_iter=6000, svc__penalty=l2, svc__random_state=42, vec__max_df=0.9, vec__min_df=0.01, vec__ngram_range=(1, 2), vec__stop_words=None; total time=   1.2s\n"
     ]
    },
    {
     "name": "stderr",
     "output_type": "stream",
     "text": [
      "/Users/dhruvchopra/opt/anaconda3/envs/ddp/lib/python3.8/site-packages/sklearn/svm/_classes.py:32: FutureWarning: The default value of `dual` will change from `True` to `'auto'` in 1.5. Set the value of `dual` explicitly to suppress the warning.\n",
      "  warnings.warn(\n"
     ]
    },
    {
     "name": "stdout",
     "output_type": "stream",
     "text": [
      "[CV] END svc__C=10, svc__max_iter=6000, svc__penalty=l2, svc__random_state=42, vec__max_df=0.9, vec__min_df=0.01, vec__ngram_range=(1, 2), vec__stop_words=None; total time=   1.0s\n"
     ]
    },
    {
     "name": "stderr",
     "output_type": "stream",
     "text": [
      "/Users/dhruvchopra/opt/anaconda3/envs/ddp/lib/python3.8/site-packages/sklearn/svm/_classes.py:32: FutureWarning: The default value of `dual` will change from `True` to `'auto'` in 1.5. Set the value of `dual` explicitly to suppress the warning.\n",
      "  warnings.warn(\n"
     ]
    },
    {
     "name": "stdout",
     "output_type": "stream",
     "text": [
      "[CV] END svc__C=10, svc__max_iter=6000, svc__penalty=l2, svc__random_state=42, vec__max_df=0.9, vec__min_df=0.01, vec__ngram_range=(1, 2), vec__stop_words=None; total time=   1.2s\n"
     ]
    },
    {
     "name": "stderr",
     "output_type": "stream",
     "text": [
      "/Users/dhruvchopra/opt/anaconda3/envs/ddp/lib/python3.8/site-packages/sklearn/svm/_classes.py:32: FutureWarning: The default value of `dual` will change from `True` to `'auto'` in 1.5. Set the value of `dual` explicitly to suppress the warning.\n",
      "  warnings.warn(\n"
     ]
    },
    {
     "name": "stdout",
     "output_type": "stream",
     "text": [
      "[CV] END svc__C=10, svc__max_iter=6000, svc__penalty=l2, svc__random_state=42, vec__max_df=0.9, vec__min_df=0.001, vec__ngram_range=(1, 1), vec__stop_words=None; total time=   0.6s\n"
     ]
    },
    {
     "name": "stderr",
     "output_type": "stream",
     "text": [
      "/Users/dhruvchopra/opt/anaconda3/envs/ddp/lib/python3.8/site-packages/sklearn/svm/_classes.py:32: FutureWarning: The default value of `dual` will change from `True` to `'auto'` in 1.5. Set the value of `dual` explicitly to suppress the warning.\n",
      "  warnings.warn(\n"
     ]
    },
    {
     "name": "stdout",
     "output_type": "stream",
     "text": [
      "[CV] END svc__C=10, svc__max_iter=6000, svc__penalty=l2, svc__random_state=42, vec__max_df=0.9, vec__min_df=0.001, vec__ngram_range=(1, 1), vec__stop_words=None; total time=   1.1s\n"
     ]
    },
    {
     "name": "stderr",
     "output_type": "stream",
     "text": [
      "/Users/dhruvchopra/opt/anaconda3/envs/ddp/lib/python3.8/site-packages/sklearn/svm/_classes.py:32: FutureWarning: The default value of `dual` will change from `True` to `'auto'` in 1.5. Set the value of `dual` explicitly to suppress the warning.\n",
      "  warnings.warn(\n"
     ]
    },
    {
     "name": "stdout",
     "output_type": "stream",
     "text": [
      "[CV] END svc__C=10, svc__max_iter=6000, svc__penalty=l2, svc__random_state=42, vec__max_df=0.9, vec__min_df=0.001, vec__ngram_range=(1, 1), vec__stop_words=None; total time=   0.6s\n"
     ]
    },
    {
     "name": "stderr",
     "output_type": "stream",
     "text": [
      "/Users/dhruvchopra/opt/anaconda3/envs/ddp/lib/python3.8/site-packages/sklearn/svm/_classes.py:32: FutureWarning: The default value of `dual` will change from `True` to `'auto'` in 1.5. Set the value of `dual` explicitly to suppress the warning.\n",
      "  warnings.warn(\n"
     ]
    },
    {
     "name": "stdout",
     "output_type": "stream",
     "text": [
      "[CV] END svc__C=10, svc__max_iter=6000, svc__penalty=l2, svc__random_state=42, vec__max_df=0.9, vec__min_df=0.001, vec__ngram_range=(1, 1), vec__stop_words=None; total time=   0.6s\n"
     ]
    },
    {
     "name": "stderr",
     "output_type": "stream",
     "text": [
      "/Users/dhruvchopra/opt/anaconda3/envs/ddp/lib/python3.8/site-packages/sklearn/svm/_classes.py:32: FutureWarning: The default value of `dual` will change from `True` to `'auto'` in 1.5. Set the value of `dual` explicitly to suppress the warning.\n",
      "  warnings.warn(\n"
     ]
    },
    {
     "name": "stdout",
     "output_type": "stream",
     "text": [
      "[CV] END svc__C=10, svc__max_iter=6000, svc__penalty=l2, svc__random_state=42, vec__max_df=0.9, vec__min_df=0.001, vec__ngram_range=(1, 1), vec__stop_words=None; total time=   0.7s\n"
     ]
    },
    {
     "name": "stderr",
     "output_type": "stream",
     "text": [
      "/Users/dhruvchopra/opt/anaconda3/envs/ddp/lib/python3.8/site-packages/sklearn/svm/_classes.py:32: FutureWarning: The default value of `dual` will change from `True` to `'auto'` in 1.5. Set the value of `dual` explicitly to suppress the warning.\n",
      "  warnings.warn(\n"
     ]
    },
    {
     "name": "stdout",
     "output_type": "stream",
     "text": [
      "[CV] END svc__C=10, svc__max_iter=6000, svc__penalty=l2, svc__random_state=42, vec__max_df=0.9, vec__min_df=0.001, vec__ngram_range=(1, 2), vec__stop_words=None; total time=   1.0s\n"
     ]
    },
    {
     "name": "stderr",
     "output_type": "stream",
     "text": [
      "/Users/dhruvchopra/opt/anaconda3/envs/ddp/lib/python3.8/site-packages/sklearn/svm/_classes.py:32: FutureWarning: The default value of `dual` will change from `True` to `'auto'` in 1.5. Set the value of `dual` explicitly to suppress the warning.\n",
      "  warnings.warn(\n"
     ]
    },
    {
     "name": "stdout",
     "output_type": "stream",
     "text": [
      "[CV] END svc__C=10, svc__max_iter=6000, svc__penalty=l2, svc__random_state=42, vec__max_df=0.9, vec__min_df=0.001, vec__ngram_range=(1, 2), vec__stop_words=None; total time=   0.7s\n"
     ]
    },
    {
     "name": "stderr",
     "output_type": "stream",
     "text": [
      "/Users/dhruvchopra/opt/anaconda3/envs/ddp/lib/python3.8/site-packages/sklearn/svm/_classes.py:32: FutureWarning: The default value of `dual` will change from `True` to `'auto'` in 1.5. Set the value of `dual` explicitly to suppress the warning.\n",
      "  warnings.warn(\n"
     ]
    },
    {
     "name": "stdout",
     "output_type": "stream",
     "text": [
      "[CV] END svc__C=10, svc__max_iter=6000, svc__penalty=l2, svc__random_state=42, vec__max_df=0.9, vec__min_df=0.001, vec__ngram_range=(1, 2), vec__stop_words=None; total time=   0.9s\n"
     ]
    },
    {
     "name": "stderr",
     "output_type": "stream",
     "text": [
      "/Users/dhruvchopra/opt/anaconda3/envs/ddp/lib/python3.8/site-packages/sklearn/svm/_classes.py:32: FutureWarning: The default value of `dual` will change from `True` to `'auto'` in 1.5. Set the value of `dual` explicitly to suppress the warning.\n",
      "  warnings.warn(\n"
     ]
    },
    {
     "name": "stdout",
     "output_type": "stream",
     "text": [
      "[CV] END svc__C=10, svc__max_iter=6000, svc__penalty=l2, svc__random_state=42, vec__max_df=0.9, vec__min_df=0.001, vec__ngram_range=(1, 2), vec__stop_words=None; total time=   0.8s\n"
     ]
    },
    {
     "name": "stderr",
     "output_type": "stream",
     "text": [
      "/Users/dhruvchopra/opt/anaconda3/envs/ddp/lib/python3.8/site-packages/sklearn/svm/_classes.py:32: FutureWarning: The default value of `dual` will change from `True` to `'auto'` in 1.5. Set the value of `dual` explicitly to suppress the warning.\n",
      "  warnings.warn(\n"
     ]
    },
    {
     "name": "stdout",
     "output_type": "stream",
     "text": [
      "[CV] END svc__C=10, svc__max_iter=6000, svc__penalty=l2, svc__random_state=42, vec__max_df=0.9, vec__min_df=0.001, vec__ngram_range=(1, 2), vec__stop_words=None; total time=   0.7s\n"
     ]
    },
    {
     "name": "stderr",
     "output_type": "stream",
     "text": [
      "/Users/dhruvchopra/opt/anaconda3/envs/ddp/lib/python3.8/site-packages/sklearn/svm/_classes.py:32: FutureWarning: The default value of `dual` will change from `True` to `'auto'` in 1.5. Set the value of `dual` explicitly to suppress the warning.\n",
      "  warnings.warn(\n"
     ]
    },
    {
     "name": "stdout",
     "output_type": "stream",
     "text": [
      "[CV] END svc__C=10, svc__max_iter=6000, svc__penalty=l2, svc__random_state=42, vec__max_df=0.9, vec__min_df=0.0001, vec__ngram_range=(1, 1), vec__stop_words=None; total time=   0.4s\n"
     ]
    },
    {
     "name": "stderr",
     "output_type": "stream",
     "text": [
      "/Users/dhruvchopra/opt/anaconda3/envs/ddp/lib/python3.8/site-packages/sklearn/svm/_classes.py:32: FutureWarning: The default value of `dual` will change from `True` to `'auto'` in 1.5. Set the value of `dual` explicitly to suppress the warning.\n",
      "  warnings.warn(\n"
     ]
    },
    {
     "name": "stdout",
     "output_type": "stream",
     "text": [
      "[CV] END svc__C=10, svc__max_iter=6000, svc__penalty=l2, svc__random_state=42, vec__max_df=0.9, vec__min_df=0.0001, vec__ngram_range=(1, 1), vec__stop_words=None; total time=   0.4s\n"
     ]
    },
    {
     "name": "stderr",
     "output_type": "stream",
     "text": [
      "/Users/dhruvchopra/opt/anaconda3/envs/ddp/lib/python3.8/site-packages/sklearn/svm/_classes.py:32: FutureWarning: The default value of `dual` will change from `True` to `'auto'` in 1.5. Set the value of `dual` explicitly to suppress the warning.\n",
      "  warnings.warn(\n"
     ]
    },
    {
     "name": "stdout",
     "output_type": "stream",
     "text": [
      "[CV] END svc__C=10, svc__max_iter=6000, svc__penalty=l2, svc__random_state=42, vec__max_df=0.9, vec__min_df=0.0001, vec__ngram_range=(1, 1), vec__stop_words=None; total time=   0.4s\n"
     ]
    },
    {
     "name": "stderr",
     "output_type": "stream",
     "text": [
      "/Users/dhruvchopra/opt/anaconda3/envs/ddp/lib/python3.8/site-packages/sklearn/svm/_classes.py:32: FutureWarning: The default value of `dual` will change from `True` to `'auto'` in 1.5. Set the value of `dual` explicitly to suppress the warning.\n",
      "  warnings.warn(\n"
     ]
    },
    {
     "name": "stdout",
     "output_type": "stream",
     "text": [
      "[CV] END svc__C=10, svc__max_iter=6000, svc__penalty=l2, svc__random_state=42, vec__max_df=0.9, vec__min_df=0.0001, vec__ngram_range=(1, 1), vec__stop_words=None; total time=   0.4s\n"
     ]
    },
    {
     "name": "stderr",
     "output_type": "stream",
     "text": [
      "/Users/dhruvchopra/opt/anaconda3/envs/ddp/lib/python3.8/site-packages/sklearn/svm/_classes.py:32: FutureWarning: The default value of `dual` will change from `True` to `'auto'` in 1.5. Set the value of `dual` explicitly to suppress the warning.\n",
      "  warnings.warn(\n"
     ]
    },
    {
     "name": "stdout",
     "output_type": "stream",
     "text": [
      "[CV] END svc__C=10, svc__max_iter=6000, svc__penalty=l2, svc__random_state=42, vec__max_df=0.9, vec__min_df=0.0001, vec__ngram_range=(1, 1), vec__stop_words=None; total time=   0.5s\n"
     ]
    },
    {
     "name": "stderr",
     "output_type": "stream",
     "text": [
      "/Users/dhruvchopra/opt/anaconda3/envs/ddp/lib/python3.8/site-packages/sklearn/svm/_classes.py:32: FutureWarning: The default value of `dual` will change from `True` to `'auto'` in 1.5. Set the value of `dual` explicitly to suppress the warning.\n",
      "  warnings.warn(\n"
     ]
    },
    {
     "name": "stdout",
     "output_type": "stream",
     "text": [
      "[CV] END svc__C=10, svc__max_iter=6000, svc__penalty=l2, svc__random_state=42, vec__max_df=0.9, vec__min_df=0.0001, vec__ngram_range=(1, 2), vec__stop_words=None; total time=   1.2s\n"
     ]
    },
    {
     "name": "stderr",
     "output_type": "stream",
     "text": [
      "/Users/dhruvchopra/opt/anaconda3/envs/ddp/lib/python3.8/site-packages/sklearn/svm/_classes.py:32: FutureWarning: The default value of `dual` will change from `True` to `'auto'` in 1.5. Set the value of `dual` explicitly to suppress the warning.\n",
      "  warnings.warn(\n"
     ]
    },
    {
     "name": "stdout",
     "output_type": "stream",
     "text": [
      "[CV] END svc__C=10, svc__max_iter=6000, svc__penalty=l2, svc__random_state=42, vec__max_df=0.9, vec__min_df=0.0001, vec__ngram_range=(1, 2), vec__stop_words=None; total time=   1.7s\n"
     ]
    },
    {
     "name": "stderr",
     "output_type": "stream",
     "text": [
      "/Users/dhruvchopra/opt/anaconda3/envs/ddp/lib/python3.8/site-packages/sklearn/svm/_classes.py:32: FutureWarning: The default value of `dual` will change from `True` to `'auto'` in 1.5. Set the value of `dual` explicitly to suppress the warning.\n",
      "  warnings.warn(\n"
     ]
    },
    {
     "name": "stdout",
     "output_type": "stream",
     "text": [
      "[CV] END svc__C=10, svc__max_iter=6000, svc__penalty=l2, svc__random_state=42, vec__max_df=0.9, vec__min_df=0.0001, vec__ngram_range=(1, 2), vec__stop_words=None; total time=   1.5s\n"
     ]
    },
    {
     "name": "stderr",
     "output_type": "stream",
     "text": [
      "/Users/dhruvchopra/opt/anaconda3/envs/ddp/lib/python3.8/site-packages/sklearn/svm/_classes.py:32: FutureWarning: The default value of `dual` will change from `True` to `'auto'` in 1.5. Set the value of `dual` explicitly to suppress the warning.\n",
      "  warnings.warn(\n"
     ]
    },
    {
     "name": "stdout",
     "output_type": "stream",
     "text": [
      "[CV] END svc__C=10, svc__max_iter=6000, svc__penalty=l2, svc__random_state=42, vec__max_df=0.9, vec__min_df=0.0001, vec__ngram_range=(1, 2), vec__stop_words=None; total time=   1.7s\n"
     ]
    },
    {
     "name": "stderr",
     "output_type": "stream",
     "text": [
      "/Users/dhruvchopra/opt/anaconda3/envs/ddp/lib/python3.8/site-packages/sklearn/svm/_classes.py:32: FutureWarning: The default value of `dual` will change from `True` to `'auto'` in 1.5. Set the value of `dual` explicitly to suppress the warning.\n",
      "  warnings.warn(\n"
     ]
    },
    {
     "name": "stdout",
     "output_type": "stream",
     "text": [
      "[CV] END svc__C=10, svc__max_iter=6000, svc__penalty=l2, svc__random_state=42, vec__max_df=0.9, vec__min_df=0.0001, vec__ngram_range=(1, 2), vec__stop_words=None; total time=   1.2s\n",
      "[CV] END svc__C=10, svc__max_iter=6000, svc__penalty=l2, svc__random_state=42, vec__max_df=0.9, vec__min_df=0, vec__ngram_range=(1, 1), vec__stop_words=None; total time=   0.0s\n",
      "[CV] END svc__C=10, svc__max_iter=6000, svc__penalty=l2, svc__random_state=42, vec__max_df=0.9, vec__min_df=0, vec__ngram_range=(1, 1), vec__stop_words=None; total time=   0.0s\n",
      "[CV] END svc__C=10, svc__max_iter=6000, svc__penalty=l2, svc__random_state=42, vec__max_df=0.9, vec__min_df=0, vec__ngram_range=(1, 1), vec__stop_words=None; total time=   0.0s\n",
      "[CV] END svc__C=10, svc__max_iter=6000, svc__penalty=l2, svc__random_state=42, vec__max_df=0.9, vec__min_df=0, vec__ngram_range=(1, 1), vec__stop_words=None; total time=   0.0s\n",
      "[CV] END svc__C=10, svc__max_iter=6000, svc__penalty=l2, svc__random_state=42, vec__max_df=0.9, vec__min_df=0, vec__ngram_range=(1, 1), vec__stop_words=None; total time=   0.0s\n",
      "[CV] END svc__C=10, svc__max_iter=6000, svc__penalty=l2, svc__random_state=42, vec__max_df=0.9, vec__min_df=0, vec__ngram_range=(1, 2), vec__stop_words=None; total time=   0.0s\n",
      "[CV] END svc__C=10, svc__max_iter=6000, svc__penalty=l2, svc__random_state=42, vec__max_df=0.9, vec__min_df=0, vec__ngram_range=(1, 2), vec__stop_words=None; total time=   0.0s\n",
      "[CV] END svc__C=10, svc__max_iter=6000, svc__penalty=l2, svc__random_state=42, vec__max_df=0.9, vec__min_df=0, vec__ngram_range=(1, 2), vec__stop_words=None; total time=   0.0s\n",
      "[CV] END svc__C=10, svc__max_iter=6000, svc__penalty=l2, svc__random_state=42, vec__max_df=0.9, vec__min_df=0, vec__ngram_range=(1, 2), vec__stop_words=None; total time=   0.0s\n",
      "[CV] END svc__C=10, svc__max_iter=6000, svc__penalty=l2, svc__random_state=42, vec__max_df=0.9, vec__min_df=0, vec__ngram_range=(1, 2), vec__stop_words=None; total time=   0.0s\n"
     ]
    },
    {
     "name": "stderr",
     "output_type": "stream",
     "text": [
      "/Users/dhruvchopra/opt/anaconda3/envs/ddp/lib/python3.8/site-packages/sklearn/svm/_classes.py:32: FutureWarning: The default value of `dual` will change from `True` to `'auto'` in 1.5. Set the value of `dual` explicitly to suppress the warning.\n",
      "  warnings.warn(\n"
     ]
    },
    {
     "name": "stdout",
     "output_type": "stream",
     "text": [
      "[CV] END svc__C=10, svc__max_iter=6000, svc__penalty=l2, svc__random_state=42, vec__max_df=0.99, vec__min_df=0.01, vec__ngram_range=(1, 1), vec__stop_words=None; total time=   0.7s\n"
     ]
    },
    {
     "name": "stderr",
     "output_type": "stream",
     "text": [
      "/Users/dhruvchopra/opt/anaconda3/envs/ddp/lib/python3.8/site-packages/sklearn/svm/_classes.py:32: FutureWarning: The default value of `dual` will change from `True` to `'auto'` in 1.5. Set the value of `dual` explicitly to suppress the warning.\n",
      "  warnings.warn(\n"
     ]
    },
    {
     "name": "stdout",
     "output_type": "stream",
     "text": [
      "[CV] END svc__C=10, svc__max_iter=6000, svc__penalty=l2, svc__random_state=42, vec__max_df=0.99, vec__min_df=0.01, vec__ngram_range=(1, 1), vec__stop_words=None; total time=   0.7s\n"
     ]
    },
    {
     "name": "stderr",
     "output_type": "stream",
     "text": [
      "/Users/dhruvchopra/opt/anaconda3/envs/ddp/lib/python3.8/site-packages/sklearn/svm/_classes.py:32: FutureWarning: The default value of `dual` will change from `True` to `'auto'` in 1.5. Set the value of `dual` explicitly to suppress the warning.\n",
      "  warnings.warn(\n"
     ]
    },
    {
     "name": "stdout",
     "output_type": "stream",
     "text": [
      "[CV] END svc__C=10, svc__max_iter=6000, svc__penalty=l2, svc__random_state=42, vec__max_df=0.99, vec__min_df=0.01, vec__ngram_range=(1, 1), vec__stop_words=None; total time=   0.7s\n"
     ]
    },
    {
     "name": "stderr",
     "output_type": "stream",
     "text": [
      "/Users/dhruvchopra/opt/anaconda3/envs/ddp/lib/python3.8/site-packages/sklearn/svm/_classes.py:32: FutureWarning: The default value of `dual` will change from `True` to `'auto'` in 1.5. Set the value of `dual` explicitly to suppress the warning.\n",
      "  warnings.warn(\n"
     ]
    },
    {
     "name": "stdout",
     "output_type": "stream",
     "text": [
      "[CV] END svc__C=10, svc__max_iter=6000, svc__penalty=l2, svc__random_state=42, vec__max_df=0.99, vec__min_df=0.01, vec__ngram_range=(1, 1), vec__stop_words=None; total time=   0.6s\n"
     ]
    },
    {
     "name": "stderr",
     "output_type": "stream",
     "text": [
      "/Users/dhruvchopra/opt/anaconda3/envs/ddp/lib/python3.8/site-packages/sklearn/svm/_classes.py:32: FutureWarning: The default value of `dual` will change from `True` to `'auto'` in 1.5. Set the value of `dual` explicitly to suppress the warning.\n",
      "  warnings.warn(\n"
     ]
    },
    {
     "name": "stdout",
     "output_type": "stream",
     "text": [
      "[CV] END svc__C=10, svc__max_iter=6000, svc__penalty=l2, svc__random_state=42, vec__max_df=0.99, vec__min_df=0.01, vec__ngram_range=(1, 1), vec__stop_words=None; total time=   0.6s\n"
     ]
    },
    {
     "name": "stderr",
     "output_type": "stream",
     "text": [
      "/Users/dhruvchopra/opt/anaconda3/envs/ddp/lib/python3.8/site-packages/sklearn/svm/_classes.py:32: FutureWarning: The default value of `dual` will change from `True` to `'auto'` in 1.5. Set the value of `dual` explicitly to suppress the warning.\n",
      "  warnings.warn(\n"
     ]
    },
    {
     "name": "stdout",
     "output_type": "stream",
     "text": [
      "[CV] END svc__C=10, svc__max_iter=6000, svc__penalty=l2, svc__random_state=42, vec__max_df=0.99, vec__min_df=0.01, vec__ngram_range=(1, 2), vec__stop_words=None; total time=   1.0s\n"
     ]
    },
    {
     "name": "stderr",
     "output_type": "stream",
     "text": [
      "/Users/dhruvchopra/opt/anaconda3/envs/ddp/lib/python3.8/site-packages/sklearn/svm/_classes.py:32: FutureWarning: The default value of `dual` will change from `True` to `'auto'` in 1.5. Set the value of `dual` explicitly to suppress the warning.\n",
      "  warnings.warn(\n"
     ]
    },
    {
     "name": "stdout",
     "output_type": "stream",
     "text": [
      "[CV] END svc__C=10, svc__max_iter=6000, svc__penalty=l2, svc__random_state=42, vec__max_df=0.99, vec__min_df=0.01, vec__ngram_range=(1, 2), vec__stop_words=None; total time=   1.2s\n"
     ]
    },
    {
     "name": "stderr",
     "output_type": "stream",
     "text": [
      "/Users/dhruvchopra/opt/anaconda3/envs/ddp/lib/python3.8/site-packages/sklearn/svm/_classes.py:32: FutureWarning: The default value of `dual` will change from `True` to `'auto'` in 1.5. Set the value of `dual` explicitly to suppress the warning.\n",
      "  warnings.warn(\n"
     ]
    },
    {
     "name": "stdout",
     "output_type": "stream",
     "text": [
      "[CV] END svc__C=10, svc__max_iter=6000, svc__penalty=l2, svc__random_state=42, vec__max_df=0.99, vec__min_df=0.01, vec__ngram_range=(1, 2), vec__stop_words=None; total time=   1.3s\n"
     ]
    },
    {
     "name": "stderr",
     "output_type": "stream",
     "text": [
      "/Users/dhruvchopra/opt/anaconda3/envs/ddp/lib/python3.8/site-packages/sklearn/svm/_classes.py:32: FutureWarning: The default value of `dual` will change from `True` to `'auto'` in 1.5. Set the value of `dual` explicitly to suppress the warning.\n",
      "  warnings.warn(\n"
     ]
    },
    {
     "name": "stdout",
     "output_type": "stream",
     "text": [
      "[CV] END svc__C=10, svc__max_iter=6000, svc__penalty=l2, svc__random_state=42, vec__max_df=0.99, vec__min_df=0.01, vec__ngram_range=(1, 2), vec__stop_words=None; total time=   1.3s\n"
     ]
    },
    {
     "name": "stderr",
     "output_type": "stream",
     "text": [
      "/Users/dhruvchopra/opt/anaconda3/envs/ddp/lib/python3.8/site-packages/sklearn/svm/_classes.py:32: FutureWarning: The default value of `dual` will change from `True` to `'auto'` in 1.5. Set the value of `dual` explicitly to suppress the warning.\n",
      "  warnings.warn(\n"
     ]
    },
    {
     "name": "stdout",
     "output_type": "stream",
     "text": [
      "[CV] END svc__C=10, svc__max_iter=6000, svc__penalty=l2, svc__random_state=42, vec__max_df=0.99, vec__min_df=0.01, vec__ngram_range=(1, 2), vec__stop_words=None; total time=   1.3s\n"
     ]
    },
    {
     "name": "stderr",
     "output_type": "stream",
     "text": [
      "/Users/dhruvchopra/opt/anaconda3/envs/ddp/lib/python3.8/site-packages/sklearn/svm/_classes.py:32: FutureWarning: The default value of `dual` will change from `True` to `'auto'` in 1.5. Set the value of `dual` explicitly to suppress the warning.\n",
      "  warnings.warn(\n"
     ]
    },
    {
     "name": "stdout",
     "output_type": "stream",
     "text": [
      "[CV] END svc__C=10, svc__max_iter=6000, svc__penalty=l2, svc__random_state=42, vec__max_df=0.99, vec__min_df=0.001, vec__ngram_range=(1, 1), vec__stop_words=None; total time=   0.6s\n"
     ]
    },
    {
     "name": "stderr",
     "output_type": "stream",
     "text": [
      "/Users/dhruvchopra/opt/anaconda3/envs/ddp/lib/python3.8/site-packages/sklearn/svm/_classes.py:32: FutureWarning: The default value of `dual` will change from `True` to `'auto'` in 1.5. Set the value of `dual` explicitly to suppress the warning.\n",
      "  warnings.warn(\n"
     ]
    },
    {
     "name": "stdout",
     "output_type": "stream",
     "text": [
      "[CV] END svc__C=10, svc__max_iter=6000, svc__penalty=l2, svc__random_state=42, vec__max_df=0.99, vec__min_df=0.001, vec__ngram_range=(1, 1), vec__stop_words=None; total time=   0.5s\n"
     ]
    },
    {
     "name": "stderr",
     "output_type": "stream",
     "text": [
      "/Users/dhruvchopra/opt/anaconda3/envs/ddp/lib/python3.8/site-packages/sklearn/svm/_classes.py:32: FutureWarning: The default value of `dual` will change from `True` to `'auto'` in 1.5. Set the value of `dual` explicitly to suppress the warning.\n",
      "  warnings.warn(\n"
     ]
    },
    {
     "name": "stdout",
     "output_type": "stream",
     "text": [
      "[CV] END svc__C=10, svc__max_iter=6000, svc__penalty=l2, svc__random_state=42, vec__max_df=0.99, vec__min_df=0.001, vec__ngram_range=(1, 1), vec__stop_words=None; total time=   0.7s\n"
     ]
    },
    {
     "name": "stderr",
     "output_type": "stream",
     "text": [
      "/Users/dhruvchopra/opt/anaconda3/envs/ddp/lib/python3.8/site-packages/sklearn/svm/_classes.py:32: FutureWarning: The default value of `dual` will change from `True` to `'auto'` in 1.5. Set the value of `dual` explicitly to suppress the warning.\n",
      "  warnings.warn(\n"
     ]
    },
    {
     "name": "stdout",
     "output_type": "stream",
     "text": [
      "[CV] END svc__C=10, svc__max_iter=6000, svc__penalty=l2, svc__random_state=42, vec__max_df=0.99, vec__min_df=0.001, vec__ngram_range=(1, 1), vec__stop_words=None; total time=   0.6s\n"
     ]
    },
    {
     "name": "stderr",
     "output_type": "stream",
     "text": [
      "/Users/dhruvchopra/opt/anaconda3/envs/ddp/lib/python3.8/site-packages/sklearn/svm/_classes.py:32: FutureWarning: The default value of `dual` will change from `True` to `'auto'` in 1.5. Set the value of `dual` explicitly to suppress the warning.\n",
      "  warnings.warn(\n"
     ]
    },
    {
     "name": "stdout",
     "output_type": "stream",
     "text": [
      "[CV] END svc__C=10, svc__max_iter=6000, svc__penalty=l2, svc__random_state=42, vec__max_df=0.99, vec__min_df=0.001, vec__ngram_range=(1, 1), vec__stop_words=None; total time=   0.5s\n"
     ]
    },
    {
     "name": "stderr",
     "output_type": "stream",
     "text": [
      "/Users/dhruvchopra/opt/anaconda3/envs/ddp/lib/python3.8/site-packages/sklearn/svm/_classes.py:32: FutureWarning: The default value of `dual` will change from `True` to `'auto'` in 1.5. Set the value of `dual` explicitly to suppress the warning.\n",
      "  warnings.warn(\n"
     ]
    },
    {
     "name": "stdout",
     "output_type": "stream",
     "text": [
      "[CV] END svc__C=10, svc__max_iter=6000, svc__penalty=l2, svc__random_state=42, vec__max_df=0.99, vec__min_df=0.001, vec__ngram_range=(1, 2), vec__stop_words=None; total time=   1.2s\n"
     ]
    },
    {
     "name": "stderr",
     "output_type": "stream",
     "text": [
      "/Users/dhruvchopra/opt/anaconda3/envs/ddp/lib/python3.8/site-packages/sklearn/svm/_classes.py:32: FutureWarning: The default value of `dual` will change from `True` to `'auto'` in 1.5. Set the value of `dual` explicitly to suppress the warning.\n",
      "  warnings.warn(\n"
     ]
    },
    {
     "name": "stdout",
     "output_type": "stream",
     "text": [
      "[CV] END svc__C=10, svc__max_iter=6000, svc__penalty=l2, svc__random_state=42, vec__max_df=0.99, vec__min_df=0.001, vec__ngram_range=(1, 2), vec__stop_words=None; total time=   1.0s\n"
     ]
    },
    {
     "name": "stderr",
     "output_type": "stream",
     "text": [
      "/Users/dhruvchopra/opt/anaconda3/envs/ddp/lib/python3.8/site-packages/sklearn/svm/_classes.py:32: FutureWarning: The default value of `dual` will change from `True` to `'auto'` in 1.5. Set the value of `dual` explicitly to suppress the warning.\n",
      "  warnings.warn(\n"
     ]
    },
    {
     "name": "stdout",
     "output_type": "stream",
     "text": [
      "[CV] END svc__C=10, svc__max_iter=6000, svc__penalty=l2, svc__random_state=42, vec__max_df=0.99, vec__min_df=0.001, vec__ngram_range=(1, 2), vec__stop_words=None; total time=   0.9s\n"
     ]
    },
    {
     "name": "stderr",
     "output_type": "stream",
     "text": [
      "/Users/dhruvchopra/opt/anaconda3/envs/ddp/lib/python3.8/site-packages/sklearn/svm/_classes.py:32: FutureWarning: The default value of `dual` will change from `True` to `'auto'` in 1.5. Set the value of `dual` explicitly to suppress the warning.\n",
      "  warnings.warn(\n"
     ]
    },
    {
     "name": "stdout",
     "output_type": "stream",
     "text": [
      "[CV] END svc__C=10, svc__max_iter=6000, svc__penalty=l2, svc__random_state=42, vec__max_df=0.99, vec__min_df=0.001, vec__ngram_range=(1, 2), vec__stop_words=None; total time=   1.3s\n"
     ]
    },
    {
     "name": "stderr",
     "output_type": "stream",
     "text": [
      "/Users/dhruvchopra/opt/anaconda3/envs/ddp/lib/python3.8/site-packages/sklearn/svm/_classes.py:32: FutureWarning: The default value of `dual` will change from `True` to `'auto'` in 1.5. Set the value of `dual` explicitly to suppress the warning.\n",
      "  warnings.warn(\n"
     ]
    },
    {
     "name": "stdout",
     "output_type": "stream",
     "text": [
      "[CV] END svc__C=10, svc__max_iter=6000, svc__penalty=l2, svc__random_state=42, vec__max_df=0.99, vec__min_df=0.001, vec__ngram_range=(1, 2), vec__stop_words=None; total time=   0.8s\n"
     ]
    },
    {
     "name": "stderr",
     "output_type": "stream",
     "text": [
      "/Users/dhruvchopra/opt/anaconda3/envs/ddp/lib/python3.8/site-packages/sklearn/svm/_classes.py:32: FutureWarning: The default value of `dual` will change from `True` to `'auto'` in 1.5. Set the value of `dual` explicitly to suppress the warning.\n",
      "  warnings.warn(\n"
     ]
    },
    {
     "name": "stdout",
     "output_type": "stream",
     "text": [
      "[CV] END svc__C=10, svc__max_iter=6000, svc__penalty=l2, svc__random_state=42, vec__max_df=0.99, vec__min_df=0.0001, vec__ngram_range=(1, 1), vec__stop_words=None; total time=   0.5s\n"
     ]
    },
    {
     "name": "stderr",
     "output_type": "stream",
     "text": [
      "/Users/dhruvchopra/opt/anaconda3/envs/ddp/lib/python3.8/site-packages/sklearn/svm/_classes.py:32: FutureWarning: The default value of `dual` will change from `True` to `'auto'` in 1.5. Set the value of `dual` explicitly to suppress the warning.\n",
      "  warnings.warn(\n"
     ]
    },
    {
     "name": "stdout",
     "output_type": "stream",
     "text": [
      "[CV] END svc__C=10, svc__max_iter=6000, svc__penalty=l2, svc__random_state=42, vec__max_df=0.99, vec__min_df=0.0001, vec__ngram_range=(1, 1), vec__stop_words=None; total time=   0.5s\n"
     ]
    },
    {
     "name": "stderr",
     "output_type": "stream",
     "text": [
      "/Users/dhruvchopra/opt/anaconda3/envs/ddp/lib/python3.8/site-packages/sklearn/svm/_classes.py:32: FutureWarning: The default value of `dual` will change from `True` to `'auto'` in 1.5. Set the value of `dual` explicitly to suppress the warning.\n",
      "  warnings.warn(\n"
     ]
    },
    {
     "name": "stdout",
     "output_type": "stream",
     "text": [
      "[CV] END svc__C=10, svc__max_iter=6000, svc__penalty=l2, svc__random_state=42, vec__max_df=0.99, vec__min_df=0.0001, vec__ngram_range=(1, 1), vec__stop_words=None; total time=   0.5s\n"
     ]
    },
    {
     "name": "stderr",
     "output_type": "stream",
     "text": [
      "/Users/dhruvchopra/opt/anaconda3/envs/ddp/lib/python3.8/site-packages/sklearn/svm/_classes.py:32: FutureWarning: The default value of `dual` will change from `True` to `'auto'` in 1.5. Set the value of `dual` explicitly to suppress the warning.\n",
      "  warnings.warn(\n"
     ]
    },
    {
     "name": "stdout",
     "output_type": "stream",
     "text": [
      "[CV] END svc__C=10, svc__max_iter=6000, svc__penalty=l2, svc__random_state=42, vec__max_df=0.99, vec__min_df=0.0001, vec__ngram_range=(1, 1), vec__stop_words=None; total time=   0.6s\n"
     ]
    },
    {
     "name": "stderr",
     "output_type": "stream",
     "text": [
      "/Users/dhruvchopra/opt/anaconda3/envs/ddp/lib/python3.8/site-packages/sklearn/svm/_classes.py:32: FutureWarning: The default value of `dual` will change from `True` to `'auto'` in 1.5. Set the value of `dual` explicitly to suppress the warning.\n",
      "  warnings.warn(\n"
     ]
    },
    {
     "name": "stdout",
     "output_type": "stream",
     "text": [
      "[CV] END svc__C=10, svc__max_iter=6000, svc__penalty=l2, svc__random_state=42, vec__max_df=0.99, vec__min_df=0.0001, vec__ngram_range=(1, 1), vec__stop_words=None; total time=   0.6s\n"
     ]
    },
    {
     "name": "stderr",
     "output_type": "stream",
     "text": [
      "/Users/dhruvchopra/opt/anaconda3/envs/ddp/lib/python3.8/site-packages/sklearn/svm/_classes.py:32: FutureWarning: The default value of `dual` will change from `True` to `'auto'` in 1.5. Set the value of `dual` explicitly to suppress the warning.\n",
      "  warnings.warn(\n"
     ]
    },
    {
     "name": "stdout",
     "output_type": "stream",
     "text": [
      "[CV] END svc__C=10, svc__max_iter=6000, svc__penalty=l2, svc__random_state=42, vec__max_df=0.99, vec__min_df=0.0001, vec__ngram_range=(1, 2), vec__stop_words=None; total time=   1.6s\n"
     ]
    },
    {
     "name": "stderr",
     "output_type": "stream",
     "text": [
      "/Users/dhruvchopra/opt/anaconda3/envs/ddp/lib/python3.8/site-packages/sklearn/svm/_classes.py:32: FutureWarning: The default value of `dual` will change from `True` to `'auto'` in 1.5. Set the value of `dual` explicitly to suppress the warning.\n",
      "  warnings.warn(\n"
     ]
    },
    {
     "name": "stdout",
     "output_type": "stream",
     "text": [
      "[CV] END svc__C=10, svc__max_iter=6000, svc__penalty=l2, svc__random_state=42, vec__max_df=0.99, vec__min_df=0.0001, vec__ngram_range=(1, 2), vec__stop_words=None; total time=   1.4s\n"
     ]
    },
    {
     "name": "stderr",
     "output_type": "stream",
     "text": [
      "/Users/dhruvchopra/opt/anaconda3/envs/ddp/lib/python3.8/site-packages/sklearn/svm/_classes.py:32: FutureWarning: The default value of `dual` will change from `True` to `'auto'` in 1.5. Set the value of `dual` explicitly to suppress the warning.\n",
      "  warnings.warn(\n"
     ]
    },
    {
     "name": "stdout",
     "output_type": "stream",
     "text": [
      "[CV] END svc__C=10, svc__max_iter=6000, svc__penalty=l2, svc__random_state=42, vec__max_df=0.99, vec__min_df=0.0001, vec__ngram_range=(1, 2), vec__stop_words=None; total time=   2.0s\n"
     ]
    },
    {
     "name": "stderr",
     "output_type": "stream",
     "text": [
      "/Users/dhruvchopra/opt/anaconda3/envs/ddp/lib/python3.8/site-packages/sklearn/svm/_classes.py:32: FutureWarning: The default value of `dual` will change from `True` to `'auto'` in 1.5. Set the value of `dual` explicitly to suppress the warning.\n",
      "  warnings.warn(\n"
     ]
    },
    {
     "name": "stdout",
     "output_type": "stream",
     "text": [
      "[CV] END svc__C=10, svc__max_iter=6000, svc__penalty=l2, svc__random_state=42, vec__max_df=0.99, vec__min_df=0.0001, vec__ngram_range=(1, 2), vec__stop_words=None; total time=   2.4s\n"
     ]
    },
    {
     "name": "stderr",
     "output_type": "stream",
     "text": [
      "/Users/dhruvchopra/opt/anaconda3/envs/ddp/lib/python3.8/site-packages/sklearn/svm/_classes.py:32: FutureWarning: The default value of `dual` will change from `True` to `'auto'` in 1.5. Set the value of `dual` explicitly to suppress the warning.\n",
      "  warnings.warn(\n"
     ]
    },
    {
     "name": "stdout",
     "output_type": "stream",
     "text": [
      "[CV] END svc__C=10, svc__max_iter=6000, svc__penalty=l2, svc__random_state=42, vec__max_df=0.99, vec__min_df=0.0001, vec__ngram_range=(1, 2), vec__stop_words=None; total time=   1.2s\n",
      "[CV] END svc__C=10, svc__max_iter=6000, svc__penalty=l2, svc__random_state=42, vec__max_df=0.99, vec__min_df=0, vec__ngram_range=(1, 1), vec__stop_words=None; total time=   0.0s\n",
      "[CV] END svc__C=10, svc__max_iter=6000, svc__penalty=l2, svc__random_state=42, vec__max_df=0.99, vec__min_df=0, vec__ngram_range=(1, 1), vec__stop_words=None; total time=   0.0s\n",
      "[CV] END svc__C=10, svc__max_iter=6000, svc__penalty=l2, svc__random_state=42, vec__max_df=0.99, vec__min_df=0, vec__ngram_range=(1, 1), vec__stop_words=None; total time=   0.0s\n",
      "[CV] END svc__C=10, svc__max_iter=6000, svc__penalty=l2, svc__random_state=42, vec__max_df=0.99, vec__min_df=0, vec__ngram_range=(1, 1), vec__stop_words=None; total time=   0.0s\n",
      "[CV] END svc__C=10, svc__max_iter=6000, svc__penalty=l2, svc__random_state=42, vec__max_df=0.99, vec__min_df=0, vec__ngram_range=(1, 1), vec__stop_words=None; total time=   0.0s\n",
      "[CV] END svc__C=10, svc__max_iter=6000, svc__penalty=l2, svc__random_state=42, vec__max_df=0.99, vec__min_df=0, vec__ngram_range=(1, 2), vec__stop_words=None; total time=   0.0s\n",
      "[CV] END svc__C=10, svc__max_iter=6000, svc__penalty=l2, svc__random_state=42, vec__max_df=0.99, vec__min_df=0, vec__ngram_range=(1, 2), vec__stop_words=None; total time=   0.0s\n",
      "[CV] END svc__C=10, svc__max_iter=6000, svc__penalty=l2, svc__random_state=42, vec__max_df=0.99, vec__min_df=0, vec__ngram_range=(1, 2), vec__stop_words=None; total time=   0.0s\n",
      "[CV] END svc__C=10, svc__max_iter=6000, svc__penalty=l2, svc__random_state=42, vec__max_df=0.99, vec__min_df=0, vec__ngram_range=(1, 2), vec__stop_words=None; total time=   0.0s\n",
      "[CV] END svc__C=10, svc__max_iter=6000, svc__penalty=l2, svc__random_state=42, vec__max_df=0.99, vec__min_df=0, vec__ngram_range=(1, 2), vec__stop_words=None; total time=   0.0s\n"
     ]
    },
    {
     "name": "stderr",
     "output_type": "stream",
     "text": [
      "/Users/dhruvchopra/opt/anaconda3/envs/ddp/lib/python3.8/site-packages/sklearn/svm/_classes.py:32: FutureWarning: The default value of `dual` will change from `True` to `'auto'` in 1.5. Set the value of `dual` explicitly to suppress the warning.\n",
      "  warnings.warn(\n"
     ]
    },
    {
     "name": "stdout",
     "output_type": "stream",
     "text": [
      "[CV] END svc__C=20, svc__max_iter=6000, svc__penalty=l2, svc__random_state=42, vec__max_df=0.8, vec__min_df=0.01, vec__ngram_range=(1, 1), vec__stop_words=None; total time=   1.4s\n"
     ]
    },
    {
     "name": "stderr",
     "output_type": "stream",
     "text": [
      "/Users/dhruvchopra/opt/anaconda3/envs/ddp/lib/python3.8/site-packages/sklearn/svm/_classes.py:32: FutureWarning: The default value of `dual` will change from `True` to `'auto'` in 1.5. Set the value of `dual` explicitly to suppress the warning.\n",
      "  warnings.warn(\n"
     ]
    },
    {
     "name": "stdout",
     "output_type": "stream",
     "text": [
      "[CV] END svc__C=20, svc__max_iter=6000, svc__penalty=l2, svc__random_state=42, vec__max_df=0.8, vec__min_df=0.01, vec__ngram_range=(1, 1), vec__stop_words=None; total time=   1.2s\n"
     ]
    },
    {
     "name": "stderr",
     "output_type": "stream",
     "text": [
      "/Users/dhruvchopra/opt/anaconda3/envs/ddp/lib/python3.8/site-packages/sklearn/svm/_classes.py:32: FutureWarning: The default value of `dual` will change from `True` to `'auto'` in 1.5. Set the value of `dual` explicitly to suppress the warning.\n",
      "  warnings.warn(\n"
     ]
    },
    {
     "name": "stdout",
     "output_type": "stream",
     "text": [
      "[CV] END svc__C=20, svc__max_iter=6000, svc__penalty=l2, svc__random_state=42, vec__max_df=0.8, vec__min_df=0.01, vec__ngram_range=(1, 1), vec__stop_words=None; total time=   1.3s\n"
     ]
    },
    {
     "name": "stderr",
     "output_type": "stream",
     "text": [
      "/Users/dhruvchopra/opt/anaconda3/envs/ddp/lib/python3.8/site-packages/sklearn/svm/_classes.py:32: FutureWarning: The default value of `dual` will change from `True` to `'auto'` in 1.5. Set the value of `dual` explicitly to suppress the warning.\n",
      "  warnings.warn(\n"
     ]
    },
    {
     "name": "stdout",
     "output_type": "stream",
     "text": [
      "[CV] END svc__C=20, svc__max_iter=6000, svc__penalty=l2, svc__random_state=42, vec__max_df=0.8, vec__min_df=0.01, vec__ngram_range=(1, 1), vec__stop_words=None; total time=   1.1s\n"
     ]
    },
    {
     "name": "stderr",
     "output_type": "stream",
     "text": [
      "/Users/dhruvchopra/opt/anaconda3/envs/ddp/lib/python3.8/site-packages/sklearn/svm/_classes.py:32: FutureWarning: The default value of `dual` will change from `True` to `'auto'` in 1.5. Set the value of `dual` explicitly to suppress the warning.\n",
      "  warnings.warn(\n"
     ]
    },
    {
     "name": "stdout",
     "output_type": "stream",
     "text": [
      "[CV] END svc__C=20, svc__max_iter=6000, svc__penalty=l2, svc__random_state=42, vec__max_df=0.8, vec__min_df=0.01, vec__ngram_range=(1, 1), vec__stop_words=None; total time=   0.8s\n"
     ]
    },
    {
     "name": "stderr",
     "output_type": "stream",
     "text": [
      "/Users/dhruvchopra/opt/anaconda3/envs/ddp/lib/python3.8/site-packages/sklearn/svm/_classes.py:32: FutureWarning: The default value of `dual` will change from `True` to `'auto'` in 1.5. Set the value of `dual` explicitly to suppress the warning.\n",
      "  warnings.warn(\n"
     ]
    },
    {
     "name": "stdout",
     "output_type": "stream",
     "text": [
      "[CV] END svc__C=20, svc__max_iter=6000, svc__penalty=l2, svc__random_state=42, vec__max_df=0.8, vec__min_df=0.01, vec__ngram_range=(1, 2), vec__stop_words=None; total time=   1.4s\n"
     ]
    },
    {
     "name": "stderr",
     "output_type": "stream",
     "text": [
      "/Users/dhruvchopra/opt/anaconda3/envs/ddp/lib/python3.8/site-packages/sklearn/svm/_classes.py:32: FutureWarning: The default value of `dual` will change from `True` to `'auto'` in 1.5. Set the value of `dual` explicitly to suppress the warning.\n",
      "  warnings.warn(\n"
     ]
    },
    {
     "name": "stdout",
     "output_type": "stream",
     "text": [
      "[CV] END svc__C=20, svc__max_iter=6000, svc__penalty=l2, svc__random_state=42, vec__max_df=0.8, vec__min_df=0.01, vec__ngram_range=(1, 2), vec__stop_words=None; total time=   1.6s\n"
     ]
    },
    {
     "name": "stderr",
     "output_type": "stream",
     "text": [
      "/Users/dhruvchopra/opt/anaconda3/envs/ddp/lib/python3.8/site-packages/sklearn/svm/_classes.py:32: FutureWarning: The default value of `dual` will change from `True` to `'auto'` in 1.5. Set the value of `dual` explicitly to suppress the warning.\n",
      "  warnings.warn(\n"
     ]
    },
    {
     "name": "stdout",
     "output_type": "stream",
     "text": [
      "[CV] END svc__C=20, svc__max_iter=6000, svc__penalty=l2, svc__random_state=42, vec__max_df=0.8, vec__min_df=0.01, vec__ngram_range=(1, 2), vec__stop_words=None; total time=   1.1s\n"
     ]
    },
    {
     "name": "stderr",
     "output_type": "stream",
     "text": [
      "/Users/dhruvchopra/opt/anaconda3/envs/ddp/lib/python3.8/site-packages/sklearn/svm/_classes.py:32: FutureWarning: The default value of `dual` will change from `True` to `'auto'` in 1.5. Set the value of `dual` explicitly to suppress the warning.\n",
      "  warnings.warn(\n"
     ]
    },
    {
     "name": "stdout",
     "output_type": "stream",
     "text": [
      "[CV] END svc__C=20, svc__max_iter=6000, svc__penalty=l2, svc__random_state=42, vec__max_df=0.8, vec__min_df=0.01, vec__ngram_range=(1, 2), vec__stop_words=None; total time=   1.4s\n"
     ]
    },
    {
     "name": "stderr",
     "output_type": "stream",
     "text": [
      "/Users/dhruvchopra/opt/anaconda3/envs/ddp/lib/python3.8/site-packages/sklearn/svm/_classes.py:32: FutureWarning: The default value of `dual` will change from `True` to `'auto'` in 1.5. Set the value of `dual` explicitly to suppress the warning.\n",
      "  warnings.warn(\n"
     ]
    },
    {
     "name": "stdout",
     "output_type": "stream",
     "text": [
      "[CV] END svc__C=20, svc__max_iter=6000, svc__penalty=l2, svc__random_state=42, vec__max_df=0.8, vec__min_df=0.01, vec__ngram_range=(1, 2), vec__stop_words=None; total time=   2.5s\n"
     ]
    },
    {
     "name": "stderr",
     "output_type": "stream",
     "text": [
      "/Users/dhruvchopra/opt/anaconda3/envs/ddp/lib/python3.8/site-packages/sklearn/svm/_classes.py:32: FutureWarning: The default value of `dual` will change from `True` to `'auto'` in 1.5. Set the value of `dual` explicitly to suppress the warning.\n",
      "  warnings.warn(\n"
     ]
    },
    {
     "name": "stdout",
     "output_type": "stream",
     "text": [
      "[CV] END svc__C=20, svc__max_iter=6000, svc__penalty=l2, svc__random_state=42, vec__max_df=0.8, vec__min_df=0.001, vec__ngram_range=(1, 1), vec__stop_words=None; total time=   0.5s\n"
     ]
    },
    {
     "name": "stderr",
     "output_type": "stream",
     "text": [
      "/Users/dhruvchopra/opt/anaconda3/envs/ddp/lib/python3.8/site-packages/sklearn/svm/_classes.py:32: FutureWarning: The default value of `dual` will change from `True` to `'auto'` in 1.5. Set the value of `dual` explicitly to suppress the warning.\n",
      "  warnings.warn(\n"
     ]
    },
    {
     "name": "stdout",
     "output_type": "stream",
     "text": [
      "[CV] END svc__C=20, svc__max_iter=6000, svc__penalty=l2, svc__random_state=42, vec__max_df=0.8, vec__min_df=0.001, vec__ngram_range=(1, 1), vec__stop_words=None; total time=   0.5s\n"
     ]
    },
    {
     "name": "stderr",
     "output_type": "stream",
     "text": [
      "/Users/dhruvchopra/opt/anaconda3/envs/ddp/lib/python3.8/site-packages/sklearn/svm/_classes.py:32: FutureWarning: The default value of `dual` will change from `True` to `'auto'` in 1.5. Set the value of `dual` explicitly to suppress the warning.\n",
      "  warnings.warn(\n"
     ]
    },
    {
     "name": "stdout",
     "output_type": "stream",
     "text": [
      "[CV] END svc__C=20, svc__max_iter=6000, svc__penalty=l2, svc__random_state=42, vec__max_df=0.8, vec__min_df=0.001, vec__ngram_range=(1, 1), vec__stop_words=None; total time=   0.6s\n"
     ]
    },
    {
     "name": "stderr",
     "output_type": "stream",
     "text": [
      "/Users/dhruvchopra/opt/anaconda3/envs/ddp/lib/python3.8/site-packages/sklearn/svm/_classes.py:32: FutureWarning: The default value of `dual` will change from `True` to `'auto'` in 1.5. Set the value of `dual` explicitly to suppress the warning.\n",
      "  warnings.warn(\n"
     ]
    },
    {
     "name": "stdout",
     "output_type": "stream",
     "text": [
      "[CV] END svc__C=20, svc__max_iter=6000, svc__penalty=l2, svc__random_state=42, vec__max_df=0.8, vec__min_df=0.001, vec__ngram_range=(1, 1), vec__stop_words=None; total time=   0.5s\n"
     ]
    },
    {
     "name": "stderr",
     "output_type": "stream",
     "text": [
      "/Users/dhruvchopra/opt/anaconda3/envs/ddp/lib/python3.8/site-packages/sklearn/svm/_classes.py:32: FutureWarning: The default value of `dual` will change from `True` to `'auto'` in 1.5. Set the value of `dual` explicitly to suppress the warning.\n",
      "  warnings.warn(\n"
     ]
    },
    {
     "name": "stdout",
     "output_type": "stream",
     "text": [
      "[CV] END svc__C=20, svc__max_iter=6000, svc__penalty=l2, svc__random_state=42, vec__max_df=0.8, vec__min_df=0.001, vec__ngram_range=(1, 1), vec__stop_words=None; total time=   0.5s\n"
     ]
    },
    {
     "name": "stderr",
     "output_type": "stream",
     "text": [
      "/Users/dhruvchopra/opt/anaconda3/envs/ddp/lib/python3.8/site-packages/sklearn/svm/_classes.py:32: FutureWarning: The default value of `dual` will change from `True` to `'auto'` in 1.5. Set the value of `dual` explicitly to suppress the warning.\n",
      "  warnings.warn(\n"
     ]
    },
    {
     "name": "stdout",
     "output_type": "stream",
     "text": [
      "[CV] END svc__C=20, svc__max_iter=6000, svc__penalty=l2, svc__random_state=42, vec__max_df=0.8, vec__min_df=0.001, vec__ngram_range=(1, 2), vec__stop_words=None; total time=   0.8s\n"
     ]
    },
    {
     "name": "stderr",
     "output_type": "stream",
     "text": [
      "/Users/dhruvchopra/opt/anaconda3/envs/ddp/lib/python3.8/site-packages/sklearn/svm/_classes.py:32: FutureWarning: The default value of `dual` will change from `True` to `'auto'` in 1.5. Set the value of `dual` explicitly to suppress the warning.\n",
      "  warnings.warn(\n"
     ]
    },
    {
     "name": "stdout",
     "output_type": "stream",
     "text": [
      "[CV] END svc__C=20, svc__max_iter=6000, svc__penalty=l2, svc__random_state=42, vec__max_df=0.8, vec__min_df=0.001, vec__ngram_range=(1, 2), vec__stop_words=None; total time=   0.8s\n"
     ]
    },
    {
     "name": "stderr",
     "output_type": "stream",
     "text": [
      "/Users/dhruvchopra/opt/anaconda3/envs/ddp/lib/python3.8/site-packages/sklearn/svm/_classes.py:32: FutureWarning: The default value of `dual` will change from `True` to `'auto'` in 1.5. Set the value of `dual` explicitly to suppress the warning.\n",
      "  warnings.warn(\n"
     ]
    },
    {
     "name": "stdout",
     "output_type": "stream",
     "text": [
      "[CV] END svc__C=20, svc__max_iter=6000, svc__penalty=l2, svc__random_state=42, vec__max_df=0.8, vec__min_df=0.001, vec__ngram_range=(1, 2), vec__stop_words=None; total time=   1.0s\n"
     ]
    },
    {
     "name": "stderr",
     "output_type": "stream",
     "text": [
      "/Users/dhruvchopra/opt/anaconda3/envs/ddp/lib/python3.8/site-packages/sklearn/svm/_classes.py:32: FutureWarning: The default value of `dual` will change from `True` to `'auto'` in 1.5. Set the value of `dual` explicitly to suppress the warning.\n",
      "  warnings.warn(\n"
     ]
    },
    {
     "name": "stdout",
     "output_type": "stream",
     "text": [
      "[CV] END svc__C=20, svc__max_iter=6000, svc__penalty=l2, svc__random_state=42, vec__max_df=0.8, vec__min_df=0.001, vec__ngram_range=(1, 2), vec__stop_words=None; total time=   1.1s\n"
     ]
    },
    {
     "name": "stderr",
     "output_type": "stream",
     "text": [
      "/Users/dhruvchopra/opt/anaconda3/envs/ddp/lib/python3.8/site-packages/sklearn/svm/_classes.py:32: FutureWarning: The default value of `dual` will change from `True` to `'auto'` in 1.5. Set the value of `dual` explicitly to suppress the warning.\n",
      "  warnings.warn(\n"
     ]
    },
    {
     "name": "stdout",
     "output_type": "stream",
     "text": [
      "[CV] END svc__C=20, svc__max_iter=6000, svc__penalty=l2, svc__random_state=42, vec__max_df=0.8, vec__min_df=0.001, vec__ngram_range=(1, 2), vec__stop_words=None; total time=   1.3s\n"
     ]
    },
    {
     "name": "stderr",
     "output_type": "stream",
     "text": [
      "/Users/dhruvchopra/opt/anaconda3/envs/ddp/lib/python3.8/site-packages/sklearn/svm/_classes.py:32: FutureWarning: The default value of `dual` will change from `True` to `'auto'` in 1.5. Set the value of `dual` explicitly to suppress the warning.\n",
      "  warnings.warn(\n"
     ]
    },
    {
     "name": "stdout",
     "output_type": "stream",
     "text": [
      "[CV] END svc__C=20, svc__max_iter=6000, svc__penalty=l2, svc__random_state=42, vec__max_df=0.8, vec__min_df=0.0001, vec__ngram_range=(1, 1), vec__stop_words=None; total time=   1.1s\n"
     ]
    },
    {
     "name": "stderr",
     "output_type": "stream",
     "text": [
      "/Users/dhruvchopra/opt/anaconda3/envs/ddp/lib/python3.8/site-packages/sklearn/svm/_classes.py:32: FutureWarning: The default value of `dual` will change from `True` to `'auto'` in 1.5. Set the value of `dual` explicitly to suppress the warning.\n",
      "  warnings.warn(\n"
     ]
    },
    {
     "name": "stdout",
     "output_type": "stream",
     "text": [
      "[CV] END svc__C=20, svc__max_iter=6000, svc__penalty=l2, svc__random_state=42, vec__max_df=0.8, vec__min_df=0.0001, vec__ngram_range=(1, 1), vec__stop_words=None; total time=   0.7s\n"
     ]
    },
    {
     "name": "stderr",
     "output_type": "stream",
     "text": [
      "/Users/dhruvchopra/opt/anaconda3/envs/ddp/lib/python3.8/site-packages/sklearn/svm/_classes.py:32: FutureWarning: The default value of `dual` will change from `True` to `'auto'` in 1.5. Set the value of `dual` explicitly to suppress the warning.\n",
      "  warnings.warn(\n"
     ]
    },
    {
     "name": "stdout",
     "output_type": "stream",
     "text": [
      "[CV] END svc__C=20, svc__max_iter=6000, svc__penalty=l2, svc__random_state=42, vec__max_df=0.8, vec__min_df=0.0001, vec__ngram_range=(1, 1), vec__stop_words=None; total time=   0.7s\n"
     ]
    },
    {
     "name": "stderr",
     "output_type": "stream",
     "text": [
      "/Users/dhruvchopra/opt/anaconda3/envs/ddp/lib/python3.8/site-packages/sklearn/svm/_classes.py:32: FutureWarning: The default value of `dual` will change from `True` to `'auto'` in 1.5. Set the value of `dual` explicitly to suppress the warning.\n",
      "  warnings.warn(\n"
     ]
    },
    {
     "name": "stdout",
     "output_type": "stream",
     "text": [
      "[CV] END svc__C=20, svc__max_iter=6000, svc__penalty=l2, svc__random_state=42, vec__max_df=0.8, vec__min_df=0.0001, vec__ngram_range=(1, 1), vec__stop_words=None; total time=   0.7s\n"
     ]
    },
    {
     "name": "stderr",
     "output_type": "stream",
     "text": [
      "/Users/dhruvchopra/opt/anaconda3/envs/ddp/lib/python3.8/site-packages/sklearn/svm/_classes.py:32: FutureWarning: The default value of `dual` will change from `True` to `'auto'` in 1.5. Set the value of `dual` explicitly to suppress the warning.\n",
      "  warnings.warn(\n"
     ]
    },
    {
     "name": "stdout",
     "output_type": "stream",
     "text": [
      "[CV] END svc__C=20, svc__max_iter=6000, svc__penalty=l2, svc__random_state=42, vec__max_df=0.8, vec__min_df=0.0001, vec__ngram_range=(1, 1), vec__stop_words=None; total time=   0.5s\n"
     ]
    },
    {
     "name": "stderr",
     "output_type": "stream",
     "text": [
      "/Users/dhruvchopra/opt/anaconda3/envs/ddp/lib/python3.8/site-packages/sklearn/svm/_classes.py:32: FutureWarning: The default value of `dual` will change from `True` to `'auto'` in 1.5. Set the value of `dual` explicitly to suppress the warning.\n",
      "  warnings.warn(\n"
     ]
    },
    {
     "name": "stdout",
     "output_type": "stream",
     "text": [
      "[CV] END svc__C=20, svc__max_iter=6000, svc__penalty=l2, svc__random_state=42, vec__max_df=0.8, vec__min_df=0.0001, vec__ngram_range=(1, 2), vec__stop_words=None; total time=   1.9s\n"
     ]
    },
    {
     "name": "stderr",
     "output_type": "stream",
     "text": [
      "/Users/dhruvchopra/opt/anaconda3/envs/ddp/lib/python3.8/site-packages/sklearn/svm/_classes.py:32: FutureWarning: The default value of `dual` will change from `True` to `'auto'` in 1.5. Set the value of `dual` explicitly to suppress the warning.\n",
      "  warnings.warn(\n"
     ]
    },
    {
     "name": "stdout",
     "output_type": "stream",
     "text": [
      "[CV] END svc__C=20, svc__max_iter=6000, svc__penalty=l2, svc__random_state=42, vec__max_df=0.8, vec__min_df=0.0001, vec__ngram_range=(1, 2), vec__stop_words=None; total time=   2.0s\n"
     ]
    },
    {
     "name": "stderr",
     "output_type": "stream",
     "text": [
      "/Users/dhruvchopra/opt/anaconda3/envs/ddp/lib/python3.8/site-packages/sklearn/svm/_classes.py:32: FutureWarning: The default value of `dual` will change from `True` to `'auto'` in 1.5. Set the value of `dual` explicitly to suppress the warning.\n",
      "  warnings.warn(\n"
     ]
    },
    {
     "name": "stdout",
     "output_type": "stream",
     "text": [
      "[CV] END svc__C=20, svc__max_iter=6000, svc__penalty=l2, svc__random_state=42, vec__max_df=0.8, vec__min_df=0.0001, vec__ngram_range=(1, 2), vec__stop_words=None; total time=   2.3s\n"
     ]
    },
    {
     "name": "stderr",
     "output_type": "stream",
     "text": [
      "/Users/dhruvchopra/opt/anaconda3/envs/ddp/lib/python3.8/site-packages/sklearn/svm/_classes.py:32: FutureWarning: The default value of `dual` will change from `True` to `'auto'` in 1.5. Set the value of `dual` explicitly to suppress the warning.\n",
      "  warnings.warn(\n"
     ]
    },
    {
     "name": "stdout",
     "output_type": "stream",
     "text": [
      "[CV] END svc__C=20, svc__max_iter=6000, svc__penalty=l2, svc__random_state=42, vec__max_df=0.8, vec__min_df=0.0001, vec__ngram_range=(1, 2), vec__stop_words=None; total time=   2.2s\n"
     ]
    },
    {
     "name": "stderr",
     "output_type": "stream",
     "text": [
      "/Users/dhruvchopra/opt/anaconda3/envs/ddp/lib/python3.8/site-packages/sklearn/svm/_classes.py:32: FutureWarning: The default value of `dual` will change from `True` to `'auto'` in 1.5. Set the value of `dual` explicitly to suppress the warning.\n",
      "  warnings.warn(\n"
     ]
    },
    {
     "name": "stdout",
     "output_type": "stream",
     "text": [
      "[CV] END svc__C=20, svc__max_iter=6000, svc__penalty=l2, svc__random_state=42, vec__max_df=0.8, vec__min_df=0.0001, vec__ngram_range=(1, 2), vec__stop_words=None; total time=   1.0s\n",
      "[CV] END svc__C=20, svc__max_iter=6000, svc__penalty=l2, svc__random_state=42, vec__max_df=0.8, vec__min_df=0, vec__ngram_range=(1, 1), vec__stop_words=None; total time=   0.0s\n",
      "[CV] END svc__C=20, svc__max_iter=6000, svc__penalty=l2, svc__random_state=42, vec__max_df=0.8, vec__min_df=0, vec__ngram_range=(1, 1), vec__stop_words=None; total time=   0.0s\n",
      "[CV] END svc__C=20, svc__max_iter=6000, svc__penalty=l2, svc__random_state=42, vec__max_df=0.8, vec__min_df=0, vec__ngram_range=(1, 1), vec__stop_words=None; total time=   0.0s\n",
      "[CV] END svc__C=20, svc__max_iter=6000, svc__penalty=l2, svc__random_state=42, vec__max_df=0.8, vec__min_df=0, vec__ngram_range=(1, 1), vec__stop_words=None; total time=   0.0s\n",
      "[CV] END svc__C=20, svc__max_iter=6000, svc__penalty=l2, svc__random_state=42, vec__max_df=0.8, vec__min_df=0, vec__ngram_range=(1, 1), vec__stop_words=None; total time=   0.0s\n",
      "[CV] END svc__C=20, svc__max_iter=6000, svc__penalty=l2, svc__random_state=42, vec__max_df=0.8, vec__min_df=0, vec__ngram_range=(1, 2), vec__stop_words=None; total time=   0.0s\n",
      "[CV] END svc__C=20, svc__max_iter=6000, svc__penalty=l2, svc__random_state=42, vec__max_df=0.8, vec__min_df=0, vec__ngram_range=(1, 2), vec__stop_words=None; total time=   0.0s\n",
      "[CV] END svc__C=20, svc__max_iter=6000, svc__penalty=l2, svc__random_state=42, vec__max_df=0.8, vec__min_df=0, vec__ngram_range=(1, 2), vec__stop_words=None; total time=   0.0s\n",
      "[CV] END svc__C=20, svc__max_iter=6000, svc__penalty=l2, svc__random_state=42, vec__max_df=0.8, vec__min_df=0, vec__ngram_range=(1, 2), vec__stop_words=None; total time=   0.0s\n",
      "[CV] END svc__C=20, svc__max_iter=6000, svc__penalty=l2, svc__random_state=42, vec__max_df=0.8, vec__min_df=0, vec__ngram_range=(1, 2), vec__stop_words=None; total time=   0.0s\n"
     ]
    },
    {
     "name": "stderr",
     "output_type": "stream",
     "text": [
      "/Users/dhruvchopra/opt/anaconda3/envs/ddp/lib/python3.8/site-packages/sklearn/svm/_classes.py:32: FutureWarning: The default value of `dual` will change from `True` to `'auto'` in 1.5. Set the value of `dual` explicitly to suppress the warning.\n",
      "  warnings.warn(\n"
     ]
    },
    {
     "name": "stdout",
     "output_type": "stream",
     "text": [
      "[CV] END svc__C=20, svc__max_iter=6000, svc__penalty=l2, svc__random_state=42, vec__max_df=0.85, vec__min_df=0.01, vec__ngram_range=(1, 1), vec__stop_words=None; total time=   1.0s\n"
     ]
    },
    {
     "name": "stderr",
     "output_type": "stream",
     "text": [
      "/Users/dhruvchopra/opt/anaconda3/envs/ddp/lib/python3.8/site-packages/sklearn/svm/_classes.py:32: FutureWarning: The default value of `dual` will change from `True` to `'auto'` in 1.5. Set the value of `dual` explicitly to suppress the warning.\n",
      "  warnings.warn(\n"
     ]
    },
    {
     "name": "stdout",
     "output_type": "stream",
     "text": [
      "[CV] END svc__C=20, svc__max_iter=6000, svc__penalty=l2, svc__random_state=42, vec__max_df=0.85, vec__min_df=0.01, vec__ngram_range=(1, 1), vec__stop_words=None; total time=   0.7s\n"
     ]
    },
    {
     "name": "stderr",
     "output_type": "stream",
     "text": [
      "/Users/dhruvchopra/opt/anaconda3/envs/ddp/lib/python3.8/site-packages/sklearn/svm/_classes.py:32: FutureWarning: The default value of `dual` will change from `True` to `'auto'` in 1.5. Set the value of `dual` explicitly to suppress the warning.\n",
      "  warnings.warn(\n"
     ]
    },
    {
     "name": "stdout",
     "output_type": "stream",
     "text": [
      "[CV] END svc__C=20, svc__max_iter=6000, svc__penalty=l2, svc__random_state=42, vec__max_df=0.85, vec__min_df=0.01, vec__ngram_range=(1, 1), vec__stop_words=None; total time=   0.7s\n"
     ]
    },
    {
     "name": "stderr",
     "output_type": "stream",
     "text": [
      "/Users/dhruvchopra/opt/anaconda3/envs/ddp/lib/python3.8/site-packages/sklearn/svm/_classes.py:32: FutureWarning: The default value of `dual` will change from `True` to `'auto'` in 1.5. Set the value of `dual` explicitly to suppress the warning.\n",
      "  warnings.warn(\n"
     ]
    },
    {
     "name": "stdout",
     "output_type": "stream",
     "text": [
      "[CV] END svc__C=20, svc__max_iter=6000, svc__penalty=l2, svc__random_state=42, vec__max_df=0.85, vec__min_df=0.01, vec__ngram_range=(1, 1), vec__stop_words=None; total time=   1.1s\n"
     ]
    },
    {
     "name": "stderr",
     "output_type": "stream",
     "text": [
      "/Users/dhruvchopra/opt/anaconda3/envs/ddp/lib/python3.8/site-packages/sklearn/svm/_classes.py:32: FutureWarning: The default value of `dual` will change from `True` to `'auto'` in 1.5. Set the value of `dual` explicitly to suppress the warning.\n",
      "  warnings.warn(\n"
     ]
    },
    {
     "name": "stdout",
     "output_type": "stream",
     "text": [
      "[CV] END svc__C=20, svc__max_iter=6000, svc__penalty=l2, svc__random_state=42, vec__max_df=0.85, vec__min_df=0.01, vec__ngram_range=(1, 1), vec__stop_words=None; total time=   0.7s\n"
     ]
    },
    {
     "name": "stderr",
     "output_type": "stream",
     "text": [
      "/Users/dhruvchopra/opt/anaconda3/envs/ddp/lib/python3.8/site-packages/sklearn/svm/_classes.py:32: FutureWarning: The default value of `dual` will change from `True` to `'auto'` in 1.5. Set the value of `dual` explicitly to suppress the warning.\n",
      "  warnings.warn(\n"
     ]
    },
    {
     "name": "stdout",
     "output_type": "stream",
     "text": [
      "[CV] END svc__C=20, svc__max_iter=6000, svc__penalty=l2, svc__random_state=42, vec__max_df=0.85, vec__min_df=0.01, vec__ngram_range=(1, 2), vec__stop_words=None; total time=   1.3s\n"
     ]
    },
    {
     "name": "stderr",
     "output_type": "stream",
     "text": [
      "/Users/dhruvchopra/opt/anaconda3/envs/ddp/lib/python3.8/site-packages/sklearn/svm/_classes.py:32: FutureWarning: The default value of `dual` will change from `True` to `'auto'` in 1.5. Set the value of `dual` explicitly to suppress the warning.\n",
      "  warnings.warn(\n"
     ]
    },
    {
     "name": "stdout",
     "output_type": "stream",
     "text": [
      "[CV] END svc__C=20, svc__max_iter=6000, svc__penalty=l2, svc__random_state=42, vec__max_df=0.85, vec__min_df=0.01, vec__ngram_range=(1, 2), vec__stop_words=None; total time=   1.0s\n"
     ]
    },
    {
     "name": "stderr",
     "output_type": "stream",
     "text": [
      "/Users/dhruvchopra/opt/anaconda3/envs/ddp/lib/python3.8/site-packages/sklearn/svm/_classes.py:32: FutureWarning: The default value of `dual` will change from `True` to `'auto'` in 1.5. Set the value of `dual` explicitly to suppress the warning.\n",
      "  warnings.warn(\n"
     ]
    },
    {
     "name": "stdout",
     "output_type": "stream",
     "text": [
      "[CV] END svc__C=20, svc__max_iter=6000, svc__penalty=l2, svc__random_state=42, vec__max_df=0.85, vec__min_df=0.01, vec__ngram_range=(1, 2), vec__stop_words=None; total time=   1.0s\n"
     ]
    },
    {
     "name": "stderr",
     "output_type": "stream",
     "text": [
      "/Users/dhruvchopra/opt/anaconda3/envs/ddp/lib/python3.8/site-packages/sklearn/svm/_classes.py:32: FutureWarning: The default value of `dual` will change from `True` to `'auto'` in 1.5. Set the value of `dual` explicitly to suppress the warning.\n",
      "  warnings.warn(\n"
     ]
    },
    {
     "name": "stdout",
     "output_type": "stream",
     "text": [
      "[CV] END svc__C=20, svc__max_iter=6000, svc__penalty=l2, svc__random_state=42, vec__max_df=0.85, vec__min_df=0.01, vec__ngram_range=(1, 2), vec__stop_words=None; total time=   1.0s\n"
     ]
    },
    {
     "name": "stderr",
     "output_type": "stream",
     "text": [
      "/Users/dhruvchopra/opt/anaconda3/envs/ddp/lib/python3.8/site-packages/sklearn/svm/_classes.py:32: FutureWarning: The default value of `dual` will change from `True` to `'auto'` in 1.5. Set the value of `dual` explicitly to suppress the warning.\n",
      "  warnings.warn(\n"
     ]
    },
    {
     "name": "stdout",
     "output_type": "stream",
     "text": [
      "[CV] END svc__C=20, svc__max_iter=6000, svc__penalty=l2, svc__random_state=42, vec__max_df=0.85, vec__min_df=0.01, vec__ngram_range=(1, 2), vec__stop_words=None; total time=   1.0s\n"
     ]
    },
    {
     "name": "stderr",
     "output_type": "stream",
     "text": [
      "/Users/dhruvchopra/opt/anaconda3/envs/ddp/lib/python3.8/site-packages/sklearn/svm/_classes.py:32: FutureWarning: The default value of `dual` will change from `True` to `'auto'` in 1.5. Set the value of `dual` explicitly to suppress the warning.\n",
      "  warnings.warn(\n"
     ]
    },
    {
     "name": "stdout",
     "output_type": "stream",
     "text": [
      "[CV] END svc__C=20, svc__max_iter=6000, svc__penalty=l2, svc__random_state=42, vec__max_df=0.85, vec__min_df=0.001, vec__ngram_range=(1, 1), vec__stop_words=None; total time=   0.5s\n"
     ]
    },
    {
     "name": "stderr",
     "output_type": "stream",
     "text": [
      "/Users/dhruvchopra/opt/anaconda3/envs/ddp/lib/python3.8/site-packages/sklearn/svm/_classes.py:32: FutureWarning: The default value of `dual` will change from `True` to `'auto'` in 1.5. Set the value of `dual` explicitly to suppress the warning.\n",
      "  warnings.warn(\n"
     ]
    },
    {
     "name": "stdout",
     "output_type": "stream",
     "text": [
      "[CV] END svc__C=20, svc__max_iter=6000, svc__penalty=l2, svc__random_state=42, vec__max_df=0.85, vec__min_df=0.001, vec__ngram_range=(1, 1), vec__stop_words=None; total time=   0.5s\n"
     ]
    },
    {
     "name": "stderr",
     "output_type": "stream",
     "text": [
      "/Users/dhruvchopra/opt/anaconda3/envs/ddp/lib/python3.8/site-packages/sklearn/svm/_classes.py:32: FutureWarning: The default value of `dual` will change from `True` to `'auto'` in 1.5. Set the value of `dual` explicitly to suppress the warning.\n",
      "  warnings.warn(\n"
     ]
    },
    {
     "name": "stdout",
     "output_type": "stream",
     "text": [
      "[CV] END svc__C=20, svc__max_iter=6000, svc__penalty=l2, svc__random_state=42, vec__max_df=0.85, vec__min_df=0.001, vec__ngram_range=(1, 1), vec__stop_words=None; total time=   0.5s\n"
     ]
    },
    {
     "name": "stderr",
     "output_type": "stream",
     "text": [
      "/Users/dhruvchopra/opt/anaconda3/envs/ddp/lib/python3.8/site-packages/sklearn/svm/_classes.py:32: FutureWarning: The default value of `dual` will change from `True` to `'auto'` in 1.5. Set the value of `dual` explicitly to suppress the warning.\n",
      "  warnings.warn(\n"
     ]
    },
    {
     "name": "stdout",
     "output_type": "stream",
     "text": [
      "[CV] END svc__C=20, svc__max_iter=6000, svc__penalty=l2, svc__random_state=42, vec__max_df=0.85, vec__min_df=0.001, vec__ngram_range=(1, 1), vec__stop_words=None; total time=   0.5s\n"
     ]
    },
    {
     "name": "stderr",
     "output_type": "stream",
     "text": [
      "/Users/dhruvchopra/opt/anaconda3/envs/ddp/lib/python3.8/site-packages/sklearn/svm/_classes.py:32: FutureWarning: The default value of `dual` will change from `True` to `'auto'` in 1.5. Set the value of `dual` explicitly to suppress the warning.\n",
      "  warnings.warn(\n"
     ]
    },
    {
     "name": "stdout",
     "output_type": "stream",
     "text": [
      "[CV] END svc__C=20, svc__max_iter=6000, svc__penalty=l2, svc__random_state=42, vec__max_df=0.85, vec__min_df=0.001, vec__ngram_range=(1, 1), vec__stop_words=None; total time=   0.5s\n"
     ]
    },
    {
     "name": "stderr",
     "output_type": "stream",
     "text": [
      "/Users/dhruvchopra/opt/anaconda3/envs/ddp/lib/python3.8/site-packages/sklearn/svm/_classes.py:32: FutureWarning: The default value of `dual` will change from `True` to `'auto'` in 1.5. Set the value of `dual` explicitly to suppress the warning.\n",
      "  warnings.warn(\n"
     ]
    },
    {
     "name": "stdout",
     "output_type": "stream",
     "text": [
      "[CV] END svc__C=20, svc__max_iter=6000, svc__penalty=l2, svc__random_state=42, vec__max_df=0.85, vec__min_df=0.001, vec__ngram_range=(1, 2), vec__stop_words=None; total time=   0.8s\n"
     ]
    },
    {
     "name": "stderr",
     "output_type": "stream",
     "text": [
      "/Users/dhruvchopra/opt/anaconda3/envs/ddp/lib/python3.8/site-packages/sklearn/svm/_classes.py:32: FutureWarning: The default value of `dual` will change from `True` to `'auto'` in 1.5. Set the value of `dual` explicitly to suppress the warning.\n",
      "  warnings.warn(\n"
     ]
    },
    {
     "name": "stdout",
     "output_type": "stream",
     "text": [
      "[CV] END svc__C=20, svc__max_iter=6000, svc__penalty=l2, svc__random_state=42, vec__max_df=0.85, vec__min_df=0.001, vec__ngram_range=(1, 2), vec__stop_words=None; total time=   0.7s\n"
     ]
    },
    {
     "name": "stderr",
     "output_type": "stream",
     "text": [
      "/Users/dhruvchopra/opt/anaconda3/envs/ddp/lib/python3.8/site-packages/sklearn/svm/_classes.py:32: FutureWarning: The default value of `dual` will change from `True` to `'auto'` in 1.5. Set the value of `dual` explicitly to suppress the warning.\n",
      "  warnings.warn(\n"
     ]
    },
    {
     "name": "stdout",
     "output_type": "stream",
     "text": [
      "[CV] END svc__C=20, svc__max_iter=6000, svc__penalty=l2, svc__random_state=42, vec__max_df=0.85, vec__min_df=0.001, vec__ngram_range=(1, 2), vec__stop_words=None; total time=   0.7s\n"
     ]
    },
    {
     "name": "stderr",
     "output_type": "stream",
     "text": [
      "/Users/dhruvchopra/opt/anaconda3/envs/ddp/lib/python3.8/site-packages/sklearn/svm/_classes.py:32: FutureWarning: The default value of `dual` will change from `True` to `'auto'` in 1.5. Set the value of `dual` explicitly to suppress the warning.\n",
      "  warnings.warn(\n"
     ]
    },
    {
     "name": "stdout",
     "output_type": "stream",
     "text": [
      "[CV] END svc__C=20, svc__max_iter=6000, svc__penalty=l2, svc__random_state=42, vec__max_df=0.85, vec__min_df=0.001, vec__ngram_range=(1, 2), vec__stop_words=None; total time=   0.8s\n"
     ]
    },
    {
     "name": "stderr",
     "output_type": "stream",
     "text": [
      "/Users/dhruvchopra/opt/anaconda3/envs/ddp/lib/python3.8/site-packages/sklearn/svm/_classes.py:32: FutureWarning: The default value of `dual` will change from `True` to `'auto'` in 1.5. Set the value of `dual` explicitly to suppress the warning.\n",
      "  warnings.warn(\n"
     ]
    },
    {
     "name": "stdout",
     "output_type": "stream",
     "text": [
      "[CV] END svc__C=20, svc__max_iter=6000, svc__penalty=l2, svc__random_state=42, vec__max_df=0.85, vec__min_df=0.001, vec__ngram_range=(1, 2), vec__stop_words=None; total time=   0.8s\n"
     ]
    },
    {
     "name": "stderr",
     "output_type": "stream",
     "text": [
      "/Users/dhruvchopra/opt/anaconda3/envs/ddp/lib/python3.8/site-packages/sklearn/svm/_classes.py:32: FutureWarning: The default value of `dual` will change from `True` to `'auto'` in 1.5. Set the value of `dual` explicitly to suppress the warning.\n",
      "  warnings.warn(\n"
     ]
    },
    {
     "name": "stdout",
     "output_type": "stream",
     "text": [
      "[CV] END svc__C=20, svc__max_iter=6000, svc__penalty=l2, svc__random_state=42, vec__max_df=0.85, vec__min_df=0.0001, vec__ngram_range=(1, 1), vec__stop_words=None; total time=   0.5s\n"
     ]
    },
    {
     "name": "stderr",
     "output_type": "stream",
     "text": [
      "/Users/dhruvchopra/opt/anaconda3/envs/ddp/lib/python3.8/site-packages/sklearn/svm/_classes.py:32: FutureWarning: The default value of `dual` will change from `True` to `'auto'` in 1.5. Set the value of `dual` explicitly to suppress the warning.\n",
      "  warnings.warn(\n"
     ]
    },
    {
     "name": "stdout",
     "output_type": "stream",
     "text": [
      "[CV] END svc__C=20, svc__max_iter=6000, svc__penalty=l2, svc__random_state=42, vec__max_df=0.85, vec__min_df=0.0001, vec__ngram_range=(1, 1), vec__stop_words=None; total time=   0.6s\n"
     ]
    },
    {
     "name": "stderr",
     "output_type": "stream",
     "text": [
      "/Users/dhruvchopra/opt/anaconda3/envs/ddp/lib/python3.8/site-packages/sklearn/svm/_classes.py:32: FutureWarning: The default value of `dual` will change from `True` to `'auto'` in 1.5. Set the value of `dual` explicitly to suppress the warning.\n",
      "  warnings.warn(\n"
     ]
    },
    {
     "name": "stdout",
     "output_type": "stream",
     "text": [
      "[CV] END svc__C=20, svc__max_iter=6000, svc__penalty=l2, svc__random_state=42, vec__max_df=0.85, vec__min_df=0.0001, vec__ngram_range=(1, 1), vec__stop_words=None; total time=   0.5s\n"
     ]
    },
    {
     "name": "stderr",
     "output_type": "stream",
     "text": [
      "/Users/dhruvchopra/opt/anaconda3/envs/ddp/lib/python3.8/site-packages/sklearn/svm/_classes.py:32: FutureWarning: The default value of `dual` will change from `True` to `'auto'` in 1.5. Set the value of `dual` explicitly to suppress the warning.\n",
      "  warnings.warn(\n"
     ]
    },
    {
     "name": "stdout",
     "output_type": "stream",
     "text": [
      "[CV] END svc__C=20, svc__max_iter=6000, svc__penalty=l2, svc__random_state=42, vec__max_df=0.85, vec__min_df=0.0001, vec__ngram_range=(1, 1), vec__stop_words=None; total time=   0.4s\n"
     ]
    },
    {
     "name": "stderr",
     "output_type": "stream",
     "text": [
      "/Users/dhruvchopra/opt/anaconda3/envs/ddp/lib/python3.8/site-packages/sklearn/svm/_classes.py:32: FutureWarning: The default value of `dual` will change from `True` to `'auto'` in 1.5. Set the value of `dual` explicitly to suppress the warning.\n",
      "  warnings.warn(\n"
     ]
    },
    {
     "name": "stdout",
     "output_type": "stream",
     "text": [
      "[CV] END svc__C=20, svc__max_iter=6000, svc__penalty=l2, svc__random_state=42, vec__max_df=0.85, vec__min_df=0.0001, vec__ngram_range=(1, 1), vec__stop_words=None; total time=   0.4s\n"
     ]
    },
    {
     "name": "stderr",
     "output_type": "stream",
     "text": [
      "/Users/dhruvchopra/opt/anaconda3/envs/ddp/lib/python3.8/site-packages/sklearn/svm/_classes.py:32: FutureWarning: The default value of `dual` will change from `True` to `'auto'` in 1.5. Set the value of `dual` explicitly to suppress the warning.\n",
      "  warnings.warn(\n"
     ]
    },
    {
     "name": "stdout",
     "output_type": "stream",
     "text": [
      "[CV] END svc__C=20, svc__max_iter=6000, svc__penalty=l2, svc__random_state=42, vec__max_df=0.85, vec__min_df=0.0001, vec__ngram_range=(1, 2), vec__stop_words=None; total time=   1.3s\n"
     ]
    },
    {
     "name": "stderr",
     "output_type": "stream",
     "text": [
      "/Users/dhruvchopra/opt/anaconda3/envs/ddp/lib/python3.8/site-packages/sklearn/svm/_classes.py:32: FutureWarning: The default value of `dual` will change from `True` to `'auto'` in 1.5. Set the value of `dual` explicitly to suppress the warning.\n",
      "  warnings.warn(\n"
     ]
    },
    {
     "name": "stdout",
     "output_type": "stream",
     "text": [
      "[CV] END svc__C=20, svc__max_iter=6000, svc__penalty=l2, svc__random_state=42, vec__max_df=0.85, vec__min_df=0.0001, vec__ngram_range=(1, 2), vec__stop_words=None; total time=   1.3s\n"
     ]
    },
    {
     "name": "stderr",
     "output_type": "stream",
     "text": [
      "/Users/dhruvchopra/opt/anaconda3/envs/ddp/lib/python3.8/site-packages/sklearn/svm/_classes.py:32: FutureWarning: The default value of `dual` will change from `True` to `'auto'` in 1.5. Set the value of `dual` explicitly to suppress the warning.\n",
      "  warnings.warn(\n"
     ]
    },
    {
     "name": "stdout",
     "output_type": "stream",
     "text": [
      "[CV] END svc__C=20, svc__max_iter=6000, svc__penalty=l2, svc__random_state=42, vec__max_df=0.85, vec__min_df=0.0001, vec__ngram_range=(1, 2), vec__stop_words=None; total time=   1.4s\n"
     ]
    },
    {
     "name": "stderr",
     "output_type": "stream",
     "text": [
      "/Users/dhruvchopra/opt/anaconda3/envs/ddp/lib/python3.8/site-packages/sklearn/svm/_classes.py:32: FutureWarning: The default value of `dual` will change from `True` to `'auto'` in 1.5. Set the value of `dual` explicitly to suppress the warning.\n",
      "  warnings.warn(\n"
     ]
    },
    {
     "name": "stdout",
     "output_type": "stream",
     "text": [
      "[CV] END svc__C=20, svc__max_iter=6000, svc__penalty=l2, svc__random_state=42, vec__max_df=0.85, vec__min_df=0.0001, vec__ngram_range=(1, 2), vec__stop_words=None; total time=   1.3s\n"
     ]
    },
    {
     "name": "stderr",
     "output_type": "stream",
     "text": [
      "/Users/dhruvchopra/opt/anaconda3/envs/ddp/lib/python3.8/site-packages/sklearn/svm/_classes.py:32: FutureWarning: The default value of `dual` will change from `True` to `'auto'` in 1.5. Set the value of `dual` explicitly to suppress the warning.\n",
      "  warnings.warn(\n"
     ]
    },
    {
     "name": "stdout",
     "output_type": "stream",
     "text": [
      "[CV] END svc__C=20, svc__max_iter=6000, svc__penalty=l2, svc__random_state=42, vec__max_df=0.85, vec__min_df=0.0001, vec__ngram_range=(1, 2), vec__stop_words=None; total time=   0.9s\n",
      "[CV] END svc__C=20, svc__max_iter=6000, svc__penalty=l2, svc__random_state=42, vec__max_df=0.85, vec__min_df=0, vec__ngram_range=(1, 1), vec__stop_words=None; total time=   0.0s\n",
      "[CV] END svc__C=20, svc__max_iter=6000, svc__penalty=l2, svc__random_state=42, vec__max_df=0.85, vec__min_df=0, vec__ngram_range=(1, 1), vec__stop_words=None; total time=   0.0s\n",
      "[CV] END svc__C=20, svc__max_iter=6000, svc__penalty=l2, svc__random_state=42, vec__max_df=0.85, vec__min_df=0, vec__ngram_range=(1, 1), vec__stop_words=None; total time=   0.0s\n",
      "[CV] END svc__C=20, svc__max_iter=6000, svc__penalty=l2, svc__random_state=42, vec__max_df=0.85, vec__min_df=0, vec__ngram_range=(1, 1), vec__stop_words=None; total time=   0.0s\n",
      "[CV] END svc__C=20, svc__max_iter=6000, svc__penalty=l2, svc__random_state=42, vec__max_df=0.85, vec__min_df=0, vec__ngram_range=(1, 1), vec__stop_words=None; total time=   0.0s\n",
      "[CV] END svc__C=20, svc__max_iter=6000, svc__penalty=l2, svc__random_state=42, vec__max_df=0.85, vec__min_df=0, vec__ngram_range=(1, 2), vec__stop_words=None; total time=   0.0s\n",
      "[CV] END svc__C=20, svc__max_iter=6000, svc__penalty=l2, svc__random_state=42, vec__max_df=0.85, vec__min_df=0, vec__ngram_range=(1, 2), vec__stop_words=None; total time=   0.0s\n",
      "[CV] END svc__C=20, svc__max_iter=6000, svc__penalty=l2, svc__random_state=42, vec__max_df=0.85, vec__min_df=0, vec__ngram_range=(1, 2), vec__stop_words=None; total time=   0.0s\n",
      "[CV] END svc__C=20, svc__max_iter=6000, svc__penalty=l2, svc__random_state=42, vec__max_df=0.85, vec__min_df=0, vec__ngram_range=(1, 2), vec__stop_words=None; total time=   0.0s\n",
      "[CV] END svc__C=20, svc__max_iter=6000, svc__penalty=l2, svc__random_state=42, vec__max_df=0.85, vec__min_df=0, vec__ngram_range=(1, 2), vec__stop_words=None; total time=   0.0s\n"
     ]
    },
    {
     "name": "stderr",
     "output_type": "stream",
     "text": [
      "/Users/dhruvchopra/opt/anaconda3/envs/ddp/lib/python3.8/site-packages/sklearn/svm/_classes.py:32: FutureWarning: The default value of `dual` will change from `True` to `'auto'` in 1.5. Set the value of `dual` explicitly to suppress the warning.\n",
      "  warnings.warn(\n"
     ]
    },
    {
     "name": "stdout",
     "output_type": "stream",
     "text": [
      "[CV] END svc__C=20, svc__max_iter=6000, svc__penalty=l2, svc__random_state=42, vec__max_df=0.9, vec__min_df=0.01, vec__ngram_range=(1, 1), vec__stop_words=None; total time=   0.8s\n"
     ]
    },
    {
     "name": "stderr",
     "output_type": "stream",
     "text": [
      "/Users/dhruvchopra/opt/anaconda3/envs/ddp/lib/python3.8/site-packages/sklearn/svm/_classes.py:32: FutureWarning: The default value of `dual` will change from `True` to `'auto'` in 1.5. Set the value of `dual` explicitly to suppress the warning.\n",
      "  warnings.warn(\n"
     ]
    },
    {
     "name": "stdout",
     "output_type": "stream",
     "text": [
      "[CV] END svc__C=20, svc__max_iter=6000, svc__penalty=l2, svc__random_state=42, vec__max_df=0.9, vec__min_df=0.01, vec__ngram_range=(1, 1), vec__stop_words=None; total time=   0.7s\n"
     ]
    },
    {
     "name": "stderr",
     "output_type": "stream",
     "text": [
      "/Users/dhruvchopra/opt/anaconda3/envs/ddp/lib/python3.8/site-packages/sklearn/svm/_classes.py:32: FutureWarning: The default value of `dual` will change from `True` to `'auto'` in 1.5. Set the value of `dual` explicitly to suppress the warning.\n",
      "  warnings.warn(\n"
     ]
    },
    {
     "name": "stdout",
     "output_type": "stream",
     "text": [
      "[CV] END svc__C=20, svc__max_iter=6000, svc__penalty=l2, svc__random_state=42, vec__max_df=0.9, vec__min_df=0.01, vec__ngram_range=(1, 1), vec__stop_words=None; total time=   0.7s\n"
     ]
    },
    {
     "name": "stderr",
     "output_type": "stream",
     "text": [
      "/Users/dhruvchopra/opt/anaconda3/envs/ddp/lib/python3.8/site-packages/sklearn/svm/_classes.py:32: FutureWarning: The default value of `dual` will change from `True` to `'auto'` in 1.5. Set the value of `dual` explicitly to suppress the warning.\n",
      "  warnings.warn(\n"
     ]
    },
    {
     "name": "stdout",
     "output_type": "stream",
     "text": [
      "[CV] END svc__C=20, svc__max_iter=6000, svc__penalty=l2, svc__random_state=42, vec__max_df=0.9, vec__min_df=0.01, vec__ngram_range=(1, 1), vec__stop_words=None; total time=   0.9s\n"
     ]
    },
    {
     "name": "stderr",
     "output_type": "stream",
     "text": [
      "/Users/dhruvchopra/opt/anaconda3/envs/ddp/lib/python3.8/site-packages/sklearn/svm/_classes.py:32: FutureWarning: The default value of `dual` will change from `True` to `'auto'` in 1.5. Set the value of `dual` explicitly to suppress the warning.\n",
      "  warnings.warn(\n"
     ]
    },
    {
     "name": "stdout",
     "output_type": "stream",
     "text": [
      "[CV] END svc__C=20, svc__max_iter=6000, svc__penalty=l2, svc__random_state=42, vec__max_df=0.9, vec__min_df=0.01, vec__ngram_range=(1, 1), vec__stop_words=None; total time=   0.7s\n"
     ]
    },
    {
     "name": "stderr",
     "output_type": "stream",
     "text": [
      "/Users/dhruvchopra/opt/anaconda3/envs/ddp/lib/python3.8/site-packages/sklearn/svm/_classes.py:32: FutureWarning: The default value of `dual` will change from `True` to `'auto'` in 1.5. Set the value of `dual` explicitly to suppress the warning.\n",
      "  warnings.warn(\n"
     ]
    },
    {
     "name": "stdout",
     "output_type": "stream",
     "text": [
      "[CV] END svc__C=20, svc__max_iter=6000, svc__penalty=l2, svc__random_state=42, vec__max_df=0.9, vec__min_df=0.01, vec__ngram_range=(1, 2), vec__stop_words=None; total time=   1.2s\n"
     ]
    },
    {
     "name": "stderr",
     "output_type": "stream",
     "text": [
      "/Users/dhruvchopra/opt/anaconda3/envs/ddp/lib/python3.8/site-packages/sklearn/svm/_classes.py:32: FutureWarning: The default value of `dual` will change from `True` to `'auto'` in 1.5. Set the value of `dual` explicitly to suppress the warning.\n",
      "  warnings.warn(\n"
     ]
    },
    {
     "name": "stdout",
     "output_type": "stream",
     "text": [
      "[CV] END svc__C=20, svc__max_iter=6000, svc__penalty=l2, svc__random_state=42, vec__max_df=0.9, vec__min_df=0.01, vec__ngram_range=(1, 2), vec__stop_words=None; total time=   1.0s\n"
     ]
    },
    {
     "name": "stderr",
     "output_type": "stream",
     "text": [
      "/Users/dhruvchopra/opt/anaconda3/envs/ddp/lib/python3.8/site-packages/sklearn/svm/_classes.py:32: FutureWarning: The default value of `dual` will change from `True` to `'auto'` in 1.5. Set the value of `dual` explicitly to suppress the warning.\n",
      "  warnings.warn(\n"
     ]
    },
    {
     "name": "stdout",
     "output_type": "stream",
     "text": [
      "[CV] END svc__C=20, svc__max_iter=6000, svc__penalty=l2, svc__random_state=42, vec__max_df=0.9, vec__min_df=0.01, vec__ngram_range=(1, 2), vec__stop_words=None; total time=   1.1s\n"
     ]
    },
    {
     "name": "stderr",
     "output_type": "stream",
     "text": [
      "/Users/dhruvchopra/opt/anaconda3/envs/ddp/lib/python3.8/site-packages/sklearn/svm/_classes.py:32: FutureWarning: The default value of `dual` will change from `True` to `'auto'` in 1.5. Set the value of `dual` explicitly to suppress the warning.\n",
      "  warnings.warn(\n"
     ]
    },
    {
     "name": "stdout",
     "output_type": "stream",
     "text": [
      "[CV] END svc__C=20, svc__max_iter=6000, svc__penalty=l2, svc__random_state=42, vec__max_df=0.9, vec__min_df=0.01, vec__ngram_range=(1, 2), vec__stop_words=None; total time=   1.0s\n"
     ]
    },
    {
     "name": "stderr",
     "output_type": "stream",
     "text": [
      "/Users/dhruvchopra/opt/anaconda3/envs/ddp/lib/python3.8/site-packages/sklearn/svm/_classes.py:32: FutureWarning: The default value of `dual` will change from `True` to `'auto'` in 1.5. Set the value of `dual` explicitly to suppress the warning.\n",
      "  warnings.warn(\n"
     ]
    },
    {
     "name": "stdout",
     "output_type": "stream",
     "text": [
      "[CV] END svc__C=20, svc__max_iter=6000, svc__penalty=l2, svc__random_state=42, vec__max_df=0.9, vec__min_df=0.01, vec__ngram_range=(1, 2), vec__stop_words=None; total time=   1.0s\n"
     ]
    },
    {
     "name": "stderr",
     "output_type": "stream",
     "text": [
      "/Users/dhruvchopra/opt/anaconda3/envs/ddp/lib/python3.8/site-packages/sklearn/svm/_classes.py:32: FutureWarning: The default value of `dual` will change from `True` to `'auto'` in 1.5. Set the value of `dual` explicitly to suppress the warning.\n",
      "  warnings.warn(\n"
     ]
    },
    {
     "name": "stdout",
     "output_type": "stream",
     "text": [
      "[CV] END svc__C=20, svc__max_iter=6000, svc__penalty=l2, svc__random_state=42, vec__max_df=0.9, vec__min_df=0.001, vec__ngram_range=(1, 1), vec__stop_words=None; total time=   0.5s\n"
     ]
    },
    {
     "name": "stderr",
     "output_type": "stream",
     "text": [
      "/Users/dhruvchopra/opt/anaconda3/envs/ddp/lib/python3.8/site-packages/sklearn/svm/_classes.py:32: FutureWarning: The default value of `dual` will change from `True` to `'auto'` in 1.5. Set the value of `dual` explicitly to suppress the warning.\n",
      "  warnings.warn(\n"
     ]
    },
    {
     "name": "stdout",
     "output_type": "stream",
     "text": [
      "[CV] END svc__C=20, svc__max_iter=6000, svc__penalty=l2, svc__random_state=42, vec__max_df=0.9, vec__min_df=0.001, vec__ngram_range=(1, 1), vec__stop_words=None; total time=   0.5s\n"
     ]
    },
    {
     "name": "stderr",
     "output_type": "stream",
     "text": [
      "/Users/dhruvchopra/opt/anaconda3/envs/ddp/lib/python3.8/site-packages/sklearn/svm/_classes.py:32: FutureWarning: The default value of `dual` will change from `True` to `'auto'` in 1.5. Set the value of `dual` explicitly to suppress the warning.\n",
      "  warnings.warn(\n"
     ]
    },
    {
     "name": "stdout",
     "output_type": "stream",
     "text": [
      "[CV] END svc__C=20, svc__max_iter=6000, svc__penalty=l2, svc__random_state=42, vec__max_df=0.9, vec__min_df=0.001, vec__ngram_range=(1, 1), vec__stop_words=None; total time=   0.5s\n"
     ]
    },
    {
     "name": "stderr",
     "output_type": "stream",
     "text": [
      "/Users/dhruvchopra/opt/anaconda3/envs/ddp/lib/python3.8/site-packages/sklearn/svm/_classes.py:32: FutureWarning: The default value of `dual` will change from `True` to `'auto'` in 1.5. Set the value of `dual` explicitly to suppress the warning.\n",
      "  warnings.warn(\n"
     ]
    },
    {
     "name": "stdout",
     "output_type": "stream",
     "text": [
      "[CV] END svc__C=20, svc__max_iter=6000, svc__penalty=l2, svc__random_state=42, vec__max_df=0.9, vec__min_df=0.001, vec__ngram_range=(1, 1), vec__stop_words=None; total time=   0.5s\n"
     ]
    },
    {
     "name": "stderr",
     "output_type": "stream",
     "text": [
      "/Users/dhruvchopra/opt/anaconda3/envs/ddp/lib/python3.8/site-packages/sklearn/svm/_classes.py:32: FutureWarning: The default value of `dual` will change from `True` to `'auto'` in 1.5. Set the value of `dual` explicitly to suppress the warning.\n",
      "  warnings.warn(\n"
     ]
    },
    {
     "name": "stdout",
     "output_type": "stream",
     "text": [
      "[CV] END svc__C=20, svc__max_iter=6000, svc__penalty=l2, svc__random_state=42, vec__max_df=0.9, vec__min_df=0.001, vec__ngram_range=(1, 1), vec__stop_words=None; total time=   0.4s\n"
     ]
    },
    {
     "name": "stderr",
     "output_type": "stream",
     "text": [
      "/Users/dhruvchopra/opt/anaconda3/envs/ddp/lib/python3.8/site-packages/sklearn/svm/_classes.py:32: FutureWarning: The default value of `dual` will change from `True` to `'auto'` in 1.5. Set the value of `dual` explicitly to suppress the warning.\n",
      "  warnings.warn(\n"
     ]
    },
    {
     "name": "stdout",
     "output_type": "stream",
     "text": [
      "[CV] END svc__C=20, svc__max_iter=6000, svc__penalty=l2, svc__random_state=42, vec__max_df=0.9, vec__min_df=0.001, vec__ngram_range=(1, 2), vec__stop_words=None; total time=   0.8s\n"
     ]
    },
    {
     "name": "stderr",
     "output_type": "stream",
     "text": [
      "/Users/dhruvchopra/opt/anaconda3/envs/ddp/lib/python3.8/site-packages/sklearn/svm/_classes.py:32: FutureWarning: The default value of `dual` will change from `True` to `'auto'` in 1.5. Set the value of `dual` explicitly to suppress the warning.\n",
      "  warnings.warn(\n"
     ]
    },
    {
     "name": "stdout",
     "output_type": "stream",
     "text": [
      "[CV] END svc__C=20, svc__max_iter=6000, svc__penalty=l2, svc__random_state=42, vec__max_df=0.9, vec__min_df=0.001, vec__ngram_range=(1, 2), vec__stop_words=None; total time=   0.7s\n"
     ]
    },
    {
     "name": "stderr",
     "output_type": "stream",
     "text": [
      "/Users/dhruvchopra/opt/anaconda3/envs/ddp/lib/python3.8/site-packages/sklearn/svm/_classes.py:32: FutureWarning: The default value of `dual` will change from `True` to `'auto'` in 1.5. Set the value of `dual` explicitly to suppress the warning.\n",
      "  warnings.warn(\n"
     ]
    },
    {
     "name": "stdout",
     "output_type": "stream",
     "text": [
      "[CV] END svc__C=20, svc__max_iter=6000, svc__penalty=l2, svc__random_state=42, vec__max_df=0.9, vec__min_df=0.001, vec__ngram_range=(1, 2), vec__stop_words=None; total time=   0.7s\n"
     ]
    },
    {
     "name": "stderr",
     "output_type": "stream",
     "text": [
      "/Users/dhruvchopra/opt/anaconda3/envs/ddp/lib/python3.8/site-packages/sklearn/svm/_classes.py:32: FutureWarning: The default value of `dual` will change from `True` to `'auto'` in 1.5. Set the value of `dual` explicitly to suppress the warning.\n",
      "  warnings.warn(\n"
     ]
    },
    {
     "name": "stdout",
     "output_type": "stream",
     "text": [
      "[CV] END svc__C=20, svc__max_iter=6000, svc__penalty=l2, svc__random_state=42, vec__max_df=0.9, vec__min_df=0.001, vec__ngram_range=(1, 2), vec__stop_words=None; total time=   0.8s\n"
     ]
    },
    {
     "name": "stderr",
     "output_type": "stream",
     "text": [
      "/Users/dhruvchopra/opt/anaconda3/envs/ddp/lib/python3.8/site-packages/sklearn/svm/_classes.py:32: FutureWarning: The default value of `dual` will change from `True` to `'auto'` in 1.5. Set the value of `dual` explicitly to suppress the warning.\n",
      "  warnings.warn(\n"
     ]
    },
    {
     "name": "stdout",
     "output_type": "stream",
     "text": [
      "[CV] END svc__C=20, svc__max_iter=6000, svc__penalty=l2, svc__random_state=42, vec__max_df=0.9, vec__min_df=0.001, vec__ngram_range=(1, 2), vec__stop_words=None; total time=   0.7s\n"
     ]
    },
    {
     "name": "stderr",
     "output_type": "stream",
     "text": [
      "/Users/dhruvchopra/opt/anaconda3/envs/ddp/lib/python3.8/site-packages/sklearn/svm/_classes.py:32: FutureWarning: The default value of `dual` will change from `True` to `'auto'` in 1.5. Set the value of `dual` explicitly to suppress the warning.\n",
      "  warnings.warn(\n"
     ]
    },
    {
     "name": "stdout",
     "output_type": "stream",
     "text": [
      "[CV] END svc__C=20, svc__max_iter=6000, svc__penalty=l2, svc__random_state=42, vec__max_df=0.9, vec__min_df=0.0001, vec__ngram_range=(1, 1), vec__stop_words=None; total time=   0.5s\n"
     ]
    },
    {
     "name": "stderr",
     "output_type": "stream",
     "text": [
      "/Users/dhruvchopra/opt/anaconda3/envs/ddp/lib/python3.8/site-packages/sklearn/svm/_classes.py:32: FutureWarning: The default value of `dual` will change from `True` to `'auto'` in 1.5. Set the value of `dual` explicitly to suppress the warning.\n",
      "  warnings.warn(\n"
     ]
    },
    {
     "name": "stdout",
     "output_type": "stream",
     "text": [
      "[CV] END svc__C=20, svc__max_iter=6000, svc__penalty=l2, svc__random_state=42, vec__max_df=0.9, vec__min_df=0.0001, vec__ngram_range=(1, 1), vec__stop_words=None; total time=   0.5s\n"
     ]
    },
    {
     "name": "stderr",
     "output_type": "stream",
     "text": [
      "/Users/dhruvchopra/opt/anaconda3/envs/ddp/lib/python3.8/site-packages/sklearn/svm/_classes.py:32: FutureWarning: The default value of `dual` will change from `True` to `'auto'` in 1.5. Set the value of `dual` explicitly to suppress the warning.\n",
      "  warnings.warn(\n"
     ]
    },
    {
     "name": "stdout",
     "output_type": "stream",
     "text": [
      "[CV] END svc__C=20, svc__max_iter=6000, svc__penalty=l2, svc__random_state=42, vec__max_df=0.9, vec__min_df=0.0001, vec__ngram_range=(1, 1), vec__stop_words=None; total time=   0.5s\n"
     ]
    },
    {
     "name": "stderr",
     "output_type": "stream",
     "text": [
      "/Users/dhruvchopra/opt/anaconda3/envs/ddp/lib/python3.8/site-packages/sklearn/svm/_classes.py:32: FutureWarning: The default value of `dual` will change from `True` to `'auto'` in 1.5. Set the value of `dual` explicitly to suppress the warning.\n",
      "  warnings.warn(\n"
     ]
    },
    {
     "name": "stdout",
     "output_type": "stream",
     "text": [
      "[CV] END svc__C=20, svc__max_iter=6000, svc__penalty=l2, svc__random_state=42, vec__max_df=0.9, vec__min_df=0.0001, vec__ngram_range=(1, 1), vec__stop_words=None; total time=   0.5s\n"
     ]
    },
    {
     "name": "stderr",
     "output_type": "stream",
     "text": [
      "/Users/dhruvchopra/opt/anaconda3/envs/ddp/lib/python3.8/site-packages/sklearn/svm/_classes.py:32: FutureWarning: The default value of `dual` will change from `True` to `'auto'` in 1.5. Set the value of `dual` explicitly to suppress the warning.\n",
      "  warnings.warn(\n"
     ]
    },
    {
     "name": "stdout",
     "output_type": "stream",
     "text": [
      "[CV] END svc__C=20, svc__max_iter=6000, svc__penalty=l2, svc__random_state=42, vec__max_df=0.9, vec__min_df=0.0001, vec__ngram_range=(1, 1), vec__stop_words=None; total time=   0.4s\n"
     ]
    },
    {
     "name": "stderr",
     "output_type": "stream",
     "text": [
      "/Users/dhruvchopra/opt/anaconda3/envs/ddp/lib/python3.8/site-packages/sklearn/svm/_classes.py:32: FutureWarning: The default value of `dual` will change from `True` to `'auto'` in 1.5. Set the value of `dual` explicitly to suppress the warning.\n",
      "  warnings.warn(\n"
     ]
    },
    {
     "name": "stdout",
     "output_type": "stream",
     "text": [
      "[CV] END svc__C=20, svc__max_iter=6000, svc__penalty=l2, svc__random_state=42, vec__max_df=0.9, vec__min_df=0.0001, vec__ngram_range=(1, 2), vec__stop_words=None; total time=   1.2s\n"
     ]
    },
    {
     "name": "stderr",
     "output_type": "stream",
     "text": [
      "/Users/dhruvchopra/opt/anaconda3/envs/ddp/lib/python3.8/site-packages/sklearn/svm/_classes.py:32: FutureWarning: The default value of `dual` will change from `True` to `'auto'` in 1.5. Set the value of `dual` explicitly to suppress the warning.\n",
      "  warnings.warn(\n"
     ]
    },
    {
     "name": "stdout",
     "output_type": "stream",
     "text": [
      "[CV] END svc__C=20, svc__max_iter=6000, svc__penalty=l2, svc__random_state=42, vec__max_df=0.9, vec__min_df=0.0001, vec__ngram_range=(1, 2), vec__stop_words=None; total time=   1.3s\n"
     ]
    },
    {
     "name": "stderr",
     "output_type": "stream",
     "text": [
      "/Users/dhruvchopra/opt/anaconda3/envs/ddp/lib/python3.8/site-packages/sklearn/svm/_classes.py:32: FutureWarning: The default value of `dual` will change from `True` to `'auto'` in 1.5. Set the value of `dual` explicitly to suppress the warning.\n",
      "  warnings.warn(\n"
     ]
    },
    {
     "name": "stdout",
     "output_type": "stream",
     "text": [
      "[CV] END svc__C=20, svc__max_iter=6000, svc__penalty=l2, svc__random_state=42, vec__max_df=0.9, vec__min_df=0.0001, vec__ngram_range=(1, 2), vec__stop_words=None; total time=   1.4s\n"
     ]
    },
    {
     "name": "stderr",
     "output_type": "stream",
     "text": [
      "/Users/dhruvchopra/opt/anaconda3/envs/ddp/lib/python3.8/site-packages/sklearn/svm/_classes.py:32: FutureWarning: The default value of `dual` will change from `True` to `'auto'` in 1.5. Set the value of `dual` explicitly to suppress the warning.\n",
      "  warnings.warn(\n"
     ]
    },
    {
     "name": "stdout",
     "output_type": "stream",
     "text": [
      "[CV] END svc__C=20, svc__max_iter=6000, svc__penalty=l2, svc__random_state=42, vec__max_df=0.9, vec__min_df=0.0001, vec__ngram_range=(1, 2), vec__stop_words=None; total time=   1.3s\n"
     ]
    },
    {
     "name": "stderr",
     "output_type": "stream",
     "text": [
      "/Users/dhruvchopra/opt/anaconda3/envs/ddp/lib/python3.8/site-packages/sklearn/svm/_classes.py:32: FutureWarning: The default value of `dual` will change from `True` to `'auto'` in 1.5. Set the value of `dual` explicitly to suppress the warning.\n",
      "  warnings.warn(\n"
     ]
    },
    {
     "name": "stdout",
     "output_type": "stream",
     "text": [
      "[CV] END svc__C=20, svc__max_iter=6000, svc__penalty=l2, svc__random_state=42, vec__max_df=0.9, vec__min_df=0.0001, vec__ngram_range=(1, 2), vec__stop_words=None; total time=   0.9s\n",
      "[CV] END svc__C=20, svc__max_iter=6000, svc__penalty=l2, svc__random_state=42, vec__max_df=0.9, vec__min_df=0, vec__ngram_range=(1, 1), vec__stop_words=None; total time=   0.0s\n",
      "[CV] END svc__C=20, svc__max_iter=6000, svc__penalty=l2, svc__random_state=42, vec__max_df=0.9, vec__min_df=0, vec__ngram_range=(1, 1), vec__stop_words=None; total time=   0.0s\n",
      "[CV] END svc__C=20, svc__max_iter=6000, svc__penalty=l2, svc__random_state=42, vec__max_df=0.9, vec__min_df=0, vec__ngram_range=(1, 1), vec__stop_words=None; total time=   0.0s\n",
      "[CV] END svc__C=20, svc__max_iter=6000, svc__penalty=l2, svc__random_state=42, vec__max_df=0.9, vec__min_df=0, vec__ngram_range=(1, 1), vec__stop_words=None; total time=   0.0s\n",
      "[CV] END svc__C=20, svc__max_iter=6000, svc__penalty=l2, svc__random_state=42, vec__max_df=0.9, vec__min_df=0, vec__ngram_range=(1, 1), vec__stop_words=None; total time=   0.0s\n",
      "[CV] END svc__C=20, svc__max_iter=6000, svc__penalty=l2, svc__random_state=42, vec__max_df=0.9, vec__min_df=0, vec__ngram_range=(1, 2), vec__stop_words=None; total time=   0.0s\n",
      "[CV] END svc__C=20, svc__max_iter=6000, svc__penalty=l2, svc__random_state=42, vec__max_df=0.9, vec__min_df=0, vec__ngram_range=(1, 2), vec__stop_words=None; total time=   0.0s\n",
      "[CV] END svc__C=20, svc__max_iter=6000, svc__penalty=l2, svc__random_state=42, vec__max_df=0.9, vec__min_df=0, vec__ngram_range=(1, 2), vec__stop_words=None; total time=   0.0s\n",
      "[CV] END svc__C=20, svc__max_iter=6000, svc__penalty=l2, svc__random_state=42, vec__max_df=0.9, vec__min_df=0, vec__ngram_range=(1, 2), vec__stop_words=None; total time=   0.0s\n",
      "[CV] END svc__C=20, svc__max_iter=6000, svc__penalty=l2, svc__random_state=42, vec__max_df=0.9, vec__min_df=0, vec__ngram_range=(1, 2), vec__stop_words=None; total time=   0.0s\n"
     ]
    },
    {
     "name": "stderr",
     "output_type": "stream",
     "text": [
      "/Users/dhruvchopra/opt/anaconda3/envs/ddp/lib/python3.8/site-packages/sklearn/svm/_classes.py:32: FutureWarning: The default value of `dual` will change from `True` to `'auto'` in 1.5. Set the value of `dual` explicitly to suppress the warning.\n",
      "  warnings.warn(\n"
     ]
    },
    {
     "name": "stdout",
     "output_type": "stream",
     "text": [
      "[CV] END svc__C=20, svc__max_iter=6000, svc__penalty=l2, svc__random_state=42, vec__max_df=0.99, vec__min_df=0.01, vec__ngram_range=(1, 1), vec__stop_words=None; total time=   0.8s\n"
     ]
    },
    {
     "name": "stderr",
     "output_type": "stream",
     "text": [
      "/Users/dhruvchopra/opt/anaconda3/envs/ddp/lib/python3.8/site-packages/sklearn/svm/_classes.py:32: FutureWarning: The default value of `dual` will change from `True` to `'auto'` in 1.5. Set the value of `dual` explicitly to suppress the warning.\n",
      "  warnings.warn(\n"
     ]
    },
    {
     "name": "stdout",
     "output_type": "stream",
     "text": [
      "[CV] END svc__C=20, svc__max_iter=6000, svc__penalty=l2, svc__random_state=42, vec__max_df=0.99, vec__min_df=0.01, vec__ngram_range=(1, 1), vec__stop_words=None; total time=   0.7s\n"
     ]
    },
    {
     "name": "stderr",
     "output_type": "stream",
     "text": [
      "/Users/dhruvchopra/opt/anaconda3/envs/ddp/lib/python3.8/site-packages/sklearn/svm/_classes.py:32: FutureWarning: The default value of `dual` will change from `True` to `'auto'` in 1.5. Set the value of `dual` explicitly to suppress the warning.\n",
      "  warnings.warn(\n"
     ]
    },
    {
     "name": "stdout",
     "output_type": "stream",
     "text": [
      "[CV] END svc__C=20, svc__max_iter=6000, svc__penalty=l2, svc__random_state=42, vec__max_df=0.99, vec__min_df=0.01, vec__ngram_range=(1, 1), vec__stop_words=None; total time=   0.7s\n"
     ]
    },
    {
     "name": "stderr",
     "output_type": "stream",
     "text": [
      "/Users/dhruvchopra/opt/anaconda3/envs/ddp/lib/python3.8/site-packages/sklearn/svm/_classes.py:32: FutureWarning: The default value of `dual` will change from `True` to `'auto'` in 1.5. Set the value of `dual` explicitly to suppress the warning.\n",
      "  warnings.warn(\n"
     ]
    },
    {
     "name": "stdout",
     "output_type": "stream",
     "text": [
      "[CV] END svc__C=20, svc__max_iter=6000, svc__penalty=l2, svc__random_state=42, vec__max_df=0.99, vec__min_df=0.01, vec__ngram_range=(1, 1), vec__stop_words=None; total time=   0.9s\n"
     ]
    },
    {
     "name": "stderr",
     "output_type": "stream",
     "text": [
      "/Users/dhruvchopra/opt/anaconda3/envs/ddp/lib/python3.8/site-packages/sklearn/svm/_classes.py:32: FutureWarning: The default value of `dual` will change from `True` to `'auto'` in 1.5. Set the value of `dual` explicitly to suppress the warning.\n",
      "  warnings.warn(\n"
     ]
    },
    {
     "name": "stdout",
     "output_type": "stream",
     "text": [
      "[CV] END svc__C=20, svc__max_iter=6000, svc__penalty=l2, svc__random_state=42, vec__max_df=0.99, vec__min_df=0.01, vec__ngram_range=(1, 1), vec__stop_words=None; total time=   0.6s\n"
     ]
    },
    {
     "name": "stderr",
     "output_type": "stream",
     "text": [
      "/Users/dhruvchopra/opt/anaconda3/envs/ddp/lib/python3.8/site-packages/sklearn/svm/_classes.py:32: FutureWarning: The default value of `dual` will change from `True` to `'auto'` in 1.5. Set the value of `dual` explicitly to suppress the warning.\n",
      "  warnings.warn(\n"
     ]
    },
    {
     "name": "stdout",
     "output_type": "stream",
     "text": [
      "[CV] END svc__C=20, svc__max_iter=6000, svc__penalty=l2, svc__random_state=42, vec__max_df=0.99, vec__min_df=0.01, vec__ngram_range=(1, 2), vec__stop_words=None; total time=   1.1s\n"
     ]
    },
    {
     "name": "stderr",
     "output_type": "stream",
     "text": [
      "/Users/dhruvchopra/opt/anaconda3/envs/ddp/lib/python3.8/site-packages/sklearn/svm/_classes.py:32: FutureWarning: The default value of `dual` will change from `True` to `'auto'` in 1.5. Set the value of `dual` explicitly to suppress the warning.\n",
      "  warnings.warn(\n"
     ]
    },
    {
     "name": "stdout",
     "output_type": "stream",
     "text": [
      "[CV] END svc__C=20, svc__max_iter=6000, svc__penalty=l2, svc__random_state=42, vec__max_df=0.99, vec__min_df=0.01, vec__ngram_range=(1, 2), vec__stop_words=None; total time=   0.9s\n"
     ]
    },
    {
     "name": "stderr",
     "output_type": "stream",
     "text": [
      "/Users/dhruvchopra/opt/anaconda3/envs/ddp/lib/python3.8/site-packages/sklearn/svm/_classes.py:32: FutureWarning: The default value of `dual` will change from `True` to `'auto'` in 1.5. Set the value of `dual` explicitly to suppress the warning.\n",
      "  warnings.warn(\n"
     ]
    },
    {
     "name": "stdout",
     "output_type": "stream",
     "text": [
      "[CV] END svc__C=20, svc__max_iter=6000, svc__penalty=l2, svc__random_state=42, vec__max_df=0.99, vec__min_df=0.01, vec__ngram_range=(1, 2), vec__stop_words=None; total time=   0.9s\n"
     ]
    },
    {
     "name": "stderr",
     "output_type": "stream",
     "text": [
      "/Users/dhruvchopra/opt/anaconda3/envs/ddp/lib/python3.8/site-packages/sklearn/svm/_classes.py:32: FutureWarning: The default value of `dual` will change from `True` to `'auto'` in 1.5. Set the value of `dual` explicitly to suppress the warning.\n",
      "  warnings.warn(\n"
     ]
    },
    {
     "name": "stdout",
     "output_type": "stream",
     "text": [
      "[CV] END svc__C=20, svc__max_iter=6000, svc__penalty=l2, svc__random_state=42, vec__max_df=0.99, vec__min_df=0.01, vec__ngram_range=(1, 2), vec__stop_words=None; total time=   1.0s\n"
     ]
    },
    {
     "name": "stderr",
     "output_type": "stream",
     "text": [
      "/Users/dhruvchopra/opt/anaconda3/envs/ddp/lib/python3.8/site-packages/sklearn/svm/_classes.py:32: FutureWarning: The default value of `dual` will change from `True` to `'auto'` in 1.5. Set the value of `dual` explicitly to suppress the warning.\n",
      "  warnings.warn(\n"
     ]
    },
    {
     "name": "stdout",
     "output_type": "stream",
     "text": [
      "[CV] END svc__C=20, svc__max_iter=6000, svc__penalty=l2, svc__random_state=42, vec__max_df=0.99, vec__min_df=0.01, vec__ngram_range=(1, 2), vec__stop_words=None; total time=   1.0s\n"
     ]
    },
    {
     "name": "stderr",
     "output_type": "stream",
     "text": [
      "/Users/dhruvchopra/opt/anaconda3/envs/ddp/lib/python3.8/site-packages/sklearn/svm/_classes.py:32: FutureWarning: The default value of `dual` will change from `True` to `'auto'` in 1.5. Set the value of `dual` explicitly to suppress the warning.\n",
      "  warnings.warn(\n"
     ]
    },
    {
     "name": "stdout",
     "output_type": "stream",
     "text": [
      "[CV] END svc__C=20, svc__max_iter=6000, svc__penalty=l2, svc__random_state=42, vec__max_df=0.99, vec__min_df=0.001, vec__ngram_range=(1, 1), vec__stop_words=None; total time=   0.6s\n"
     ]
    },
    {
     "name": "stderr",
     "output_type": "stream",
     "text": [
      "/Users/dhruvchopra/opt/anaconda3/envs/ddp/lib/python3.8/site-packages/sklearn/svm/_classes.py:32: FutureWarning: The default value of `dual` will change from `True` to `'auto'` in 1.5. Set the value of `dual` explicitly to suppress the warning.\n",
      "  warnings.warn(\n"
     ]
    },
    {
     "name": "stdout",
     "output_type": "stream",
     "text": [
      "[CV] END svc__C=20, svc__max_iter=6000, svc__penalty=l2, svc__random_state=42, vec__max_df=0.99, vec__min_df=0.001, vec__ngram_range=(1, 1), vec__stop_words=None; total time=   0.5s\n"
     ]
    },
    {
     "name": "stderr",
     "output_type": "stream",
     "text": [
      "/Users/dhruvchopra/opt/anaconda3/envs/ddp/lib/python3.8/site-packages/sklearn/svm/_classes.py:32: FutureWarning: The default value of `dual` will change from `True` to `'auto'` in 1.5. Set the value of `dual` explicitly to suppress the warning.\n",
      "  warnings.warn(\n"
     ]
    },
    {
     "name": "stdout",
     "output_type": "stream",
     "text": [
      "[CV] END svc__C=20, svc__max_iter=6000, svc__penalty=l2, svc__random_state=42, vec__max_df=0.99, vec__min_df=0.001, vec__ngram_range=(1, 1), vec__stop_words=None; total time=   0.5s\n"
     ]
    },
    {
     "name": "stderr",
     "output_type": "stream",
     "text": [
      "/Users/dhruvchopra/opt/anaconda3/envs/ddp/lib/python3.8/site-packages/sklearn/svm/_classes.py:32: FutureWarning: The default value of `dual` will change from `True` to `'auto'` in 1.5. Set the value of `dual` explicitly to suppress the warning.\n",
      "  warnings.warn(\n"
     ]
    },
    {
     "name": "stdout",
     "output_type": "stream",
     "text": [
      "[CV] END svc__C=20, svc__max_iter=6000, svc__penalty=l2, svc__random_state=42, vec__max_df=0.99, vec__min_df=0.001, vec__ngram_range=(1, 1), vec__stop_words=None; total time=   0.5s\n"
     ]
    },
    {
     "name": "stderr",
     "output_type": "stream",
     "text": [
      "/Users/dhruvchopra/opt/anaconda3/envs/ddp/lib/python3.8/site-packages/sklearn/svm/_classes.py:32: FutureWarning: The default value of `dual` will change from `True` to `'auto'` in 1.5. Set the value of `dual` explicitly to suppress the warning.\n",
      "  warnings.warn(\n"
     ]
    },
    {
     "name": "stdout",
     "output_type": "stream",
     "text": [
      "[CV] END svc__C=20, svc__max_iter=6000, svc__penalty=l2, svc__random_state=42, vec__max_df=0.99, vec__min_df=0.001, vec__ngram_range=(1, 1), vec__stop_words=None; total time=   0.5s\n"
     ]
    },
    {
     "name": "stderr",
     "output_type": "stream",
     "text": [
      "/Users/dhruvchopra/opt/anaconda3/envs/ddp/lib/python3.8/site-packages/sklearn/svm/_classes.py:32: FutureWarning: The default value of `dual` will change from `True` to `'auto'` in 1.5. Set the value of `dual` explicitly to suppress the warning.\n",
      "  warnings.warn(\n"
     ]
    },
    {
     "name": "stdout",
     "output_type": "stream",
     "text": [
      "[CV] END svc__C=20, svc__max_iter=6000, svc__penalty=l2, svc__random_state=42, vec__max_df=0.99, vec__min_df=0.001, vec__ngram_range=(1, 2), vec__stop_words=None; total time=   0.8s\n"
     ]
    },
    {
     "name": "stderr",
     "output_type": "stream",
     "text": [
      "/Users/dhruvchopra/opt/anaconda3/envs/ddp/lib/python3.8/site-packages/sklearn/svm/_classes.py:32: FutureWarning: The default value of `dual` will change from `True` to `'auto'` in 1.5. Set the value of `dual` explicitly to suppress the warning.\n",
      "  warnings.warn(\n"
     ]
    },
    {
     "name": "stdout",
     "output_type": "stream",
     "text": [
      "[CV] END svc__C=20, svc__max_iter=6000, svc__penalty=l2, svc__random_state=42, vec__max_df=0.99, vec__min_df=0.001, vec__ngram_range=(1, 2), vec__stop_words=None; total time=   0.7s\n"
     ]
    },
    {
     "name": "stderr",
     "output_type": "stream",
     "text": [
      "/Users/dhruvchopra/opt/anaconda3/envs/ddp/lib/python3.8/site-packages/sklearn/svm/_classes.py:32: FutureWarning: The default value of `dual` will change from `True` to `'auto'` in 1.5. Set the value of `dual` explicitly to suppress the warning.\n",
      "  warnings.warn(\n"
     ]
    },
    {
     "name": "stdout",
     "output_type": "stream",
     "text": [
      "[CV] END svc__C=20, svc__max_iter=6000, svc__penalty=l2, svc__random_state=42, vec__max_df=0.99, vec__min_df=0.001, vec__ngram_range=(1, 2), vec__stop_words=None; total time=   0.7s\n"
     ]
    },
    {
     "name": "stderr",
     "output_type": "stream",
     "text": [
      "/Users/dhruvchopra/opt/anaconda3/envs/ddp/lib/python3.8/site-packages/sklearn/svm/_classes.py:32: FutureWarning: The default value of `dual` will change from `True` to `'auto'` in 1.5. Set the value of `dual` explicitly to suppress the warning.\n",
      "  warnings.warn(\n"
     ]
    },
    {
     "name": "stdout",
     "output_type": "stream",
     "text": [
      "[CV] END svc__C=20, svc__max_iter=6000, svc__penalty=l2, svc__random_state=42, vec__max_df=0.99, vec__min_df=0.001, vec__ngram_range=(1, 2), vec__stop_words=None; total time=   0.7s\n"
     ]
    },
    {
     "name": "stderr",
     "output_type": "stream",
     "text": [
      "/Users/dhruvchopra/opt/anaconda3/envs/ddp/lib/python3.8/site-packages/sklearn/svm/_classes.py:32: FutureWarning: The default value of `dual` will change from `True` to `'auto'` in 1.5. Set the value of `dual` explicitly to suppress the warning.\n",
      "  warnings.warn(\n"
     ]
    },
    {
     "name": "stdout",
     "output_type": "stream",
     "text": [
      "[CV] END svc__C=20, svc__max_iter=6000, svc__penalty=l2, svc__random_state=42, vec__max_df=0.99, vec__min_df=0.001, vec__ngram_range=(1, 2), vec__stop_words=None; total time=   0.7s\n"
     ]
    },
    {
     "name": "stderr",
     "output_type": "stream",
     "text": [
      "/Users/dhruvchopra/opt/anaconda3/envs/ddp/lib/python3.8/site-packages/sklearn/svm/_classes.py:32: FutureWarning: The default value of `dual` will change from `True` to `'auto'` in 1.5. Set the value of `dual` explicitly to suppress the warning.\n",
      "  warnings.warn(\n"
     ]
    },
    {
     "name": "stdout",
     "output_type": "stream",
     "text": [
      "[CV] END svc__C=20, svc__max_iter=6000, svc__penalty=l2, svc__random_state=42, vec__max_df=0.99, vec__min_df=0.0001, vec__ngram_range=(1, 1), vec__stop_words=None; total time=   0.5s\n"
     ]
    },
    {
     "name": "stderr",
     "output_type": "stream",
     "text": [
      "/Users/dhruvchopra/opt/anaconda3/envs/ddp/lib/python3.8/site-packages/sklearn/svm/_classes.py:32: FutureWarning: The default value of `dual` will change from `True` to `'auto'` in 1.5. Set the value of `dual` explicitly to suppress the warning.\n",
      "  warnings.warn(\n"
     ]
    },
    {
     "name": "stdout",
     "output_type": "stream",
     "text": [
      "[CV] END svc__C=20, svc__max_iter=6000, svc__penalty=l2, svc__random_state=42, vec__max_df=0.99, vec__min_df=0.0001, vec__ngram_range=(1, 1), vec__stop_words=None; total time=   0.5s\n"
     ]
    },
    {
     "name": "stderr",
     "output_type": "stream",
     "text": [
      "/Users/dhruvchopra/opt/anaconda3/envs/ddp/lib/python3.8/site-packages/sklearn/svm/_classes.py:32: FutureWarning: The default value of `dual` will change from `True` to `'auto'` in 1.5. Set the value of `dual` explicitly to suppress the warning.\n",
      "  warnings.warn(\n"
     ]
    },
    {
     "name": "stdout",
     "output_type": "stream",
     "text": [
      "[CV] END svc__C=20, svc__max_iter=6000, svc__penalty=l2, svc__random_state=42, vec__max_df=0.99, vec__min_df=0.0001, vec__ngram_range=(1, 1), vec__stop_words=None; total time=   0.5s\n"
     ]
    },
    {
     "name": "stderr",
     "output_type": "stream",
     "text": [
      "/Users/dhruvchopra/opt/anaconda3/envs/ddp/lib/python3.8/site-packages/sklearn/svm/_classes.py:32: FutureWarning: The default value of `dual` will change from `True` to `'auto'` in 1.5. Set the value of `dual` explicitly to suppress the warning.\n",
      "  warnings.warn(\n"
     ]
    },
    {
     "name": "stdout",
     "output_type": "stream",
     "text": [
      "[CV] END svc__C=20, svc__max_iter=6000, svc__penalty=l2, svc__random_state=42, vec__max_df=0.99, vec__min_df=0.0001, vec__ngram_range=(1, 1), vec__stop_words=None; total time=   0.4s\n"
     ]
    },
    {
     "name": "stderr",
     "output_type": "stream",
     "text": [
      "/Users/dhruvchopra/opt/anaconda3/envs/ddp/lib/python3.8/site-packages/sklearn/svm/_classes.py:32: FutureWarning: The default value of `dual` will change from `True` to `'auto'` in 1.5. Set the value of `dual` explicitly to suppress the warning.\n",
      "  warnings.warn(\n"
     ]
    },
    {
     "name": "stdout",
     "output_type": "stream",
     "text": [
      "[CV] END svc__C=20, svc__max_iter=6000, svc__penalty=l2, svc__random_state=42, vec__max_df=0.99, vec__min_df=0.0001, vec__ngram_range=(1, 1), vec__stop_words=None; total time=   0.4s\n"
     ]
    },
    {
     "name": "stderr",
     "output_type": "stream",
     "text": [
      "/Users/dhruvchopra/opt/anaconda3/envs/ddp/lib/python3.8/site-packages/sklearn/svm/_classes.py:32: FutureWarning: The default value of `dual` will change from `True` to `'auto'` in 1.5. Set the value of `dual` explicitly to suppress the warning.\n",
      "  warnings.warn(\n"
     ]
    },
    {
     "name": "stdout",
     "output_type": "stream",
     "text": [
      "[CV] END svc__C=20, svc__max_iter=6000, svc__penalty=l2, svc__random_state=42, vec__max_df=0.99, vec__min_df=0.0001, vec__ngram_range=(1, 2), vec__stop_words=None; total time=   1.3s\n"
     ]
    },
    {
     "name": "stderr",
     "output_type": "stream",
     "text": [
      "/Users/dhruvchopra/opt/anaconda3/envs/ddp/lib/python3.8/site-packages/sklearn/svm/_classes.py:32: FutureWarning: The default value of `dual` will change from `True` to `'auto'` in 1.5. Set the value of `dual` explicitly to suppress the warning.\n",
      "  warnings.warn(\n"
     ]
    },
    {
     "name": "stdout",
     "output_type": "stream",
     "text": [
      "[CV] END svc__C=20, svc__max_iter=6000, svc__penalty=l2, svc__random_state=42, vec__max_df=0.99, vec__min_df=0.0001, vec__ngram_range=(1, 2), vec__stop_words=None; total time=   1.3s\n"
     ]
    },
    {
     "name": "stderr",
     "output_type": "stream",
     "text": [
      "/Users/dhruvchopra/opt/anaconda3/envs/ddp/lib/python3.8/site-packages/sklearn/svm/_classes.py:32: FutureWarning: The default value of `dual` will change from `True` to `'auto'` in 1.5. Set the value of `dual` explicitly to suppress the warning.\n",
      "  warnings.warn(\n"
     ]
    },
    {
     "name": "stdout",
     "output_type": "stream",
     "text": [
      "[CV] END svc__C=20, svc__max_iter=6000, svc__penalty=l2, svc__random_state=42, vec__max_df=0.99, vec__min_df=0.0001, vec__ngram_range=(1, 2), vec__stop_words=None; total time=   1.4s\n"
     ]
    },
    {
     "name": "stderr",
     "output_type": "stream",
     "text": [
      "/Users/dhruvchopra/opt/anaconda3/envs/ddp/lib/python3.8/site-packages/sklearn/svm/_classes.py:32: FutureWarning: The default value of `dual` will change from `True` to `'auto'` in 1.5. Set the value of `dual` explicitly to suppress the warning.\n",
      "  warnings.warn(\n"
     ]
    },
    {
     "name": "stdout",
     "output_type": "stream",
     "text": [
      "[CV] END svc__C=20, svc__max_iter=6000, svc__penalty=l2, svc__random_state=42, vec__max_df=0.99, vec__min_df=0.0001, vec__ngram_range=(1, 2), vec__stop_words=None; total time=   1.3s\n"
     ]
    },
    {
     "name": "stderr",
     "output_type": "stream",
     "text": [
      "/Users/dhruvchopra/opt/anaconda3/envs/ddp/lib/python3.8/site-packages/sklearn/svm/_classes.py:32: FutureWarning: The default value of `dual` will change from `True` to `'auto'` in 1.5. Set the value of `dual` explicitly to suppress the warning.\n",
      "  warnings.warn(\n"
     ]
    },
    {
     "name": "stdout",
     "output_type": "stream",
     "text": [
      "[CV] END svc__C=20, svc__max_iter=6000, svc__penalty=l2, svc__random_state=42, vec__max_df=0.99, vec__min_df=0.0001, vec__ngram_range=(1, 2), vec__stop_words=None; total time=   0.8s\n",
      "[CV] END svc__C=20, svc__max_iter=6000, svc__penalty=l2, svc__random_state=42, vec__max_df=0.99, vec__min_df=0, vec__ngram_range=(1, 1), vec__stop_words=None; total time=   0.0s\n",
      "[CV] END svc__C=20, svc__max_iter=6000, svc__penalty=l2, svc__random_state=42, vec__max_df=0.99, vec__min_df=0, vec__ngram_range=(1, 1), vec__stop_words=None; total time=   0.0s\n",
      "[CV] END svc__C=20, svc__max_iter=6000, svc__penalty=l2, svc__random_state=42, vec__max_df=0.99, vec__min_df=0, vec__ngram_range=(1, 1), vec__stop_words=None; total time=   0.0s\n",
      "[CV] END svc__C=20, svc__max_iter=6000, svc__penalty=l2, svc__random_state=42, vec__max_df=0.99, vec__min_df=0, vec__ngram_range=(1, 1), vec__stop_words=None; total time=   0.0s\n",
      "[CV] END svc__C=20, svc__max_iter=6000, svc__penalty=l2, svc__random_state=42, vec__max_df=0.99, vec__min_df=0, vec__ngram_range=(1, 1), vec__stop_words=None; total time=   0.0s\n",
      "[CV] END svc__C=20, svc__max_iter=6000, svc__penalty=l2, svc__random_state=42, vec__max_df=0.99, vec__min_df=0, vec__ngram_range=(1, 2), vec__stop_words=None; total time=   0.0s\n",
      "[CV] END svc__C=20, svc__max_iter=6000, svc__penalty=l2, svc__random_state=42, vec__max_df=0.99, vec__min_df=0, vec__ngram_range=(1, 2), vec__stop_words=None; total time=   0.0s\n",
      "[CV] END svc__C=20, svc__max_iter=6000, svc__penalty=l2, svc__random_state=42, vec__max_df=0.99, vec__min_df=0, vec__ngram_range=(1, 2), vec__stop_words=None; total time=   0.0s\n",
      "[CV] END svc__C=20, svc__max_iter=6000, svc__penalty=l2, svc__random_state=42, vec__max_df=0.99, vec__min_df=0, vec__ngram_range=(1, 2), vec__stop_words=None; total time=   0.0s\n",
      "[CV] END svc__C=20, svc__max_iter=6000, svc__penalty=l2, svc__random_state=42, vec__max_df=0.99, vec__min_df=0, vec__ngram_range=(1, 2), vec__stop_words=None; total time=   0.0s\n"
     ]
    },
    {
     "name": "stderr",
     "output_type": "stream",
     "text": [
      "/Users/dhruvchopra/opt/anaconda3/envs/ddp/lib/python3.8/site-packages/sklearn/model_selection/_validation.py:425: FitFailedWarning: \n",
      "160 fits failed out of a total of 640.\n",
      "The score on these train-test partitions for these parameters will be set to nan.\n",
      "If these failures are not expected, you can try to debug them by setting error_score='raise'.\n",
      "\n",
      "Below are more details about the failures:\n",
      "--------------------------------------------------------------------------------\n",
      "160 fits failed with the following error:\n",
      "Traceback (most recent call last):\n",
      "  File \"/Users/dhruvchopra/opt/anaconda3/envs/ddp/lib/python3.8/site-packages/sklearn/model_selection/_validation.py\", line 729, in _fit_and_score\n",
      "    estimator.fit(X_train, y_train, **fit_params)\n",
      "  File \"/Users/dhruvchopra/opt/anaconda3/envs/ddp/lib/python3.8/site-packages/sklearn/base.py\", line 1152, in wrapper\n",
      "    return fit_method(estimator, *args, **kwargs)\n",
      "  File \"/Users/dhruvchopra/opt/anaconda3/envs/ddp/lib/python3.8/site-packages/sklearn/pipeline.py\", line 423, in fit\n",
      "    Xt = self._fit(X, y, **fit_params_steps)\n",
      "  File \"/Users/dhruvchopra/opt/anaconda3/envs/ddp/lib/python3.8/site-packages/sklearn/pipeline.py\", line 377, in _fit\n",
      "    X, fitted_transformer = fit_transform_one_cached(\n",
      "  File \"/Users/dhruvchopra/opt/anaconda3/envs/ddp/lib/python3.8/site-packages/joblib/memory.py\", line 353, in __call__\n",
      "    return self.func(*args, **kwargs)\n",
      "  File \"/Users/dhruvchopra/opt/anaconda3/envs/ddp/lib/python3.8/site-packages/sklearn/pipeline.py\", line 957, in _fit_transform_one\n",
      "    res = transformer.fit_transform(X, y, **fit_params)\n",
      "  File \"/Users/dhruvchopra/opt/anaconda3/envs/ddp/lib/python3.8/site-packages/sklearn/feature_extraction/text.py\", line 2139, in fit_transform\n",
      "    X = super().fit_transform(raw_documents)\n",
      "  File \"/Users/dhruvchopra/opt/anaconda3/envs/ddp/lib/python3.8/site-packages/sklearn/base.py\", line 1145, in wrapper\n",
      "    estimator._validate_params()\n",
      "  File \"/Users/dhruvchopra/opt/anaconda3/envs/ddp/lib/python3.8/site-packages/sklearn/base.py\", line 638, in _validate_params\n",
      "    validate_parameter_constraints(\n",
      "  File \"/Users/dhruvchopra/opt/anaconda3/envs/ddp/lib/python3.8/site-packages/sklearn/utils/_param_validation.py\", line 96, in validate_parameter_constraints\n",
      "    raise InvalidParameterError(\n",
      "sklearn.utils._param_validation.InvalidParameterError: The 'min_df' parameter of TfidfVectorizer must be a float in the range [0.0, 1.0] or an int in the range [1, inf). Got 0 instead.\n",
      "\n",
      "  warnings.warn(some_fits_failed_message, FitFailedWarning)\n",
      "/Users/dhruvchopra/opt/anaconda3/envs/ddp/lib/python3.8/site-packages/sklearn/model_selection/_search.py:979: UserWarning: One or more of the test scores are non-finite: [0.83702686 0.838457   0.88920455 0.89648689 0.90395504 0.91253844\n",
      "        nan        nan 0.83702686 0.838457   0.88920455 0.89648689\n",
      " 0.90395504 0.91253844        nan        nan 0.83702686 0.838457\n",
      " 0.88920455 0.89648689 0.90395504 0.91253844        nan        nan\n",
      " 0.83702686 0.838457   0.88920455 0.89648689 0.90395504 0.91253844\n",
      "        nan        nan 0.83677487 0.83821956 0.86993046 0.87983716\n",
      " 0.90051672 0.9148931         nan        nan 0.83677487 0.83821956\n",
      " 0.86993046 0.87983716 0.90051672 0.9148931         nan        nan\n",
      " 0.83677487 0.83821956 0.86993046 0.87983716 0.90051672 0.9148931\n",
      "        nan        nan 0.83677487 0.83821956 0.86993046 0.87983716\n",
      " 0.90051672 0.9148931         nan        nan 0.83674242 0.83793634\n",
      " 0.86188167 0.87518296 0.8988306  0.91583097        nan        nan\n",
      " 0.83674242 0.83793634 0.86188167 0.87518296 0.8988306  0.91583097\n",
      "        nan        nan 0.83674242 0.83793634 0.86188167 0.87518296\n",
      " 0.8988306  0.91583097        nan        nan 0.83674242 0.83793634\n",
      " 0.86188167 0.87518296 0.8988306  0.91583097        nan        nan\n",
      " 0.83659193 0.83785216 0.85577609 0.87153519 0.89795502 0.91539736\n",
      "        nan        nan 0.83659193 0.83785216 0.85577609 0.87153519\n",
      " 0.89795502 0.91539736        nan        nan 0.83659193 0.83785216\n",
      " 0.85577609 0.87153519 0.89795502 0.91539736        nan        nan\n",
      " 0.83659193 0.83785216 0.85577609 0.87153519 0.89795502 0.91539736\n",
      "        nan        nan]\n",
      "  warnings.warn(\n",
      "/Users/dhruvchopra/opt/anaconda3/envs/ddp/lib/python3.8/site-packages/sklearn/svm/_classes.py:32: FutureWarning: The default value of `dual` will change from `True` to `'auto'` in 1.5. Set the value of `dual` explicitly to suppress the warning.\n",
      "  warnings.warn(\n"
     ]
    },
    {
     "data": {
      "text/html": [
       "<style>#sk-container-id-1 {color: black;}#sk-container-id-1 pre{padding: 0;}#sk-container-id-1 div.sk-toggleable {background-color: white;}#sk-container-id-1 label.sk-toggleable__label {cursor: pointer;display: block;width: 100%;margin-bottom: 0;padding: 0.3em;box-sizing: border-box;text-align: center;}#sk-container-id-1 label.sk-toggleable__label-arrow:before {content: \"▸\";float: left;margin-right: 0.25em;color: #696969;}#sk-container-id-1 label.sk-toggleable__label-arrow:hover:before {color: black;}#sk-container-id-1 div.sk-estimator:hover label.sk-toggleable__label-arrow:before {color: black;}#sk-container-id-1 div.sk-toggleable__content {max-height: 0;max-width: 0;overflow: hidden;text-align: left;background-color: #f0f8ff;}#sk-container-id-1 div.sk-toggleable__content pre {margin: 0.2em;color: black;border-radius: 0.25em;background-color: #f0f8ff;}#sk-container-id-1 input.sk-toggleable__control:checked~div.sk-toggleable__content {max-height: 200px;max-width: 100%;overflow: auto;}#sk-container-id-1 input.sk-toggleable__control:checked~label.sk-toggleable__label-arrow:before {content: \"▾\";}#sk-container-id-1 div.sk-estimator input.sk-toggleable__control:checked~label.sk-toggleable__label {background-color: #d4ebff;}#sk-container-id-1 div.sk-label input.sk-toggleable__control:checked~label.sk-toggleable__label {background-color: #d4ebff;}#sk-container-id-1 input.sk-hidden--visually {border: 0;clip: rect(1px 1px 1px 1px);clip: rect(1px, 1px, 1px, 1px);height: 1px;margin: -1px;overflow: hidden;padding: 0;position: absolute;width: 1px;}#sk-container-id-1 div.sk-estimator {font-family: monospace;background-color: #f0f8ff;border: 1px dotted black;border-radius: 0.25em;box-sizing: border-box;margin-bottom: 0.5em;}#sk-container-id-1 div.sk-estimator:hover {background-color: #d4ebff;}#sk-container-id-1 div.sk-parallel-item::after {content: \"\";width: 100%;border-bottom: 1px solid gray;flex-grow: 1;}#sk-container-id-1 div.sk-label:hover label.sk-toggleable__label {background-color: #d4ebff;}#sk-container-id-1 div.sk-serial::before {content: \"\";position: absolute;border-left: 1px solid gray;box-sizing: border-box;top: 0;bottom: 0;left: 50%;z-index: 0;}#sk-container-id-1 div.sk-serial {display: flex;flex-direction: column;align-items: center;background-color: white;padding-right: 0.2em;padding-left: 0.2em;position: relative;}#sk-container-id-1 div.sk-item {position: relative;z-index: 1;}#sk-container-id-1 div.sk-parallel {display: flex;align-items: stretch;justify-content: center;background-color: white;position: relative;}#sk-container-id-1 div.sk-item::before, #sk-container-id-1 div.sk-parallel-item::before {content: \"\";position: absolute;border-left: 1px solid gray;box-sizing: border-box;top: 0;bottom: 0;left: 50%;z-index: -1;}#sk-container-id-1 div.sk-parallel-item {display: flex;flex-direction: column;z-index: 1;position: relative;background-color: white;}#sk-container-id-1 div.sk-parallel-item:first-child::after {align-self: flex-end;width: 50%;}#sk-container-id-1 div.sk-parallel-item:last-child::after {align-self: flex-start;width: 50%;}#sk-container-id-1 div.sk-parallel-item:only-child::after {width: 0;}#sk-container-id-1 div.sk-dashed-wrapped {border: 1px dashed gray;margin: 0 0.4em 0.5em 0.4em;box-sizing: border-box;padding-bottom: 0.4em;background-color: white;}#sk-container-id-1 div.sk-label label {font-family: monospace;font-weight: bold;display: inline-block;line-height: 1.2em;}#sk-container-id-1 div.sk-label-container {text-align: center;}#sk-container-id-1 div.sk-container {/* jupyter's `normalize.less` sets `[hidden] { display: none; }` but bootstrap.min.css set `[hidden] { display: none !important; }` so we also need the `!important` here to be able to override the default hidden behavior on the sphinx rendered scikit-learn.org. See: https://github.com/scikit-learn/scikit-learn/issues/21755 */display: inline-block !important;position: relative;}#sk-container-id-1 div.sk-text-repr-fallback {display: none;}</style><div id=\"sk-container-id-1\" class=\"sk-top-container\"><div class=\"sk-text-repr-fallback\"><pre>GridSearchCV(cv=5,\n",
       "             estimator=Pipeline(steps=[(&#x27;vec&#x27;, TfidfVectorizer()),\n",
       "                                       (&#x27;svc&#x27;, LinearSVC())]),\n",
       "             param_grid={&#x27;svc__C&#x27;: [1, 5, 10, 20], &#x27;svc__max_iter&#x27;: [6000],\n",
       "                         &#x27;svc__penalty&#x27;: [&#x27;l2&#x27;], &#x27;svc__random_state&#x27;: [42],\n",
       "                         &#x27;vec__max_df&#x27;: [0.8, 0.85, 0.9, 0.99],\n",
       "                         &#x27;vec__min_df&#x27;: [0.01, 0.001, 0.0001, 0],\n",
       "                         &#x27;vec__ngram_range&#x27;: [(1, 1), (1, 2)],\n",
       "                         &#x27;vec__stop_words&#x27;: [None]},\n",
       "             scoring=&#x27;f1&#x27;, verbose=2)</pre><b>In a Jupyter environment, please rerun this cell to show the HTML representation or trust the notebook. <br />On GitHub, the HTML representation is unable to render, please try loading this page with nbviewer.org.</b></div><div class=\"sk-container\" hidden><div class=\"sk-item sk-dashed-wrapped\"><div class=\"sk-label-container\"><div class=\"sk-label sk-toggleable\"><input class=\"sk-toggleable__control sk-hidden--visually\" id=\"sk-estimator-id-1\" type=\"checkbox\" ><label for=\"sk-estimator-id-1\" class=\"sk-toggleable__label sk-toggleable__label-arrow\">GridSearchCV</label><div class=\"sk-toggleable__content\"><pre>GridSearchCV(cv=5,\n",
       "             estimator=Pipeline(steps=[(&#x27;vec&#x27;, TfidfVectorizer()),\n",
       "                                       (&#x27;svc&#x27;, LinearSVC())]),\n",
       "             param_grid={&#x27;svc__C&#x27;: [1, 5, 10, 20], &#x27;svc__max_iter&#x27;: [6000],\n",
       "                         &#x27;svc__penalty&#x27;: [&#x27;l2&#x27;], &#x27;svc__random_state&#x27;: [42],\n",
       "                         &#x27;vec__max_df&#x27;: [0.8, 0.85, 0.9, 0.99],\n",
       "                         &#x27;vec__min_df&#x27;: [0.01, 0.001, 0.0001, 0],\n",
       "                         &#x27;vec__ngram_range&#x27;: [(1, 1), (1, 2)],\n",
       "                         &#x27;vec__stop_words&#x27;: [None]},\n",
       "             scoring=&#x27;f1&#x27;, verbose=2)</pre></div></div></div><div class=\"sk-parallel\"><div class=\"sk-parallel-item\"><div class=\"sk-item\"><div class=\"sk-label-container\"><div class=\"sk-label sk-toggleable\"><input class=\"sk-toggleable__control sk-hidden--visually\" id=\"sk-estimator-id-2\" type=\"checkbox\" ><label for=\"sk-estimator-id-2\" class=\"sk-toggleable__label sk-toggleable__label-arrow\">estimator: Pipeline</label><div class=\"sk-toggleable__content\"><pre>Pipeline(steps=[(&#x27;vec&#x27;, TfidfVectorizer()), (&#x27;svc&#x27;, LinearSVC())])</pre></div></div></div><div class=\"sk-serial\"><div class=\"sk-item\"><div class=\"sk-serial\"><div class=\"sk-item\"><div class=\"sk-estimator sk-toggleable\"><input class=\"sk-toggleable__control sk-hidden--visually\" id=\"sk-estimator-id-3\" type=\"checkbox\" ><label for=\"sk-estimator-id-3\" class=\"sk-toggleable__label sk-toggleable__label-arrow\">TfidfVectorizer</label><div class=\"sk-toggleable__content\"><pre>TfidfVectorizer()</pre></div></div></div><div class=\"sk-item\"><div class=\"sk-estimator sk-toggleable\"><input class=\"sk-toggleable__control sk-hidden--visually\" id=\"sk-estimator-id-4\" type=\"checkbox\" ><label for=\"sk-estimator-id-4\" class=\"sk-toggleable__label sk-toggleable__label-arrow\">LinearSVC</label><div class=\"sk-toggleable__content\"><pre>LinearSVC()</pre></div></div></div></div></div></div></div></div></div></div></div></div>"
      ],
      "text/plain": [
       "GridSearchCV(cv=5,\n",
       "             estimator=Pipeline(steps=[('vec', TfidfVectorizer()),\n",
       "                                       ('svc', LinearSVC())]),\n",
       "             param_grid={'svc__C': [1, 5, 10, 20], 'svc__max_iter': [6000],\n",
       "                         'svc__penalty': ['l2'], 'svc__random_state': [42],\n",
       "                         'vec__max_df': [0.8, 0.85, 0.9, 0.99],\n",
       "                         'vec__min_df': [0.01, 0.001, 0.0001, 0],\n",
       "                         'vec__ngram_range': [(1, 1), (1, 2)],\n",
       "                         'vec__stop_words': [None]},\n",
       "             scoring='f1', verbose=2)"
      ]
     },
     "execution_count": 8,
     "metadata": {},
     "output_type": "execute_result"
    }
   ],
   "source": [
    "search = GridSearchCV(pipe, params, scoring='f1', cv=5, verbose=2)\n",
    "search.fit(X,y)"
   ]
  },
  {
   "cell_type": "code",
   "execution_count": 9,
   "metadata": {},
   "outputs": [
    {
     "name": "stdout",
     "output_type": "stream",
     "text": [
      "Best estimator:  Pipeline(steps=[('vec',\n",
      "                 TfidfVectorizer(max_df=0.8, min_df=0.0001,\n",
      "                                 ngram_range=(1, 2))),\n",
      "                ('svc', LinearSVC(C=10, max_iter=6000, random_state=42))])\n",
      "Best score:  0.9158309709254876\n",
      "Best params:  {'svc__C': 10, 'svc__max_iter': 6000, 'svc__penalty': 'l2', 'svc__random_state': 42, 'vec__max_df': 0.8, 'vec__min_df': 0.0001, 'vec__ngram_range': (1, 2), 'vec__stop_words': None}\n"
     ]
    }
   ],
   "source": [
    "print(\"Best estimator: \", search.best_estimator_)\n",
    "print(\"Best score: \", search.best_score_)\n",
    "print(\"Best params: \", search.best_params_)"
   ]
  },
  {
   "cell_type": "code",
   "execution_count": 10,
   "metadata": {},
   "outputs": [],
   "source": [
    "res = pd.DataFrame(search.cv_results_)\n",
    "res.to_csv(\"results_sub.csv\")"
   ]
  },
  {
   "cell_type": "code",
   "execution_count": 40,
   "metadata": {},
   "outputs": [
    {
     "name": "stderr",
     "output_type": "stream",
     "text": [
      "/Users/dhruvchopra/opt/anaconda3/envs/ddp/lib/python3.8/site-packages/sklearn/svm/_classes.py:32: FutureWarning: The default value of `dual` will change from `True` to `'auto'` in 1.5. Set the value of `dual` explicitly to suppress the warning.\n",
      "  warnings.warn(\n"
     ]
    },
    {
     "data": {
      "text/html": [
       "<style>#sk-container-id-7 {color: black;}#sk-container-id-7 pre{padding: 0;}#sk-container-id-7 div.sk-toggleable {background-color: white;}#sk-container-id-7 label.sk-toggleable__label {cursor: pointer;display: block;width: 100%;margin-bottom: 0;padding: 0.3em;box-sizing: border-box;text-align: center;}#sk-container-id-7 label.sk-toggleable__label-arrow:before {content: \"▸\";float: left;margin-right: 0.25em;color: #696969;}#sk-container-id-7 label.sk-toggleable__label-arrow:hover:before {color: black;}#sk-container-id-7 div.sk-estimator:hover label.sk-toggleable__label-arrow:before {color: black;}#sk-container-id-7 div.sk-toggleable__content {max-height: 0;max-width: 0;overflow: hidden;text-align: left;background-color: #f0f8ff;}#sk-container-id-7 div.sk-toggleable__content pre {margin: 0.2em;color: black;border-radius: 0.25em;background-color: #f0f8ff;}#sk-container-id-7 input.sk-toggleable__control:checked~div.sk-toggleable__content {max-height: 200px;max-width: 100%;overflow: auto;}#sk-container-id-7 input.sk-toggleable__control:checked~label.sk-toggleable__label-arrow:before {content: \"▾\";}#sk-container-id-7 div.sk-estimator input.sk-toggleable__control:checked~label.sk-toggleable__label {background-color: #d4ebff;}#sk-container-id-7 div.sk-label input.sk-toggleable__control:checked~label.sk-toggleable__label {background-color: #d4ebff;}#sk-container-id-7 input.sk-hidden--visually {border: 0;clip: rect(1px 1px 1px 1px);clip: rect(1px, 1px, 1px, 1px);height: 1px;margin: -1px;overflow: hidden;padding: 0;position: absolute;width: 1px;}#sk-container-id-7 div.sk-estimator {font-family: monospace;background-color: #f0f8ff;border: 1px dotted black;border-radius: 0.25em;box-sizing: border-box;margin-bottom: 0.5em;}#sk-container-id-7 div.sk-estimator:hover {background-color: #d4ebff;}#sk-container-id-7 div.sk-parallel-item::after {content: \"\";width: 100%;border-bottom: 1px solid gray;flex-grow: 1;}#sk-container-id-7 div.sk-label:hover label.sk-toggleable__label {background-color: #d4ebff;}#sk-container-id-7 div.sk-serial::before {content: \"\";position: absolute;border-left: 1px solid gray;box-sizing: border-box;top: 0;bottom: 0;left: 50%;z-index: 0;}#sk-container-id-7 div.sk-serial {display: flex;flex-direction: column;align-items: center;background-color: white;padding-right: 0.2em;padding-left: 0.2em;position: relative;}#sk-container-id-7 div.sk-item {position: relative;z-index: 1;}#sk-container-id-7 div.sk-parallel {display: flex;align-items: stretch;justify-content: center;background-color: white;position: relative;}#sk-container-id-7 div.sk-item::before, #sk-container-id-7 div.sk-parallel-item::before {content: \"\";position: absolute;border-left: 1px solid gray;box-sizing: border-box;top: 0;bottom: 0;left: 50%;z-index: -1;}#sk-container-id-7 div.sk-parallel-item {display: flex;flex-direction: column;z-index: 1;position: relative;background-color: white;}#sk-container-id-7 div.sk-parallel-item:first-child::after {align-self: flex-end;width: 50%;}#sk-container-id-7 div.sk-parallel-item:last-child::after {align-self: flex-start;width: 50%;}#sk-container-id-7 div.sk-parallel-item:only-child::after {width: 0;}#sk-container-id-7 div.sk-dashed-wrapped {border: 1px dashed gray;margin: 0 0.4em 0.5em 0.4em;box-sizing: border-box;padding-bottom: 0.4em;background-color: white;}#sk-container-id-7 div.sk-label label {font-family: monospace;font-weight: bold;display: inline-block;line-height: 1.2em;}#sk-container-id-7 div.sk-label-container {text-align: center;}#sk-container-id-7 div.sk-container {/* jupyter's `normalize.less` sets `[hidden] { display: none; }` but bootstrap.min.css set `[hidden] { display: none !important; }` so we also need the `!important` here to be able to override the default hidden behavior on the sphinx rendered scikit-learn.org. See: https://github.com/scikit-learn/scikit-learn/issues/21755 */display: inline-block !important;position: relative;}#sk-container-id-7 div.sk-text-repr-fallback {display: none;}</style><div id=\"sk-container-id-7\" class=\"sk-top-container\"><div class=\"sk-text-repr-fallback\"><pre>LinearSVC(C=10, max_iter=6000, random_state=42)</pre><b>In a Jupyter environment, please rerun this cell to show the HTML representation or trust the notebook. <br />On GitHub, the HTML representation is unable to render, please try loading this page with nbviewer.org.</b></div><div class=\"sk-container\" hidden><div class=\"sk-item\"><div class=\"sk-estimator sk-toggleable\"><input class=\"sk-toggleable__control sk-hidden--visually\" id=\"sk-estimator-id-12\" type=\"checkbox\" checked><label for=\"sk-estimator-id-12\" class=\"sk-toggleable__label sk-toggleable__label-arrow\">LinearSVC</label><div class=\"sk-toggleable__content\"><pre>LinearSVC(C=10, max_iter=6000, random_state=42)</pre></div></div></div></div></div>"
      ],
      "text/plain": [
       "LinearSVC(C=10, max_iter=6000, random_state=42)"
      ]
     },
     "execution_count": 40,
     "metadata": {},
     "output_type": "execute_result"
    }
   ],
   "source": [
    "vectorizer = TfidfVectorizer(**search.best_estimator_['vec'].get_params())\n",
    "svc = LinearSVC(**search.best_estimator_['svc'].get_params())\n",
    "X_ = vectorizer.fit_transform(X)\n",
    "svc.fit(X_,y)"
   ]
  },
  {
   "cell_type": "code",
   "execution_count": 89,
   "metadata": {},
   "outputs": [
    {
     "name": "stdout",
     "output_type": "stream",
     "text": [
      "Objective\n"
     ]
    }
   ],
   "source": [
    "test = \"Iphone is a phone\"\n",
    "if(svc.predict(vectorizer.transform([test]))==1):\n",
    "    print(\"Subjective\")\n",
    "else:\n",
    "    print(\"Objective\")"
   ]
  },
  {
   "cell_type": "code",
   "execution_count": 43,
   "metadata": {},
   "outputs": [
    {
     "data": {
      "text/plain": [
       "['polarity.joblib']"
      ]
     },
     "execution_count": 43,
     "metadata": {},
     "output_type": "execute_result"
    }
   ],
   "source": [
    "dump(svc, 'polarity.joblib')"
   ]
  },
  {
   "cell_type": "code",
   "execution_count": 44,
   "metadata": {},
   "outputs": [
    {
     "data": {
      "text/plain": [
       "['tfidf_polarity.joblib']"
      ]
     },
     "execution_count": 44,
     "metadata": {},
     "output_type": "execute_result"
    }
   ],
   "source": [
    "dump(vectorizer, 'tfidf_polarity.joblib')"
   ]
  }
 ],
 "metadata": {
  "kernelspec": {
   "display_name": "ddp",
   "language": "python",
   "name": "python3"
  },
  "language_info": {
   "codemirror_mode": {
    "name": "ipython",
    "version": 3
   },
   "file_extension": ".py",
   "mimetype": "text/x-python",
   "name": "python",
   "nbconvert_exporter": "python",
   "pygments_lexer": "ipython3",
   "version": "3.8.5"
  }
 },
 "nbformat": 4,
 "nbformat_minor": 2
}
