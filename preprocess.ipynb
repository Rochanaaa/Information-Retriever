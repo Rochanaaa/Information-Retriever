{
 "cells": [
  {
   "cell_type": "markdown",
   "metadata": {},
   "source": [
    "### Imports"
   ]
  },
  {
   "cell_type": "code",
   "execution_count": 1,
   "metadata": {},
   "outputs": [],
   "source": [
    "### Reproducability\n",
    "import numpy as np\n",
    "import pandas as pd\n",
    "random_seed = 42\n",
    "np.random.seed(random_seed)\n",
    "\n",
    "### Plotting\n",
    "import matplotlib.pyplot as plt\n",
    "\n",
    "### Feature Extractors\n",
    "from sklearn.feature_extraction.text import TfidfVectorizer\n",
    "\n",
    "### Models\n",
    "from sklearn.svm import LinearSVC\n",
    "\n",
    "### Pipelining\n",
    "from sklearn.pipeline import Pipeline\n",
    "\n",
    "### Hyperparameter tuning & Model selection\n",
    "from sklearn.model_selection import KFold\n",
    "from sklearn.model_selection import GridSearchCV\n",
    "from sklearn.metrics import f1_score, accuracy_score, confusion_matrix, ConfusionMatrixDisplay\n",
    "\n",
    "### Persistence\n",
    "from joblib import dump, load\n",
    "import json\n",
    "\n",
    "### nlp\n",
    "import emoji\n",
    "import regex as re\n",
    "import spacy\n",
    "import nltk as n\n",
    "from nltk.corpus import wordnet\n",
    "\n",
    " \n",
    "lemmatizer = n.stem.WordNetLemmatizer()\n",
    "stop_words = set(n.corpus.stopwords.words('english'))\n",
    "stop_words.add(\"url_tag\")\n",
    "stop_words.add(\"person_tag\")\n",
    "nlp = spacy.load(\"en_core_web_sm\")"
   ]
  },
  {
   "cell_type": "markdown",
   "metadata": {},
   "source": [
    "### Pre-Processing"
   ]
  },
  {
   "cell_type": "code",
   "execution_count": 2,
   "metadata": {},
   "outputs": [],
   "source": [
    "### Convert POS treebank to POS wordnet (Borrowed from StackOverflow)\n",
    "def get_wordnet_pos(treebank_tag):\n",
    "    if treebank_tag.startswith('J'):\n",
    "        return wordnet.ADJ\n",
    "    elif treebank_tag.startswith('V'):\n",
    "        return wordnet.VERB\n",
    "    elif treebank_tag.startswith('N'):\n",
    "        return wordnet.NOUN\n",
    "    elif treebank_tag.startswith('R'):\n",
    "        return wordnet.ADV\n",
    "    else:\n",
    "        return wordnet.NOUN"
   ]
  },
  {
   "cell_type": "code",
   "execution_count": 3,
   "metadata": {},
   "outputs": [],
   "source": [
    "### Clean Input Text\n",
    "def clean_text(text):\n",
    "    text = emoji.demojize(text, delimiters=(\" \", \" \")).replace(\"_\", \" \") ### replce emoji's by words\n",
    "    text = re.sub(r\"https?:\\S*\", \"url_tag\", text) ### remove urls\n",
    "    text = re.sub(\"@[A-Za-z0-9]+\",\"person_tag\",text) ### remove @people mentions\n",
    "    text = re.sub(\"#\",\"\", text) ### remove # sign for hashtags (some hashtags may be relevant)\n",
    "    return re.sub('\\s+',' ', text).strip() ### return without extra spaces and lowered"
   ]
  },
  {
   "cell_type": "code",
   "execution_count": 4,
   "metadata": {},
   "outputs": [],
   "source": [
    "### Tokenise, Handle abbreviations, POS tag & Lemmatise, Remove Stop Words\n",
    "\n",
    "with open('abbreviation.json', 'r') as openfile:\n",
    "    abbre = json.load(openfile)\n",
    "\n",
    "def get_tokens(text, abbre):\n",
    "    tokenized = n.sent_tokenize(text)\n",
    "    all_tokens = []\n",
    "    for i in tokenized:\n",
    "        wordsList = n.word_tokenize(i)\n",
    "\n",
    "        abbreviation_norm = []\n",
    "        for i in wordsList:\n",
    "            if i in abbre:\n",
    "                abbreviation_norm += [j for j in abbre[i].strip().split()]\n",
    "            else:\n",
    "                abbreviation_norm += [i]\n",
    "\n",
    "        tagged = n.pos_tag(abbreviation_norm)\n",
    "        lemma = [(lemmatizer.lemmatize(k[0], get_wordnet_pos(k[1])),k[1]) for k in tagged]\n",
    "        tokens = [t[0].lower()+\"_\"+t[1] for t in lemma if not t[0] in stop_words] \n",
    "        all_tokens += tokens\n",
    "    return all_tokens"
   ]
  },
  {
   "cell_type": "code",
   "execution_count": 5,
   "metadata": {},
   "outputs": [],
   "source": [
    "### Read Data\n",
    "data = pd.read_csv(\"PATH_TO_CSV.csv\")"
   ]
  },
  {
   "cell_type": "code",
   "execution_count": 6,
   "metadata": {},
   "outputs": [],
   "source": [
    "data[\"text\"] = data[\"org_text\"].apply(lambda x: clean_text(x))\n",
    "data[\"tokens\"] = data[\"text\"].apply(lambda x: get_tokens(x,abbre))\n",
    "data[\"tokens_combined\"] = data[\"tokens\"].apply(lambda x: \" \".join(x))"
   ]
  }
 ],
 "metadata": {
  "kernelspec": {
   "display_name": "base",
   "language": "python",
   "name": "python3"
  },
  "language_info": {
   "codemirror_mode": {
    "name": "ipython",
    "version": 3
   },
   "file_extension": ".py",
   "mimetype": "text/x-python",
   "name": "python",
   "nbconvert_exporter": "python",
   "pygments_lexer": "ipython3",
   "version": "3.8.8"
  }
 },
 "nbformat": 4,
 "nbformat_minor": 2
}
